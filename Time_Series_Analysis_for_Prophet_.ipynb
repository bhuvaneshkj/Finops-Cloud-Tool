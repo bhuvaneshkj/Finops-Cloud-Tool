{
 "cells": [
  {
   "cell_type": "markdown",
   "metadata": {
    "id": "4lXEsxGUTvJC"
   },
   "source": [
    "### Time Series Analysis on Facebook Prophet Model for VM 1\n",
    "\n"
   ]
  },
  {
   "cell_type": "code",
   "execution_count": 2,
   "metadata": {
    "id": "3M2tHZQIT9kt"
   },
   "outputs": [],
   "source": [
    "import pandas as pd\n",
    "import datetime\n",
    "import seaborn as sns"
   ]
  },
  {
   "cell_type": "code",
   "execution_count": 3,
   "metadata": {
    "id": "GJgO6CE4agIV"
   },
   "outputs": [],
   "source": [
    "from fbprophet import Prophet"
   ]
  },
  {
   "cell_type": "code",
   "execution_count": 4,
   "metadata": {
    "id": "THe6I7geqCzg"
   },
   "outputs": [],
   "source": [
    "from pandas import DataFrame\n",
    "from pandas import to_datetime"
   ]
  },
  {
   "cell_type": "code",
   "execution_count": 5,
   "metadata": {
    "colab": {
     "base_uri": "https://localhost:8080/",
     "height": 414
    },
    "id": "Vg7Rw0sja0lO",
    "outputId": "19730f52-579f-489a-8015-b37a9bdb49c5"
   },
   "outputs": [
    {
     "data": {
      "text/html": [
       "<div>\n",
       "<style scoped>\n",
       "    .dataframe tbody tr th:only-of-type {\n",
       "        vertical-align: middle;\n",
       "    }\n",
       "\n",
       "    .dataframe tbody tr th {\n",
       "        vertical-align: top;\n",
       "    }\n",
       "\n",
       "    .dataframe thead th {\n",
       "        text-align: right;\n",
       "    }\n",
       "</style>\n",
       "<table border=\"1\" class=\"dataframe\">\n",
       "  <thead>\n",
       "    <tr style=\"text-align: right;\">\n",
       "      <th></th>\n",
       "      <th>Time</th>\n",
       "      <th>Timestamp [ms]</th>\n",
       "      <th>CPU cores</th>\n",
       "      <th>CPU capacity provisioned [MHZ]</th>\n",
       "      <th>CPU usage [MHZ]</th>\n",
       "      <th>CPU usage [%]</th>\n",
       "      <th>Memory capacity provisioned [KB]</th>\n",
       "      <th>Memory usage [KB]</th>\n",
       "      <th>Disk read throughput [KB/s]</th>\n",
       "      <th>Disk write throughput [KB/s]</th>\n",
       "      <th>Network received throughput [KB/s]</th>\n",
       "      <th>Network transmitted throughput [KB/s]</th>\n",
       "    </tr>\n",
       "  </thead>\n",
       "  <tbody>\n",
       "    <tr>\n",
       "      <th>0</th>\n",
       "      <td>2013-06-30 22:03:24</td>\n",
       "      <td>1372629804</td>\n",
       "      <td>2</td>\n",
       "      <td>5851.9989</td>\n",
       "      <td>87.779984</td>\n",
       "      <td>1.500000</td>\n",
       "      <td>8218624.0</td>\n",
       "      <td>1.034593e+06</td>\n",
       "      <td>160.866667</td>\n",
       "      <td>21.733333</td>\n",
       "      <td>0.266667</td>\n",
       "      <td>1.466667</td>\n",
       "    </tr>\n",
       "    <tr>\n",
       "      <th>1</th>\n",
       "      <td>2013-06-30 22:08:24</td>\n",
       "      <td>1372630104</td>\n",
       "      <td>2</td>\n",
       "      <td>5851.9989</td>\n",
       "      <td>29.259995</td>\n",
       "      <td>0.500000</td>\n",
       "      <td>8218624.0</td>\n",
       "      <td>4.585755e+05</td>\n",
       "      <td>0.000000</td>\n",
       "      <td>2.333333</td>\n",
       "      <td>0.200000</td>\n",
       "      <td>1.000000</td>\n",
       "    </tr>\n",
       "    <tr>\n",
       "      <th>2</th>\n",
       "      <td>2013-06-30 22:13:24</td>\n",
       "      <td>1372630404</td>\n",
       "      <td>2</td>\n",
       "      <td>5851.9989</td>\n",
       "      <td>27.309328</td>\n",
       "      <td>0.466667</td>\n",
       "      <td>8218624.0</td>\n",
       "      <td>1.845480e+05</td>\n",
       "      <td>32.066667</td>\n",
       "      <td>4.200000</td>\n",
       "      <td>0.133333</td>\n",
       "      <td>1.066667</td>\n",
       "    </tr>\n",
       "    <tr>\n",
       "      <th>3</th>\n",
       "      <td>2013-06-30 22:18:24</td>\n",
       "      <td>1372630704</td>\n",
       "      <td>2</td>\n",
       "      <td>5851.9989</td>\n",
       "      <td>23.407996</td>\n",
       "      <td>0.400000</td>\n",
       "      <td>8218624.0</td>\n",
       "      <td>7.829227e+04</td>\n",
       "      <td>0.000000</td>\n",
       "      <td>0.866667</td>\n",
       "      <td>0.066667</td>\n",
       "      <td>1.000000</td>\n",
       "    </tr>\n",
       "    <tr>\n",
       "      <th>4</th>\n",
       "      <td>2013-06-30 22:23:24</td>\n",
       "      <td>1372631004</td>\n",
       "      <td>2</td>\n",
       "      <td>5851.9989</td>\n",
       "      <td>19.506663</td>\n",
       "      <td>0.333333</td>\n",
       "      <td>8218624.0</td>\n",
       "      <td>1.677720e+05</td>\n",
       "      <td>0.000000</td>\n",
       "      <td>0.200000</td>\n",
       "      <td>0.133333</td>\n",
       "      <td>1.000000</td>\n",
       "    </tr>\n",
       "  </tbody>\n",
       "</table>\n",
       "</div>"
      ],
      "text/plain": [
       "                  Time  ...  Network transmitted throughput [KB/s]\n",
       "0  2013-06-30 22:03:24  ...                               1.466667\n",
       "1  2013-06-30 22:08:24  ...                               1.000000\n",
       "2  2013-06-30 22:13:24  ...                               1.066667\n",
       "3  2013-06-30 22:18:24  ...                               1.000000\n",
       "4  2013-06-30 22:23:24  ...                               1.000000\n",
       "\n",
       "[5 rows x 12 columns]"
      ]
     },
     "execution_count": 5,
     "metadata": {
      "tags": []
     },
     "output_type": "execute_result"
    }
   ],
   "source": [
    "df=  pd.read_csv('/content/ProcessedData.csv')\n",
    "df.head()"
   ]
  },
  {
   "cell_type": "markdown",
   "metadata": {
    "id": "TLGOzIVVUG29"
   },
   "source": [
    "Calculating Memory Usage %\n"
   ]
  },
  {
   "cell_type": "code",
   "execution_count": 6,
   "metadata": {
    "colab": {
     "base_uri": "https://localhost:8080/",
     "height": 434
    },
    "id": "ImfMvQeCGDyE",
    "outputId": "aaf6d78a-0d5e-41dc-8f2b-c292590ec776"
   },
   "outputs": [
    {
     "data": {
      "text/html": [
       "<div>\n",
       "<style scoped>\n",
       "    .dataframe tbody tr th:only-of-type {\n",
       "        vertical-align: middle;\n",
       "    }\n",
       "\n",
       "    .dataframe tbody tr th {\n",
       "        vertical-align: top;\n",
       "    }\n",
       "\n",
       "    .dataframe thead th {\n",
       "        text-align: right;\n",
       "    }\n",
       "</style>\n",
       "<table border=\"1\" class=\"dataframe\">\n",
       "  <thead>\n",
       "    <tr style=\"text-align: right;\">\n",
       "      <th></th>\n",
       "      <th>Time</th>\n",
       "      <th>Timestamp [ms]</th>\n",
       "      <th>CPU cores</th>\n",
       "      <th>CPU capacity provisioned [MHZ]</th>\n",
       "      <th>CPU usage [MHZ]</th>\n",
       "      <th>CPU usage [%]</th>\n",
       "      <th>Memory capacity provisioned [KB]</th>\n",
       "      <th>Memory usage [KB]</th>\n",
       "      <th>Disk read throughput [KB/s]</th>\n",
       "      <th>Disk write throughput [KB/s]</th>\n",
       "      <th>Network received throughput [KB/s]</th>\n",
       "      <th>Network transmitted throughput [KB/s]</th>\n",
       "      <th>Memory usage [%]</th>\n",
       "    </tr>\n",
       "  </thead>\n",
       "  <tbody>\n",
       "    <tr>\n",
       "      <th>0</th>\n",
       "      <td>2013-06-30 22:03:24</td>\n",
       "      <td>1372629804</td>\n",
       "      <td>2</td>\n",
       "      <td>5851.9989</td>\n",
       "      <td>87.779984</td>\n",
       "      <td>1.500000</td>\n",
       "      <td>8218624.0</td>\n",
       "      <td>1.034593e+06</td>\n",
       "      <td>160.866667</td>\n",
       "      <td>21.733333</td>\n",
       "      <td>0.266667</td>\n",
       "      <td>1.466667</td>\n",
       "      <td>12.588394</td>\n",
       "    </tr>\n",
       "    <tr>\n",
       "      <th>1</th>\n",
       "      <td>2013-06-30 22:08:24</td>\n",
       "      <td>1372630104</td>\n",
       "      <td>2</td>\n",
       "      <td>5851.9989</td>\n",
       "      <td>29.259995</td>\n",
       "      <td>0.500000</td>\n",
       "      <td>8218624.0</td>\n",
       "      <td>4.585755e+05</td>\n",
       "      <td>0.000000</td>\n",
       "      <td>2.333333</td>\n",
       "      <td>0.200000</td>\n",
       "      <td>1.000000</td>\n",
       "      <td>5.579711</td>\n",
       "    </tr>\n",
       "    <tr>\n",
       "      <th>2</th>\n",
       "      <td>2013-06-30 22:13:24</td>\n",
       "      <td>1372630404</td>\n",
       "      <td>2</td>\n",
       "      <td>5851.9989</td>\n",
       "      <td>27.309328</td>\n",
       "      <td>0.466667</td>\n",
       "      <td>8218624.0</td>\n",
       "      <td>1.845480e+05</td>\n",
       "      <td>32.066667</td>\n",
       "      <td>4.200000</td>\n",
       "      <td>0.133333</td>\n",
       "      <td>1.066667</td>\n",
       "      <td>2.245485</td>\n",
       "    </tr>\n",
       "    <tr>\n",
       "      <th>3</th>\n",
       "      <td>2013-06-30 22:18:24</td>\n",
       "      <td>1372630704</td>\n",
       "      <td>2</td>\n",
       "      <td>5851.9989</td>\n",
       "      <td>23.407996</td>\n",
       "      <td>0.400000</td>\n",
       "      <td>8218624.0</td>\n",
       "      <td>7.829227e+04</td>\n",
       "      <td>0.000000</td>\n",
       "      <td>0.866667</td>\n",
       "      <td>0.066667</td>\n",
       "      <td>1.000000</td>\n",
       "      <td>0.952620</td>\n",
       "    </tr>\n",
       "    <tr>\n",
       "      <th>4</th>\n",
       "      <td>2013-06-30 22:23:24</td>\n",
       "      <td>1372631004</td>\n",
       "      <td>2</td>\n",
       "      <td>5851.9989</td>\n",
       "      <td>19.506663</td>\n",
       "      <td>0.333333</td>\n",
       "      <td>8218624.0</td>\n",
       "      <td>1.677720e+05</td>\n",
       "      <td>0.000000</td>\n",
       "      <td>0.200000</td>\n",
       "      <td>0.133333</td>\n",
       "      <td>1.000000</td>\n",
       "      <td>2.041364</td>\n",
       "    </tr>\n",
       "  </tbody>\n",
       "</table>\n",
       "</div>"
      ],
      "text/plain": [
       "                  Time  ...  Memory usage [%]\n",
       "0  2013-06-30 22:03:24  ...         12.588394\n",
       "1  2013-06-30 22:08:24  ...          5.579711\n",
       "2  2013-06-30 22:13:24  ...          2.245485\n",
       "3  2013-06-30 22:18:24  ...          0.952620\n",
       "4  2013-06-30 22:23:24  ...          2.041364\n",
       "\n",
       "[5 rows x 13 columns]"
      ]
     },
     "execution_count": 6,
     "metadata": {
      "tags": []
     },
     "output_type": "execute_result"
    }
   ],
   "source": [
    "df['Memory usage [%]']=(df['Memory usage [KB]'].div(df['Memory capacity provisioned [KB]']))*100\n",
    "df.head()"
   ]
  },
  {
   "cell_type": "markdown",
   "metadata": {
    "id": "ccxh6Z_RURWL"
   },
   "source": [
    "Preparing Data to build the model"
   ]
  },
  {
   "cell_type": "code",
   "execution_count": 7,
   "metadata": {
    "id": "YQMtS4wuagKc"
   },
   "outputs": [],
   "source": [
    "df_pr = df[['Time','CPU usage [%]']]\n",
    "\n",
    "df_pr.columns = ['ds','y'] # To use prophet column names should be like that\n",
    "\n",
    "train_data_pr = df_pr.iloc[:len(df)-5000]\n",
    "test_data_pr = df_pr.iloc[len(df)-5000:]"
   ]
  },
  {
   "cell_type": "markdown",
   "metadata": {
    "id": "e360GYlAUWSz"
   },
   "source": [
    "Splitting data into train and test"
   ]
  },
  {
   "cell_type": "code",
   "execution_count": 8,
   "metadata": {
    "colab": {
     "base_uri": "https://localhost:8080/",
     "height": 195
    },
    "id": "8CQvDkcDagOA",
    "outputId": "c4e2b590-1b0c-4d7a-9cfe-5c82bcbcfb35"
   },
   "outputs": [
    {
     "data": {
      "text/html": [
       "<div>\n",
       "<style scoped>\n",
       "    .dataframe tbody tr th:only-of-type {\n",
       "        vertical-align: middle;\n",
       "    }\n",
       "\n",
       "    .dataframe tbody tr th {\n",
       "        vertical-align: top;\n",
       "    }\n",
       "\n",
       "    .dataframe thead th {\n",
       "        text-align: right;\n",
       "    }\n",
       "</style>\n",
       "<table border=\"1\" class=\"dataframe\">\n",
       "  <thead>\n",
       "    <tr style=\"text-align: right;\">\n",
       "      <th></th>\n",
       "      <th>ds</th>\n",
       "      <th>y</th>\n",
       "    </tr>\n",
       "  </thead>\n",
       "  <tbody>\n",
       "    <tr>\n",
       "      <th>0</th>\n",
       "      <td>2013-06-30 22:03:24</td>\n",
       "      <td>1.500000</td>\n",
       "    </tr>\n",
       "    <tr>\n",
       "      <th>1</th>\n",
       "      <td>2013-06-30 22:08:24</td>\n",
       "      <td>0.500000</td>\n",
       "    </tr>\n",
       "    <tr>\n",
       "      <th>2</th>\n",
       "      <td>2013-06-30 22:13:24</td>\n",
       "      <td>0.466667</td>\n",
       "    </tr>\n",
       "    <tr>\n",
       "      <th>3</th>\n",
       "      <td>2013-06-30 22:18:24</td>\n",
       "      <td>0.400000</td>\n",
       "    </tr>\n",
       "    <tr>\n",
       "      <th>4</th>\n",
       "      <td>2013-06-30 22:23:24</td>\n",
       "      <td>0.333333</td>\n",
       "    </tr>\n",
       "  </tbody>\n",
       "</table>\n",
       "</div>"
      ],
      "text/plain": [
       "                    ds         y\n",
       "0  2013-06-30 22:03:24  1.500000\n",
       "1  2013-06-30 22:08:24  0.500000\n",
       "2  2013-06-30 22:13:24  0.466667\n",
       "3  2013-06-30 22:18:24  0.400000\n",
       "4  2013-06-30 22:23:24  0.333333"
      ]
     },
     "execution_count": 8,
     "metadata": {
      "tags": []
     },
     "output_type": "execute_result"
    }
   ],
   "source": [
    "train_data_pr.head()"
   ]
  },
  {
   "cell_type": "code",
   "execution_count": 9,
   "metadata": {
    "colab": {
     "base_uri": "https://localhost:8080/",
     "height": 195
    },
    "id": "G-aMUg53anDX",
    "outputId": "c2c7cb13-95c3-492f-99df-af0ef617efba"
   },
   "outputs": [
    {
     "data": {
      "text/html": [
       "<div>\n",
       "<style scoped>\n",
       "    .dataframe tbody tr th:only-of-type {\n",
       "        vertical-align: middle;\n",
       "    }\n",
       "\n",
       "    .dataframe tbody tr th {\n",
       "        vertical-align: top;\n",
       "    }\n",
       "\n",
       "    .dataframe thead th {\n",
       "        text-align: right;\n",
       "    }\n",
       "</style>\n",
       "<table border=\"1\" class=\"dataframe\">\n",
       "  <thead>\n",
       "    <tr style=\"text-align: right;\">\n",
       "      <th></th>\n",
       "      <th>ds</th>\n",
       "      <th>y</th>\n",
       "    </tr>\n",
       "  </thead>\n",
       "  <tbody>\n",
       "    <tr>\n",
       "      <th>20220</th>\n",
       "      <td>2013-09-12 11:50:05</td>\n",
       "      <td>0.500000</td>\n",
       "    </tr>\n",
       "    <tr>\n",
       "      <th>20221</th>\n",
       "      <td>2013-09-12 11:55:05</td>\n",
       "      <td>0.500000</td>\n",
       "    </tr>\n",
       "    <tr>\n",
       "      <th>20222</th>\n",
       "      <td>2013-09-12 12:00:05</td>\n",
       "      <td>2.166667</td>\n",
       "    </tr>\n",
       "    <tr>\n",
       "      <th>20223</th>\n",
       "      <td>2013-09-12 12:05:05</td>\n",
       "      <td>1.800000</td>\n",
       "    </tr>\n",
       "    <tr>\n",
       "      <th>20224</th>\n",
       "      <td>2013-09-12 12:10:06</td>\n",
       "      <td>1.900000</td>\n",
       "    </tr>\n",
       "  </tbody>\n",
       "</table>\n",
       "</div>"
      ],
      "text/plain": [
       "                        ds         y\n",
       "20220  2013-09-12 11:50:05  0.500000\n",
       "20221  2013-09-12 11:55:05  0.500000\n",
       "20222  2013-09-12 12:00:05  2.166667\n",
       "20223  2013-09-12 12:05:05  1.800000\n",
       "20224  2013-09-12 12:10:06  1.900000"
      ]
     },
     "execution_count": 9,
     "metadata": {
      "tags": []
     },
     "output_type": "execute_result"
    }
   ],
   "source": [
    "test_data_pr.head()"
   ]
  },
  {
   "cell_type": "markdown",
   "metadata": {
    "id": "2SYVtrq9Udv2"
   },
   "source": [
    "Building FB Prophet Model on the trained data"
   ]
  },
  {
   "cell_type": "code",
   "execution_count": 10,
   "metadata": {
    "colab": {
     "base_uri": "https://localhost:8080/"
    },
    "id": "S0W1Bs0banFu",
    "outputId": "e137caaf-6a60-460d-8cc1-6d8308881c44"
   },
   "outputs": [
    {
     "name": "stderr",
     "output_type": "stream",
     "text": [
      "INFO:fbprophet:Disabling yearly seasonality. Run prophet with yearly_seasonality=True to override this.\n"
     ]
    },
    {
     "data": {
      "text/plain": [
       "<fbprophet.forecaster.Prophet at 0x7f33abf60e10>"
      ]
     },
     "execution_count": 10,
     "metadata": {
      "tags": []
     },
     "output_type": "execute_result"
    }
   ],
   "source": [
    "model = Prophet()\n",
    "model.fit(train_data_pr)"
   ]
  },
  {
   "cell_type": "code",
   "execution_count": 11,
   "metadata": {
    "colab": {
     "base_uri": "https://localhost:8080/",
     "height": 383
    },
    "id": "gSVS_jVAfJ3k",
    "outputId": "2732f297-6539-49c2-f2c4-51b9a4020c52"
   },
   "outputs": [
    {
     "data": {
      "text/html": [
       "<div>\n",
       "<style scoped>\n",
       "    .dataframe tbody tr th:only-of-type {\n",
       "        vertical-align: middle;\n",
       "    }\n",
       "\n",
       "    .dataframe tbody tr th {\n",
       "        vertical-align: top;\n",
       "    }\n",
       "\n",
       "    .dataframe thead th {\n",
       "        text-align: right;\n",
       "    }\n",
       "</style>\n",
       "<table border=\"1\" class=\"dataframe\">\n",
       "  <thead>\n",
       "    <tr style=\"text-align: right;\">\n",
       "      <th></th>\n",
       "      <th>ds</th>\n",
       "      <th>trend</th>\n",
       "      <th>yhat_lower</th>\n",
       "      <th>yhat_upper</th>\n",
       "      <th>trend_lower</th>\n",
       "      <th>trend_upper</th>\n",
       "      <th>additive_terms</th>\n",
       "      <th>additive_terms_lower</th>\n",
       "      <th>additive_terms_upper</th>\n",
       "      <th>daily</th>\n",
       "      <th>daily_lower</th>\n",
       "      <th>daily_upper</th>\n",
       "      <th>weekly</th>\n",
       "      <th>weekly_lower</th>\n",
       "      <th>weekly_upper</th>\n",
       "      <th>multiplicative_terms</th>\n",
       "      <th>multiplicative_terms_lower</th>\n",
       "      <th>multiplicative_terms_upper</th>\n",
       "      <th>yhat</th>\n",
       "    </tr>\n",
       "  </thead>\n",
       "  <tbody>\n",
       "    <tr>\n",
       "      <th>20218</th>\n",
       "      <td>2013-09-12 11:40:05</td>\n",
       "      <td>1.404918</td>\n",
       "      <td>-1.886975</td>\n",
       "      <td>5.788772</td>\n",
       "      <td>1.404918</td>\n",
       "      <td>1.404918</td>\n",
       "      <td>0.545936</td>\n",
       "      <td>0.545936</td>\n",
       "      <td>0.545936</td>\n",
       "      <td>0.437310</td>\n",
       "      <td>0.437310</td>\n",
       "      <td>0.437310</td>\n",
       "      <td>0.108626</td>\n",
       "      <td>0.108626</td>\n",
       "      <td>0.108626</td>\n",
       "      <td>0.0</td>\n",
       "      <td>0.0</td>\n",
       "      <td>0.0</td>\n",
       "      <td>1.950853</td>\n",
       "    </tr>\n",
       "    <tr>\n",
       "      <th>20219</th>\n",
       "      <td>2013-09-12 11:45:05</td>\n",
       "      <td>1.405173</td>\n",
       "      <td>-2.048218</td>\n",
       "      <td>5.659355</td>\n",
       "      <td>1.405173</td>\n",
       "      <td>1.405173</td>\n",
       "      <td>0.565095</td>\n",
       "      <td>0.565095</td>\n",
       "      <td>0.565095</td>\n",
       "      <td>0.456984</td>\n",
       "      <td>0.456984</td>\n",
       "      <td>0.456984</td>\n",
       "      <td>0.108111</td>\n",
       "      <td>0.108111</td>\n",
       "      <td>0.108111</td>\n",
       "      <td>0.0</td>\n",
       "      <td>0.0</td>\n",
       "      <td>0.0</td>\n",
       "      <td>1.970268</td>\n",
       "    </tr>\n",
       "    <tr>\n",
       "      <th>20220</th>\n",
       "      <td>2013-10-01 11:45:05</td>\n",
       "      <td>2.802033</td>\n",
       "      <td>-35.484923</td>\n",
       "      <td>45.466365</td>\n",
       "      <td>-36.088105</td>\n",
       "      <td>44.249839</td>\n",
       "      <td>0.558629</td>\n",
       "      <td>0.558629</td>\n",
       "      <td>0.558629</td>\n",
       "      <td>0.456984</td>\n",
       "      <td>0.456984</td>\n",
       "      <td>0.456984</td>\n",
       "      <td>0.101645</td>\n",
       "      <td>0.101645</td>\n",
       "      <td>0.101645</td>\n",
       "      <td>0.0</td>\n",
       "      <td>0.0</td>\n",
       "      <td>0.0</td>\n",
       "      <td>3.360662</td>\n",
       "    </tr>\n",
       "    <tr>\n",
       "      <th>20221</th>\n",
       "      <td>2013-11-01 11:45:05</td>\n",
       "      <td>5.081120</td>\n",
       "      <td>-174.307721</td>\n",
       "      <td>201.198709</td>\n",
       "      <td>-177.246050</td>\n",
       "      <td>198.793171</td>\n",
       "      <td>0.377239</td>\n",
       "      <td>0.377239</td>\n",
       "      <td>0.377239</td>\n",
       "      <td>0.456984</td>\n",
       "      <td>0.456984</td>\n",
       "      <td>0.456984</td>\n",
       "      <td>-0.079744</td>\n",
       "      <td>-0.079744</td>\n",
       "      <td>-0.079744</td>\n",
       "      <td>0.0</td>\n",
       "      <td>0.0</td>\n",
       "      <td>0.0</td>\n",
       "      <td>5.458359</td>\n",
       "    </tr>\n",
       "    <tr>\n",
       "      <th>20222</th>\n",
       "      <td>2013-12-01 11:45:05</td>\n",
       "      <td>7.286688</td>\n",
       "      <td>-371.052261</td>\n",
       "      <td>412.348360</td>\n",
       "      <td>-370.799656</td>\n",
       "      <td>415.304097</td>\n",
       "      <td>0.387222</td>\n",
       "      <td>0.387222</td>\n",
       "      <td>0.387222</td>\n",
       "      <td>0.456984</td>\n",
       "      <td>0.456984</td>\n",
       "      <td>0.456984</td>\n",
       "      <td>-0.069762</td>\n",
       "      <td>-0.069762</td>\n",
       "      <td>-0.069762</td>\n",
       "      <td>0.0</td>\n",
       "      <td>0.0</td>\n",
       "      <td>0.0</td>\n",
       "      <td>7.673909</td>\n",
       "    </tr>\n",
       "  </tbody>\n",
       "</table>\n",
       "</div>"
      ],
      "text/plain": [
       "                       ds     trend  ...  multiplicative_terms_upper      yhat\n",
       "20218 2013-09-12 11:40:05  1.404918  ...                         0.0  1.950853\n",
       "20219 2013-09-12 11:45:05  1.405173  ...                         0.0  1.970268\n",
       "20220 2013-10-01 11:45:05  2.802033  ...                         0.0  3.360662\n",
       "20221 2013-11-01 11:45:05  5.081120  ...                         0.0  5.458359\n",
       "20222 2013-12-01 11:45:05  7.286688  ...                         0.0  7.673909\n",
       "\n",
       "[5 rows x 19 columns]"
      ]
     },
     "execution_count": 11,
     "metadata": {
      "tags": []
     },
     "output_type": "execute_result"
    }
   ],
   "source": [
    "future = model.make_future_dataframe(periods=3,freq='MS')\n",
    "prophet_pred = model.predict(future)\n",
    "prophet_pred.tail()"
   ]
  },
  {
   "cell_type": "code",
   "execution_count": 12,
   "metadata": {
    "colab": {
     "base_uri": "https://localhost:8080/",
     "height": 383
    },
    "id": "wG7fo2BofW2T",
    "outputId": "5aefbb30-546c-4907-ab0c-d226371ee734"
   },
   "outputs": [
    {
     "data": {
      "text/html": [
       "<div>\n",
       "<style scoped>\n",
       "    .dataframe tbody tr th:only-of-type {\n",
       "        vertical-align: middle;\n",
       "    }\n",
       "\n",
       "    .dataframe tbody tr th {\n",
       "        vertical-align: top;\n",
       "    }\n",
       "\n",
       "    .dataframe thead th {\n",
       "        text-align: right;\n",
       "    }\n",
       "</style>\n",
       "<table border=\"1\" class=\"dataframe\">\n",
       "  <thead>\n",
       "    <tr style=\"text-align: right;\">\n",
       "      <th></th>\n",
       "      <th>ds</th>\n",
       "      <th>trend</th>\n",
       "      <th>yhat_lower</th>\n",
       "      <th>yhat_upper</th>\n",
       "      <th>trend_lower</th>\n",
       "      <th>trend_upper</th>\n",
       "      <th>additive_terms</th>\n",
       "      <th>additive_terms_lower</th>\n",
       "      <th>additive_terms_upper</th>\n",
       "      <th>daily</th>\n",
       "      <th>daily_lower</th>\n",
       "      <th>daily_upper</th>\n",
       "      <th>weekly</th>\n",
       "      <th>weekly_lower</th>\n",
       "      <th>weekly_upper</th>\n",
       "      <th>multiplicative_terms</th>\n",
       "      <th>multiplicative_terms_lower</th>\n",
       "      <th>multiplicative_terms_upper</th>\n",
       "      <th>yhat</th>\n",
       "    </tr>\n",
       "  </thead>\n",
       "  <tbody>\n",
       "    <tr>\n",
       "      <th>0</th>\n",
       "      <td>2013-06-30 22:03:24</td>\n",
       "      <td>0.343617</td>\n",
       "      <td>-3.616082</td>\n",
       "      <td>4.000173</td>\n",
       "      <td>0.343617</td>\n",
       "      <td>0.343617</td>\n",
       "      <td>-0.246042</td>\n",
       "      <td>-0.246042</td>\n",
       "      <td>-0.246042</td>\n",
       "      <td>-0.286538</td>\n",
       "      <td>-0.286538</td>\n",
       "      <td>-0.286538</td>\n",
       "      <td>0.040496</td>\n",
       "      <td>0.040496</td>\n",
       "      <td>0.040496</td>\n",
       "      <td>0.0</td>\n",
       "      <td>0.0</td>\n",
       "      <td>0.0</td>\n",
       "      <td>0.097575</td>\n",
       "    </tr>\n",
       "    <tr>\n",
       "      <th>1</th>\n",
       "      <td>2013-06-30 22:08:24</td>\n",
       "      <td>0.351670</td>\n",
       "      <td>-3.716545</td>\n",
       "      <td>3.973576</td>\n",
       "      <td>0.351670</td>\n",
       "      <td>0.351670</td>\n",
       "      <td>-0.255691</td>\n",
       "      <td>-0.255691</td>\n",
       "      <td>-0.255691</td>\n",
       "      <td>-0.296589</td>\n",
       "      <td>-0.296589</td>\n",
       "      <td>-0.296589</td>\n",
       "      <td>0.040898</td>\n",
       "      <td>0.040898</td>\n",
       "      <td>0.040898</td>\n",
       "      <td>0.0</td>\n",
       "      <td>0.0</td>\n",
       "      <td>0.0</td>\n",
       "      <td>0.095979</td>\n",
       "    </tr>\n",
       "    <tr>\n",
       "      <th>2</th>\n",
       "      <td>2013-06-30 22:13:24</td>\n",
       "      <td>0.359723</td>\n",
       "      <td>-3.746952</td>\n",
       "      <td>3.642785</td>\n",
       "      <td>0.359723</td>\n",
       "      <td>0.359723</td>\n",
       "      <td>-0.265732</td>\n",
       "      <td>-0.265732</td>\n",
       "      <td>-0.265732</td>\n",
       "      <td>-0.307025</td>\n",
       "      <td>-0.307025</td>\n",
       "      <td>-0.307025</td>\n",
       "      <td>0.041293</td>\n",
       "      <td>0.041293</td>\n",
       "      <td>0.041293</td>\n",
       "      <td>0.0</td>\n",
       "      <td>0.0</td>\n",
       "      <td>0.0</td>\n",
       "      <td>0.093991</td>\n",
       "    </tr>\n",
       "    <tr>\n",
       "      <th>3</th>\n",
       "      <td>2013-06-30 22:18:24</td>\n",
       "      <td>0.367776</td>\n",
       "      <td>-3.781577</td>\n",
       "      <td>4.064474</td>\n",
       "      <td>0.367776</td>\n",
       "      <td>0.367776</td>\n",
       "      <td>-0.276103</td>\n",
       "      <td>-0.276103</td>\n",
       "      <td>-0.276103</td>\n",
       "      <td>-0.317782</td>\n",
       "      <td>-0.317782</td>\n",
       "      <td>-0.317782</td>\n",
       "      <td>0.041679</td>\n",
       "      <td>0.041679</td>\n",
       "      <td>0.041679</td>\n",
       "      <td>0.0</td>\n",
       "      <td>0.0</td>\n",
       "      <td>0.0</td>\n",
       "      <td>0.091673</td>\n",
       "    </tr>\n",
       "    <tr>\n",
       "      <th>4</th>\n",
       "      <td>2013-06-30 22:23:24</td>\n",
       "      <td>0.375829</td>\n",
       "      <td>-3.649552</td>\n",
       "      <td>3.928828</td>\n",
       "      <td>0.375829</td>\n",
       "      <td>0.375829</td>\n",
       "      <td>-0.286739</td>\n",
       "      <td>-0.286739</td>\n",
       "      <td>-0.286739</td>\n",
       "      <td>-0.328796</td>\n",
       "      <td>-0.328796</td>\n",
       "      <td>-0.328796</td>\n",
       "      <td>0.042057</td>\n",
       "      <td>0.042057</td>\n",
       "      <td>0.042057</td>\n",
       "      <td>0.0</td>\n",
       "      <td>0.0</td>\n",
       "      <td>0.0</td>\n",
       "      <td>0.089091</td>\n",
       "    </tr>\n",
       "  </tbody>\n",
       "</table>\n",
       "</div>"
      ],
      "text/plain": [
       "                   ds     trend  ...  multiplicative_terms_upper      yhat\n",
       "0 2013-06-30 22:03:24  0.343617  ...                         0.0  0.097575\n",
       "1 2013-06-30 22:08:24  0.351670  ...                         0.0  0.095979\n",
       "2 2013-06-30 22:13:24  0.359723  ...                         0.0  0.093991\n",
       "3 2013-06-30 22:18:24  0.367776  ...                         0.0  0.091673\n",
       "4 2013-06-30 22:23:24  0.375829  ...                         0.0  0.089091\n",
       "\n",
       "[5 rows x 19 columns]"
      ]
     },
     "execution_count": 12,
     "metadata": {
      "tags": []
     },
     "output_type": "execute_result"
    }
   ],
   "source": [
    "prophet_pred.head()"
   ]
  },
  {
   "cell_type": "code",
   "execution_count": 13,
   "metadata": {
    "colab": {
     "base_uri": "https://localhost:8080/"
    },
    "id": "Fi62mL5Jfaci",
    "outputId": "c8c574a0-a867-493c-d8a4-c9d04d9fa192"
   },
   "outputs": [
    {
     "data": {
      "text/plain": [
       "20223"
      ]
     },
     "execution_count": 13,
     "metadata": {
      "tags": []
     },
     "output_type": "execute_result"
    }
   ],
   "source": [
    "len(prophet_pred)"
   ]
  },
  {
   "cell_type": "code",
   "execution_count": 14,
   "metadata": {
    "colab": {
     "base_uri": "https://localhost:8080/"
    },
    "id": "6aRv7GAif36j",
    "outputId": "cba4c20f-7347-492a-9d87-4bd48d7ecedd"
   },
   "outputs": [
    {
     "data": {
      "text/plain": [
       "5000"
      ]
     },
     "execution_count": 14,
     "metadata": {
      "tags": []
     },
     "output_type": "execute_result"
    }
   ],
   "source": [
    "splitpred=prophet_pred.iloc[len(prophet_pred)-5000:]\n",
    "len(splitpred)"
   ]
  },
  {
   "cell_type": "markdown",
   "metadata": {
    "id": "AGo9MGrrU9Q5"
   },
   "source": [
    "Evaluation Metrics"
   ]
  },
  {
   "cell_type": "markdown",
   "metadata": {
    "id": "Om2SJeVEVB6b"
   },
   "source": [
    "MAE"
   ]
  },
  {
   "cell_type": "code",
   "execution_count": 15,
   "metadata": {
    "colab": {
     "base_uri": "https://localhost:8080/"
    },
    "id": "qLuBmgySfeHY",
    "outputId": "c2477dad-5a70-42f9-daba-4d0b569b17e0"
   },
   "outputs": [
    {
     "data": {
      "text/plain": [
       "1.674107389679477"
      ]
     },
     "execution_count": 15,
     "metadata": {
      "tags": []
     },
     "output_type": "execute_result"
    }
   ],
   "source": [
    "from sklearn.metrics import mean_absolute_error\n",
    "mean_absolute_error(test_data_pr['y'], splitpred['yhat'])"
   ]
  },
  {
   "cell_type": "markdown",
   "metadata": {
    "id": "jvcZAeK7VE6g"
   },
   "source": [
    "RMSE"
   ]
  },
  {
   "cell_type": "code",
   "execution_count": 16,
   "metadata": {
    "colab": {
     "base_uri": "https://localhost:8080/"
    },
    "id": "zn4qL7_CfeRi",
    "outputId": "cd6b53f3-f412-45da-a538-2b3c2679838c"
   },
   "outputs": [
    {
     "data": {
      "text/plain": [
       "2.406983960715526"
      ]
     },
     "execution_count": 16,
     "metadata": {
      "tags": []
     },
     "output_type": "execute_result"
    }
   ],
   "source": [
    "from sklearn.metrics import mean_squared_error\n",
    "from math import sqrt\n",
    "rmse=sqrt(mean_squared_error(test_data_pr['y'], splitpred['yhat']))\n",
    "rmse"
   ]
  },
  {
   "cell_type": "markdown",
   "metadata": {
    "id": "rhfjVsehVMFo"
   },
   "source": [
    "Building Model for Forecast"
   ]
  },
  {
   "cell_type": "code",
   "execution_count": 17,
   "metadata": {
    "colab": {
     "base_uri": "https://localhost:8080/"
    },
    "id": "XA1krB_UzlBo",
    "outputId": "3431c352-60a2-414e-b8c9-aa3e4a90d117"
   },
   "outputs": [
    {
     "name": "stderr",
     "output_type": "stream",
     "text": [
      "INFO:fbprophet:Disabling yearly seasonality. Run prophet with yearly_seasonality=True to override this.\n"
     ]
    },
    {
     "data": {
      "text/plain": [
       "<fbprophet.forecaster.Prophet at 0x7f33a6135390>"
      ]
     },
     "execution_count": 17,
     "metadata": {
      "tags": []
     },
     "output_type": "execute_result"
    }
   ],
   "source": [
    "m1 = Prophet(daily_seasonality=True)\n",
    "m1.fit(train_data_pr)"
   ]
  },
  {
   "cell_type": "code",
   "execution_count": 18,
   "metadata": {
    "colab": {
     "base_uri": "https://localhost:8080/",
     "height": 383
    },
    "id": "tOknIP6JzlGl",
    "outputId": "52ee14de-7840-4499-c9d9-9915091298f6"
   },
   "outputs": [
    {
     "data": {
      "text/html": [
       "<div>\n",
       "<style scoped>\n",
       "    .dataframe tbody tr th:only-of-type {\n",
       "        vertical-align: middle;\n",
       "    }\n",
       "\n",
       "    .dataframe tbody tr th {\n",
       "        vertical-align: top;\n",
       "    }\n",
       "\n",
       "    .dataframe thead th {\n",
       "        text-align: right;\n",
       "    }\n",
       "</style>\n",
       "<table border=\"1\" class=\"dataframe\">\n",
       "  <thead>\n",
       "    <tr style=\"text-align: right;\">\n",
       "      <th></th>\n",
       "      <th>ds</th>\n",
       "      <th>trend</th>\n",
       "      <th>yhat_lower</th>\n",
       "      <th>yhat_upper</th>\n",
       "      <th>trend_lower</th>\n",
       "      <th>trend_upper</th>\n",
       "      <th>additive_terms</th>\n",
       "      <th>additive_terms_lower</th>\n",
       "      <th>additive_terms_upper</th>\n",
       "      <th>daily</th>\n",
       "      <th>daily_lower</th>\n",
       "      <th>daily_upper</th>\n",
       "      <th>weekly</th>\n",
       "      <th>weekly_lower</th>\n",
       "      <th>weekly_upper</th>\n",
       "      <th>multiplicative_terms</th>\n",
       "      <th>multiplicative_terms_lower</th>\n",
       "      <th>multiplicative_terms_upper</th>\n",
       "      <th>yhat</th>\n",
       "    </tr>\n",
       "  </thead>\n",
       "  <tbody>\n",
       "    <tr>\n",
       "      <th>22375</th>\n",
       "      <td>2013-12-11 07:45:05</td>\n",
       "      <td>8.009624</td>\n",
       "      <td>-467.785192</td>\n",
       "      <td>446.648747</td>\n",
       "      <td>-467.077585</td>\n",
       "      <td>446.473433</td>\n",
       "      <td>0.577240</td>\n",
       "      <td>0.577240</td>\n",
       "      <td>0.577240</td>\n",
       "      <td>0.293060</td>\n",
       "      <td>0.293060</td>\n",
       "      <td>0.293060</td>\n",
       "      <td>0.284180</td>\n",
       "      <td>0.284180</td>\n",
       "      <td>0.284180</td>\n",
       "      <td>0.0</td>\n",
       "      <td>0.0</td>\n",
       "      <td>0.0</td>\n",
       "      <td>8.586864</td>\n",
       "    </tr>\n",
       "    <tr>\n",
       "      <th>22376</th>\n",
       "      <td>2013-12-11 08:45:05</td>\n",
       "      <td>8.012687</td>\n",
       "      <td>-466.229669</td>\n",
       "      <td>445.511445</td>\n",
       "      <td>-467.390319</td>\n",
       "      <td>446.953439</td>\n",
       "      <td>0.730508</td>\n",
       "      <td>0.730508</td>\n",
       "      <td>0.730508</td>\n",
       "      <td>0.445822</td>\n",
       "      <td>0.445822</td>\n",
       "      <td>0.445822</td>\n",
       "      <td>0.284686</td>\n",
       "      <td>0.284686</td>\n",
       "      <td>0.284686</td>\n",
       "      <td>0.0</td>\n",
       "      <td>0.0</td>\n",
       "      <td>0.0</td>\n",
       "      <td>8.743195</td>\n",
       "    </tr>\n",
       "    <tr>\n",
       "      <th>22377</th>\n",
       "      <td>2013-12-11 09:45:05</td>\n",
       "      <td>8.015750</td>\n",
       "      <td>-466.131313</td>\n",
       "      <td>447.731856</td>\n",
       "      <td>-467.703054</td>\n",
       "      <td>447.433446</td>\n",
       "      <td>0.677429</td>\n",
       "      <td>0.677429</td>\n",
       "      <td>0.677429</td>\n",
       "      <td>0.393252</td>\n",
       "      <td>0.393252</td>\n",
       "      <td>0.393252</td>\n",
       "      <td>0.284177</td>\n",
       "      <td>0.284177</td>\n",
       "      <td>0.284177</td>\n",
       "      <td>0.0</td>\n",
       "      <td>0.0</td>\n",
       "      <td>0.0</td>\n",
       "      <td>8.693179</td>\n",
       "    </tr>\n",
       "    <tr>\n",
       "      <th>22378</th>\n",
       "      <td>2013-12-11 10:45:05</td>\n",
       "      <td>8.018814</td>\n",
       "      <td>-466.612036</td>\n",
       "      <td>447.369987</td>\n",
       "      <td>-468.015789</td>\n",
       "      <td>447.866206</td>\n",
       "      <td>0.613071</td>\n",
       "      <td>0.613071</td>\n",
       "      <td>0.613071</td>\n",
       "      <td>0.330386</td>\n",
       "      <td>0.330386</td>\n",
       "      <td>0.330386</td>\n",
       "      <td>0.282684</td>\n",
       "      <td>0.282684</td>\n",
       "      <td>0.282684</td>\n",
       "      <td>0.0</td>\n",
       "      <td>0.0</td>\n",
       "      <td>0.0</td>\n",
       "      <td>8.631884</td>\n",
       "    </tr>\n",
       "    <tr>\n",
       "      <th>22379</th>\n",
       "      <td>2013-12-11 11:45:05</td>\n",
       "      <td>8.021877</td>\n",
       "      <td>-466.703413</td>\n",
       "      <td>446.321509</td>\n",
       "      <td>-468.328523</td>\n",
       "      <td>448.093857</td>\n",
       "      <td>0.737231</td>\n",
       "      <td>0.737231</td>\n",
       "      <td>0.737231</td>\n",
       "      <td>0.456984</td>\n",
       "      <td>0.456984</td>\n",
       "      <td>0.456984</td>\n",
       "      <td>0.280247</td>\n",
       "      <td>0.280247</td>\n",
       "      <td>0.280247</td>\n",
       "      <td>0.0</td>\n",
       "      <td>0.0</td>\n",
       "      <td>0.0</td>\n",
       "      <td>8.759108</td>\n",
       "    </tr>\n",
       "  </tbody>\n",
       "</table>\n",
       "</div>"
      ],
      "text/plain": [
       "                       ds     trend  ...  multiplicative_terms_upper      yhat\n",
       "22375 2013-12-11 07:45:05  8.009624  ...                         0.0  8.586864\n",
       "22376 2013-12-11 08:45:05  8.012687  ...                         0.0  8.743195\n",
       "22377 2013-12-11 09:45:05  8.015750  ...                         0.0  8.693179\n",
       "22378 2013-12-11 10:45:05  8.018814  ...                         0.0  8.631884\n",
       "22379 2013-12-11 11:45:05  8.021877  ...                         0.0  8.759108\n",
       "\n",
       "[5 rows x 19 columns]"
      ]
     },
     "execution_count": 18,
     "metadata": {
      "tags": []
     },
     "output_type": "execute_result"
    }
   ],
   "source": [
    "future1 = m1.make_future_dataframe(periods=2160, freq='H')\n",
    "forecast1 = m1.predict(future1)\n",
    "forecast1.tail()"
   ]
  },
  {
   "cell_type": "code",
   "execution_count": 19,
   "metadata": {
    "colab": {
     "base_uri": "https://localhost:8080/",
     "height": 383
    },
    "id": "OsPdLK5ozlLg",
    "outputId": "61a0f65f-6572-43cc-9f37-2e353e74e26a"
   },
   "outputs": [
    {
     "data": {
      "text/html": [
       "<div>\n",
       "<style scoped>\n",
       "    .dataframe tbody tr th:only-of-type {\n",
       "        vertical-align: middle;\n",
       "    }\n",
       "\n",
       "    .dataframe tbody tr th {\n",
       "        vertical-align: top;\n",
       "    }\n",
       "\n",
       "    .dataframe thead th {\n",
       "        text-align: right;\n",
       "    }\n",
       "</style>\n",
       "<table border=\"1\" class=\"dataframe\">\n",
       "  <thead>\n",
       "    <tr style=\"text-align: right;\">\n",
       "      <th></th>\n",
       "      <th>ds</th>\n",
       "      <th>trend</th>\n",
       "      <th>yhat_lower</th>\n",
       "      <th>yhat_upper</th>\n",
       "      <th>trend_lower</th>\n",
       "      <th>trend_upper</th>\n",
       "      <th>additive_terms</th>\n",
       "      <th>additive_terms_lower</th>\n",
       "      <th>additive_terms_upper</th>\n",
       "      <th>daily</th>\n",
       "      <th>daily_lower</th>\n",
       "      <th>daily_upper</th>\n",
       "      <th>weekly</th>\n",
       "      <th>weekly_lower</th>\n",
       "      <th>weekly_upper</th>\n",
       "      <th>multiplicative_terms</th>\n",
       "      <th>multiplicative_terms_lower</th>\n",
       "      <th>multiplicative_terms_upper</th>\n",
       "      <th>yhat</th>\n",
       "    </tr>\n",
       "  </thead>\n",
       "  <tbody>\n",
       "    <tr>\n",
       "      <th>0</th>\n",
       "      <td>2013-06-30 22:03:24</td>\n",
       "      <td>0.343617</td>\n",
       "      <td>-3.653668</td>\n",
       "      <td>3.832623</td>\n",
       "      <td>0.343617</td>\n",
       "      <td>0.343617</td>\n",
       "      <td>-0.246042</td>\n",
       "      <td>-0.246042</td>\n",
       "      <td>-0.246042</td>\n",
       "      <td>-0.286538</td>\n",
       "      <td>-0.286538</td>\n",
       "      <td>-0.286538</td>\n",
       "      <td>0.040496</td>\n",
       "      <td>0.040496</td>\n",
       "      <td>0.040496</td>\n",
       "      <td>0.0</td>\n",
       "      <td>0.0</td>\n",
       "      <td>0.0</td>\n",
       "      <td>0.097575</td>\n",
       "    </tr>\n",
       "    <tr>\n",
       "      <th>1</th>\n",
       "      <td>2013-06-30 22:08:24</td>\n",
       "      <td>0.351670</td>\n",
       "      <td>-3.577833</td>\n",
       "      <td>3.592947</td>\n",
       "      <td>0.351670</td>\n",
       "      <td>0.351670</td>\n",
       "      <td>-0.255691</td>\n",
       "      <td>-0.255691</td>\n",
       "      <td>-0.255691</td>\n",
       "      <td>-0.296589</td>\n",
       "      <td>-0.296589</td>\n",
       "      <td>-0.296589</td>\n",
       "      <td>0.040898</td>\n",
       "      <td>0.040898</td>\n",
       "      <td>0.040898</td>\n",
       "      <td>0.0</td>\n",
       "      <td>0.0</td>\n",
       "      <td>0.0</td>\n",
       "      <td>0.095979</td>\n",
       "    </tr>\n",
       "    <tr>\n",
       "      <th>2</th>\n",
       "      <td>2013-06-30 22:13:24</td>\n",
       "      <td>0.359723</td>\n",
       "      <td>-3.845837</td>\n",
       "      <td>4.172421</td>\n",
       "      <td>0.359723</td>\n",
       "      <td>0.359723</td>\n",
       "      <td>-0.265732</td>\n",
       "      <td>-0.265732</td>\n",
       "      <td>-0.265732</td>\n",
       "      <td>-0.307025</td>\n",
       "      <td>-0.307025</td>\n",
       "      <td>-0.307025</td>\n",
       "      <td>0.041293</td>\n",
       "      <td>0.041293</td>\n",
       "      <td>0.041293</td>\n",
       "      <td>0.0</td>\n",
       "      <td>0.0</td>\n",
       "      <td>0.0</td>\n",
       "      <td>0.093991</td>\n",
       "    </tr>\n",
       "    <tr>\n",
       "      <th>3</th>\n",
       "      <td>2013-06-30 22:18:24</td>\n",
       "      <td>0.367776</td>\n",
       "      <td>-3.709572</td>\n",
       "      <td>4.130528</td>\n",
       "      <td>0.367776</td>\n",
       "      <td>0.367776</td>\n",
       "      <td>-0.276103</td>\n",
       "      <td>-0.276103</td>\n",
       "      <td>-0.276103</td>\n",
       "      <td>-0.317782</td>\n",
       "      <td>-0.317782</td>\n",
       "      <td>-0.317782</td>\n",
       "      <td>0.041679</td>\n",
       "      <td>0.041679</td>\n",
       "      <td>0.041679</td>\n",
       "      <td>0.0</td>\n",
       "      <td>0.0</td>\n",
       "      <td>0.0</td>\n",
       "      <td>0.091673</td>\n",
       "    </tr>\n",
       "    <tr>\n",
       "      <th>4</th>\n",
       "      <td>2013-06-30 22:23:24</td>\n",
       "      <td>0.375829</td>\n",
       "      <td>-3.554687</td>\n",
       "      <td>3.954030</td>\n",
       "      <td>0.375829</td>\n",
       "      <td>0.375829</td>\n",
       "      <td>-0.286739</td>\n",
       "      <td>-0.286739</td>\n",
       "      <td>-0.286739</td>\n",
       "      <td>-0.328796</td>\n",
       "      <td>-0.328796</td>\n",
       "      <td>-0.328796</td>\n",
       "      <td>0.042057</td>\n",
       "      <td>0.042057</td>\n",
       "      <td>0.042057</td>\n",
       "      <td>0.0</td>\n",
       "      <td>0.0</td>\n",
       "      <td>0.0</td>\n",
       "      <td>0.089091</td>\n",
       "    </tr>\n",
       "  </tbody>\n",
       "</table>\n",
       "</div>"
      ],
      "text/plain": [
       "                   ds     trend  ...  multiplicative_terms_upper      yhat\n",
       "0 2013-06-30 22:03:24  0.343617  ...                         0.0  0.097575\n",
       "1 2013-06-30 22:08:24  0.351670  ...                         0.0  0.095979\n",
       "2 2013-06-30 22:13:24  0.359723  ...                         0.0  0.093991\n",
       "3 2013-06-30 22:18:24  0.367776  ...                         0.0  0.091673\n",
       "4 2013-06-30 22:23:24  0.375829  ...                         0.0  0.089091\n",
       "\n",
       "[5 rows x 19 columns]"
      ]
     },
     "execution_count": 19,
     "metadata": {
      "tags": []
     },
     "output_type": "execute_result"
    }
   ],
   "source": [
    "forecast1.head()"
   ]
  },
  {
   "cell_type": "code",
   "execution_count": 20,
   "metadata": {
    "colab": {
     "base_uri": "https://localhost:8080/"
    },
    "id": "VH-kEfHvzlEf",
    "outputId": "5f69f1ba-f20f-42eb-a2e5-33251f2ea335"
   },
   "outputs": [
    {
     "data": {
      "text/plain": [
       "22380"
      ]
     },
     "execution_count": 20,
     "metadata": {
      "tags": []
     },
     "output_type": "execute_result"
    }
   ],
   "source": [
    "len(forecast1)"
   ]
  },
  {
   "cell_type": "code",
   "execution_count": 23,
   "metadata": {
    "colab": {
     "base_uri": "https://localhost:8080/",
     "height": 383
    },
    "id": "YDykslSbzk_W",
    "outputId": "9bbf1cf7-ee8f-4a74-c7af-74d767a80501"
   },
   "outputs": [
    {
     "data": {
      "text/html": [
       "<div>\n",
       "<style scoped>\n",
       "    .dataframe tbody tr th:only-of-type {\n",
       "        vertical-align: middle;\n",
       "    }\n",
       "\n",
       "    .dataframe tbody tr th {\n",
       "        vertical-align: top;\n",
       "    }\n",
       "\n",
       "    .dataframe thead th {\n",
       "        text-align: right;\n",
       "    }\n",
       "</style>\n",
       "<table border=\"1\" class=\"dataframe\">\n",
       "  <thead>\n",
       "    <tr style=\"text-align: right;\">\n",
       "      <th></th>\n",
       "      <th>ds</th>\n",
       "      <th>trend</th>\n",
       "      <th>yhat_lower</th>\n",
       "      <th>yhat_upper</th>\n",
       "      <th>trend_lower</th>\n",
       "      <th>trend_upper</th>\n",
       "      <th>additive_terms</th>\n",
       "      <th>additive_terms_lower</th>\n",
       "      <th>additive_terms_upper</th>\n",
       "      <th>daily</th>\n",
       "      <th>daily_lower</th>\n",
       "      <th>daily_upper</th>\n",
       "      <th>weekly</th>\n",
       "      <th>weekly_lower</th>\n",
       "      <th>weekly_upper</th>\n",
       "      <th>multiplicative_terms</th>\n",
       "      <th>multiplicative_terms_lower</th>\n",
       "      <th>multiplicative_terms_upper</th>\n",
       "      <th>yhat</th>\n",
       "    </tr>\n",
       "  </thead>\n",
       "  <tbody>\n",
       "    <tr>\n",
       "      <th>20220</th>\n",
       "      <td>2013-09-12 12:45:05</td>\n",
       "      <td>1.408236</td>\n",
       "      <td>-1.438368</td>\n",
       "      <td>6.494374</td>\n",
       "      <td>1.408236</td>\n",
       "      <td>1.408236</td>\n",
       "      <td>0.883188</td>\n",
       "      <td>0.883188</td>\n",
       "      <td>0.883188</td>\n",
       "      <td>0.781123</td>\n",
       "      <td>0.781123</td>\n",
       "      <td>0.781123</td>\n",
       "      <td>0.102065</td>\n",
       "      <td>0.102065</td>\n",
       "      <td>0.102065</td>\n",
       "      <td>0.0</td>\n",
       "      <td>0.0</td>\n",
       "      <td>0.0</td>\n",
       "      <td>2.291424</td>\n",
       "    </tr>\n",
       "    <tr>\n",
       "      <th>20221</th>\n",
       "      <td>2013-09-12 13:45:05</td>\n",
       "      <td>1.411299</td>\n",
       "      <td>-1.100629</td>\n",
       "      <td>6.587103</td>\n",
       "      <td>1.411299</td>\n",
       "      <td>1.411299</td>\n",
       "      <td>1.186715</td>\n",
       "      <td>1.186715</td>\n",
       "      <td>1.186715</td>\n",
       "      <td>1.090481</td>\n",
       "      <td>1.090481</td>\n",
       "      <td>1.090481</td>\n",
       "      <td>0.096234</td>\n",
       "      <td>0.096234</td>\n",
       "      <td>0.096234</td>\n",
       "      <td>0.0</td>\n",
       "      <td>0.0</td>\n",
       "      <td>0.0</td>\n",
       "      <td>2.598014</td>\n",
       "    </tr>\n",
       "    <tr>\n",
       "      <th>20222</th>\n",
       "      <td>2013-09-12 14:45:05</td>\n",
       "      <td>1.414363</td>\n",
       "      <td>-1.292404</td>\n",
       "      <td>6.345419</td>\n",
       "      <td>1.414363</td>\n",
       "      <td>1.414363</td>\n",
       "      <td>1.216646</td>\n",
       "      <td>1.216646</td>\n",
       "      <td>1.216646</td>\n",
       "      <td>1.126065</td>\n",
       "      <td>1.126065</td>\n",
       "      <td>1.126065</td>\n",
       "      <td>0.090581</td>\n",
       "      <td>0.090581</td>\n",
       "      <td>0.090581</td>\n",
       "      <td>0.0</td>\n",
       "      <td>0.0</td>\n",
       "      <td>0.0</td>\n",
       "      <td>2.631008</td>\n",
       "    </tr>\n",
       "    <tr>\n",
       "      <th>20223</th>\n",
       "      <td>2013-09-12 15:45:05</td>\n",
       "      <td>1.417426</td>\n",
       "      <td>-1.544379</td>\n",
       "      <td>6.389080</td>\n",
       "      <td>1.417426</td>\n",
       "      <td>1.417426</td>\n",
       "      <td>0.890235</td>\n",
       "      <td>0.890235</td>\n",
       "      <td>0.890235</td>\n",
       "      <td>0.805173</td>\n",
       "      <td>0.805173</td>\n",
       "      <td>0.805173</td>\n",
       "      <td>0.085062</td>\n",
       "      <td>0.085062</td>\n",
       "      <td>0.085062</td>\n",
       "      <td>0.0</td>\n",
       "      <td>0.0</td>\n",
       "      <td>0.0</td>\n",
       "      <td>2.307661</td>\n",
       "    </tr>\n",
       "    <tr>\n",
       "      <th>20224</th>\n",
       "      <td>2013-09-12 16:45:05</td>\n",
       "      <td>1.420489</td>\n",
       "      <td>-2.175267</td>\n",
       "      <td>5.731480</td>\n",
       "      <td>1.420489</td>\n",
       "      <td>1.420489</td>\n",
       "      <td>0.373435</td>\n",
       "      <td>0.373435</td>\n",
       "      <td>0.373435</td>\n",
       "      <td>0.293806</td>\n",
       "      <td>0.293806</td>\n",
       "      <td>0.293806</td>\n",
       "      <td>0.079629</td>\n",
       "      <td>0.079629</td>\n",
       "      <td>0.079629</td>\n",
       "      <td>0.0</td>\n",
       "      <td>0.0</td>\n",
       "      <td>0.0</td>\n",
       "      <td>1.793925</td>\n",
       "    </tr>\n",
       "  </tbody>\n",
       "</table>\n",
       "</div>"
      ],
      "text/plain": [
       "                       ds     trend  ...  multiplicative_terms_upper      yhat\n",
       "20220 2013-09-12 12:45:05  1.408236  ...                         0.0  2.291424\n",
       "20221 2013-09-12 13:45:05  1.411299  ...                         0.0  2.598014\n",
       "20222 2013-09-12 14:45:05  1.414363  ...                         0.0  2.631008\n",
       "20223 2013-09-12 15:45:05  1.417426  ...                         0.0  2.307661\n",
       "20224 2013-09-12 16:45:05  1.420489  ...                         0.0  1.793925\n",
       "\n",
       "[5 rows x 19 columns]"
      ]
     },
     "execution_count": 23,
     "metadata": {
      "tags": []
     },
     "output_type": "execute_result"
    }
   ],
   "source": [
    "split=forecast1.iloc[len(forecast1)-2160:]\n",
    "split.head()"
   ]
  },
  {
   "cell_type": "code",
   "execution_count": 28,
   "metadata": {
    "colab": {
     "base_uri": "https://localhost:8080/",
     "height": 402
    },
    "id": "zDj1ioz5EBR2",
    "outputId": "d4216b4f-dda2-426a-e5cb-68408263278e"
   },
   "outputs": [
    {
     "data": {
      "text/html": [
       "<div>\n",
       "<style scoped>\n",
       "    .dataframe tbody tr th:only-of-type {\n",
       "        vertical-align: middle;\n",
       "    }\n",
       "\n",
       "    .dataframe tbody tr th {\n",
       "        vertical-align: top;\n",
       "    }\n",
       "\n",
       "    .dataframe thead th {\n",
       "        text-align: right;\n",
       "    }\n",
       "</style>\n",
       "<table border=\"1\" class=\"dataframe\">\n",
       "  <thead>\n",
       "    <tr style=\"text-align: right;\">\n",
       "      <th></th>\n",
       "      <th>Timestamp</th>\n",
       "      <th>predicted_cpu_usage [%]</th>\n",
       "    </tr>\n",
       "  </thead>\n",
       "  <tbody>\n",
       "    <tr>\n",
       "      <th>20220</th>\n",
       "      <td>2013-09-12 12:45:05</td>\n",
       "      <td>2.291424</td>\n",
       "    </tr>\n",
       "    <tr>\n",
       "      <th>20221</th>\n",
       "      <td>2013-09-12 13:45:05</td>\n",
       "      <td>2.598014</td>\n",
       "    </tr>\n",
       "    <tr>\n",
       "      <th>20222</th>\n",
       "      <td>2013-09-12 14:45:05</td>\n",
       "      <td>2.631008</td>\n",
       "    </tr>\n",
       "    <tr>\n",
       "      <th>20223</th>\n",
       "      <td>2013-09-12 15:45:05</td>\n",
       "      <td>2.307661</td>\n",
       "    </tr>\n",
       "    <tr>\n",
       "      <th>20224</th>\n",
       "      <td>2013-09-12 16:45:05</td>\n",
       "      <td>1.793925</td>\n",
       "    </tr>\n",
       "    <tr>\n",
       "      <th>...</th>\n",
       "      <td>...</td>\n",
       "      <td>...</td>\n",
       "    </tr>\n",
       "    <tr>\n",
       "      <th>22375</th>\n",
       "      <td>2013-12-11 07:45:05</td>\n",
       "      <td>8.586864</td>\n",
       "    </tr>\n",
       "    <tr>\n",
       "      <th>22376</th>\n",
       "      <td>2013-12-11 08:45:05</td>\n",
       "      <td>8.743195</td>\n",
       "    </tr>\n",
       "    <tr>\n",
       "      <th>22377</th>\n",
       "      <td>2013-12-11 09:45:05</td>\n",
       "      <td>8.693179</td>\n",
       "    </tr>\n",
       "    <tr>\n",
       "      <th>22378</th>\n",
       "      <td>2013-12-11 10:45:05</td>\n",
       "      <td>8.631884</td>\n",
       "    </tr>\n",
       "    <tr>\n",
       "      <th>22379</th>\n",
       "      <td>2013-12-11 11:45:05</td>\n",
       "      <td>8.759108</td>\n",
       "    </tr>\n",
       "  </tbody>\n",
       "</table>\n",
       "<p>2160 rows × 2 columns</p>\n",
       "</div>"
      ],
      "text/plain": [
       "                Timestamp  predicted_cpu_usage [%]\n",
       "20220 2013-09-12 12:45:05                 2.291424\n",
       "20221 2013-09-12 13:45:05                 2.598014\n",
       "20222 2013-09-12 14:45:05                 2.631008\n",
       "20223 2013-09-12 15:45:05                 2.307661\n",
       "20224 2013-09-12 16:45:05                 1.793925\n",
       "...                   ...                      ...\n",
       "22375 2013-12-11 07:45:05                 8.586864\n",
       "22376 2013-12-11 08:45:05                 8.743195\n",
       "22377 2013-12-11 09:45:05                 8.693179\n",
       "22378 2013-12-11 10:45:05                 8.631884\n",
       "22379 2013-12-11 11:45:05                 8.759108\n",
       "\n",
       "[2160 rows x 2 columns]"
      ]
     },
     "execution_count": 28,
     "metadata": {
      "tags": []
     },
     "output_type": "execute_result"
    }
   ],
   "source": [
    "fbpredictedcpu = pd.DataFrame(split, columns=['ds'])\n",
    "fbpredictedcpu = fbpredictedcpu.rename({'ds': 'Timestamp'}, axis=1)\n",
    "fbpredictedcpu ['predicted_cpu_usage [%]' ] = split[['yhat']]\n",
    "fbpredictedcpu\n"
   ]
  },
  {
   "cell_type": "markdown",
   "metadata": {
    "id": "jqdL5YrkGpYs"
   },
   "source": [
    "FB Prophet for Memory Usage"
   ]
  },
  {
   "cell_type": "code",
   "execution_count": 29,
   "metadata": {
    "id": "XqRnXk6OC3Qu"
   },
   "outputs": [],
   "source": [
    "df_mem = df[['Time','Memory usage [%]']]\n",
    "\n",
    "df_mem.columns = ['ds','y'] # To use prophet column names should be like that\n",
    "\n",
    "train_data_mem = df_mem.iloc[:len(df)-5000]\n",
    "test_data_mem = df_mem.iloc[len(df)-5000:]"
   ]
  },
  {
   "cell_type": "code",
   "execution_count": 30,
   "metadata": {
    "colab": {
     "base_uri": "https://localhost:8080/"
    },
    "id": "7Yh_L4b1C3TQ",
    "outputId": "77fccfa4-3a68-4e74-dfac-03eb2c04baeb"
   },
   "outputs": [
    {
     "data": {
      "text/plain": [
       "20220"
      ]
     },
     "execution_count": 30,
     "metadata": {
      "tags": []
     },
     "output_type": "execute_result"
    }
   ],
   "source": [
    "train_data_mem.head()\n",
    "len(train_data_pr)"
   ]
  },
  {
   "cell_type": "code",
   "execution_count": 31,
   "metadata": {
    "colab": {
     "base_uri": "https://localhost:8080/"
    },
    "id": "0CtJUse8C3V3",
    "outputId": "0b4cc6bb-2a6f-4cae-8810-c044c46b2615"
   },
   "outputs": [
    {
     "data": {
      "text/plain": [
       "5000"
      ]
     },
     "execution_count": 31,
     "metadata": {
      "tags": []
     },
     "output_type": "execute_result"
    }
   ],
   "source": [
    "test_data_mem.head()\n",
    "len(test_data_pr)"
   ]
  },
  {
   "cell_type": "code",
   "execution_count": 32,
   "metadata": {
    "colab": {
     "base_uri": "https://localhost:8080/"
    },
    "id": "NOLsibjNGjqu",
    "outputId": "3a369ef6-8ed6-4288-eb85-f8fdbf7dd994"
   },
   "outputs": [
    {
     "name": "stderr",
     "output_type": "stream",
     "text": [
      "INFO:fbprophet:Disabling yearly seasonality. Run prophet with yearly_seasonality=True to override this.\n"
     ]
    },
    {
     "data": {
      "text/plain": [
       "<fbprophet.forecaster.Prophet at 0x7f33a47fc8d0>"
      ]
     },
     "execution_count": 32,
     "metadata": {
      "tags": []
     },
     "output_type": "execute_result"
    }
   ],
   "source": [
    "modelmem = Prophet()\n",
    "modelmem.fit(train_data_mem)"
   ]
  },
  {
   "cell_type": "code",
   "execution_count": 33,
   "metadata": {
    "colab": {
     "base_uri": "https://localhost:8080/",
     "height": 383
    },
    "id": "D3KjYeCvGjuG",
    "outputId": "fe925b6d-41ec-4cf4-88ab-a905c31f4529"
   },
   "outputs": [
    {
     "data": {
      "text/html": [
       "<div>\n",
       "<style scoped>\n",
       "    .dataframe tbody tr th:only-of-type {\n",
       "        vertical-align: middle;\n",
       "    }\n",
       "\n",
       "    .dataframe tbody tr th {\n",
       "        vertical-align: top;\n",
       "    }\n",
       "\n",
       "    .dataframe thead th {\n",
       "        text-align: right;\n",
       "    }\n",
       "</style>\n",
       "<table border=\"1\" class=\"dataframe\">\n",
       "  <thead>\n",
       "    <tr style=\"text-align: right;\">\n",
       "      <th></th>\n",
       "      <th>ds</th>\n",
       "      <th>trend</th>\n",
       "      <th>yhat_lower</th>\n",
       "      <th>yhat_upper</th>\n",
       "      <th>trend_lower</th>\n",
       "      <th>trend_upper</th>\n",
       "      <th>additive_terms</th>\n",
       "      <th>additive_terms_lower</th>\n",
       "      <th>additive_terms_upper</th>\n",
       "      <th>daily</th>\n",
       "      <th>daily_lower</th>\n",
       "      <th>daily_upper</th>\n",
       "      <th>weekly</th>\n",
       "      <th>weekly_lower</th>\n",
       "      <th>weekly_upper</th>\n",
       "      <th>multiplicative_terms</th>\n",
       "      <th>multiplicative_terms_lower</th>\n",
       "      <th>multiplicative_terms_upper</th>\n",
       "      <th>yhat</th>\n",
       "    </tr>\n",
       "  </thead>\n",
       "  <tbody>\n",
       "    <tr>\n",
       "      <th>20218</th>\n",
       "      <td>2013-09-12 11:40:05</td>\n",
       "      <td>2.879534</td>\n",
       "      <td>-0.565163</td>\n",
       "      <td>7.729201</td>\n",
       "      <td>2.879534</td>\n",
       "      <td>2.879534</td>\n",
       "      <td>0.752420</td>\n",
       "      <td>0.752420</td>\n",
       "      <td>0.752420</td>\n",
       "      <td>0.606509</td>\n",
       "      <td>0.606509</td>\n",
       "      <td>0.606509</td>\n",
       "      <td>0.145910</td>\n",
       "      <td>0.145910</td>\n",
       "      <td>0.145910</td>\n",
       "      <td>0.0</td>\n",
       "      <td>0.0</td>\n",
       "      <td>0.0</td>\n",
       "      <td>3.631953</td>\n",
       "    </tr>\n",
       "    <tr>\n",
       "      <th>20219</th>\n",
       "      <td>2013-09-12 11:45:05</td>\n",
       "      <td>2.879900</td>\n",
       "      <td>-0.459677</td>\n",
       "      <td>7.772317</td>\n",
       "      <td>2.879900</td>\n",
       "      <td>2.879900</td>\n",
       "      <td>0.770242</td>\n",
       "      <td>0.770242</td>\n",
       "      <td>0.770242</td>\n",
       "      <td>0.623871</td>\n",
       "      <td>0.623871</td>\n",
       "      <td>0.623871</td>\n",
       "      <td>0.146371</td>\n",
       "      <td>0.146371</td>\n",
       "      <td>0.146371</td>\n",
       "      <td>0.0</td>\n",
       "      <td>0.0</td>\n",
       "      <td>0.0</td>\n",
       "      <td>3.650142</td>\n",
       "    </tr>\n",
       "    <tr>\n",
       "      <th>20220</th>\n",
       "      <td>2013-10-01 11:45:05</td>\n",
       "      <td>4.883537</td>\n",
       "      <td>-39.121075</td>\n",
       "      <td>48.189812</td>\n",
       "      <td>-39.731822</td>\n",
       "      <td>45.857871</td>\n",
       "      <td>0.965556</td>\n",
       "      <td>0.965556</td>\n",
       "      <td>0.965556</td>\n",
       "      <td>0.623871</td>\n",
       "      <td>0.623871</td>\n",
       "      <td>0.623871</td>\n",
       "      <td>0.341685</td>\n",
       "      <td>0.341685</td>\n",
       "      <td>0.341685</td>\n",
       "      <td>0.0</td>\n",
       "      <td>0.0</td>\n",
       "      <td>0.0</td>\n",
       "      <td>5.849093</td>\n",
       "    </tr>\n",
       "    <tr>\n",
       "      <th>20221</th>\n",
       "      <td>2013-11-01 11:45:05</td>\n",
       "      <td>8.152628</td>\n",
       "      <td>-188.427453</td>\n",
       "      <td>189.883666</td>\n",
       "      <td>-187.368030</td>\n",
       "      <td>189.720174</td>\n",
       "      <td>0.895209</td>\n",
       "      <td>0.895209</td>\n",
       "      <td>0.895209</td>\n",
       "      <td>0.623871</td>\n",
       "      <td>0.623871</td>\n",
       "      <td>0.623871</td>\n",
       "      <td>0.271339</td>\n",
       "      <td>0.271339</td>\n",
       "      <td>0.271339</td>\n",
       "      <td>0.0</td>\n",
       "      <td>0.0</td>\n",
       "      <td>0.0</td>\n",
       "      <td>9.047838</td>\n",
       "    </tr>\n",
       "    <tr>\n",
       "      <th>20222</th>\n",
       "      <td>2013-12-01 11:45:05</td>\n",
       "      <td>11.316266</td>\n",
       "      <td>-379.693512</td>\n",
       "      <td>378.892654</td>\n",
       "      <td>-381.558828</td>\n",
       "      <td>378.126767</td>\n",
       "      <td>-0.103855</td>\n",
       "      <td>-0.103855</td>\n",
       "      <td>-0.103855</td>\n",
       "      <td>0.623871</td>\n",
       "      <td>0.623871</td>\n",
       "      <td>0.623871</td>\n",
       "      <td>-0.727726</td>\n",
       "      <td>-0.727726</td>\n",
       "      <td>-0.727726</td>\n",
       "      <td>0.0</td>\n",
       "      <td>0.0</td>\n",
       "      <td>0.0</td>\n",
       "      <td>11.212410</td>\n",
       "    </tr>\n",
       "  </tbody>\n",
       "</table>\n",
       "</div>"
      ],
      "text/plain": [
       "                       ds      trend  ...  multiplicative_terms_upper       yhat\n",
       "20218 2013-09-12 11:40:05   2.879534  ...                         0.0   3.631953\n",
       "20219 2013-09-12 11:45:05   2.879900  ...                         0.0   3.650142\n",
       "20220 2013-10-01 11:45:05   4.883537  ...                         0.0   5.849093\n",
       "20221 2013-11-01 11:45:05   8.152628  ...                         0.0   9.047838\n",
       "20222 2013-12-01 11:45:05  11.316266  ...                         0.0  11.212410\n",
       "\n",
       "[5 rows x 19 columns]"
      ]
     },
     "execution_count": 33,
     "metadata": {
      "tags": []
     },
     "output_type": "execute_result"
    }
   ],
   "source": [
    "future1 = modelmem.make_future_dataframe(periods=3,freq='MS')\n",
    "prophet_predmem = modelmem.predict(future)\n",
    "prophet_predmem.tail()"
   ]
  },
  {
   "cell_type": "code",
   "execution_count": 34,
   "metadata": {
    "colab": {
     "base_uri": "https://localhost:8080/",
     "height": 383
    },
    "id": "obfF6vAZGjxZ",
    "outputId": "59bed0df-36ec-4469-d4ee-b2547ad143ba"
   },
   "outputs": [
    {
     "data": {
      "text/html": [
       "<div>\n",
       "<style scoped>\n",
       "    .dataframe tbody tr th:only-of-type {\n",
       "        vertical-align: middle;\n",
       "    }\n",
       "\n",
       "    .dataframe tbody tr th {\n",
       "        vertical-align: top;\n",
       "    }\n",
       "\n",
       "    .dataframe thead th {\n",
       "        text-align: right;\n",
       "    }\n",
       "</style>\n",
       "<table border=\"1\" class=\"dataframe\">\n",
       "  <thead>\n",
       "    <tr style=\"text-align: right;\">\n",
       "      <th></th>\n",
       "      <th>ds</th>\n",
       "      <th>trend</th>\n",
       "      <th>yhat_lower</th>\n",
       "      <th>yhat_upper</th>\n",
       "      <th>trend_lower</th>\n",
       "      <th>trend_upper</th>\n",
       "      <th>additive_terms</th>\n",
       "      <th>additive_terms_lower</th>\n",
       "      <th>additive_terms_upper</th>\n",
       "      <th>daily</th>\n",
       "      <th>daily_lower</th>\n",
       "      <th>daily_upper</th>\n",
       "      <th>weekly</th>\n",
       "      <th>weekly_lower</th>\n",
       "      <th>weekly_upper</th>\n",
       "      <th>multiplicative_terms</th>\n",
       "      <th>multiplicative_terms_lower</th>\n",
       "      <th>multiplicative_terms_upper</th>\n",
       "      <th>yhat</th>\n",
       "    </tr>\n",
       "  </thead>\n",
       "  <tbody>\n",
       "    <tr>\n",
       "      <th>0</th>\n",
       "      <td>2013-06-30 22:03:24</td>\n",
       "      <td>1.413900</td>\n",
       "      <td>-2.892079</td>\n",
       "      <td>5.039002</td>\n",
       "      <td>1.413900</td>\n",
       "      <td>1.413900</td>\n",
       "      <td>-0.569830</td>\n",
       "      <td>-0.569830</td>\n",
       "      <td>-0.569830</td>\n",
       "      <td>-0.261492</td>\n",
       "      <td>-0.261492</td>\n",
       "      <td>-0.261492</td>\n",
       "      <td>-0.308339</td>\n",
       "      <td>-0.308339</td>\n",
       "      <td>-0.308339</td>\n",
       "      <td>0.0</td>\n",
       "      <td>0.0</td>\n",
       "      <td>0.0</td>\n",
       "      <td>0.844070</td>\n",
       "    </tr>\n",
       "    <tr>\n",
       "      <th>1</th>\n",
       "      <td>2013-06-30 22:08:24</td>\n",
       "      <td>1.421292</td>\n",
       "      <td>-3.215557</td>\n",
       "      <td>4.992104</td>\n",
       "      <td>1.421292</td>\n",
       "      <td>1.421292</td>\n",
       "      <td>-0.571661</td>\n",
       "      <td>-0.571661</td>\n",
       "      <td>-0.571661</td>\n",
       "      <td>-0.267332</td>\n",
       "      <td>-0.267332</td>\n",
       "      <td>-0.267332</td>\n",
       "      <td>-0.304328</td>\n",
       "      <td>-0.304328</td>\n",
       "      <td>-0.304328</td>\n",
       "      <td>0.0</td>\n",
       "      <td>0.0</td>\n",
       "      <td>0.0</td>\n",
       "      <td>0.849631</td>\n",
       "    </tr>\n",
       "    <tr>\n",
       "      <th>2</th>\n",
       "      <td>2013-06-30 22:13:24</td>\n",
       "      <td>1.428683</td>\n",
       "      <td>-3.462656</td>\n",
       "      <td>4.867722</td>\n",
       "      <td>1.428683</td>\n",
       "      <td>1.428683</td>\n",
       "      <td>-0.574047</td>\n",
       "      <td>-0.574047</td>\n",
       "      <td>-0.574047</td>\n",
       "      <td>-0.273732</td>\n",
       "      <td>-0.273732</td>\n",
       "      <td>-0.273732</td>\n",
       "      <td>-0.300315</td>\n",
       "      <td>-0.300315</td>\n",
       "      <td>-0.300315</td>\n",
       "      <td>0.0</td>\n",
       "      <td>0.0</td>\n",
       "      <td>0.0</td>\n",
       "      <td>0.854636</td>\n",
       "    </tr>\n",
       "    <tr>\n",
       "      <th>3</th>\n",
       "      <td>2013-06-30 22:18:24</td>\n",
       "      <td>1.436074</td>\n",
       "      <td>-3.371334</td>\n",
       "      <td>5.192480</td>\n",
       "      <td>1.436074</td>\n",
       "      <td>1.436074</td>\n",
       "      <td>-0.576950</td>\n",
       "      <td>-0.576950</td>\n",
       "      <td>-0.576950</td>\n",
       "      <td>-0.280651</td>\n",
       "      <td>-0.280651</td>\n",
       "      <td>-0.280651</td>\n",
       "      <td>-0.296299</td>\n",
       "      <td>-0.296299</td>\n",
       "      <td>-0.296299</td>\n",
       "      <td>0.0</td>\n",
       "      <td>0.0</td>\n",
       "      <td>0.0</td>\n",
       "      <td>0.859124</td>\n",
       "    </tr>\n",
       "    <tr>\n",
       "      <th>4</th>\n",
       "      <td>2013-06-30 22:23:24</td>\n",
       "      <td>1.443466</td>\n",
       "      <td>-3.328561</td>\n",
       "      <td>4.778167</td>\n",
       "      <td>1.443466</td>\n",
       "      <td>1.443466</td>\n",
       "      <td>-0.580330</td>\n",
       "      <td>-0.580330</td>\n",
       "      <td>-0.580330</td>\n",
       "      <td>-0.288050</td>\n",
       "      <td>-0.288050</td>\n",
       "      <td>-0.288050</td>\n",
       "      <td>-0.292280</td>\n",
       "      <td>-0.292280</td>\n",
       "      <td>-0.292280</td>\n",
       "      <td>0.0</td>\n",
       "      <td>0.0</td>\n",
       "      <td>0.0</td>\n",
       "      <td>0.863136</td>\n",
       "    </tr>\n",
       "  </tbody>\n",
       "</table>\n",
       "</div>"
      ],
      "text/plain": [
       "                   ds     trend  ...  multiplicative_terms_upper      yhat\n",
       "0 2013-06-30 22:03:24  1.413900  ...                         0.0  0.844070\n",
       "1 2013-06-30 22:08:24  1.421292  ...                         0.0  0.849631\n",
       "2 2013-06-30 22:13:24  1.428683  ...                         0.0  0.854636\n",
       "3 2013-06-30 22:18:24  1.436074  ...                         0.0  0.859124\n",
       "4 2013-06-30 22:23:24  1.443466  ...                         0.0  0.863136\n",
       "\n",
       "[5 rows x 19 columns]"
      ]
     },
     "execution_count": 34,
     "metadata": {
      "tags": []
     },
     "output_type": "execute_result"
    }
   ],
   "source": [
    "prophet_predmem.head()"
   ]
  },
  {
   "cell_type": "code",
   "execution_count": 35,
   "metadata": {
    "colab": {
     "base_uri": "https://localhost:8080/"
    },
    "id": "MWq94jWDGj1y",
    "outputId": "db4c5d3d-199b-4b37-8871-3680a620755f"
   },
   "outputs": [
    {
     "data": {
      "text/plain": [
       "20223"
      ]
     },
     "execution_count": 35,
     "metadata": {
      "tags": []
     },
     "output_type": "execute_result"
    }
   ],
   "source": [
    "len(prophet_predmem)"
   ]
  },
  {
   "cell_type": "code",
   "execution_count": 36,
   "metadata": {
    "colab": {
     "base_uri": "https://localhost:8080/"
    },
    "id": "1t8PGUaWGj4c",
    "outputId": "9837ca0f-b299-44ca-e40d-c617353988da"
   },
   "outputs": [
    {
     "data": {
      "text/plain": [
       "5000"
      ]
     },
     "execution_count": 36,
     "metadata": {
      "tags": []
     },
     "output_type": "execute_result"
    }
   ],
   "source": [
    "splitpredmem=prophet_predmem.iloc[len(prophet_predmem)-5000:]\n",
    "len(splitpredmem)"
   ]
  },
  {
   "cell_type": "markdown",
   "metadata": {
    "id": "tv5I5RKxXo1b"
   },
   "source": [
    "Evaluation Metrics"
   ]
  },
  {
   "cell_type": "code",
   "execution_count": 37,
   "metadata": {
    "colab": {
     "base_uri": "https://localhost:8080/"
    },
    "id": "HIQewZWuGj78",
    "outputId": "b9e6572e-f9d1-4cc1-da21-dbc62a63f94d"
   },
   "outputs": [
    {
     "data": {
      "text/plain": [
       "2.977182828969469"
      ]
     },
     "execution_count": 37,
     "metadata": {
      "tags": []
     },
     "output_type": "execute_result"
    }
   ],
   "source": [
    "from sklearn.metrics import mean_absolute_error\n",
    "mean_absolute_error(test_data_mem['y'], splitpredmem['yhat'])"
   ]
  },
  {
   "cell_type": "code",
   "execution_count": null,
   "metadata": {
    "colab": {
     "base_uri": "https://localhost:8080/"
    },
    "id": "AHH6CqZJS53r",
    "outputId": "5ce8ab67-46f0-4d9b-cec7-112a29205441"
   },
   "outputs": [
    {
     "data": {
      "text/plain": [
       "3.98274327867045"
      ]
     },
     "execution_count": 147,
     "metadata": {
      "tags": []
     },
     "output_type": "execute_result"
    }
   ],
   "source": [
    "from sklearn.metrics import mean_squared_error\n",
    "from math import sqrt\n",
    "rmse=sqrt(mean_squared_error(test_data_mem['y'], splitpredmem['yhat']))\n",
    "rmse"
   ]
  },
  {
   "cell_type": "markdown",
   "metadata": {
    "id": "8ulGVSjVXuB0"
   },
   "source": [
    "Forecasting data for next three months with scale of one hour"
   ]
  },
  {
   "cell_type": "code",
   "execution_count": null,
   "metadata": {
    "colab": {
     "base_uri": "https://localhost:8080/"
    },
    "id": "nERF78kMC3ZU",
    "outputId": "307bd2ad-a59a-4288-f555-7abf18a3db45"
   },
   "outputs": [
    {
     "name": "stderr",
     "output_type": "stream",
     "text": [
      "INFO:fbprophet:Disabling yearly seasonality. Run prophet with yearly_seasonality=True to override this.\n"
     ]
    },
    {
     "data": {
      "text/plain": [
       "<fbprophet.forecaster.Prophet at 0x7f05ba8b7278>"
      ]
     },
     "execution_count": 84,
     "metadata": {
      "tags": []
     },
     "output_type": "execute_result"
    }
   ],
   "source": [
    "m2 = Prophet(daily_seasonality=True)\n",
    "m2.fit(train_data_mem)"
   ]
  },
  {
   "cell_type": "code",
   "execution_count": null,
   "metadata": {
    "colab": {
     "base_uri": "https://localhost:8080/",
     "height": 383
    },
    "id": "gCz1VLEBIKRA",
    "outputId": "c7a167f6-07bd-439b-edb1-805308dc6c32"
   },
   "outputs": [
    {
     "data": {
      "text/html": [
       "<div>\n",
       "<style scoped>\n",
       "    .dataframe tbody tr th:only-of-type {\n",
       "        vertical-align: middle;\n",
       "    }\n",
       "\n",
       "    .dataframe tbody tr th {\n",
       "        vertical-align: top;\n",
       "    }\n",
       "\n",
       "    .dataframe thead th {\n",
       "        text-align: right;\n",
       "    }\n",
       "</style>\n",
       "<table border=\"1\" class=\"dataframe\">\n",
       "  <thead>\n",
       "    <tr style=\"text-align: right;\">\n",
       "      <th></th>\n",
       "      <th>ds</th>\n",
       "      <th>trend</th>\n",
       "      <th>yhat_lower</th>\n",
       "      <th>yhat_upper</th>\n",
       "      <th>trend_lower</th>\n",
       "      <th>trend_upper</th>\n",
       "      <th>additive_terms</th>\n",
       "      <th>additive_terms_lower</th>\n",
       "      <th>additive_terms_upper</th>\n",
       "      <th>daily</th>\n",
       "      <th>daily_lower</th>\n",
       "      <th>daily_upper</th>\n",
       "      <th>weekly</th>\n",
       "      <th>weekly_lower</th>\n",
       "      <th>weekly_upper</th>\n",
       "      <th>multiplicative_terms</th>\n",
       "      <th>multiplicative_terms_lower</th>\n",
       "      <th>multiplicative_terms_upper</th>\n",
       "      <th>yhat</th>\n",
       "    </tr>\n",
       "  </thead>\n",
       "  <tbody>\n",
       "    <tr>\n",
       "      <th>22375</th>\n",
       "      <td>2013-12-11 07:45:05</td>\n",
       "      <td>12.353235</td>\n",
       "      <td>-426.714430</td>\n",
       "      <td>427.243940</td>\n",
       "      <td>-425.511563</td>\n",
       "      <td>431.787748</td>\n",
       "      <td>0.339231</td>\n",
       "      <td>0.339231</td>\n",
       "      <td>0.339231</td>\n",
       "      <td>0.198935</td>\n",
       "      <td>0.198935</td>\n",
       "      <td>0.198935</td>\n",
       "      <td>0.140296</td>\n",
       "      <td>0.140296</td>\n",
       "      <td>0.140296</td>\n",
       "      <td>0.0</td>\n",
       "      <td>0.0</td>\n",
       "      <td>0.0</td>\n",
       "      <td>12.692467</td>\n",
       "    </tr>\n",
       "    <tr>\n",
       "      <th>22376</th>\n",
       "      <td>2013-12-11 08:45:05</td>\n",
       "      <td>12.357629</td>\n",
       "      <td>-427.821330</td>\n",
       "      <td>430.563145</td>\n",
       "      <td>-425.860214</td>\n",
       "      <td>432.179879</td>\n",
       "      <td>0.579863</td>\n",
       "      <td>0.579863</td>\n",
       "      <td>0.579863</td>\n",
       "      <td>0.443665</td>\n",
       "      <td>0.443665</td>\n",
       "      <td>0.443665</td>\n",
       "      <td>0.136198</td>\n",
       "      <td>0.136198</td>\n",
       "      <td>0.136198</td>\n",
       "      <td>0.0</td>\n",
       "      <td>0.0</td>\n",
       "      <td>0.0</td>\n",
       "      <td>12.937492</td>\n",
       "    </tr>\n",
       "    <tr>\n",
       "      <th>22377</th>\n",
       "      <td>2013-12-11 09:45:05</td>\n",
       "      <td>12.362023</td>\n",
       "      <td>-426.977615</td>\n",
       "      <td>431.672666</td>\n",
       "      <td>-426.208865</td>\n",
       "      <td>432.572009</td>\n",
       "      <td>0.626776</td>\n",
       "      <td>0.626776</td>\n",
       "      <td>0.626776</td>\n",
       "      <td>0.494223</td>\n",
       "      <td>0.494223</td>\n",
       "      <td>0.494223</td>\n",
       "      <td>0.132553</td>\n",
       "      <td>0.132553</td>\n",
       "      <td>0.132553</td>\n",
       "      <td>0.0</td>\n",
       "      <td>0.0</td>\n",
       "      <td>0.0</td>\n",
       "      <td>12.988799</td>\n",
       "    </tr>\n",
       "    <tr>\n",
       "      <th>22378</th>\n",
       "      <td>2013-12-11 10:45:05</td>\n",
       "      <td>12.366417</td>\n",
       "      <td>-429.822795</td>\n",
       "      <td>431.383353</td>\n",
       "      <td>-426.557516</td>\n",
       "      <td>432.964139</td>\n",
       "      <td>0.626095</td>\n",
       "      <td>0.626095</td>\n",
       "      <td>0.626095</td>\n",
       "      <td>0.496773</td>\n",
       "      <td>0.496773</td>\n",
       "      <td>0.496773</td>\n",
       "      <td>0.129322</td>\n",
       "      <td>0.129322</td>\n",
       "      <td>0.129322</td>\n",
       "      <td>0.0</td>\n",
       "      <td>0.0</td>\n",
       "      <td>0.0</td>\n",
       "      <td>12.992513</td>\n",
       "    </tr>\n",
       "    <tr>\n",
       "      <th>22379</th>\n",
       "      <td>2013-12-11 11:45:05</td>\n",
       "      <td>12.370811</td>\n",
       "      <td>-426.155740</td>\n",
       "      <td>431.288614</td>\n",
       "      <td>-426.906168</td>\n",
       "      <td>433.356270</td>\n",
       "      <td>0.750341</td>\n",
       "      <td>0.750341</td>\n",
       "      <td>0.750341</td>\n",
       "      <td>0.623871</td>\n",
       "      <td>0.623871</td>\n",
       "      <td>0.623871</td>\n",
       "      <td>0.126470</td>\n",
       "      <td>0.126470</td>\n",
       "      <td>0.126470</td>\n",
       "      <td>0.0</td>\n",
       "      <td>0.0</td>\n",
       "      <td>0.0</td>\n",
       "      <td>13.121152</td>\n",
       "    </tr>\n",
       "  </tbody>\n",
       "</table>\n",
       "</div>"
      ],
      "text/plain": [
       "                       ds      trend  ...  multiplicative_terms_upper       yhat\n",
       "22375 2013-12-11 07:45:05  12.353235  ...                         0.0  12.692467\n",
       "22376 2013-12-11 08:45:05  12.357629  ...                         0.0  12.937492\n",
       "22377 2013-12-11 09:45:05  12.362023  ...                         0.0  12.988799\n",
       "22378 2013-12-11 10:45:05  12.366417  ...                         0.0  12.992513\n",
       "22379 2013-12-11 11:45:05  12.370811  ...                         0.0  13.121152\n",
       "\n",
       "[5 rows x 19 columns]"
      ]
     },
     "execution_count": 90,
     "metadata": {
      "tags": []
     },
     "output_type": "execute_result"
    }
   ],
   "source": [
    "future2 = m2.make_future_dataframe(periods=2160, freq='H')\n",
    "forecast2 = m2.predict(future2)\n",
    "forecast2.tail()"
   ]
  },
  {
   "cell_type": "code",
   "execution_count": null,
   "metadata": {
    "colab": {
     "base_uri": "https://localhost:8080/",
     "height": 383
    },
    "id": "R90IAYhoIKUC",
    "outputId": "65acacc4-26b5-47fd-9d3a-0a96f1f8020a"
   },
   "outputs": [
    {
     "data": {
      "text/html": [
       "<div>\n",
       "<style scoped>\n",
       "    .dataframe tbody tr th:only-of-type {\n",
       "        vertical-align: middle;\n",
       "    }\n",
       "\n",
       "    .dataframe tbody tr th {\n",
       "        vertical-align: top;\n",
       "    }\n",
       "\n",
       "    .dataframe thead th {\n",
       "        text-align: right;\n",
       "    }\n",
       "</style>\n",
       "<table border=\"1\" class=\"dataframe\">\n",
       "  <thead>\n",
       "    <tr style=\"text-align: right;\">\n",
       "      <th></th>\n",
       "      <th>ds</th>\n",
       "      <th>trend</th>\n",
       "      <th>yhat_lower</th>\n",
       "      <th>yhat_upper</th>\n",
       "      <th>trend_lower</th>\n",
       "      <th>trend_upper</th>\n",
       "      <th>additive_terms</th>\n",
       "      <th>additive_terms_lower</th>\n",
       "      <th>additive_terms_upper</th>\n",
       "      <th>daily</th>\n",
       "      <th>daily_lower</th>\n",
       "      <th>daily_upper</th>\n",
       "      <th>weekly</th>\n",
       "      <th>weekly_lower</th>\n",
       "      <th>weekly_upper</th>\n",
       "      <th>multiplicative_terms</th>\n",
       "      <th>multiplicative_terms_lower</th>\n",
       "      <th>multiplicative_terms_upper</th>\n",
       "      <th>yhat</th>\n",
       "    </tr>\n",
       "  </thead>\n",
       "  <tbody>\n",
       "    <tr>\n",
       "      <th>0</th>\n",
       "      <td>2013-06-30 22:03:24</td>\n",
       "      <td>1.413900</td>\n",
       "      <td>-3.074556</td>\n",
       "      <td>4.610033</td>\n",
       "      <td>1.413900</td>\n",
       "      <td>1.413900</td>\n",
       "      <td>-0.569830</td>\n",
       "      <td>-0.569830</td>\n",
       "      <td>-0.569830</td>\n",
       "      <td>-0.261492</td>\n",
       "      <td>-0.261492</td>\n",
       "      <td>-0.261492</td>\n",
       "      <td>-0.308339</td>\n",
       "      <td>-0.308339</td>\n",
       "      <td>-0.308339</td>\n",
       "      <td>0.0</td>\n",
       "      <td>0.0</td>\n",
       "      <td>0.0</td>\n",
       "      <td>0.844070</td>\n",
       "    </tr>\n",
       "    <tr>\n",
       "      <th>1</th>\n",
       "      <td>2013-06-30 22:08:24</td>\n",
       "      <td>1.421292</td>\n",
       "      <td>-3.030827</td>\n",
       "      <td>4.843932</td>\n",
       "      <td>1.421292</td>\n",
       "      <td>1.421292</td>\n",
       "      <td>-0.571661</td>\n",
       "      <td>-0.571661</td>\n",
       "      <td>-0.571661</td>\n",
       "      <td>-0.267332</td>\n",
       "      <td>-0.267332</td>\n",
       "      <td>-0.267332</td>\n",
       "      <td>-0.304328</td>\n",
       "      <td>-0.304328</td>\n",
       "      <td>-0.304328</td>\n",
       "      <td>0.0</td>\n",
       "      <td>0.0</td>\n",
       "      <td>0.0</td>\n",
       "      <td>0.849631</td>\n",
       "    </tr>\n",
       "    <tr>\n",
       "      <th>2</th>\n",
       "      <td>2013-06-30 22:13:24</td>\n",
       "      <td>1.428683</td>\n",
       "      <td>-3.063271</td>\n",
       "      <td>4.737067</td>\n",
       "      <td>1.428683</td>\n",
       "      <td>1.428683</td>\n",
       "      <td>-0.574047</td>\n",
       "      <td>-0.574047</td>\n",
       "      <td>-0.574047</td>\n",
       "      <td>-0.273732</td>\n",
       "      <td>-0.273732</td>\n",
       "      <td>-0.273732</td>\n",
       "      <td>-0.300315</td>\n",
       "      <td>-0.300315</td>\n",
       "      <td>-0.300315</td>\n",
       "      <td>0.0</td>\n",
       "      <td>0.0</td>\n",
       "      <td>0.0</td>\n",
       "      <td>0.854636</td>\n",
       "    </tr>\n",
       "    <tr>\n",
       "      <th>3</th>\n",
       "      <td>2013-06-30 22:18:24</td>\n",
       "      <td>1.436074</td>\n",
       "      <td>-3.004575</td>\n",
       "      <td>4.709958</td>\n",
       "      <td>1.436074</td>\n",
       "      <td>1.436074</td>\n",
       "      <td>-0.576950</td>\n",
       "      <td>-0.576950</td>\n",
       "      <td>-0.576950</td>\n",
       "      <td>-0.280651</td>\n",
       "      <td>-0.280651</td>\n",
       "      <td>-0.280651</td>\n",
       "      <td>-0.296299</td>\n",
       "      <td>-0.296299</td>\n",
       "      <td>-0.296299</td>\n",
       "      <td>0.0</td>\n",
       "      <td>0.0</td>\n",
       "      <td>0.0</td>\n",
       "      <td>0.859124</td>\n",
       "    </tr>\n",
       "    <tr>\n",
       "      <th>4</th>\n",
       "      <td>2013-06-30 22:23:24</td>\n",
       "      <td>1.443466</td>\n",
       "      <td>-3.285968</td>\n",
       "      <td>4.816818</td>\n",
       "      <td>1.443466</td>\n",
       "      <td>1.443466</td>\n",
       "      <td>-0.580330</td>\n",
       "      <td>-0.580330</td>\n",
       "      <td>-0.580330</td>\n",
       "      <td>-0.288050</td>\n",
       "      <td>-0.288050</td>\n",
       "      <td>-0.288050</td>\n",
       "      <td>-0.292280</td>\n",
       "      <td>-0.292280</td>\n",
       "      <td>-0.292280</td>\n",
       "      <td>0.0</td>\n",
       "      <td>0.0</td>\n",
       "      <td>0.0</td>\n",
       "      <td>0.863136</td>\n",
       "    </tr>\n",
       "  </tbody>\n",
       "</table>\n",
       "</div>"
      ],
      "text/plain": [
       "                   ds     trend  ...  multiplicative_terms_upper      yhat\n",
       "0 2013-06-30 22:03:24  1.413900  ...                         0.0  0.844070\n",
       "1 2013-06-30 22:08:24  1.421292  ...                         0.0  0.849631\n",
       "2 2013-06-30 22:13:24  1.428683  ...                         0.0  0.854636\n",
       "3 2013-06-30 22:18:24  1.436074  ...                         0.0  0.859124\n",
       "4 2013-06-30 22:23:24  1.443466  ...                         0.0  0.863136\n",
       "\n",
       "[5 rows x 19 columns]"
      ]
     },
     "execution_count": 91,
     "metadata": {
      "tags": []
     },
     "output_type": "execute_result"
    }
   ],
   "source": [
    "forecast2.head()"
   ]
  },
  {
   "cell_type": "code",
   "execution_count": null,
   "metadata": {
    "colab": {
     "base_uri": "https://localhost:8080/"
    },
    "id": "-hARCI5XIKWu",
    "outputId": "d580d62c-e4c8-425e-ba44-2c87b076a032"
   },
   "outputs": [
    {
     "data": {
      "text/plain": [
       "22380"
      ]
     },
     "execution_count": 92,
     "metadata": {
      "tags": []
     },
     "output_type": "execute_result"
    }
   ],
   "source": [
    "len(forecast2)"
   ]
  },
  {
   "cell_type": "code",
   "execution_count": null,
   "metadata": {
    "colab": {
     "base_uri": "https://localhost:8080/"
    },
    "id": "c0fbdHf7IKb1",
    "outputId": "0a3c1a38-fc1d-4b4e-84aa-20f925a9db5d"
   },
   "outputs": [
    {
     "data": {
      "text/plain": [
       "2160"
      ]
     },
     "execution_count": 103,
     "metadata": {
      "tags": []
     },
     "output_type": "execute_result"
    }
   ],
   "source": [
    "split1=forecast2.iloc[len(forecast2)-2160:]\n",
    "len(split1) "
   ]
  },
  {
   "cell_type": "code",
   "execution_count": null,
   "metadata": {
    "colab": {
     "base_uri": "https://localhost:8080/",
     "height": 195
    },
    "id": "7xUT8OuKMDn8",
    "outputId": "e95ace49-bdff-4014-fa3e-65f5ff43cfc5"
   },
   "outputs": [
    {
     "data": {
      "text/html": [
       "<div>\n",
       "<style scoped>\n",
       "    .dataframe tbody tr th:only-of-type {\n",
       "        vertical-align: middle;\n",
       "    }\n",
       "\n",
       "    .dataframe tbody tr th {\n",
       "        vertical-align: top;\n",
       "    }\n",
       "\n",
       "    .dataframe thead th {\n",
       "        text-align: right;\n",
       "    }\n",
       "</style>\n",
       "<table border=\"1\" class=\"dataframe\">\n",
       "  <thead>\n",
       "    <tr style=\"text-align: right;\">\n",
       "      <th></th>\n",
       "      <th>ds</th>\n",
       "      <th>Timestamp</th>\n",
       "    </tr>\n",
       "  </thead>\n",
       "  <tbody>\n",
       "    <tr>\n",
       "      <th>20220</th>\n",
       "      <td>2013-09-12 12:45:05</td>\n",
       "      <td>2013-09-12 12:45:05</td>\n",
       "    </tr>\n",
       "    <tr>\n",
       "      <th>20221</th>\n",
       "      <td>2013-09-12 13:45:05</td>\n",
       "      <td>2013-09-12 13:45:05</td>\n",
       "    </tr>\n",
       "    <tr>\n",
       "      <th>20222</th>\n",
       "      <td>2013-09-12 14:45:05</td>\n",
       "      <td>2013-09-12 14:45:05</td>\n",
       "    </tr>\n",
       "    <tr>\n",
       "      <th>20223</th>\n",
       "      <td>2013-09-12 15:45:05</td>\n",
       "      <td>2013-09-12 15:45:05</td>\n",
       "    </tr>\n",
       "    <tr>\n",
       "      <th>20224</th>\n",
       "      <td>2013-09-12 16:45:05</td>\n",
       "      <td>2013-09-12 16:45:05</td>\n",
       "    </tr>\n",
       "  </tbody>\n",
       "</table>\n",
       "</div>"
      ],
      "text/plain": [
       "                       ds           Timestamp\n",
       "20220 2013-09-12 12:45:05 2013-09-12 12:45:05\n",
       "20221 2013-09-12 13:45:05 2013-09-12 13:45:05\n",
       "20222 2013-09-12 14:45:05 2013-09-12 14:45:05\n",
       "20223 2013-09-12 15:45:05 2013-09-12 15:45:05\n",
       "20224 2013-09-12 16:45:05 2013-09-12 16:45:05"
      ]
     },
     "execution_count": 136,
     "metadata": {
      "tags": []
     },
     "output_type": "execute_result"
    }
   ],
   "source": [
    "fbpredmem ['Timestamp'] = pd.DataFrame(split1, columns=['ds'])\n",
    "fbpredmem.head()"
   ]
  },
  {
   "cell_type": "code",
   "execution_count": null,
   "metadata": {
    "id": "LiCmbMKSQdNS"
   },
   "outputs": [],
   "source": [
    "del fbpredmem['ds']"
   ]
  },
  {
   "cell_type": "code",
   "execution_count": null,
   "metadata": {
    "id": "QCxoIhU4RKOP"
   },
   "outputs": [],
   "source": [
    "fbpredmem = fbpredictedcpu[['predicted_cpu_usage [%]']]\n",
    "fbpredmem['predicted_memory_usage [%]'] = split1[['yhat']]"
   ]
  },
  {
   "cell_type": "code",
   "execution_count": null,
   "metadata": {
    "colab": {
     "base_uri": "https://localhost:8080/",
     "height": 195
    },
    "id": "qMpyz6qcIKZf",
    "outputId": "f3f27224-8a62-4dc1-9e0d-18c28137b77d"
   },
   "outputs": [
    {
     "data": {
      "text/html": [
       "<div>\n",
       "<style scoped>\n",
       "    .dataframe tbody tr th:only-of-type {\n",
       "        vertical-align: middle;\n",
       "    }\n",
       "\n",
       "    .dataframe tbody tr th {\n",
       "        vertical-align: top;\n",
       "    }\n",
       "\n",
       "    .dataframe thead th {\n",
       "        text-align: right;\n",
       "    }\n",
       "</style>\n",
       "<table border=\"1\" class=\"dataframe\">\n",
       "  <thead>\n",
       "    <tr style=\"text-align: right;\">\n",
       "      <th></th>\n",
       "      <th>predicted_cpu_usage [%]</th>\n",
       "      <th>predicted_memory_usage [%]</th>\n",
       "      <th>CPU capacity provisioned [MHZ]</th>\n",
       "    </tr>\n",
       "  </thead>\n",
       "  <tbody>\n",
       "    <tr>\n",
       "      <th>20220</th>\n",
       "      <td>2.291424</td>\n",
       "      <td>3.936709</td>\n",
       "      <td>5851.9989</td>\n",
       "    </tr>\n",
       "    <tr>\n",
       "      <th>20221</th>\n",
       "      <td>2.598014</td>\n",
       "      <td>4.205725</td>\n",
       "      <td>5851.9989</td>\n",
       "    </tr>\n",
       "    <tr>\n",
       "      <th>20222</th>\n",
       "      <td>2.631008</td>\n",
       "      <td>4.231883</td>\n",
       "      <td>5851.9989</td>\n",
       "    </tr>\n",
       "    <tr>\n",
       "      <th>20223</th>\n",
       "      <td>2.307661</td>\n",
       "      <td>3.927900</td>\n",
       "      <td>5851.9989</td>\n",
       "    </tr>\n",
       "    <tr>\n",
       "      <th>20224</th>\n",
       "      <td>1.793925</td>\n",
       "      <td>3.427389</td>\n",
       "      <td>5851.9989</td>\n",
       "    </tr>\n",
       "  </tbody>\n",
       "</table>\n",
       "</div>"
      ],
      "text/plain": [
       "       predicted_cpu_usage [%]  ...  CPU capacity provisioned [MHZ]\n",
       "20220                 2.291424  ...                       5851.9989\n",
       "20221                 2.598014  ...                       5851.9989\n",
       "20222                 2.631008  ...                       5851.9989\n",
       "20223                 2.307661  ...                       5851.9989\n",
       "20224                 1.793925  ...                       5851.9989\n",
       "\n",
       "[5 rows x 3 columns]"
      ]
     },
     "execution_count": 161,
     "metadata": {
      "tags": []
     },
     "output_type": "execute_result"
    }
   ],
   "source": [
    "fbpredmem['CPU capacity provisioned [MHZ]'] = 5851.9989\n",
    "fbpredmem.head()"
   ]
  },
  {
   "cell_type": "code",
   "execution_count": null,
   "metadata": {
    "colab": {
     "base_uri": "https://localhost:8080/",
     "height": 195
    },
    "id": "ae15G2GmNavH",
    "outputId": "81db741f-1d4e-445d-ea13-eb4dadf310b5"
   },
   "outputs": [
    {
     "data": {
      "text/html": [
       "<div>\n",
       "<style scoped>\n",
       "    .dataframe tbody tr th:only-of-type {\n",
       "        vertical-align: middle;\n",
       "    }\n",
       "\n",
       "    .dataframe tbody tr th {\n",
       "        vertical-align: top;\n",
       "    }\n",
       "\n",
       "    .dataframe thead th {\n",
       "        text-align: right;\n",
       "    }\n",
       "</style>\n",
       "<table border=\"1\" class=\"dataframe\">\n",
       "  <thead>\n",
       "    <tr style=\"text-align: right;\">\n",
       "      <th></th>\n",
       "      <th>predicted_cpu_usage [%]</th>\n",
       "      <th>predicted_memory_usage [%]</th>\n",
       "      <th>CPU capacity provisioned [MHZ]</th>\n",
       "      <th>Timestamp</th>\n",
       "      <th>Memory capacity provisioned [KB]</th>\n",
       "    </tr>\n",
       "  </thead>\n",
       "  <tbody>\n",
       "    <tr>\n",
       "      <th>20220</th>\n",
       "      <td>2.291424</td>\n",
       "      <td>3.936709</td>\n",
       "      <td>5851.9989</td>\n",
       "      <td>2013-09-12 12:45:05</td>\n",
       "      <td>8218624.0</td>\n",
       "    </tr>\n",
       "    <tr>\n",
       "      <th>20221</th>\n",
       "      <td>2.598014</td>\n",
       "      <td>4.205725</td>\n",
       "      <td>5851.9989</td>\n",
       "      <td>2013-09-12 13:45:05</td>\n",
       "      <td>8218624.0</td>\n",
       "    </tr>\n",
       "    <tr>\n",
       "      <th>20222</th>\n",
       "      <td>2.631008</td>\n",
       "      <td>4.231883</td>\n",
       "      <td>5851.9989</td>\n",
       "      <td>2013-09-12 14:45:05</td>\n",
       "      <td>8218624.0</td>\n",
       "    </tr>\n",
       "    <tr>\n",
       "      <th>20223</th>\n",
       "      <td>2.307661</td>\n",
       "      <td>3.927900</td>\n",
       "      <td>5851.9989</td>\n",
       "      <td>2013-09-12 15:45:05</td>\n",
       "      <td>8218624.0</td>\n",
       "    </tr>\n",
       "    <tr>\n",
       "      <th>20224</th>\n",
       "      <td>1.793925</td>\n",
       "      <td>3.427389</td>\n",
       "      <td>5851.9989</td>\n",
       "      <td>2013-09-12 16:45:05</td>\n",
       "      <td>8218624.0</td>\n",
       "    </tr>\n",
       "  </tbody>\n",
       "</table>\n",
       "</div>"
      ],
      "text/plain": [
       "       predicted_cpu_usage [%]  ...  Memory capacity provisioned [KB]\n",
       "20220                 2.291424  ...                         8218624.0\n",
       "20221                 2.598014  ...                         8218624.0\n",
       "20222                 2.631008  ...                         8218624.0\n",
       "20223                 2.307661  ...                         8218624.0\n",
       "20224                 1.793925  ...                         8218624.0\n",
       "\n",
       "[5 rows x 5 columns]"
      ]
     },
     "execution_count": 163,
     "metadata": {
      "tags": []
     },
     "output_type": "execute_result"
    }
   ],
   "source": [
    "fbpredmem['Memory capacity provisioned [KB]'] = 8218624.0\n",
    "fbpredmem.head()"
   ]
  },
  {
   "cell_type": "code",
   "execution_count": null,
   "metadata": {
    "colab": {
     "base_uri": "https://localhost:8080/",
     "height": 296
    },
    "id": "ngz9hgAqNay2",
    "outputId": "5e11aa84-4d99-4732-d23e-4b75c7123cdc"
   },
   "outputs": [
    {
     "data": {
      "text/html": [
       "<div>\n",
       "<style scoped>\n",
       "    .dataframe tbody tr th:only-of-type {\n",
       "        vertical-align: middle;\n",
       "    }\n",
       "\n",
       "    .dataframe tbody tr th {\n",
       "        vertical-align: top;\n",
       "    }\n",
       "\n",
       "    .dataframe thead th {\n",
       "        text-align: right;\n",
       "    }\n",
       "</style>\n",
       "<table border=\"1\" class=\"dataframe\">\n",
       "  <thead>\n",
       "    <tr style=\"text-align: right;\">\n",
       "      <th></th>\n",
       "      <th>predicted_cpu_usage [%]</th>\n",
       "      <th>predicted_memory_usage [%]</th>\n",
       "      <th>CPU capacity provisioned [MHZ]</th>\n",
       "      <th>Timestamp</th>\n",
       "      <th>Memory capacity provisioned [KB]</th>\n",
       "      <th>CPU usage [MHZ]</th>\n",
       "    </tr>\n",
       "  </thead>\n",
       "  <tbody>\n",
       "    <tr>\n",
       "      <th>20220</th>\n",
       "      <td>2.291424</td>\n",
       "      <td>3.936709</td>\n",
       "      <td>5851.9989</td>\n",
       "      <td>2013-09-12 12:45:05</td>\n",
       "      <td>8218624.0</td>\n",
       "      <td>134.094095</td>\n",
       "    </tr>\n",
       "    <tr>\n",
       "      <th>20221</th>\n",
       "      <td>2.598014</td>\n",
       "      <td>4.205725</td>\n",
       "      <td>5851.9989</td>\n",
       "      <td>2013-09-12 13:45:05</td>\n",
       "      <td>8218624.0</td>\n",
       "      <td>152.035771</td>\n",
       "    </tr>\n",
       "    <tr>\n",
       "      <th>20222</th>\n",
       "      <td>2.631008</td>\n",
       "      <td>4.231883</td>\n",
       "      <td>5851.9989</td>\n",
       "      <td>2013-09-12 14:45:05</td>\n",
       "      <td>8218624.0</td>\n",
       "      <td>153.966587</td>\n",
       "    </tr>\n",
       "    <tr>\n",
       "      <th>20223</th>\n",
       "      <td>2.307661</td>\n",
       "      <td>3.927900</td>\n",
       "      <td>5851.9989</td>\n",
       "      <td>2013-09-12 15:45:05</td>\n",
       "      <td>8218624.0</td>\n",
       "      <td>135.044317</td>\n",
       "    </tr>\n",
       "    <tr>\n",
       "      <th>20224</th>\n",
       "      <td>1.793925</td>\n",
       "      <td>3.427389</td>\n",
       "      <td>5851.9989</td>\n",
       "      <td>2013-09-12 16:45:05</td>\n",
       "      <td>8218624.0</td>\n",
       "      <td>104.980443</td>\n",
       "    </tr>\n",
       "  </tbody>\n",
       "</table>\n",
       "</div>"
      ],
      "text/plain": [
       "       predicted_cpu_usage [%]  ...  CPU usage [MHZ]\n",
       "20220                 2.291424  ...       134.094095\n",
       "20221                 2.598014  ...       152.035771\n",
       "20222                 2.631008  ...       153.966587\n",
       "20223                 2.307661  ...       135.044317\n",
       "20224                 1.793925  ...       104.980443\n",
       "\n",
       "[5 rows x 6 columns]"
      ]
     },
     "execution_count": 164,
     "metadata": {
      "tags": []
     },
     "output_type": "execute_result"
    }
   ],
   "source": [
    "fbpredmem['CPU usage [MHZ]'] = (fbpredmem['predicted_cpu_usage [%]'].mul(fbpredmem['CPU capacity provisioned [MHZ]']/100))\n",
    "fbpredmem.head()"
   ]
  },
  {
   "cell_type": "code",
   "execution_count": null,
   "metadata": {
    "id": "PDIKgV_FNa3Y"
   },
   "outputs": [],
   "source": [
    "fbpredmem['Memory usage [KB]']=(fbpredmem['predicted_memory_usage [%]'].mul(fbpredmem['Memory capacity provisioned [KB]']/100))"
   ]
  },
  {
   "cell_type": "code",
   "execution_count": null,
   "metadata": {
    "id": "I-EO-uRSNq6t"
   },
   "outputs": [],
   "source": [
    "fbpredmem['RMSE_CPU'] = 2.40698"
   ]
  },
  {
   "cell_type": "code",
   "execution_count": null,
   "metadata": {
    "id": "rS10UeI4NrAS"
   },
   "outputs": [],
   "source": [
    "fbpredmem['MAE_CPU'] = 1.67410"
   ]
  },
  {
   "cell_type": "code",
   "execution_count": null,
   "metadata": {
    "id": "8Au6aYR2NrGr"
   },
   "outputs": [],
   "source": [
    "fbpredmem['RMSE_Memory'] = 3.98274"
   ]
  },
  {
   "cell_type": "code",
   "execution_count": null,
   "metadata": {
    "id": "ADGIjH2lNrEg"
   },
   "outputs": [],
   "source": [
    "fbpredmem['MAE_Memory'] = 2.97718"
   ]
  },
  {
   "cell_type": "code",
   "execution_count": null,
   "metadata": {
    "id": "HU7CJlqINq-k"
   },
   "outputs": [],
   "source": [
    "fbpredmem['Model'] = 'FB Prophet'"
   ]
  },
  {
   "cell_type": "code",
   "execution_count": null,
   "metadata": {
    "id": "v0BGkdktNbGU"
   },
   "outputs": [],
   "source": [
    "fbpredmem['VM'] = 1"
   ]
  },
  {
   "cell_type": "code",
   "execution_count": null,
   "metadata": {
    "id": "eibRXrLyNasd"
   },
   "outputs": [],
   "source": [
    "fbpredmem['CPU cores'] =2"
   ]
  },
  {
   "cell_type": "code",
   "execution_count": null,
   "metadata": {
    "id": "UyI3Sk52VF8w"
   },
   "outputs": [],
   "source": [
    "fbpredmem['Timestamp']=fbpredictedcpu[['Timestamp']]"
   ]
  },
  {
   "cell_type": "code",
   "execution_count": null,
   "metadata": {
    "colab": {
     "base_uri": "https://localhost:8080/",
     "height": 808
    },
    "id": "tasifdUmN6-S",
    "outputId": "eaa9d6a1-3d67-4b80-bdc3-eff272dd8b86"
   },
   "outputs": [
    {
     "data": {
      "text/html": [
       "<div>\n",
       "<style scoped>\n",
       "    .dataframe tbody tr th:only-of-type {\n",
       "        vertical-align: middle;\n",
       "    }\n",
       "\n",
       "    .dataframe tbody tr th {\n",
       "        vertical-align: top;\n",
       "    }\n",
       "\n",
       "    .dataframe thead th {\n",
       "        text-align: right;\n",
       "    }\n",
       "</style>\n",
       "<table border=\"1\" class=\"dataframe\">\n",
       "  <thead>\n",
       "    <tr style=\"text-align: right;\">\n",
       "      <th></th>\n",
       "      <th>predicted_cpu_usage [%]</th>\n",
       "      <th>predicted_memory_usage [%]</th>\n",
       "      <th>CPU capacity provisioned [MHZ]</th>\n",
       "      <th>Timestamp</th>\n",
       "      <th>Memory capacity provisioned [KB]</th>\n",
       "      <th>CPU usage [MHZ]</th>\n",
       "      <th>Memory usage [KB]</th>\n",
       "      <th>RMSE_CPU</th>\n",
       "      <th>MAE_CPU</th>\n",
       "      <th>RMSE_Memory</th>\n",
       "      <th>MAE_Memory</th>\n",
       "      <th>Model</th>\n",
       "      <th>VM</th>\n",
       "      <th>CPU cores</th>\n",
       "    </tr>\n",
       "  </thead>\n",
       "  <tbody>\n",
       "    <tr>\n",
       "      <th>20220</th>\n",
       "      <td>2.291424</td>\n",
       "      <td>3.936709</td>\n",
       "      <td>5851.9989</td>\n",
       "      <td>2013-09-12 12:45:05</td>\n",
       "      <td>8218624.0</td>\n",
       "      <td>134.094095</td>\n",
       "      <td>3.235433e+05</td>\n",
       "      <td>2.40698</td>\n",
       "      <td>1.6741</td>\n",
       "      <td>3.98274</td>\n",
       "      <td>2.97718</td>\n",
       "      <td>FB Prophet</td>\n",
       "      <td>1</td>\n",
       "      <td>2</td>\n",
       "    </tr>\n",
       "    <tr>\n",
       "      <th>20221</th>\n",
       "      <td>2.598014</td>\n",
       "      <td>4.205725</td>\n",
       "      <td>5851.9989</td>\n",
       "      <td>2013-09-12 13:45:05</td>\n",
       "      <td>8218624.0</td>\n",
       "      <td>152.035771</td>\n",
       "      <td>3.456527e+05</td>\n",
       "      <td>2.40698</td>\n",
       "      <td>1.6741</td>\n",
       "      <td>3.98274</td>\n",
       "      <td>2.97718</td>\n",
       "      <td>FB Prophet</td>\n",
       "      <td>1</td>\n",
       "      <td>2</td>\n",
       "    </tr>\n",
       "    <tr>\n",
       "      <th>20222</th>\n",
       "      <td>2.631008</td>\n",
       "      <td>4.231883</td>\n",
       "      <td>5851.9989</td>\n",
       "      <td>2013-09-12 14:45:05</td>\n",
       "      <td>8218624.0</td>\n",
       "      <td>153.966587</td>\n",
       "      <td>3.478026e+05</td>\n",
       "      <td>2.40698</td>\n",
       "      <td>1.6741</td>\n",
       "      <td>3.98274</td>\n",
       "      <td>2.97718</td>\n",
       "      <td>FB Prophet</td>\n",
       "      <td>1</td>\n",
       "      <td>2</td>\n",
       "    </tr>\n",
       "    <tr>\n",
       "      <th>20223</th>\n",
       "      <td>2.307661</td>\n",
       "      <td>3.927900</td>\n",
       "      <td>5851.9989</td>\n",
       "      <td>2013-09-12 15:45:05</td>\n",
       "      <td>8218624.0</td>\n",
       "      <td>135.044317</td>\n",
       "      <td>3.228193e+05</td>\n",
       "      <td>2.40698</td>\n",
       "      <td>1.6741</td>\n",
       "      <td>3.98274</td>\n",
       "      <td>2.97718</td>\n",
       "      <td>FB Prophet</td>\n",
       "      <td>1</td>\n",
       "      <td>2</td>\n",
       "    </tr>\n",
       "    <tr>\n",
       "      <th>20224</th>\n",
       "      <td>1.793925</td>\n",
       "      <td>3.427389</td>\n",
       "      <td>5851.9989</td>\n",
       "      <td>2013-09-12 16:45:05</td>\n",
       "      <td>8218624.0</td>\n",
       "      <td>104.980443</td>\n",
       "      <td>2.816842e+05</td>\n",
       "      <td>2.40698</td>\n",
       "      <td>1.6741</td>\n",
       "      <td>3.98274</td>\n",
       "      <td>2.97718</td>\n",
       "      <td>FB Prophet</td>\n",
       "      <td>1</td>\n",
       "      <td>2</td>\n",
       "    </tr>\n",
       "    <tr>\n",
       "      <th>...</th>\n",
       "      <td>...</td>\n",
       "      <td>...</td>\n",
       "      <td>...</td>\n",
       "      <td>...</td>\n",
       "      <td>...</td>\n",
       "      <td>...</td>\n",
       "      <td>...</td>\n",
       "      <td>...</td>\n",
       "      <td>...</td>\n",
       "      <td>...</td>\n",
       "      <td>...</td>\n",
       "      <td>...</td>\n",
       "      <td>...</td>\n",
       "      <td>...</td>\n",
       "    </tr>\n",
       "    <tr>\n",
       "      <th>22375</th>\n",
       "      <td>8.586864</td>\n",
       "      <td>12.692467</td>\n",
       "      <td>5851.9989</td>\n",
       "      <td>2013-12-11 07:45:05</td>\n",
       "      <td>8218624.0</td>\n",
       "      <td>502.503158</td>\n",
       "      <td>1.043146e+06</td>\n",
       "      <td>2.40698</td>\n",
       "      <td>1.6741</td>\n",
       "      <td>3.98274</td>\n",
       "      <td>2.97718</td>\n",
       "      <td>FB Prophet</td>\n",
       "      <td>1</td>\n",
       "      <td>2</td>\n",
       "    </tr>\n",
       "    <tr>\n",
       "      <th>22376</th>\n",
       "      <td>8.743195</td>\n",
       "      <td>12.937492</td>\n",
       "      <td>5851.9989</td>\n",
       "      <td>2013-12-11 08:45:05</td>\n",
       "      <td>8218624.0</td>\n",
       "      <td>511.651668</td>\n",
       "      <td>1.063284e+06</td>\n",
       "      <td>2.40698</td>\n",
       "      <td>1.6741</td>\n",
       "      <td>3.98274</td>\n",
       "      <td>2.97718</td>\n",
       "      <td>FB Prophet</td>\n",
       "      <td>1</td>\n",
       "      <td>2</td>\n",
       "    </tr>\n",
       "    <tr>\n",
       "      <th>22377</th>\n",
       "      <td>8.693179</td>\n",
       "      <td>12.988799</td>\n",
       "      <td>5851.9989</td>\n",
       "      <td>2013-12-11 09:45:05</td>\n",
       "      <td>8218624.0</td>\n",
       "      <td>508.724750</td>\n",
       "      <td>1.067501e+06</td>\n",
       "      <td>2.40698</td>\n",
       "      <td>1.6741</td>\n",
       "      <td>3.98274</td>\n",
       "      <td>2.97718</td>\n",
       "      <td>FB Prophet</td>\n",
       "      <td>1</td>\n",
       "      <td>2</td>\n",
       "    </tr>\n",
       "    <tr>\n",
       "      <th>22378</th>\n",
       "      <td>8.631884</td>\n",
       "      <td>12.992513</td>\n",
       "      <td>5851.9989</td>\n",
       "      <td>2013-12-11 10:45:05</td>\n",
       "      <td>8218624.0</td>\n",
       "      <td>505.137763</td>\n",
       "      <td>1.067806e+06</td>\n",
       "      <td>2.40698</td>\n",
       "      <td>1.6741</td>\n",
       "      <td>3.98274</td>\n",
       "      <td>2.97718</td>\n",
       "      <td>FB Prophet</td>\n",
       "      <td>1</td>\n",
       "      <td>2</td>\n",
       "    </tr>\n",
       "    <tr>\n",
       "      <th>22379</th>\n",
       "      <td>8.759108</td>\n",
       "      <td>13.121152</td>\n",
       "      <td>5851.9989</td>\n",
       "      <td>2013-12-11 11:45:05</td>\n",
       "      <td>8218624.0</td>\n",
       "      <td>512.582898</td>\n",
       "      <td>1.078378e+06</td>\n",
       "      <td>2.40698</td>\n",
       "      <td>1.6741</td>\n",
       "      <td>3.98274</td>\n",
       "      <td>2.97718</td>\n",
       "      <td>FB Prophet</td>\n",
       "      <td>1</td>\n",
       "      <td>2</td>\n",
       "    </tr>\n",
       "  </tbody>\n",
       "</table>\n",
       "<p>2160 rows × 14 columns</p>\n",
       "</div>"
      ],
      "text/plain": [
       "       predicted_cpu_usage [%]  predicted_memory_usage [%]  ...  VM CPU cores\n",
       "20220                 2.291424                    3.936709  ...   1         2\n",
       "20221                 2.598014                    4.205725  ...   1         2\n",
       "20222                 2.631008                    4.231883  ...   1         2\n",
       "20223                 2.307661                    3.927900  ...   1         2\n",
       "20224                 1.793925                    3.427389  ...   1         2\n",
       "...                        ...                         ...  ...  ..       ...\n",
       "22375                 8.586864                   12.692467  ...   1         2\n",
       "22376                 8.743195                   12.937492  ...   1         2\n",
       "22377                 8.693179                   12.988799  ...   1         2\n",
       "22378                 8.631884                   12.992513  ...   1         2\n",
       "22379                 8.759108                   13.121152  ...   1         2\n",
       "\n",
       "[2160 rows x 14 columns]"
      ]
     },
     "execution_count": 174,
     "metadata": {
      "tags": []
     },
     "output_type": "execute_result"
    }
   ],
   "source": [
    "fbpredmem"
   ]
  },
  {
   "cell_type": "code",
   "execution_count": null,
   "metadata": {
    "id": "8sbhWy57N7cr"
   },
   "outputs": [],
   "source": [
    "fbpredmem.to_csv(r'/content/fb.csv', index = False)"
   ]
  }
 ],
 "metadata": {
  "colab": {
   "name": "Time Series Analysis for Prophet .ipynb",
   "provenance": []
  },
  "kernelspec": {
   "display_name": "Python 3",
   "language": "python",
   "name": "python3"
  },
  "language_info": {
   "codemirror_mode": {
    "name": "ipython",
    "version": 3
   },
   "file_extension": ".py",
   "mimetype": "text/x-python",
   "name": "python",
   "nbconvert_exporter": "python",
   "pygments_lexer": "ipython3",
   "version": "3.6.12"
  }
 },
 "nbformat": 4,
 "nbformat_minor": 1
}
