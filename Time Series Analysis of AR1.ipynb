{
 "cells": [
  {
   "cell_type": "markdown",
   "metadata": {},
   "source": [
    "### Time Series Analysis for RND Trace VM\n",
    "###### http://gwa.ewi.tudelft.nl/datasets/gwa-t-12-bitbrains"
   ]
  },
  {
   "cell_type": "markdown",
   "metadata": {},
   "source": [
    "### This Notebook contains models Auto Regressive and Long Short Term Memory"
   ]
  },
  {
   "cell_type": "code",
   "execution_count": 88,
   "metadata": {},
   "outputs": [],
   "source": [
    "import pandas as pd\n",
    "import numpy as np\n",
    "import seaborn as sns\n",
    "sns.set()\n",
    "%matplotlib inline\n",
    "import matplotlib.pyplot as plt\n",
    "import datetime\n",
    "from statsmodels.tsa.stattools import adfuller"
   ]
  },
  {
   "cell_type": "markdown",
   "metadata": {},
   "source": [
    "#### Combining CSV Files"
   ]
  },
  {
   "cell_type": "code",
   "execution_count": 13,
   "metadata": {},
   "outputs": [],
   "source": [
    "import os\n",
    "import glob\n",
    "import pandas as pd\n",
    "os.chdir(\"C:/Users/jahna/Downloads/data\")\n",
    "\n",
    "extension = 'csv'\n",
    "all_filenames = [i for i in glob.glob('*.{}'.format(extension))]\n",
    "\n",
    "#combine all files in the list\n",
    "combined_csv = pd.concat([pd.read_csv(f) for f in all_filenames ])\n",
    "#export to csv\n",
    "combined_csv.to_csv( \"combined_3.csv\", index=False, encoding='utf-8-sig')"
   ]
  },
  {
   "cell_type": "code",
   "execution_count": 14,
   "metadata": {},
   "outputs": [],
   "source": [
    "import csv\n",
    "\n",
    "with open('C:/Users/jahna/Downloads/data/combined_3.csv', 'r') as inf, open('C:/Users/jahna/Downloads/data/data_3.csv', 'w') as of:\n",
    "\n",
    "    r = csv.reader(inf, delimiter=';')\n",
    "    w = csv.writer(of, delimiter=',')\n",
    "\n",
    "    for line in r:\n",
    "        trim = (field.strip('\t') for field in line)\n",
    "        w.writerow(trim)"
   ]
  },
  {
   "cell_type": "markdown",
   "metadata": {},
   "source": [
    "#### Reading the processed data into dataframe called 'data'"
   ]
  },
  {
   "cell_type": "code",
   "execution_count": 15,
   "metadata": {},
   "outputs": [],
   "source": [
    "data = pd.read_csv('C:/Users/jahna/Downloads/data/data_3.csv')"
   ]
  },
  {
   "cell_type": "markdown",
   "metadata": {},
   "source": [
    "#### Converting Epoch to Date Time Format"
   ]
  },
  {
   "cell_type": "code",
   "execution_count": 16,
   "metadata": {},
   "outputs": [],
   "source": [
    "data['Timestamp [ms]'] = pd.to_datetime(data['Timestamp [ms]'], unit='s')"
   ]
  },
  {
   "cell_type": "code",
   "execution_count": 17,
   "metadata": {},
   "outputs": [
    {
     "data": {
      "text/html": [
       "<div>\n",
       "<style scoped>\n",
       "    .dataframe tbody tr th:only-of-type {\n",
       "        vertical-align: middle;\n",
       "    }\n",
       "\n",
       "    .dataframe tbody tr th {\n",
       "        vertical-align: top;\n",
       "    }\n",
       "\n",
       "    .dataframe thead th {\n",
       "        text-align: right;\n",
       "    }\n",
       "</style>\n",
       "<table border=\"1\" class=\"dataframe\">\n",
       "  <thead>\n",
       "    <tr style=\"text-align: right;\">\n",
       "      <th></th>\n",
       "      <th>Timestamp [ms]</th>\n",
       "      <th>CPU cores</th>\n",
       "      <th>CPU capacity provisioned [MHZ]</th>\n",
       "      <th>CPU usage [MHZ]</th>\n",
       "      <th>CPU usage [%]</th>\n",
       "      <th>Memory capacity provisioned [KB]</th>\n",
       "      <th>Memory usage [KB]</th>\n",
       "      <th>Disk read throughput [KB/s]</th>\n",
       "      <th>Disk write throughput [KB/s]</th>\n",
       "      <th>Network received throughput [KB/s]</th>\n",
       "      <th>Network transmitted throughput [KB/s]</th>\n",
       "    </tr>\n",
       "  </thead>\n",
       "  <tbody>\n",
       "    <tr>\n",
       "      <th>0</th>\n",
       "      <td>2013-06-30 22:03:24</td>\n",
       "      <td>1</td>\n",
       "      <td>2599.999398</td>\n",
       "      <td>25.999994</td>\n",
       "      <td>1.000000</td>\n",
       "      <td>702948.0</td>\n",
       "      <td>92272.800000</td>\n",
       "      <td>0.0</td>\n",
       "      <td>4.333333</td>\n",
       "      <td>0.066667</td>\n",
       "      <td>0.066667</td>\n",
       "    </tr>\n",
       "    <tr>\n",
       "      <th>1</th>\n",
       "      <td>2013-06-30 22:08:24</td>\n",
       "      <td>1</td>\n",
       "      <td>2599.999398</td>\n",
       "      <td>25.999994</td>\n",
       "      <td>1.000000</td>\n",
       "      <td>702948.0</td>\n",
       "      <td>71300.800000</td>\n",
       "      <td>0.0</td>\n",
       "      <td>4.266667</td>\n",
       "      <td>0.066667</td>\n",
       "      <td>0.066667</td>\n",
       "    </tr>\n",
       "    <tr>\n",
       "      <th>2</th>\n",
       "      <td>2013-06-30 22:13:24</td>\n",
       "      <td>1</td>\n",
       "      <td>2599.999398</td>\n",
       "      <td>24.266661</td>\n",
       "      <td>0.933333</td>\n",
       "      <td>702948.0</td>\n",
       "      <td>72698.933333</td>\n",
       "      <td>0.0</td>\n",
       "      <td>4.000000</td>\n",
       "      <td>0.133333</td>\n",
       "      <td>0.133333</td>\n",
       "    </tr>\n",
       "    <tr>\n",
       "      <th>3</th>\n",
       "      <td>2013-06-30 22:18:24</td>\n",
       "      <td>1</td>\n",
       "      <td>2599.999398</td>\n",
       "      <td>25.999994</td>\n",
       "      <td>1.000000</td>\n",
       "      <td>702948.0</td>\n",
       "      <td>67106.400000</td>\n",
       "      <td>0.0</td>\n",
       "      <td>4.600000</td>\n",
       "      <td>0.066667</td>\n",
       "      <td>0.133333</td>\n",
       "    </tr>\n",
       "    <tr>\n",
       "      <th>4</th>\n",
       "      <td>2013-06-30 22:23:24</td>\n",
       "      <td>1</td>\n",
       "      <td>2599.999398</td>\n",
       "      <td>25.999994</td>\n",
       "      <td>1.000000</td>\n",
       "      <td>702948.0</td>\n",
       "      <td>64310.133333</td>\n",
       "      <td>0.0</td>\n",
       "      <td>4.066667</td>\n",
       "      <td>0.133333</td>\n",
       "      <td>0.133333</td>\n",
       "    </tr>\n",
       "  </tbody>\n",
       "</table>\n",
       "</div>"
      ],
      "text/plain": [
       "       Timestamp [ms]  CPU cores  CPU capacity provisioned [MHZ]  \\\n",
       "0 2013-06-30 22:03:24          1                     2599.999398   \n",
       "1 2013-06-30 22:08:24          1                     2599.999398   \n",
       "2 2013-06-30 22:13:24          1                     2599.999398   \n",
       "3 2013-06-30 22:18:24          1                     2599.999398   \n",
       "4 2013-06-30 22:23:24          1                     2599.999398   \n",
       "\n",
       "   CPU usage [MHZ]  CPU usage [%]  Memory capacity provisioned [KB]  \\\n",
       "0        25.999994       1.000000                          702948.0   \n",
       "1        25.999994       1.000000                          702948.0   \n",
       "2        24.266661       0.933333                          702948.0   \n",
       "3        25.999994       1.000000                          702948.0   \n",
       "4        25.999994       1.000000                          702948.0   \n",
       "\n",
       "   Memory usage [KB]  Disk read throughput [KB/s]  \\\n",
       "0       92272.800000                          0.0   \n",
       "1       71300.800000                          0.0   \n",
       "2       72698.933333                          0.0   \n",
       "3       67106.400000                          0.0   \n",
       "4       64310.133333                          0.0   \n",
       "\n",
       "   Disk write throughput [KB/s]  Network received throughput [KB/s]  \\\n",
       "0                      4.333333                            0.066667   \n",
       "1                      4.266667                            0.066667   \n",
       "2                      4.000000                            0.133333   \n",
       "3                      4.600000                            0.066667   \n",
       "4                      4.066667                            0.133333   \n",
       "\n",
       "   Network transmitted throughput [KB/s]  \n",
       "0                               0.066667  \n",
       "1                               0.066667  \n",
       "2                               0.133333  \n",
       "3                               0.133333  \n",
       "4                               0.133333  "
      ]
     },
     "execution_count": 17,
     "metadata": {},
     "output_type": "execute_result"
    }
   ],
   "source": [
    "data.head()"
   ]
  },
  {
   "cell_type": "code",
   "execution_count": 18,
   "metadata": {},
   "outputs": [
    {
     "data": {
      "text/html": [
       "<div>\n",
       "<style scoped>\n",
       "    .dataframe tbody tr th:only-of-type {\n",
       "        vertical-align: middle;\n",
       "    }\n",
       "\n",
       "    .dataframe tbody tr th {\n",
       "        vertical-align: top;\n",
       "    }\n",
       "\n",
       "    .dataframe thead th {\n",
       "        text-align: right;\n",
       "    }\n",
       "</style>\n",
       "<table border=\"1\" class=\"dataframe\">\n",
       "  <thead>\n",
       "    <tr style=\"text-align: right;\">\n",
       "      <th></th>\n",
       "      <th>Timestamp [ms]</th>\n",
       "      <th>CPU cores</th>\n",
       "      <th>CPU capacity provisioned [MHZ]</th>\n",
       "      <th>CPU usage [MHZ]</th>\n",
       "      <th>CPU usage [%]</th>\n",
       "      <th>Memory capacity provisioned [KB]</th>\n",
       "      <th>Memory usage [KB]</th>\n",
       "      <th>Disk read throughput [KB/s]</th>\n",
       "      <th>Disk write throughput [KB/s]</th>\n",
       "      <th>Network received throughput [KB/s]</th>\n",
       "      <th>Network transmitted throughput [KB/s]</th>\n",
       "    </tr>\n",
       "  </thead>\n",
       "  <tbody>\n",
       "    <tr>\n",
       "      <th>25184</th>\n",
       "      <td>2013-09-29 21:38:50</td>\n",
       "      <td>1</td>\n",
       "      <td>2599.999304</td>\n",
       "      <td>25.999993</td>\n",
       "      <td>1.0</td>\n",
       "      <td>702948.0</td>\n",
       "      <td>97865.333333</td>\n",
       "      <td>0.0</td>\n",
       "      <td>5.400000</td>\n",
       "      <td>3.000000</td>\n",
       "      <td>2.000000</td>\n",
       "    </tr>\n",
       "    <tr>\n",
       "      <th>25185</th>\n",
       "      <td>2013-09-29 21:43:50</td>\n",
       "      <td>1</td>\n",
       "      <td>2599.999304</td>\n",
       "      <td>25.999993</td>\n",
       "      <td>1.0</td>\n",
       "      <td>702948.0</td>\n",
       "      <td>74097.066667</td>\n",
       "      <td>0.0</td>\n",
       "      <td>4.800000</td>\n",
       "      <td>3.000000</td>\n",
       "      <td>2.000000</td>\n",
       "    </tr>\n",
       "    <tr>\n",
       "      <th>25186</th>\n",
       "      <td>2013-09-29 21:48:50</td>\n",
       "      <td>1</td>\n",
       "      <td>2599.999304</td>\n",
       "      <td>25.999993</td>\n",
       "      <td>1.0</td>\n",
       "      <td>702948.0</td>\n",
       "      <td>88078.400000</td>\n",
       "      <td>0.0</td>\n",
       "      <td>5.333333</td>\n",
       "      <td>3.000000</td>\n",
       "      <td>2.000000</td>\n",
       "    </tr>\n",
       "    <tr>\n",
       "      <th>25187</th>\n",
       "      <td>2013-09-29 21:53:50</td>\n",
       "      <td>1</td>\n",
       "      <td>2599.999304</td>\n",
       "      <td>25.999993</td>\n",
       "      <td>1.0</td>\n",
       "      <td>702948.0</td>\n",
       "      <td>68504.533333</td>\n",
       "      <td>0.0</td>\n",
       "      <td>4.600000</td>\n",
       "      <td>3.000000</td>\n",
       "      <td>2.000000</td>\n",
       "    </tr>\n",
       "    <tr>\n",
       "      <th>25188</th>\n",
       "      <td>2013-09-29 21:58:50</td>\n",
       "      <td>1</td>\n",
       "      <td>2599.999304</td>\n",
       "      <td>25.999993</td>\n",
       "      <td>1.0</td>\n",
       "      <td>702948.0</td>\n",
       "      <td>58717.600000</td>\n",
       "      <td>0.0</td>\n",
       "      <td>4.866667</td>\n",
       "      <td>2.933333</td>\n",
       "      <td>1.933333</td>\n",
       "    </tr>\n",
       "  </tbody>\n",
       "</table>\n",
       "</div>"
      ],
      "text/plain": [
       "           Timestamp [ms]  CPU cores  CPU capacity provisioned [MHZ]  \\\n",
       "25184 2013-09-29 21:38:50          1                     2599.999304   \n",
       "25185 2013-09-29 21:43:50          1                     2599.999304   \n",
       "25186 2013-09-29 21:48:50          1                     2599.999304   \n",
       "25187 2013-09-29 21:53:50          1                     2599.999304   \n",
       "25188 2013-09-29 21:58:50          1                     2599.999304   \n",
       "\n",
       "       CPU usage [MHZ]  CPU usage [%]  Memory capacity provisioned [KB]  \\\n",
       "25184        25.999993            1.0                          702948.0   \n",
       "25185        25.999993            1.0                          702948.0   \n",
       "25186        25.999993            1.0                          702948.0   \n",
       "25187        25.999993            1.0                          702948.0   \n",
       "25188        25.999993            1.0                          702948.0   \n",
       "\n",
       "       Memory usage [KB]  Disk read throughput [KB/s]  \\\n",
       "25184       97865.333333                          0.0   \n",
       "25185       74097.066667                          0.0   \n",
       "25186       88078.400000                          0.0   \n",
       "25187       68504.533333                          0.0   \n",
       "25188       58717.600000                          0.0   \n",
       "\n",
       "       Disk write throughput [KB/s]  Network received throughput [KB/s]  \\\n",
       "25184                      5.400000                            3.000000   \n",
       "25185                      4.800000                            3.000000   \n",
       "25186                      5.333333                            3.000000   \n",
       "25187                      4.600000                            3.000000   \n",
       "25188                      4.866667                            2.933333   \n",
       "\n",
       "       Network transmitted throughput [KB/s]  \n",
       "25184                               2.000000  \n",
       "25185                               2.000000  \n",
       "25186                               2.000000  \n",
       "25187                               2.000000  \n",
       "25188                               1.933333  "
      ]
     },
     "execution_count": 18,
     "metadata": {},
     "output_type": "execute_result"
    }
   ],
   "source": [
    "data.tail()"
   ]
  },
  {
   "cell_type": "code",
   "execution_count": 19,
   "metadata": {},
   "outputs": [],
   "source": [
    "data=data.set_index('Timestamp [ms]')"
   ]
  },
  {
   "cell_type": "markdown",
   "metadata": {},
   "source": [
    "#### Calculating Memory Usage %"
   ]
  },
  {
   "cell_type": "code",
   "execution_count": 20,
   "metadata": {},
   "outputs": [],
   "source": [
    "data['Memory usage [%]']=(data['Memory usage [KB]'].div(data['Memory capacity provisioned [KB]']))*100"
   ]
  },
  {
   "cell_type": "code",
   "execution_count": 21,
   "metadata": {
    "scrolled": true
   },
   "outputs": [
    {
     "data": {
      "text/html": [
       "<div>\n",
       "<style scoped>\n",
       "    .dataframe tbody tr th:only-of-type {\n",
       "        vertical-align: middle;\n",
       "    }\n",
       "\n",
       "    .dataframe tbody tr th {\n",
       "        vertical-align: top;\n",
       "    }\n",
       "\n",
       "    .dataframe thead th {\n",
       "        text-align: right;\n",
       "    }\n",
       "</style>\n",
       "<table border=\"1\" class=\"dataframe\">\n",
       "  <thead>\n",
       "    <tr style=\"text-align: right;\">\n",
       "      <th></th>\n",
       "      <th>CPU cores</th>\n",
       "      <th>CPU capacity provisioned [MHZ]</th>\n",
       "      <th>CPU usage [MHZ]</th>\n",
       "      <th>CPU usage [%]</th>\n",
       "      <th>Memory capacity provisioned [KB]</th>\n",
       "      <th>Memory usage [KB]</th>\n",
       "      <th>Disk read throughput [KB/s]</th>\n",
       "      <th>Disk write throughput [KB/s]</th>\n",
       "      <th>Network received throughput [KB/s]</th>\n",
       "      <th>Network transmitted throughput [KB/s]</th>\n",
       "      <th>Memory usage [%]</th>\n",
       "    </tr>\n",
       "    <tr>\n",
       "      <th>Timestamp [ms]</th>\n",
       "      <th></th>\n",
       "      <th></th>\n",
       "      <th></th>\n",
       "      <th></th>\n",
       "      <th></th>\n",
       "      <th></th>\n",
       "      <th></th>\n",
       "      <th></th>\n",
       "      <th></th>\n",
       "      <th></th>\n",
       "      <th></th>\n",
       "    </tr>\n",
       "  </thead>\n",
       "  <tbody>\n",
       "    <tr>\n",
       "      <th>2013-06-30 22:03:24</th>\n",
       "      <td>1</td>\n",
       "      <td>2599.999398</td>\n",
       "      <td>25.999994</td>\n",
       "      <td>1.000000</td>\n",
       "      <td>702948.0</td>\n",
       "      <td>92272.800000</td>\n",
       "      <td>0.0</td>\n",
       "      <td>4.333333</td>\n",
       "      <td>0.066667</td>\n",
       "      <td>0.066667</td>\n",
       "      <td>13.126547</td>\n",
       "    </tr>\n",
       "    <tr>\n",
       "      <th>2013-06-30 22:08:24</th>\n",
       "      <td>1</td>\n",
       "      <td>2599.999398</td>\n",
       "      <td>25.999994</td>\n",
       "      <td>1.000000</td>\n",
       "      <td>702948.0</td>\n",
       "      <td>71300.800000</td>\n",
       "      <td>0.0</td>\n",
       "      <td>4.266667</td>\n",
       "      <td>0.066667</td>\n",
       "      <td>0.066667</td>\n",
       "      <td>10.143112</td>\n",
       "    </tr>\n",
       "    <tr>\n",
       "      <th>2013-06-30 22:13:24</th>\n",
       "      <td>1</td>\n",
       "      <td>2599.999398</td>\n",
       "      <td>24.266661</td>\n",
       "      <td>0.933333</td>\n",
       "      <td>702948.0</td>\n",
       "      <td>72698.933333</td>\n",
       "      <td>0.0</td>\n",
       "      <td>4.000000</td>\n",
       "      <td>0.133333</td>\n",
       "      <td>0.133333</td>\n",
       "      <td>10.342007</td>\n",
       "    </tr>\n",
       "    <tr>\n",
       "      <th>2013-06-30 22:18:24</th>\n",
       "      <td>1</td>\n",
       "      <td>2599.999398</td>\n",
       "      <td>25.999994</td>\n",
       "      <td>1.000000</td>\n",
       "      <td>702948.0</td>\n",
       "      <td>67106.400000</td>\n",
       "      <td>0.0</td>\n",
       "      <td>4.600000</td>\n",
       "      <td>0.066667</td>\n",
       "      <td>0.133333</td>\n",
       "      <td>9.546424</td>\n",
       "    </tr>\n",
       "    <tr>\n",
       "      <th>2013-06-30 22:23:24</th>\n",
       "      <td>1</td>\n",
       "      <td>2599.999398</td>\n",
       "      <td>25.999994</td>\n",
       "      <td>1.000000</td>\n",
       "      <td>702948.0</td>\n",
       "      <td>64310.133333</td>\n",
       "      <td>0.0</td>\n",
       "      <td>4.066667</td>\n",
       "      <td>0.133333</td>\n",
       "      <td>0.133333</td>\n",
       "      <td>9.148633</td>\n",
       "    </tr>\n",
       "  </tbody>\n",
       "</table>\n",
       "</div>"
      ],
      "text/plain": [
       "                     CPU cores  CPU capacity provisioned [MHZ]  \\\n",
       "Timestamp [ms]                                                   \n",
       "2013-06-30 22:03:24          1                     2599.999398   \n",
       "2013-06-30 22:08:24          1                     2599.999398   \n",
       "2013-06-30 22:13:24          1                     2599.999398   \n",
       "2013-06-30 22:18:24          1                     2599.999398   \n",
       "2013-06-30 22:23:24          1                     2599.999398   \n",
       "\n",
       "                     CPU usage [MHZ]  CPU usage [%]  \\\n",
       "Timestamp [ms]                                        \n",
       "2013-06-30 22:03:24        25.999994       1.000000   \n",
       "2013-06-30 22:08:24        25.999994       1.000000   \n",
       "2013-06-30 22:13:24        24.266661       0.933333   \n",
       "2013-06-30 22:18:24        25.999994       1.000000   \n",
       "2013-06-30 22:23:24        25.999994       1.000000   \n",
       "\n",
       "                     Memory capacity provisioned [KB]  Memory usage [KB]  \\\n",
       "Timestamp [ms]                                                             \n",
       "2013-06-30 22:03:24                          702948.0       92272.800000   \n",
       "2013-06-30 22:08:24                          702948.0       71300.800000   \n",
       "2013-06-30 22:13:24                          702948.0       72698.933333   \n",
       "2013-06-30 22:18:24                          702948.0       67106.400000   \n",
       "2013-06-30 22:23:24                          702948.0       64310.133333   \n",
       "\n",
       "                     Disk read throughput [KB/s]  \\\n",
       "Timestamp [ms]                                     \n",
       "2013-06-30 22:03:24                          0.0   \n",
       "2013-06-30 22:08:24                          0.0   \n",
       "2013-06-30 22:13:24                          0.0   \n",
       "2013-06-30 22:18:24                          0.0   \n",
       "2013-06-30 22:23:24                          0.0   \n",
       "\n",
       "                     Disk write throughput [KB/s]  \\\n",
       "Timestamp [ms]                                      \n",
       "2013-06-30 22:03:24                      4.333333   \n",
       "2013-06-30 22:08:24                      4.266667   \n",
       "2013-06-30 22:13:24                      4.000000   \n",
       "2013-06-30 22:18:24                      4.600000   \n",
       "2013-06-30 22:23:24                      4.066667   \n",
       "\n",
       "                     Network received throughput [KB/s]  \\\n",
       "Timestamp [ms]                                            \n",
       "2013-06-30 22:03:24                            0.066667   \n",
       "2013-06-30 22:08:24                            0.066667   \n",
       "2013-06-30 22:13:24                            0.133333   \n",
       "2013-06-30 22:18:24                            0.066667   \n",
       "2013-06-30 22:23:24                            0.133333   \n",
       "\n",
       "                     Network transmitted throughput [KB/s]  Memory usage [%]  \n",
       "Timestamp [ms]                                                                \n",
       "2013-06-30 22:03:24                               0.066667         13.126547  \n",
       "2013-06-30 22:08:24                               0.066667         10.143112  \n",
       "2013-06-30 22:13:24                               0.133333         10.342007  \n",
       "2013-06-30 22:18:24                               0.133333          9.546424  \n",
       "2013-06-30 22:23:24                               0.133333          9.148633  "
      ]
     },
     "execution_count": 21,
     "metadata": {},
     "output_type": "execute_result"
    }
   ],
   "source": [
    "data.head()"
   ]
  },
  {
   "cell_type": "code",
   "execution_count": 22,
   "metadata": {},
   "outputs": [
    {
     "name": "stdout",
     "output_type": "stream",
     "text": [
      "<class 'pandas.core.frame.DataFrame'>\n",
      "DatetimeIndex: 25189 entries, 2013-06-30 22:03:24 to 2013-09-29 21:58:50\n",
      "Data columns (total 11 columns):\n",
      " #   Column                                 Non-Null Count  Dtype  \n",
      "---  ------                                 --------------  -----  \n",
      " 0   CPU cores                              25189 non-null  int64  \n",
      " 1   CPU capacity provisioned [MHZ]         25189 non-null  float64\n",
      " 2   CPU usage [MHZ]                        25189 non-null  float64\n",
      " 3   CPU usage [%]                          25189 non-null  float64\n",
      " 4   Memory capacity provisioned [KB]       25189 non-null  float64\n",
      " 5   Memory usage [KB]                      25189 non-null  float64\n",
      " 6   Disk read throughput [KB/s]            25189 non-null  float64\n",
      " 7   Disk write throughput [KB/s]           25189 non-null  float64\n",
      " 8   Network received throughput [KB/s]     25189 non-null  float64\n",
      " 9   Network transmitted throughput [KB/s]  25189 non-null  float64\n",
      " 10  Memory usage [%]                       25189 non-null  float64\n",
      "dtypes: float64(10), int64(1)\n",
      "memory usage: 2.3 MB\n"
     ]
    }
   ],
   "source": [
    "data.info()"
   ]
  },
  {
   "cell_type": "code",
   "execution_count": 23,
   "metadata": {},
   "outputs": [
    {
     "data": {
      "text/plain": [
       "CPU cores                                0\n",
       "CPU capacity provisioned [MHZ]           0\n",
       "CPU usage [MHZ]                          0\n",
       "CPU usage [%]                            0\n",
       "Memory capacity provisioned [KB]         0\n",
       "Memory usage [KB]                        0\n",
       "Disk read throughput [KB/s]              0\n",
       "Disk write throughput [KB/s]             0\n",
       "Network received throughput [KB/s]       0\n",
       "Network transmitted throughput [KB/s]    0\n",
       "Memory usage [%]                         0\n",
       "dtype: int64"
      ]
     },
     "execution_count": 23,
     "metadata": {},
     "output_type": "execute_result"
    }
   ],
   "source": [
    "data.isnull().sum()"
   ]
  },
  {
   "cell_type": "code",
   "execution_count": 24,
   "metadata": {},
   "outputs": [
    {
     "data": {
      "text/html": [
       "<div>\n",
       "<style scoped>\n",
       "    .dataframe tbody tr th:only-of-type {\n",
       "        vertical-align: middle;\n",
       "    }\n",
       "\n",
       "    .dataframe tbody tr th {\n",
       "        vertical-align: top;\n",
       "    }\n",
       "\n",
       "    .dataframe thead th {\n",
       "        text-align: right;\n",
       "    }\n",
       "</style>\n",
       "<table border=\"1\" class=\"dataframe\">\n",
       "  <thead>\n",
       "    <tr style=\"text-align: right;\">\n",
       "      <th></th>\n",
       "      <th>CPU cores</th>\n",
       "      <th>CPU capacity provisioned [MHZ]</th>\n",
       "      <th>CPU usage [MHZ]</th>\n",
       "      <th>CPU usage [%]</th>\n",
       "      <th>Memory capacity provisioned [KB]</th>\n",
       "      <th>Memory usage [KB]</th>\n",
       "      <th>Disk read throughput [KB/s]</th>\n",
       "      <th>Disk write throughput [KB/s]</th>\n",
       "      <th>Network received throughput [KB/s]</th>\n",
       "      <th>Network transmitted throughput [KB/s]</th>\n",
       "      <th>Memory usage [%]</th>\n",
       "    </tr>\n",
       "  </thead>\n",
       "  <tbody>\n",
       "    <tr>\n",
       "      <th>count</th>\n",
       "      <td>25189.0</td>\n",
       "      <td>25189.000000</td>\n",
       "      <td>25189.000000</td>\n",
       "      <td>25189.000000</td>\n",
       "      <td>25189.0</td>\n",
       "      <td>25189.000000</td>\n",
       "      <td>25189.000000</td>\n",
       "      <td>25189.000000</td>\n",
       "      <td>25189.000000</td>\n",
       "      <td>25189.000000</td>\n",
       "      <td>25189.000000</td>\n",
       "    </tr>\n",
       "    <tr>\n",
       "      <th>mean</th>\n",
       "      <td>1.0</td>\n",
       "      <td>2599.999257</td>\n",
       "      <td>25.877720</td>\n",
       "      <td>0.995297</td>\n",
       "      <td>702948.0</td>\n",
       "      <td>74347.350399</td>\n",
       "      <td>0.000003</td>\n",
       "      <td>4.331133</td>\n",
       "      <td>1.897198</td>\n",
       "      <td>1.048559</td>\n",
       "      <td>10.576508</td>\n",
       "    </tr>\n",
       "    <tr>\n",
       "      <th>std</th>\n",
       "      <td>0.0</td>\n",
       "      <td>0.000179</td>\n",
       "      <td>0.846818</td>\n",
       "      <td>0.032570</td>\n",
       "      <td>0.0</td>\n",
       "      <td>16444.247285</td>\n",
       "      <td>0.000420</td>\n",
       "      <td>0.451114</td>\n",
       "      <td>1.056421</td>\n",
       "      <td>0.314386</td>\n",
       "      <td>2.339326</td>\n",
       "    </tr>\n",
       "    <tr>\n",
       "      <th>min</th>\n",
       "      <td>1.0</td>\n",
       "      <td>2599.998967</td>\n",
       "      <td>13.866661</td>\n",
       "      <td>0.533333</td>\n",
       "      <td>702948.0</td>\n",
       "      <td>0.000000</td>\n",
       "      <td>0.000000</td>\n",
       "      <td>1.000000</td>\n",
       "      <td>0.000000</td>\n",
       "      <td>0.000000</td>\n",
       "      <td>0.000000</td>\n",
       "    </tr>\n",
       "    <tr>\n",
       "      <th>25%</th>\n",
       "      <td>1.0</td>\n",
       "      <td>2599.999006</td>\n",
       "      <td>25.999990</td>\n",
       "      <td>1.000000</td>\n",
       "      <td>702948.0</td>\n",
       "      <td>62912.000000</td>\n",
       "      <td>0.000000</td>\n",
       "      <td>4.066667</td>\n",
       "      <td>1.000000</td>\n",
       "      <td>1.000000</td>\n",
       "      <td>8.949737</td>\n",
       "    </tr>\n",
       "    <tr>\n",
       "      <th>50%</th>\n",
       "      <td>1.0</td>\n",
       "      <td>2599.999309</td>\n",
       "      <td>25.999993</td>\n",
       "      <td>1.000000</td>\n",
       "      <td>702948.0</td>\n",
       "      <td>74097.066667</td>\n",
       "      <td>0.000000</td>\n",
       "      <td>4.266667</td>\n",
       "      <td>2.000000</td>\n",
       "      <td>1.000000</td>\n",
       "      <td>10.540903</td>\n",
       "    </tr>\n",
       "    <tr>\n",
       "      <th>75%</th>\n",
       "      <td>1.0</td>\n",
       "      <td>2599.999334</td>\n",
       "      <td>25.999993</td>\n",
       "      <td>1.000000</td>\n",
       "      <td>702948.0</td>\n",
       "      <td>83884.000000</td>\n",
       "      <td>0.000000</td>\n",
       "      <td>4.533333</td>\n",
       "      <td>2.000000</td>\n",
       "      <td>1.000000</td>\n",
       "      <td>11.933173</td>\n",
       "    </tr>\n",
       "    <tr>\n",
       "      <th>max</th>\n",
       "      <td>1.0</td>\n",
       "      <td>2599.999758</td>\n",
       "      <td>51.999980</td>\n",
       "      <td>2.000000</td>\n",
       "      <td>702948.0</td>\n",
       "      <td>167771.200000</td>\n",
       "      <td>0.066667</td>\n",
       "      <td>25.133333</td>\n",
       "      <td>5.200000</td>\n",
       "      <td>4.533333</td>\n",
       "      <td>23.866801</td>\n",
       "    </tr>\n",
       "  </tbody>\n",
       "</table>\n",
       "</div>"
      ],
      "text/plain": [
       "       CPU cores  CPU capacity provisioned [MHZ]  CPU usage [MHZ]  \\\n",
       "count    25189.0                    25189.000000     25189.000000   \n",
       "mean         1.0                     2599.999257        25.877720   \n",
       "std          0.0                        0.000179         0.846818   \n",
       "min          1.0                     2599.998967        13.866661   \n",
       "25%          1.0                     2599.999006        25.999990   \n",
       "50%          1.0                     2599.999309        25.999993   \n",
       "75%          1.0                     2599.999334        25.999993   \n",
       "max          1.0                     2599.999758        51.999980   \n",
       "\n",
       "       CPU usage [%]  Memory capacity provisioned [KB]  Memory usage [KB]  \\\n",
       "count   25189.000000                           25189.0       25189.000000   \n",
       "mean        0.995297                          702948.0       74347.350399   \n",
       "std         0.032570                               0.0       16444.247285   \n",
       "min         0.533333                          702948.0           0.000000   \n",
       "25%         1.000000                          702948.0       62912.000000   \n",
       "50%         1.000000                          702948.0       74097.066667   \n",
       "75%         1.000000                          702948.0       83884.000000   \n",
       "max         2.000000                          702948.0      167771.200000   \n",
       "\n",
       "       Disk read throughput [KB/s]  Disk write throughput [KB/s]  \\\n",
       "count                 25189.000000                  25189.000000   \n",
       "mean                      0.000003                      4.331133   \n",
       "std                       0.000420                      0.451114   \n",
       "min                       0.000000                      1.000000   \n",
       "25%                       0.000000                      4.066667   \n",
       "50%                       0.000000                      4.266667   \n",
       "75%                       0.000000                      4.533333   \n",
       "max                       0.066667                     25.133333   \n",
       "\n",
       "       Network received throughput [KB/s]  \\\n",
       "count                        25189.000000   \n",
       "mean                             1.897198   \n",
       "std                              1.056421   \n",
       "min                              0.000000   \n",
       "25%                              1.000000   \n",
       "50%                              2.000000   \n",
       "75%                              2.000000   \n",
       "max                              5.200000   \n",
       "\n",
       "       Network transmitted throughput [KB/s]  Memory usage [%]  \n",
       "count                           25189.000000      25189.000000  \n",
       "mean                                1.048559         10.576508  \n",
       "std                                 0.314386          2.339326  \n",
       "min                                 0.000000          0.000000  \n",
       "25%                                 1.000000          8.949737  \n",
       "50%                                 1.000000         10.540903  \n",
       "75%                                 1.000000         11.933173  \n",
       "max                                 4.533333         23.866801  "
      ]
     },
     "execution_count": 24,
     "metadata": {},
     "output_type": "execute_result"
    }
   ],
   "source": [
    "data.describe()"
   ]
  },
  {
   "cell_type": "code",
   "execution_count": 25,
   "metadata": {},
   "outputs": [
    {
     "data": {
      "text/plain": [
       "(25189, 11)"
      ]
     },
     "execution_count": 25,
     "metadata": {},
     "output_type": "execute_result"
    }
   ],
   "source": [
    "data.shape"
   ]
  },
  {
   "cell_type": "markdown",
   "metadata": {},
   "source": [
    "##### Auto Regressive Model for CPU usage %"
   ]
  },
  {
   "cell_type": "code",
   "execution_count": 26,
   "metadata": {},
   "outputs": [],
   "source": [
    "from statsmodels.tsa.ar_model import AutoReg"
   ]
  },
  {
   "cell_type": "code",
   "execution_count": 27,
   "metadata": {},
   "outputs": [
    {
     "data": {
      "text/html": [
       "<div>\n",
       "<style scoped>\n",
       "    .dataframe tbody tr th:only-of-type {\n",
       "        vertical-align: middle;\n",
       "    }\n",
       "\n",
       "    .dataframe tbody tr th {\n",
       "        vertical-align: top;\n",
       "    }\n",
       "\n",
       "    .dataframe thead th {\n",
       "        text-align: right;\n",
       "    }\n",
       "</style>\n",
       "<table border=\"1\" class=\"dataframe\">\n",
       "  <thead>\n",
       "    <tr style=\"text-align: right;\">\n",
       "      <th></th>\n",
       "      <th>CPU usage [%]</th>\n",
       "    </tr>\n",
       "    <tr>\n",
       "      <th>Timestamp [ms]</th>\n",
       "      <th></th>\n",
       "    </tr>\n",
       "  </thead>\n",
       "  <tbody>\n",
       "    <tr>\n",
       "      <th>2013-06-30 22:03:24</th>\n",
       "      <td>1.000000</td>\n",
       "    </tr>\n",
       "    <tr>\n",
       "      <th>2013-06-30 22:08:24</th>\n",
       "      <td>1.000000</td>\n",
       "    </tr>\n",
       "    <tr>\n",
       "      <th>2013-06-30 22:13:24</th>\n",
       "      <td>0.933333</td>\n",
       "    </tr>\n",
       "    <tr>\n",
       "      <th>2013-06-30 22:18:24</th>\n",
       "      <td>1.000000</td>\n",
       "    </tr>\n",
       "    <tr>\n",
       "      <th>2013-06-30 22:23:24</th>\n",
       "      <td>1.000000</td>\n",
       "    </tr>\n",
       "  </tbody>\n",
       "</table>\n",
       "</div>"
      ],
      "text/plain": [
       "                     CPU usage [%]\n",
       "Timestamp [ms]                    \n",
       "2013-06-30 22:03:24       1.000000\n",
       "2013-06-30 22:08:24       1.000000\n",
       "2013-06-30 22:13:24       0.933333\n",
       "2013-06-30 22:18:24       1.000000\n",
       "2013-06-30 22:23:24       1.000000"
      ]
     },
     "execution_count": 27,
     "metadata": {},
     "output_type": "execute_result"
    }
   ],
   "source": [
    "cdata = data[['CPU usage [%]']]\n",
    "cdata.head()"
   ]
  },
  {
   "cell_type": "code",
   "execution_count": 28,
   "metadata": {},
   "outputs": [
    {
     "data": {
      "text/plain": [
       "25189"
      ]
     },
     "execution_count": 28,
     "metadata": {},
     "output_type": "execute_result"
    }
   ],
   "source": [
    "x1 = cdata.values\n",
    "len(x1)"
   ]
  },
  {
   "cell_type": "markdown",
   "metadata": {},
   "source": [
    "#### Splitting CPU usage % data into train and test split"
   ]
  },
  {
   "cell_type": "code",
   "execution_count": 29,
   "metadata": {},
   "outputs": [
    {
     "data": {
      "text/plain": [
       "20189"
      ]
     },
     "execution_count": 29,
     "metadata": {},
     "output_type": "execute_result"
    }
   ],
   "source": [
    "train = x1[:len(x1)-5000]\n",
    "len(train)"
   ]
  },
  {
   "cell_type": "code",
   "execution_count": 30,
   "metadata": {},
   "outputs": [
    {
     "data": {
      "text/plain": [
       "5000"
      ]
     },
     "execution_count": 30,
     "metadata": {},
     "output_type": "execute_result"
    }
   ],
   "source": [
    "test = x1[len(x1)-5000:]\n",
    "len(test)"
   ]
  },
  {
   "cell_type": "markdown",
   "metadata": {},
   "source": [
    "#### Building AutoRegressive model on the train data and predicted using test data"
   ]
  },
  {
   "cell_type": "code",
   "execution_count": 31,
   "metadata": {},
   "outputs": [
    {
     "name": "stderr",
     "output_type": "stream",
     "text": [
      "C:\\Users\\jahna\\anaconda3\\envs\\env\\lib\\site-packages\\statsmodels\\tsa\\ar_model.py:252: FutureWarning: The parameter names will change after 0.12 is released. Set old_names to False to use the new names now. Set old_names to True to use the old names. \n",
      "  FutureWarning,\n"
     ]
    }
   ],
   "source": [
    "model=AutoReg(train, lags=47).fit()\n",
    "predcpu=model.predict(start=len(train), end=len(x1)-1, dynamic=False)"
   ]
  },
  {
   "cell_type": "code",
   "execution_count": 32,
   "metadata": {},
   "outputs": [
    {
     "data": {
      "text/plain": [
       "5000"
      ]
     },
     "execution_count": 32,
     "metadata": {},
     "output_type": "execute_result"
    }
   ],
   "source": [
    "len(predcpu)"
   ]
  },
  {
   "cell_type": "markdown",
   "metadata": {},
   "source": [
    "#### Evaluation Metrics"
   ]
  },
  {
   "cell_type": "markdown",
   "metadata": {},
   "source": [
    "##### Root Mean Square Error"
   ]
  },
  {
   "cell_type": "code",
   "execution_count": 33,
   "metadata": {},
   "outputs": [],
   "source": [
    "from sklearn.metrics import mean_squared_error\n",
    "from math import sqrt"
   ]
  },
  {
   "cell_type": "code",
   "execution_count": 34,
   "metadata": {},
   "outputs": [
    {
     "data": {
      "text/plain": [
       "0.032131091355338974"
      ]
     },
     "execution_count": 34,
     "metadata": {},
     "output_type": "execute_result"
    }
   ],
   "source": [
    "rmse=sqrt(mean_squared_error(test,predcpu))\n",
    "rmse"
   ]
  },
  {
   "cell_type": "markdown",
   "metadata": {},
   "source": [
    "##### Mean Absolute Error"
   ]
  },
  {
   "cell_type": "code",
   "execution_count": 22,
   "metadata": {},
   "outputs": [
    {
     "data": {
      "text/plain": [
       "0.010685267785590116"
      ]
     },
     "execution_count": 22,
     "metadata": {},
     "output_type": "execute_result"
    }
   ],
   "source": [
    "from sklearn.metrics import mean_absolute_error\n",
    "mean_absolute_error(test,predcpu)"
   ]
  },
  {
   "cell_type": "markdown",
   "metadata": {},
   "source": [
    "#### Forecasting CPU usage % for the next three months"
   ]
  },
  {
   "cell_type": "code",
   "execution_count": 35,
   "metadata": {},
   "outputs": [],
   "source": [
    "forecastcpu=model.predict(start=len(x1)-1, end=51108, dynamic=False)"
   ]
  },
  {
   "cell_type": "code",
   "execution_count": 36,
   "metadata": {},
   "outputs": [
    {
     "data": {
      "text/plain": [
       "25921"
      ]
     },
     "execution_count": 36,
     "metadata": {},
     "output_type": "execute_result"
    }
   ],
   "source": [
    "len(forecastcpu)"
   ]
  },
  {
   "cell_type": "code",
   "execution_count": 37,
   "metadata": {},
   "outputs": [
    {
     "data": {
      "text/plain": [
       "25921"
      ]
     },
     "execution_count": 37,
     "metadata": {},
     "output_type": "execute_result"
    }
   ],
   "source": [
    "predictedcpu = pd.DataFrame(forecastcpu, columns=['predicted_cpu_usage [%]'])\n",
    "len(predictedcpu)"
   ]
  },
  {
   "cell_type": "markdown",
   "metadata": {},
   "source": [
    "#### Creating timestamp for the next three months"
   ]
  },
  {
   "cell_type": "code",
   "execution_count": 39,
   "metadata": {},
   "outputs": [
    {
     "data": {
      "text/plain": [
       "DatetimeIndex(['2013-09-29 22:03:50', '2013-09-29 22:08:50',\n",
       "               '2013-09-29 22:13:50', '2013-09-29 22:18:50',\n",
       "               '2013-09-29 22:23:50', '2013-09-29 22:28:50',\n",
       "               '2013-09-29 22:33:50', '2013-09-29 22:38:50',\n",
       "               '2013-09-29 22:43:50', '2013-09-29 22:48:50',\n",
       "               ...\n",
       "               '2013-12-28 21:18:50', '2013-12-28 21:23:50',\n",
       "               '2013-12-28 21:28:50', '2013-12-28 21:33:50',\n",
       "               '2013-12-28 21:38:50', '2013-12-28 21:43:50',\n",
       "               '2013-12-28 21:48:50', '2013-12-28 21:53:50',\n",
       "               '2013-12-28 21:58:50', '2013-12-28 22:03:50'],\n",
       "              dtype='datetime64[ns]', length=25921, freq='5T')"
      ]
     },
     "execution_count": 39,
     "metadata": {},
     "output_type": "execute_result"
    }
   ],
   "source": [
    "time = pd.date_range('2013-09-29 22:03:50', periods=25921, freq='5min')\n",
    "time"
   ]
  },
  {
   "cell_type": "code",
   "execution_count": 40,
   "metadata": {},
   "outputs": [],
   "source": [
    "predictedcpu['Timestamp']= time"
   ]
  },
  {
   "cell_type": "code",
   "execution_count": 41,
   "metadata": {},
   "outputs": [
    {
     "data": {
      "text/html": [
       "<div>\n",
       "<style scoped>\n",
       "    .dataframe tbody tr th:only-of-type {\n",
       "        vertical-align: middle;\n",
       "    }\n",
       "\n",
       "    .dataframe tbody tr th {\n",
       "        vertical-align: top;\n",
       "    }\n",
       "\n",
       "    .dataframe thead th {\n",
       "        text-align: right;\n",
       "    }\n",
       "</style>\n",
       "<table border=\"1\" class=\"dataframe\">\n",
       "  <thead>\n",
       "    <tr style=\"text-align: right;\">\n",
       "      <th></th>\n",
       "      <th>predicted_cpu_usage [%]</th>\n",
       "      <th>Timestamp</th>\n",
       "    </tr>\n",
       "  </thead>\n",
       "  <tbody>\n",
       "    <tr>\n",
       "      <th>0</th>\n",
       "      <td>0.994962</td>\n",
       "      <td>2013-09-29 22:03:50</td>\n",
       "    </tr>\n",
       "    <tr>\n",
       "      <th>1</th>\n",
       "      <td>0.994962</td>\n",
       "      <td>2013-09-29 22:08:50</td>\n",
       "    </tr>\n",
       "    <tr>\n",
       "      <th>2</th>\n",
       "      <td>0.994962</td>\n",
       "      <td>2013-09-29 22:13:50</td>\n",
       "    </tr>\n",
       "    <tr>\n",
       "      <th>3</th>\n",
       "      <td>0.994962</td>\n",
       "      <td>2013-09-29 22:18:50</td>\n",
       "    </tr>\n",
       "    <tr>\n",
       "      <th>4</th>\n",
       "      <td>0.994962</td>\n",
       "      <td>2013-09-29 22:23:50</td>\n",
       "    </tr>\n",
       "  </tbody>\n",
       "</table>\n",
       "</div>"
      ],
      "text/plain": [
       "   predicted_cpu_usage [%]           Timestamp\n",
       "0                 0.994962 2013-09-29 22:03:50\n",
       "1                 0.994962 2013-09-29 22:08:50\n",
       "2                 0.994962 2013-09-29 22:13:50\n",
       "3                 0.994962 2013-09-29 22:18:50\n",
       "4                 0.994962 2013-09-29 22:23:50"
      ]
     },
     "execution_count": 41,
     "metadata": {},
     "output_type": "execute_result"
    }
   ],
   "source": [
    "predictedcpu.head()"
   ]
  },
  {
   "cell_type": "markdown",
   "metadata": {},
   "source": [
    "##### Auto Regressive Model for Memory usage %"
   ]
  },
  {
   "cell_type": "code",
   "execution_count": 42,
   "metadata": {},
   "outputs": [
    {
     "data": {
      "text/html": [
       "<div>\n",
       "<style scoped>\n",
       "    .dataframe tbody tr th:only-of-type {\n",
       "        vertical-align: middle;\n",
       "    }\n",
       "\n",
       "    .dataframe tbody tr th {\n",
       "        vertical-align: top;\n",
       "    }\n",
       "\n",
       "    .dataframe thead th {\n",
       "        text-align: right;\n",
       "    }\n",
       "</style>\n",
       "<table border=\"1\" class=\"dataframe\">\n",
       "  <thead>\n",
       "    <tr style=\"text-align: right;\">\n",
       "      <th></th>\n",
       "      <th>Memory usage [%]</th>\n",
       "    </tr>\n",
       "    <tr>\n",
       "      <th>Timestamp [ms]</th>\n",
       "      <th></th>\n",
       "    </tr>\n",
       "  </thead>\n",
       "  <tbody>\n",
       "    <tr>\n",
       "      <th>2013-06-30 22:03:24</th>\n",
       "      <td>13.126547</td>\n",
       "    </tr>\n",
       "    <tr>\n",
       "      <th>2013-06-30 22:08:24</th>\n",
       "      <td>10.143112</td>\n",
       "    </tr>\n",
       "    <tr>\n",
       "      <th>2013-06-30 22:13:24</th>\n",
       "      <td>10.342007</td>\n",
       "    </tr>\n",
       "    <tr>\n",
       "      <th>2013-06-30 22:18:24</th>\n",
       "      <td>9.546424</td>\n",
       "    </tr>\n",
       "    <tr>\n",
       "      <th>2013-06-30 22:23:24</th>\n",
       "      <td>9.148633</td>\n",
       "    </tr>\n",
       "  </tbody>\n",
       "</table>\n",
       "</div>"
      ],
      "text/plain": [
       "                     Memory usage [%]\n",
       "Timestamp [ms]                       \n",
       "2013-06-30 22:03:24         13.126547\n",
       "2013-06-30 22:08:24         10.143112\n",
       "2013-06-30 22:13:24         10.342007\n",
       "2013-06-30 22:18:24          9.546424\n",
       "2013-06-30 22:23:24          9.148633"
      ]
     },
     "execution_count": 42,
     "metadata": {},
     "output_type": "execute_result"
    }
   ],
   "source": [
    "mdata = data[['Memory usage [%]']]\n",
    "mdata.head()"
   ]
  },
  {
   "cell_type": "code",
   "execution_count": 43,
   "metadata": {},
   "outputs": [
    {
     "data": {
      "text/plain": [
       "25189"
      ]
     },
     "execution_count": 43,
     "metadata": {},
     "output_type": "execute_result"
    }
   ],
   "source": [
    "x2 = mdata.values\n",
    "len(x2)"
   ]
  },
  {
   "cell_type": "markdown",
   "metadata": {},
   "source": [
    "#### Splitting Memory usage % data into train and test split"
   ]
  },
  {
   "cell_type": "code",
   "execution_count": 46,
   "metadata": {},
   "outputs": [
    {
     "data": {
      "text/plain": [
       "array([[13.12654706],\n",
       "       [10.14311158],\n",
       "       [10.34200728],\n",
       "       ...,\n",
       "       [11.73427717],\n",
       "       [11.73427717],\n",
       "       [ 9.14863309]])"
      ]
     },
     "execution_count": 46,
     "metadata": {},
     "output_type": "execute_result"
    }
   ],
   "source": [
    "memtrain = x2[:len(x2)-5000]\n",
    "memtrain"
   ]
  },
  {
   "cell_type": "code",
   "execution_count": 47,
   "metadata": {},
   "outputs": [
    {
     "data": {
      "text/plain": [
       "array([[ 9.54642449],\n",
       "       [ 8.94973739],\n",
       "       [ 9.54642449],\n",
       "       ...,\n",
       "       [12.52985996],\n",
       "       [ 9.74532018],\n",
       "       [ 8.3530503 ]])"
      ]
     },
     "execution_count": 47,
     "metadata": {},
     "output_type": "execute_result"
    }
   ],
   "source": [
    "memtest = x2[len(x2)-5000:]\n",
    "memtest"
   ]
  },
  {
   "cell_type": "markdown",
   "metadata": {},
   "source": [
    "#### Building AutoRegressive model on the train data and predicted using test data"
   ]
  },
  {
   "cell_type": "code",
   "execution_count": 48,
   "metadata": {
    "scrolled": true
   },
   "outputs": [
    {
     "name": "stderr",
     "output_type": "stream",
     "text": [
      "C:\\Users\\jahna\\anaconda3\\envs\\env\\lib\\site-packages\\statsmodels\\tsa\\ar_model.py:252: FutureWarning: The parameter names will change after 0.12 is released. Set old_names to False to use the new names now. Set old_names to True to use the old names. \n",
      "  FutureWarning,\n"
     ]
    }
   ],
   "source": [
    "model=AutoReg(memtrain, lags=47).fit()\n",
    "predmem=model.predict(start=len(memtrain), end=len(x1)-1, dynamic=False)"
   ]
  },
  {
   "cell_type": "markdown",
   "metadata": {},
   "source": [
    "#### Evaluation Metrics"
   ]
  },
  {
   "cell_type": "markdown",
   "metadata": {},
   "source": [
    "##### RMSE"
   ]
  },
  {
   "cell_type": "code",
   "execution_count": 34,
   "metadata": {},
   "outputs": [
    {
     "data": {
      "text/plain": [
       "2.3600077513934545"
      ]
     },
     "execution_count": 34,
     "metadata": {},
     "output_type": "execute_result"
    }
   ],
   "source": [
    "rmse=sqrt(mean_squared_error(memtest,predmem))\n",
    "rmse"
   ]
  },
  {
   "cell_type": "markdown",
   "metadata": {},
   "source": [
    "#### MAE"
   ]
  },
  {
   "cell_type": "code",
   "execution_count": 49,
   "metadata": {},
   "outputs": [
    {
     "data": {
      "text/plain": [
       "1.8509603277485243"
      ]
     },
     "execution_count": 49,
     "metadata": {},
     "output_type": "execute_result"
    }
   ],
   "source": [
    "from sklearn.metrics import mean_absolute_error\n",
    "mean_absolute_error(memtest,predmem)"
   ]
  },
  {
   "cell_type": "markdown",
   "metadata": {},
   "source": [
    "#### Forecasting Memory usage % for the next three months"
   ]
  },
  {
   "cell_type": "code",
   "execution_count": 51,
   "metadata": {},
   "outputs": [],
   "source": [
    "forecastmem=model.predict(start=len(x1)-1, end=51108, dynamic=False)"
   ]
  },
  {
   "cell_type": "code",
   "execution_count": 52,
   "metadata": {},
   "outputs": [
    {
     "data": {
      "text/plain": [
       "25921"
      ]
     },
     "execution_count": 52,
     "metadata": {},
     "output_type": "execute_result"
    }
   ],
   "source": [
    "len(forecastmem)"
   ]
  },
  {
   "cell_type": "code",
   "execution_count": 53,
   "metadata": {},
   "outputs": [],
   "source": [
    "predictedmem = pd.DataFrame(forecastmem, columns=['predicted_memory_usage [%]'])"
   ]
  },
  {
   "cell_type": "code",
   "execution_count": 54,
   "metadata": {},
   "outputs": [],
   "source": [
    "predictedmem['Timestamp'] = time"
   ]
  },
  {
   "cell_type": "markdown",
   "metadata": {},
   "source": [
    "#### Joining both predictions of memory and CPU to one dataframe"
   ]
  },
  {
   "cell_type": "code",
   "execution_count": 55,
   "metadata": {},
   "outputs": [],
   "source": [
    "import pandas as pd\n",
    "finalar = pd.merge(predictedcpu, predictedmem, on='Timestamp', how='outer')"
   ]
  },
  {
   "cell_type": "code",
   "execution_count": 56,
   "metadata": {},
   "outputs": [
    {
     "data": {
      "text/html": [
       "<div>\n",
       "<style scoped>\n",
       "    .dataframe tbody tr th:only-of-type {\n",
       "        vertical-align: middle;\n",
       "    }\n",
       "\n",
       "    .dataframe tbody tr th {\n",
       "        vertical-align: top;\n",
       "    }\n",
       "\n",
       "    .dataframe thead th {\n",
       "        text-align: right;\n",
       "    }\n",
       "</style>\n",
       "<table border=\"1\" class=\"dataframe\">\n",
       "  <thead>\n",
       "    <tr style=\"text-align: right;\">\n",
       "      <th></th>\n",
       "      <th>predicted_cpu_usage [%]</th>\n",
       "      <th>Timestamp</th>\n",
       "      <th>predicted_memory_usage [%]</th>\n",
       "    </tr>\n",
       "  </thead>\n",
       "  <tbody>\n",
       "    <tr>\n",
       "      <th>0</th>\n",
       "      <td>0.994962</td>\n",
       "      <td>2013-09-29 22:03:50</td>\n",
       "      <td>10.515294</td>\n",
       "    </tr>\n",
       "    <tr>\n",
       "      <th>1</th>\n",
       "      <td>0.994962</td>\n",
       "      <td>2013-09-29 22:08:50</td>\n",
       "      <td>10.515294</td>\n",
       "    </tr>\n",
       "    <tr>\n",
       "      <th>2</th>\n",
       "      <td>0.994962</td>\n",
       "      <td>2013-09-29 22:13:50</td>\n",
       "      <td>10.515294</td>\n",
       "    </tr>\n",
       "    <tr>\n",
       "      <th>3</th>\n",
       "      <td>0.994962</td>\n",
       "      <td>2013-09-29 22:18:50</td>\n",
       "      <td>10.515294</td>\n",
       "    </tr>\n",
       "    <tr>\n",
       "      <th>4</th>\n",
       "      <td>0.994962</td>\n",
       "      <td>2013-09-29 22:23:50</td>\n",
       "      <td>10.515294</td>\n",
       "    </tr>\n",
       "  </tbody>\n",
       "</table>\n",
       "</div>"
      ],
      "text/plain": [
       "   predicted_cpu_usage [%]           Timestamp  predicted_memory_usage [%]\n",
       "0                 0.994962 2013-09-29 22:03:50                   10.515294\n",
       "1                 0.994962 2013-09-29 22:08:50                   10.515294\n",
       "2                 0.994962 2013-09-29 22:13:50                   10.515294\n",
       "3                 0.994962 2013-09-29 22:18:50                   10.515294\n",
       "4                 0.994962 2013-09-29 22:23:50                   10.515294"
      ]
     },
     "execution_count": 56,
     "metadata": {},
     "output_type": "execute_result"
    }
   ],
   "source": [
    "finalar.head()"
   ]
  },
  {
   "cell_type": "code",
   "execution_count": 57,
   "metadata": {},
   "outputs": [],
   "source": [
    "finalar['CPU capacity provisioned [MHZ]'] = 2599.999304"
   ]
  },
  {
   "cell_type": "code",
   "execution_count": 58,
   "metadata": {},
   "outputs": [],
   "source": [
    "finalar['Memory capacity provisioned [KB]'] = 702948.0"
   ]
  },
  {
   "cell_type": "code",
   "execution_count": 59,
   "metadata": {},
   "outputs": [],
   "source": [
    "finalar['CPU usage [MHZ]']=(finalar['predicted_cpu_usage [%]'].mul(finalar['CPU capacity provisioned [MHZ]']/100))"
   ]
  },
  {
   "cell_type": "code",
   "execution_count": 60,
   "metadata": {},
   "outputs": [],
   "source": [
    "finalar['Memory usage [KB]']=(finalar['predicted_memory_usage [%]'].mul(finalar['Memory capacity provisioned [KB]']/100))"
   ]
  },
  {
   "cell_type": "code",
   "execution_count": 61,
   "metadata": {},
   "outputs": [],
   "source": [
    "finalar['RMSE_CPU'] = 0.03212"
   ]
  },
  {
   "cell_type": "code",
   "execution_count": 62,
   "metadata": {},
   "outputs": [],
   "source": [
    "finalar['MAE_CPU'] = 0.0107"
   ]
  },
  {
   "cell_type": "code",
   "execution_count": 63,
   "metadata": {},
   "outputs": [],
   "source": [
    "finalar['RMSE_Memory'] = 2.35996"
   ]
  },
  {
   "cell_type": "code",
   "execution_count": 64,
   "metadata": {},
   "outputs": [],
   "source": [
    "finalar['MAE_Memory'] = 1.85096"
   ]
  },
  {
   "cell_type": "code",
   "execution_count": 65,
   "metadata": {},
   "outputs": [],
   "source": [
    "finalar['Model'] = 'AutoRegressive'"
   ]
  },
  {
   "cell_type": "code",
   "execution_count": 66,
   "metadata": {},
   "outputs": [],
   "source": [
    "finalar['VM'] =3"
   ]
  },
  {
   "cell_type": "code",
   "execution_count": 67,
   "metadata": {},
   "outputs": [],
   "source": [
    "finalar['CPU cores'] =2"
   ]
  },
  {
   "cell_type": "code",
   "execution_count": 68,
   "metadata": {},
   "outputs": [
    {
     "data": {
      "text/html": [
       "<div>\n",
       "<style scoped>\n",
       "    .dataframe tbody tr th:only-of-type {\n",
       "        vertical-align: middle;\n",
       "    }\n",
       "\n",
       "    .dataframe tbody tr th {\n",
       "        vertical-align: top;\n",
       "    }\n",
       "\n",
       "    .dataframe thead th {\n",
       "        text-align: right;\n",
       "    }\n",
       "</style>\n",
       "<table border=\"1\" class=\"dataframe\">\n",
       "  <thead>\n",
       "    <tr style=\"text-align: right;\">\n",
       "      <th></th>\n",
       "      <th>predicted_cpu_usage [%]</th>\n",
       "      <th>Timestamp</th>\n",
       "      <th>predicted_memory_usage [%]</th>\n",
       "      <th>CPU capacity provisioned [MHZ]</th>\n",
       "      <th>Memory capacity provisioned [KB]</th>\n",
       "      <th>CPU usage [MHZ]</th>\n",
       "      <th>Memory usage [KB]</th>\n",
       "      <th>RMSE_CPU</th>\n",
       "      <th>MAE_CPU</th>\n",
       "      <th>RMSE_Memory</th>\n",
       "      <th>MAE_Memory</th>\n",
       "      <th>Model</th>\n",
       "      <th>VM</th>\n",
       "      <th>CPU cores</th>\n",
       "    </tr>\n",
       "  </thead>\n",
       "  <tbody>\n",
       "    <tr>\n",
       "      <th>0</th>\n",
       "      <td>0.994962</td>\n",
       "      <td>2013-09-29 22:03:50</td>\n",
       "      <td>10.515294</td>\n",
       "      <td>2599.999304</td>\n",
       "      <td>702948.0</td>\n",
       "      <td>25.869017</td>\n",
       "      <td>73917.050931</td>\n",
       "      <td>0.03212</td>\n",
       "      <td>0.0107</td>\n",
       "      <td>2.35996</td>\n",
       "      <td>1.85096</td>\n",
       "      <td>AutoRegressive</td>\n",
       "      <td>3</td>\n",
       "      <td>2</td>\n",
       "    </tr>\n",
       "    <tr>\n",
       "      <th>1</th>\n",
       "      <td>0.994962</td>\n",
       "      <td>2013-09-29 22:08:50</td>\n",
       "      <td>10.515294</td>\n",
       "      <td>2599.999304</td>\n",
       "      <td>702948.0</td>\n",
       "      <td>25.869017</td>\n",
       "      <td>73917.050931</td>\n",
       "      <td>0.03212</td>\n",
       "      <td>0.0107</td>\n",
       "      <td>2.35996</td>\n",
       "      <td>1.85096</td>\n",
       "      <td>AutoRegressive</td>\n",
       "      <td>3</td>\n",
       "      <td>2</td>\n",
       "    </tr>\n",
       "    <tr>\n",
       "      <th>2</th>\n",
       "      <td>0.994962</td>\n",
       "      <td>2013-09-29 22:13:50</td>\n",
       "      <td>10.515294</td>\n",
       "      <td>2599.999304</td>\n",
       "      <td>702948.0</td>\n",
       "      <td>25.869017</td>\n",
       "      <td>73917.050931</td>\n",
       "      <td>0.03212</td>\n",
       "      <td>0.0107</td>\n",
       "      <td>2.35996</td>\n",
       "      <td>1.85096</td>\n",
       "      <td>AutoRegressive</td>\n",
       "      <td>3</td>\n",
       "      <td>2</td>\n",
       "    </tr>\n",
       "    <tr>\n",
       "      <th>3</th>\n",
       "      <td>0.994962</td>\n",
       "      <td>2013-09-29 22:18:50</td>\n",
       "      <td>10.515294</td>\n",
       "      <td>2599.999304</td>\n",
       "      <td>702948.0</td>\n",
       "      <td>25.869017</td>\n",
       "      <td>73917.050931</td>\n",
       "      <td>0.03212</td>\n",
       "      <td>0.0107</td>\n",
       "      <td>2.35996</td>\n",
       "      <td>1.85096</td>\n",
       "      <td>AutoRegressive</td>\n",
       "      <td>3</td>\n",
       "      <td>2</td>\n",
       "    </tr>\n",
       "    <tr>\n",
       "      <th>4</th>\n",
       "      <td>0.994962</td>\n",
       "      <td>2013-09-29 22:23:50</td>\n",
       "      <td>10.515294</td>\n",
       "      <td>2599.999304</td>\n",
       "      <td>702948.0</td>\n",
       "      <td>25.869017</td>\n",
       "      <td>73917.050931</td>\n",
       "      <td>0.03212</td>\n",
       "      <td>0.0107</td>\n",
       "      <td>2.35996</td>\n",
       "      <td>1.85096</td>\n",
       "      <td>AutoRegressive</td>\n",
       "      <td>3</td>\n",
       "      <td>2</td>\n",
       "    </tr>\n",
       "    <tr>\n",
       "      <th>...</th>\n",
       "      <td>...</td>\n",
       "      <td>...</td>\n",
       "      <td>...</td>\n",
       "      <td>...</td>\n",
       "      <td>...</td>\n",
       "      <td>...</td>\n",
       "      <td>...</td>\n",
       "      <td>...</td>\n",
       "      <td>...</td>\n",
       "      <td>...</td>\n",
       "      <td>...</td>\n",
       "      <td>...</td>\n",
       "      <td>...</td>\n",
       "      <td>...</td>\n",
       "    </tr>\n",
       "    <tr>\n",
       "      <th>25916</th>\n",
       "      <td>0.994962</td>\n",
       "      <td>2013-12-28 21:43:50</td>\n",
       "      <td>10.515294</td>\n",
       "      <td>2599.999304</td>\n",
       "      <td>702948.0</td>\n",
       "      <td>25.869017</td>\n",
       "      <td>73917.050931</td>\n",
       "      <td>0.03212</td>\n",
       "      <td>0.0107</td>\n",
       "      <td>2.35996</td>\n",
       "      <td>1.85096</td>\n",
       "      <td>AutoRegressive</td>\n",
       "      <td>3</td>\n",
       "      <td>2</td>\n",
       "    </tr>\n",
       "    <tr>\n",
       "      <th>25917</th>\n",
       "      <td>0.994962</td>\n",
       "      <td>2013-12-28 21:48:50</td>\n",
       "      <td>10.515294</td>\n",
       "      <td>2599.999304</td>\n",
       "      <td>702948.0</td>\n",
       "      <td>25.869017</td>\n",
       "      <td>73917.050931</td>\n",
       "      <td>0.03212</td>\n",
       "      <td>0.0107</td>\n",
       "      <td>2.35996</td>\n",
       "      <td>1.85096</td>\n",
       "      <td>AutoRegressive</td>\n",
       "      <td>3</td>\n",
       "      <td>2</td>\n",
       "    </tr>\n",
       "    <tr>\n",
       "      <th>25918</th>\n",
       "      <td>0.994962</td>\n",
       "      <td>2013-12-28 21:53:50</td>\n",
       "      <td>10.515294</td>\n",
       "      <td>2599.999304</td>\n",
       "      <td>702948.0</td>\n",
       "      <td>25.869017</td>\n",
       "      <td>73917.050931</td>\n",
       "      <td>0.03212</td>\n",
       "      <td>0.0107</td>\n",
       "      <td>2.35996</td>\n",
       "      <td>1.85096</td>\n",
       "      <td>AutoRegressive</td>\n",
       "      <td>3</td>\n",
       "      <td>2</td>\n",
       "    </tr>\n",
       "    <tr>\n",
       "      <th>25919</th>\n",
       "      <td>0.994962</td>\n",
       "      <td>2013-12-28 21:58:50</td>\n",
       "      <td>10.515294</td>\n",
       "      <td>2599.999304</td>\n",
       "      <td>702948.0</td>\n",
       "      <td>25.869017</td>\n",
       "      <td>73917.050931</td>\n",
       "      <td>0.03212</td>\n",
       "      <td>0.0107</td>\n",
       "      <td>2.35996</td>\n",
       "      <td>1.85096</td>\n",
       "      <td>AutoRegressive</td>\n",
       "      <td>3</td>\n",
       "      <td>2</td>\n",
       "    </tr>\n",
       "    <tr>\n",
       "      <th>25920</th>\n",
       "      <td>0.994962</td>\n",
       "      <td>2013-12-28 22:03:50</td>\n",
       "      <td>10.515294</td>\n",
       "      <td>2599.999304</td>\n",
       "      <td>702948.0</td>\n",
       "      <td>25.869017</td>\n",
       "      <td>73917.050931</td>\n",
       "      <td>0.03212</td>\n",
       "      <td>0.0107</td>\n",
       "      <td>2.35996</td>\n",
       "      <td>1.85096</td>\n",
       "      <td>AutoRegressive</td>\n",
       "      <td>3</td>\n",
       "      <td>2</td>\n",
       "    </tr>\n",
       "  </tbody>\n",
       "</table>\n",
       "<p>25921 rows × 14 columns</p>\n",
       "</div>"
      ],
      "text/plain": [
       "       predicted_cpu_usage [%]           Timestamp  \\\n",
       "0                     0.994962 2013-09-29 22:03:50   \n",
       "1                     0.994962 2013-09-29 22:08:50   \n",
       "2                     0.994962 2013-09-29 22:13:50   \n",
       "3                     0.994962 2013-09-29 22:18:50   \n",
       "4                     0.994962 2013-09-29 22:23:50   \n",
       "...                        ...                 ...   \n",
       "25916                 0.994962 2013-12-28 21:43:50   \n",
       "25917                 0.994962 2013-12-28 21:48:50   \n",
       "25918                 0.994962 2013-12-28 21:53:50   \n",
       "25919                 0.994962 2013-12-28 21:58:50   \n",
       "25920                 0.994962 2013-12-28 22:03:50   \n",
       "\n",
       "       predicted_memory_usage [%]  CPU capacity provisioned [MHZ]  \\\n",
       "0                       10.515294                     2599.999304   \n",
       "1                       10.515294                     2599.999304   \n",
       "2                       10.515294                     2599.999304   \n",
       "3                       10.515294                     2599.999304   \n",
       "4                       10.515294                     2599.999304   \n",
       "...                           ...                             ...   \n",
       "25916                   10.515294                     2599.999304   \n",
       "25917                   10.515294                     2599.999304   \n",
       "25918                   10.515294                     2599.999304   \n",
       "25919                   10.515294                     2599.999304   \n",
       "25920                   10.515294                     2599.999304   \n",
       "\n",
       "       Memory capacity provisioned [KB]  CPU usage [MHZ]  Memory usage [KB]  \\\n",
       "0                              702948.0        25.869017       73917.050931   \n",
       "1                              702948.0        25.869017       73917.050931   \n",
       "2                              702948.0        25.869017       73917.050931   \n",
       "3                              702948.0        25.869017       73917.050931   \n",
       "4                              702948.0        25.869017       73917.050931   \n",
       "...                                 ...              ...                ...   \n",
       "25916                          702948.0        25.869017       73917.050931   \n",
       "25917                          702948.0        25.869017       73917.050931   \n",
       "25918                          702948.0        25.869017       73917.050931   \n",
       "25919                          702948.0        25.869017       73917.050931   \n",
       "25920                          702948.0        25.869017       73917.050931   \n",
       "\n",
       "       RMSE_CPU  MAE_CPU  RMSE_Memory  MAE_Memory           Model  VM  \\\n",
       "0       0.03212   0.0107      2.35996     1.85096  AutoRegressive   3   \n",
       "1       0.03212   0.0107      2.35996     1.85096  AutoRegressive   3   \n",
       "2       0.03212   0.0107      2.35996     1.85096  AutoRegressive   3   \n",
       "3       0.03212   0.0107      2.35996     1.85096  AutoRegressive   3   \n",
       "4       0.03212   0.0107      2.35996     1.85096  AutoRegressive   3   \n",
       "...         ...      ...          ...         ...             ...  ..   \n",
       "25916   0.03212   0.0107      2.35996     1.85096  AutoRegressive   3   \n",
       "25917   0.03212   0.0107      2.35996     1.85096  AutoRegressive   3   \n",
       "25918   0.03212   0.0107      2.35996     1.85096  AutoRegressive   3   \n",
       "25919   0.03212   0.0107      2.35996     1.85096  AutoRegressive   3   \n",
       "25920   0.03212   0.0107      2.35996     1.85096  AutoRegressive   3   \n",
       "\n",
       "       CPU cores  \n",
       "0              2  \n",
       "1              2  \n",
       "2              2  \n",
       "3              2  \n",
       "4              2  \n",
       "...          ...  \n",
       "25916          2  \n",
       "25917          2  \n",
       "25918          2  \n",
       "25919          2  \n",
       "25920          2  \n",
       "\n",
       "[25921 rows x 14 columns]"
      ]
     },
     "execution_count": 68,
     "metadata": {},
     "output_type": "execute_result"
    }
   ],
   "source": [
    "finalar"
   ]
  },
  {
   "cell_type": "code",
   "execution_count": 54,
   "metadata": {},
   "outputs": [],
   "source": [
    "finalar.to_csv(r'C:/Users/jahna/Downloads/data/Amazon EC2 Instance Comparision1.csv', index = False)"
   ]
  }
 ],
 "metadata": {
  "kernelspec": {
   "display_name": "env",
   "language": "python",
   "name": "env"
  },
  "language_info": {
   "codemirror_mode": {
    "name": "ipython",
    "version": 3
   },
   "file_extension": ".py",
   "mimetype": "text/x-python",
   "name": "python",
   "nbconvert_exporter": "python",
   "pygments_lexer": "ipython3",
   "version": "3.6.12"
  }
 },
 "nbformat": 4,
 "nbformat_minor": 4
}
