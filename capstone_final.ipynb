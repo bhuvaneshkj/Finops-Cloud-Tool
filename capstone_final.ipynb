{
 "cells": [
  {
   "cell_type": "code",
   "execution_count": 1,
   "metadata": {},
   "outputs": [],
   "source": [
    "#Time series - AutoRegressive and Moving Average "
   ]
  },
  {
   "cell_type": "code",
   "execution_count": 3,
   "metadata": {},
   "outputs": [],
   "source": [
    "import os\n",
    "import glob\n",
    "import pandas as pd\n",
    "os.chdir(\"D:/CAPSTONE - Nokia Bell Labs/198\")\n",
    "\n"
   ]
  },
  {
   "cell_type": "code",
   "execution_count": 4,
   "metadata": {},
   "outputs": [],
   "source": [
    "import os\n",
    "import glob\n",
    "import pandas as pd\n",
    "import numpy as np"
   ]
  },
  {
   "cell_type": "code",
   "execution_count": 5,
   "metadata": {},
   "outputs": [],
   "source": [
    "#extension = 'csv'"
   ]
  },
  {
   "cell_type": "code",
   "execution_count": 6,
   "metadata": {},
   "outputs": [],
   "source": [
    "#all_filenames = [i for i in glob.glob('*.{}'.format(extension))]"
   ]
  },
  {
   "cell_type": "code",
   "execution_count": 7,
   "metadata": {},
   "outputs": [],
   "source": [
    "#combination\n",
    "#comb= pd.concat([pd.read_csv(f) for f in all_filenames])\n",
    "#comb.to_csv(\"new.csv\", index=False, encoding='utf-8-sig')"
   ]
  },
  {
   "cell_type": "code",
   "execution_count": 8,
   "metadata": {},
   "outputs": [],
   "source": [
    "data= pd.read_csv('D:/CAPSTONE - Nokia Bell Labs/198/final.csv')"
   ]
  },
  {
   "cell_type": "code",
   "execution_count": 9,
   "metadata": {},
   "outputs": [
    {
     "data": {
      "text/html": [
       "<div>\n",
       "<style scoped>\n",
       "    .dataframe tbody tr th:only-of-type {\n",
       "        vertical-align: middle;\n",
       "    }\n",
       "\n",
       "    .dataframe tbody tr th {\n",
       "        vertical-align: top;\n",
       "    }\n",
       "\n",
       "    .dataframe thead th {\n",
       "        text-align: right;\n",
       "    }\n",
       "</style>\n",
       "<table border=\"1\" class=\"dataframe\">\n",
       "  <thead>\n",
       "    <tr style=\"text-align: right;\">\n",
       "      <th></th>\n",
       "      <th>Time</th>\n",
       "      <th>CPU cores</th>\n",
       "      <th>CPU capacity provisioned [MHZ]</th>\n",
       "      <th>CPU usage [MHZ]</th>\n",
       "      <th>CPU usage [%]</th>\n",
       "      <th>Memory capacity provisioned [KB]</th>\n",
       "      <th>Memory usage [KB]</th>\n",
       "      <th>Disk read throughput [KB/s]</th>\n",
       "      <th>Disk write throughput [KB/s]</th>\n",
       "      <th>Network received throughput [KB/s]</th>\n",
       "      <th>Network transmitted throughput [KB/s]</th>\n",
       "    </tr>\n",
       "  </thead>\n",
       "  <tbody>\n",
       "    <tr>\n",
       "      <td>0</td>\n",
       "      <td>1375308176</td>\n",
       "      <td>2</td>\n",
       "      <td>5199.999272</td>\n",
       "      <td>2655.466295</td>\n",
       "      <td>51.066667</td>\n",
       "      <td>8257536</td>\n",
       "      <td>1325398.400</td>\n",
       "      <td>0.0</td>\n",
       "      <td>40.533333</td>\n",
       "      <td>5.866667</td>\n",
       "      <td>17.533333</td>\n",
       "    </tr>\n",
       "    <tr>\n",
       "      <td>1</td>\n",
       "      <td>1375308476</td>\n",
       "      <td>2</td>\n",
       "      <td>5199.999272</td>\n",
       "      <td>2627.732965</td>\n",
       "      <td>50.533333</td>\n",
       "      <td>8257536</td>\n",
       "      <td>1515538.933</td>\n",
       "      <td>0.0</td>\n",
       "      <td>20.600000</td>\n",
       "      <td>5.866667</td>\n",
       "      <td>17.400000</td>\n",
       "    </tr>\n",
       "    <tr>\n",
       "      <td>2</td>\n",
       "      <td>1375308776</td>\n",
       "      <td>2</td>\n",
       "      <td>5199.999272</td>\n",
       "      <td>2631.199632</td>\n",
       "      <td>50.600000</td>\n",
       "      <td>8257536</td>\n",
       "      <td>1577056.800</td>\n",
       "      <td>0.0</td>\n",
       "      <td>24.333333</td>\n",
       "      <td>5.866667</td>\n",
       "      <td>17.333333</td>\n",
       "    </tr>\n",
       "    <tr>\n",
       "      <td>3</td>\n",
       "      <td>1375309076</td>\n",
       "      <td>2</td>\n",
       "      <td>5199.999272</td>\n",
       "      <td>2629.466299</td>\n",
       "      <td>50.566667</td>\n",
       "      <td>8257536</td>\n",
       "      <td>1207957.600</td>\n",
       "      <td>0.0</td>\n",
       "      <td>20.133333</td>\n",
       "      <td>5.666667</td>\n",
       "      <td>17.466667</td>\n",
       "    </tr>\n",
       "    <tr>\n",
       "      <td>4</td>\n",
       "      <td>1375309376</td>\n",
       "      <td>2</td>\n",
       "      <td>5199.999272</td>\n",
       "      <td>2625.999632</td>\n",
       "      <td>50.500000</td>\n",
       "      <td>8257536</td>\n",
       "      <td>1358952.800</td>\n",
       "      <td>0.0</td>\n",
       "      <td>27.600000</td>\n",
       "      <td>6.600000</td>\n",
       "      <td>20.000000</td>\n",
       "    </tr>\n",
       "    <tr>\n",
       "      <td>...</td>\n",
       "      <td>...</td>\n",
       "      <td>...</td>\n",
       "      <td>...</td>\n",
       "      <td>...</td>\n",
       "      <td>...</td>\n",
       "      <td>...</td>\n",
       "      <td>...</td>\n",
       "      <td>...</td>\n",
       "      <td>...</td>\n",
       "      <td>...</td>\n",
       "      <td>...</td>\n",
       "    </tr>\n",
       "    <tr>\n",
       "      <td>25183</td>\n",
       "      <td>1380490730</td>\n",
       "      <td>2</td>\n",
       "      <td>5199.999332</td>\n",
       "      <td>2643.332994</td>\n",
       "      <td>50.833333</td>\n",
       "      <td>8257536</td>\n",
       "      <td>1353359.733</td>\n",
       "      <td>0.0</td>\n",
       "      <td>20.000000</td>\n",
       "      <td>5.933333</td>\n",
       "      <td>17.600000</td>\n",
       "    </tr>\n",
       "    <tr>\n",
       "      <td>25184</td>\n",
       "      <td>1380491030</td>\n",
       "      <td>2</td>\n",
       "      <td>5199.999332</td>\n",
       "      <td>2657.199659</td>\n",
       "      <td>51.100000</td>\n",
       "      <td>8257536</td>\n",
       "      <td>1554686.933</td>\n",
       "      <td>0.0</td>\n",
       "      <td>27.000000</td>\n",
       "      <td>6.800000</td>\n",
       "      <td>19.866667</td>\n",
       "    </tr>\n",
       "    <tr>\n",
       "      <td>25185</td>\n",
       "      <td>1380491330</td>\n",
       "      <td>2</td>\n",
       "      <td>5199.999332</td>\n",
       "      <td>2686.666322</td>\n",
       "      <td>51.666667</td>\n",
       "      <td>8257536</td>\n",
       "      <td>1459615.467</td>\n",
       "      <td>0.0</td>\n",
       "      <td>19.933333</td>\n",
       "      <td>5.800000</td>\n",
       "      <td>17.533333</td>\n",
       "    </tr>\n",
       "    <tr>\n",
       "      <td>25186</td>\n",
       "      <td>1380491630</td>\n",
       "      <td>2</td>\n",
       "      <td>5199.999332</td>\n",
       "      <td>2679.732989</td>\n",
       "      <td>51.533333</td>\n",
       "      <td>8257536</td>\n",
       "      <td>1409283.467</td>\n",
       "      <td>0.0</td>\n",
       "      <td>49.800000</td>\n",
       "      <td>5.866667</td>\n",
       "      <td>17.466667</td>\n",
       "    </tr>\n",
       "    <tr>\n",
       "      <td>25187</td>\n",
       "      <td>1380491930</td>\n",
       "      <td>2</td>\n",
       "      <td>5199.999332</td>\n",
       "      <td>2669.332990</td>\n",
       "      <td>51.333333</td>\n",
       "      <td>8257536</td>\n",
       "      <td>1610610.400</td>\n",
       "      <td>0.0</td>\n",
       "      <td>20.000000</td>\n",
       "      <td>5.800000</td>\n",
       "      <td>17.400000</td>\n",
       "    </tr>\n",
       "  </tbody>\n",
       "</table>\n",
       "<p>25188 rows × 11 columns</p>\n",
       "</div>"
      ],
      "text/plain": [
       "             Time  CPU cores  CPU capacity provisioned [MHZ]  CPU usage [MHZ]  \\\n",
       "0      1375308176          2                     5199.999272      2655.466295   \n",
       "1      1375308476          2                     5199.999272      2627.732965   \n",
       "2      1375308776          2                     5199.999272      2631.199632   \n",
       "3      1375309076          2                     5199.999272      2629.466299   \n",
       "4      1375309376          2                     5199.999272      2625.999632   \n",
       "...           ...        ...                             ...              ...   \n",
       "25183  1380490730          2                     5199.999332      2643.332994   \n",
       "25184  1380491030          2                     5199.999332      2657.199659   \n",
       "25185  1380491330          2                     5199.999332      2686.666322   \n",
       "25186  1380491630          2                     5199.999332      2679.732989   \n",
       "25187  1380491930          2                     5199.999332      2669.332990   \n",
       "\n",
       "       CPU usage [%]  Memory capacity provisioned [KB]  Memory usage [KB]  \\\n",
       "0          51.066667                           8257536        1325398.400   \n",
       "1          50.533333                           8257536        1515538.933   \n",
       "2          50.600000                           8257536        1577056.800   \n",
       "3          50.566667                           8257536        1207957.600   \n",
       "4          50.500000                           8257536        1358952.800   \n",
       "...              ...                               ...                ...   \n",
       "25183      50.833333                           8257536        1353359.733   \n",
       "25184      51.100000                           8257536        1554686.933   \n",
       "25185      51.666667                           8257536        1459615.467   \n",
       "25186      51.533333                           8257536        1409283.467   \n",
       "25187      51.333333                           8257536        1610610.400   \n",
       "\n",
       "       Disk read throughput [KB/s]  Disk write throughput [KB/s]  \\\n",
       "0                              0.0                     40.533333   \n",
       "1                              0.0                     20.600000   \n",
       "2                              0.0                     24.333333   \n",
       "3                              0.0                     20.133333   \n",
       "4                              0.0                     27.600000   \n",
       "...                            ...                           ...   \n",
       "25183                          0.0                     20.000000   \n",
       "25184                          0.0                     27.000000   \n",
       "25185                          0.0                     19.933333   \n",
       "25186                          0.0                     49.800000   \n",
       "25187                          0.0                     20.000000   \n",
       "\n",
       "       Network received throughput [KB/s]  \\\n",
       "0                                5.866667   \n",
       "1                                5.866667   \n",
       "2                                5.866667   \n",
       "3                                5.666667   \n",
       "4                                6.600000   \n",
       "...                                   ...   \n",
       "25183                            5.933333   \n",
       "25184                            6.800000   \n",
       "25185                            5.800000   \n",
       "25186                            5.866667   \n",
       "25187                            5.800000   \n",
       "\n",
       "       Network transmitted throughput [KB/s]  \n",
       "0                                  17.533333  \n",
       "1                                  17.400000  \n",
       "2                                  17.333333  \n",
       "3                                  17.466667  \n",
       "4                                  20.000000  \n",
       "...                                      ...  \n",
       "25183                              17.600000  \n",
       "25184                              19.866667  \n",
       "25185                              17.533333  \n",
       "25186                              17.466667  \n",
       "25187                              17.400000  \n",
       "\n",
       "[25188 rows x 11 columns]"
      ]
     },
     "execution_count": 9,
     "metadata": {},
     "output_type": "execute_result"
    }
   ],
   "source": [
    "data"
   ]
  },
  {
   "cell_type": "code",
   "execution_count": 10,
   "metadata": {},
   "outputs": [
    {
     "data": {
      "text/plain": [
       "(25188, 11)"
      ]
     },
     "execution_count": 10,
     "metadata": {},
     "output_type": "execute_result"
    }
   ],
   "source": [
    "data.shape"
   ]
  },
  {
   "cell_type": "code",
   "execution_count": 11,
   "metadata": {},
   "outputs": [],
   "source": [
    "data['Time'] = pd.to_datetime(data['Time'], unit='s')"
   ]
  },
  {
   "cell_type": "code",
   "execution_count": 12,
   "metadata": {},
   "outputs": [
    {
     "data": {
      "text/html": [
       "<div>\n",
       "<style scoped>\n",
       "    .dataframe tbody tr th:only-of-type {\n",
       "        vertical-align: middle;\n",
       "    }\n",
       "\n",
       "    .dataframe tbody tr th {\n",
       "        vertical-align: top;\n",
       "    }\n",
       "\n",
       "    .dataframe thead th {\n",
       "        text-align: right;\n",
       "    }\n",
       "</style>\n",
       "<table border=\"1\" class=\"dataframe\">\n",
       "  <thead>\n",
       "    <tr style=\"text-align: right;\">\n",
       "      <th></th>\n",
       "      <th>Time</th>\n",
       "      <th>CPU cores</th>\n",
       "      <th>CPU capacity provisioned [MHZ]</th>\n",
       "      <th>CPU usage [MHZ]</th>\n",
       "      <th>CPU usage [%]</th>\n",
       "      <th>Memory capacity provisioned [KB]</th>\n",
       "      <th>Memory usage [KB]</th>\n",
       "      <th>Disk read throughput [KB/s]</th>\n",
       "      <th>Disk write throughput [KB/s]</th>\n",
       "      <th>Network received throughput [KB/s]</th>\n",
       "      <th>Network transmitted throughput [KB/s]</th>\n",
       "    </tr>\n",
       "  </thead>\n",
       "  <tbody>\n",
       "    <tr>\n",
       "      <td>0</td>\n",
       "      <td>2013-07-31 22:02:56</td>\n",
       "      <td>2</td>\n",
       "      <td>5199.999272</td>\n",
       "      <td>2655.466295</td>\n",
       "      <td>51.066667</td>\n",
       "      <td>8257536</td>\n",
       "      <td>1325398.400</td>\n",
       "      <td>0.0</td>\n",
       "      <td>40.533333</td>\n",
       "      <td>5.866667</td>\n",
       "      <td>17.533333</td>\n",
       "    </tr>\n",
       "    <tr>\n",
       "      <td>1</td>\n",
       "      <td>2013-07-31 22:07:56</td>\n",
       "      <td>2</td>\n",
       "      <td>5199.999272</td>\n",
       "      <td>2627.732965</td>\n",
       "      <td>50.533333</td>\n",
       "      <td>8257536</td>\n",
       "      <td>1515538.933</td>\n",
       "      <td>0.0</td>\n",
       "      <td>20.600000</td>\n",
       "      <td>5.866667</td>\n",
       "      <td>17.400000</td>\n",
       "    </tr>\n",
       "    <tr>\n",
       "      <td>2</td>\n",
       "      <td>2013-07-31 22:12:56</td>\n",
       "      <td>2</td>\n",
       "      <td>5199.999272</td>\n",
       "      <td>2631.199632</td>\n",
       "      <td>50.600000</td>\n",
       "      <td>8257536</td>\n",
       "      <td>1577056.800</td>\n",
       "      <td>0.0</td>\n",
       "      <td>24.333333</td>\n",
       "      <td>5.866667</td>\n",
       "      <td>17.333333</td>\n",
       "    </tr>\n",
       "    <tr>\n",
       "      <td>3</td>\n",
       "      <td>2013-07-31 22:17:56</td>\n",
       "      <td>2</td>\n",
       "      <td>5199.999272</td>\n",
       "      <td>2629.466299</td>\n",
       "      <td>50.566667</td>\n",
       "      <td>8257536</td>\n",
       "      <td>1207957.600</td>\n",
       "      <td>0.0</td>\n",
       "      <td>20.133333</td>\n",
       "      <td>5.666667</td>\n",
       "      <td>17.466667</td>\n",
       "    </tr>\n",
       "    <tr>\n",
       "      <td>4</td>\n",
       "      <td>2013-07-31 22:22:56</td>\n",
       "      <td>2</td>\n",
       "      <td>5199.999272</td>\n",
       "      <td>2625.999632</td>\n",
       "      <td>50.500000</td>\n",
       "      <td>8257536</td>\n",
       "      <td>1358952.800</td>\n",
       "      <td>0.0</td>\n",
       "      <td>27.600000</td>\n",
       "      <td>6.600000</td>\n",
       "      <td>20.000000</td>\n",
       "    </tr>\n",
       "    <tr>\n",
       "      <td>...</td>\n",
       "      <td>...</td>\n",
       "      <td>...</td>\n",
       "      <td>...</td>\n",
       "      <td>...</td>\n",
       "      <td>...</td>\n",
       "      <td>...</td>\n",
       "      <td>...</td>\n",
       "      <td>...</td>\n",
       "      <td>...</td>\n",
       "      <td>...</td>\n",
       "      <td>...</td>\n",
       "    </tr>\n",
       "    <tr>\n",
       "      <td>25183</td>\n",
       "      <td>2013-09-29 21:38:50</td>\n",
       "      <td>2</td>\n",
       "      <td>5199.999332</td>\n",
       "      <td>2643.332994</td>\n",
       "      <td>50.833333</td>\n",
       "      <td>8257536</td>\n",
       "      <td>1353359.733</td>\n",
       "      <td>0.0</td>\n",
       "      <td>20.000000</td>\n",
       "      <td>5.933333</td>\n",
       "      <td>17.600000</td>\n",
       "    </tr>\n",
       "    <tr>\n",
       "      <td>25184</td>\n",
       "      <td>2013-09-29 21:43:50</td>\n",
       "      <td>2</td>\n",
       "      <td>5199.999332</td>\n",
       "      <td>2657.199659</td>\n",
       "      <td>51.100000</td>\n",
       "      <td>8257536</td>\n",
       "      <td>1554686.933</td>\n",
       "      <td>0.0</td>\n",
       "      <td>27.000000</td>\n",
       "      <td>6.800000</td>\n",
       "      <td>19.866667</td>\n",
       "    </tr>\n",
       "    <tr>\n",
       "      <td>25185</td>\n",
       "      <td>2013-09-29 21:48:50</td>\n",
       "      <td>2</td>\n",
       "      <td>5199.999332</td>\n",
       "      <td>2686.666322</td>\n",
       "      <td>51.666667</td>\n",
       "      <td>8257536</td>\n",
       "      <td>1459615.467</td>\n",
       "      <td>0.0</td>\n",
       "      <td>19.933333</td>\n",
       "      <td>5.800000</td>\n",
       "      <td>17.533333</td>\n",
       "    </tr>\n",
       "    <tr>\n",
       "      <td>25186</td>\n",
       "      <td>2013-09-29 21:53:50</td>\n",
       "      <td>2</td>\n",
       "      <td>5199.999332</td>\n",
       "      <td>2679.732989</td>\n",
       "      <td>51.533333</td>\n",
       "      <td>8257536</td>\n",
       "      <td>1409283.467</td>\n",
       "      <td>0.0</td>\n",
       "      <td>49.800000</td>\n",
       "      <td>5.866667</td>\n",
       "      <td>17.466667</td>\n",
       "    </tr>\n",
       "    <tr>\n",
       "      <td>25187</td>\n",
       "      <td>2013-09-29 21:58:50</td>\n",
       "      <td>2</td>\n",
       "      <td>5199.999332</td>\n",
       "      <td>2669.332990</td>\n",
       "      <td>51.333333</td>\n",
       "      <td>8257536</td>\n",
       "      <td>1610610.400</td>\n",
       "      <td>0.0</td>\n",
       "      <td>20.000000</td>\n",
       "      <td>5.800000</td>\n",
       "      <td>17.400000</td>\n",
       "    </tr>\n",
       "  </tbody>\n",
       "</table>\n",
       "<p>25188 rows × 11 columns</p>\n",
       "</div>"
      ],
      "text/plain": [
       "                     Time  CPU cores  CPU capacity provisioned [MHZ]  \\\n",
       "0     2013-07-31 22:02:56          2                     5199.999272   \n",
       "1     2013-07-31 22:07:56          2                     5199.999272   \n",
       "2     2013-07-31 22:12:56          2                     5199.999272   \n",
       "3     2013-07-31 22:17:56          2                     5199.999272   \n",
       "4     2013-07-31 22:22:56          2                     5199.999272   \n",
       "...                   ...        ...                             ...   \n",
       "25183 2013-09-29 21:38:50          2                     5199.999332   \n",
       "25184 2013-09-29 21:43:50          2                     5199.999332   \n",
       "25185 2013-09-29 21:48:50          2                     5199.999332   \n",
       "25186 2013-09-29 21:53:50          2                     5199.999332   \n",
       "25187 2013-09-29 21:58:50          2                     5199.999332   \n",
       "\n",
       "       CPU usage [MHZ]  CPU usage [%]  Memory capacity provisioned [KB]  \\\n",
       "0          2655.466295      51.066667                           8257536   \n",
       "1          2627.732965      50.533333                           8257536   \n",
       "2          2631.199632      50.600000                           8257536   \n",
       "3          2629.466299      50.566667                           8257536   \n",
       "4          2625.999632      50.500000                           8257536   \n",
       "...                ...            ...                               ...   \n",
       "25183      2643.332994      50.833333                           8257536   \n",
       "25184      2657.199659      51.100000                           8257536   \n",
       "25185      2686.666322      51.666667                           8257536   \n",
       "25186      2679.732989      51.533333                           8257536   \n",
       "25187      2669.332990      51.333333                           8257536   \n",
       "\n",
       "       Memory usage [KB]  Disk read throughput [KB/s]  \\\n",
       "0            1325398.400                          0.0   \n",
       "1            1515538.933                          0.0   \n",
       "2            1577056.800                          0.0   \n",
       "3            1207957.600                          0.0   \n",
       "4            1358952.800                          0.0   \n",
       "...                  ...                          ...   \n",
       "25183        1353359.733                          0.0   \n",
       "25184        1554686.933                          0.0   \n",
       "25185        1459615.467                          0.0   \n",
       "25186        1409283.467                          0.0   \n",
       "25187        1610610.400                          0.0   \n",
       "\n",
       "       Disk write throughput [KB/s]  Network received throughput [KB/s]  \\\n",
       "0                         40.533333                            5.866667   \n",
       "1                         20.600000                            5.866667   \n",
       "2                         24.333333                            5.866667   \n",
       "3                         20.133333                            5.666667   \n",
       "4                         27.600000                            6.600000   \n",
       "...                             ...                                 ...   \n",
       "25183                     20.000000                            5.933333   \n",
       "25184                     27.000000                            6.800000   \n",
       "25185                     19.933333                            5.800000   \n",
       "25186                     49.800000                            5.866667   \n",
       "25187                     20.000000                            5.800000   \n",
       "\n",
       "       Network transmitted throughput [KB/s]  \n",
       "0                                  17.533333  \n",
       "1                                  17.400000  \n",
       "2                                  17.333333  \n",
       "3                                  17.466667  \n",
       "4                                  20.000000  \n",
       "...                                      ...  \n",
       "25183                              17.600000  \n",
       "25184                              19.866667  \n",
       "25185                              17.533333  \n",
       "25186                              17.466667  \n",
       "25187                              17.400000  \n",
       "\n",
       "[25188 rows x 11 columns]"
      ]
     },
     "execution_count": 12,
     "metadata": {},
     "output_type": "execute_result"
    }
   ],
   "source": [
    "data"
   ]
  },
  {
   "cell_type": "code",
   "execution_count": 13,
   "metadata": {},
   "outputs": [],
   "source": [
    "data[\"Memory Percentage [%]\"] = (data[\"Memory usage [KB]\"] / data['Memory capacity provisioned [KB]']) * 100"
   ]
  },
  {
   "cell_type": "code",
   "execution_count": 14,
   "metadata": {},
   "outputs": [
    {
     "data": {
      "text/html": [
       "<div>\n",
       "<style scoped>\n",
       "    .dataframe tbody tr th:only-of-type {\n",
       "        vertical-align: middle;\n",
       "    }\n",
       "\n",
       "    .dataframe tbody tr th {\n",
       "        vertical-align: top;\n",
       "    }\n",
       "\n",
       "    .dataframe thead th {\n",
       "        text-align: right;\n",
       "    }\n",
       "</style>\n",
       "<table border=\"1\" class=\"dataframe\">\n",
       "  <thead>\n",
       "    <tr style=\"text-align: right;\">\n",
       "      <th></th>\n",
       "      <th>Time</th>\n",
       "      <th>CPU cores</th>\n",
       "      <th>CPU capacity provisioned [MHZ]</th>\n",
       "      <th>CPU usage [MHZ]</th>\n",
       "      <th>CPU usage [%]</th>\n",
       "      <th>Memory capacity provisioned [KB]</th>\n",
       "      <th>Memory usage [KB]</th>\n",
       "      <th>Disk read throughput [KB/s]</th>\n",
       "      <th>Disk write throughput [KB/s]</th>\n",
       "      <th>Network received throughput [KB/s]</th>\n",
       "      <th>Network transmitted throughput [KB/s]</th>\n",
       "      <th>Memory Percentage [%]</th>\n",
       "    </tr>\n",
       "  </thead>\n",
       "  <tbody>\n",
       "    <tr>\n",
       "      <td>0</td>\n",
       "      <td>2013-07-31 22:02:56</td>\n",
       "      <td>2</td>\n",
       "      <td>5199.999272</td>\n",
       "      <td>2655.466295</td>\n",
       "      <td>51.066667</td>\n",
       "      <td>8257536</td>\n",
       "      <td>1325398.400</td>\n",
       "      <td>0.0</td>\n",
       "      <td>40.533333</td>\n",
       "      <td>5.866667</td>\n",
       "      <td>17.533333</td>\n",
       "      <td>16.050773</td>\n",
       "    </tr>\n",
       "    <tr>\n",
       "      <td>1</td>\n",
       "      <td>2013-07-31 22:07:56</td>\n",
       "      <td>2</td>\n",
       "      <td>5199.999272</td>\n",
       "      <td>2627.732965</td>\n",
       "      <td>50.533333</td>\n",
       "      <td>8257536</td>\n",
       "      <td>1515538.933</td>\n",
       "      <td>0.0</td>\n",
       "      <td>20.600000</td>\n",
       "      <td>5.866667</td>\n",
       "      <td>17.400000</td>\n",
       "      <td>18.353404</td>\n",
       "    </tr>\n",
       "    <tr>\n",
       "      <td>2</td>\n",
       "      <td>2013-07-31 22:12:56</td>\n",
       "      <td>2</td>\n",
       "      <td>5199.999272</td>\n",
       "      <td>2631.199632</td>\n",
       "      <td>50.600000</td>\n",
       "      <td>8257536</td>\n",
       "      <td>1577056.800</td>\n",
       "      <td>0.0</td>\n",
       "      <td>24.333333</td>\n",
       "      <td>5.866667</td>\n",
       "      <td>17.333333</td>\n",
       "      <td>19.098394</td>\n",
       "    </tr>\n",
       "    <tr>\n",
       "      <td>3</td>\n",
       "      <td>2013-07-31 22:17:56</td>\n",
       "      <td>2</td>\n",
       "      <td>5199.999272</td>\n",
       "      <td>2629.466299</td>\n",
       "      <td>50.566667</td>\n",
       "      <td>8257536</td>\n",
       "      <td>1207957.600</td>\n",
       "      <td>0.0</td>\n",
       "      <td>20.133333</td>\n",
       "      <td>5.666667</td>\n",
       "      <td>17.466667</td>\n",
       "      <td>14.628548</td>\n",
       "    </tr>\n",
       "    <tr>\n",
       "      <td>4</td>\n",
       "      <td>2013-07-31 22:22:56</td>\n",
       "      <td>2</td>\n",
       "      <td>5199.999272</td>\n",
       "      <td>2625.999632</td>\n",
       "      <td>50.500000</td>\n",
       "      <td>8257536</td>\n",
       "      <td>1358952.800</td>\n",
       "      <td>0.0</td>\n",
       "      <td>27.600000</td>\n",
       "      <td>6.600000</td>\n",
       "      <td>20.000000</td>\n",
       "      <td>16.457122</td>\n",
       "    </tr>\n",
       "    <tr>\n",
       "      <td>...</td>\n",
       "      <td>...</td>\n",
       "      <td>...</td>\n",
       "      <td>...</td>\n",
       "      <td>...</td>\n",
       "      <td>...</td>\n",
       "      <td>...</td>\n",
       "      <td>...</td>\n",
       "      <td>...</td>\n",
       "      <td>...</td>\n",
       "      <td>...</td>\n",
       "      <td>...</td>\n",
       "      <td>...</td>\n",
       "    </tr>\n",
       "    <tr>\n",
       "      <td>25183</td>\n",
       "      <td>2013-09-29 21:38:50</td>\n",
       "      <td>2</td>\n",
       "      <td>5199.999332</td>\n",
       "      <td>2643.332994</td>\n",
       "      <td>50.833333</td>\n",
       "      <td>8257536</td>\n",
       "      <td>1353359.733</td>\n",
       "      <td>0.0</td>\n",
       "      <td>20.000000</td>\n",
       "      <td>5.933333</td>\n",
       "      <td>17.600000</td>\n",
       "      <td>16.389389</td>\n",
       "    </tr>\n",
       "    <tr>\n",
       "      <td>25184</td>\n",
       "      <td>2013-09-29 21:43:50</td>\n",
       "      <td>2</td>\n",
       "      <td>5199.999332</td>\n",
       "      <td>2657.199659</td>\n",
       "      <td>51.100000</td>\n",
       "      <td>8257536</td>\n",
       "      <td>1554686.933</td>\n",
       "      <td>0.0</td>\n",
       "      <td>27.000000</td>\n",
       "      <td>6.800000</td>\n",
       "      <td>19.866667</td>\n",
       "      <td>18.827492</td>\n",
       "    </tr>\n",
       "    <tr>\n",
       "      <td>25185</td>\n",
       "      <td>2013-09-29 21:48:50</td>\n",
       "      <td>2</td>\n",
       "      <td>5199.999332</td>\n",
       "      <td>2686.666322</td>\n",
       "      <td>51.666667</td>\n",
       "      <td>8257536</td>\n",
       "      <td>1459615.467</td>\n",
       "      <td>0.0</td>\n",
       "      <td>19.933333</td>\n",
       "      <td>5.800000</td>\n",
       "      <td>17.533333</td>\n",
       "      <td>17.676162</td>\n",
       "    </tr>\n",
       "    <tr>\n",
       "      <td>25186</td>\n",
       "      <td>2013-09-29 21:53:50</td>\n",
       "      <td>2</td>\n",
       "      <td>5199.999332</td>\n",
       "      <td>2679.732989</td>\n",
       "      <td>51.533333</td>\n",
       "      <td>8257536</td>\n",
       "      <td>1409283.467</td>\n",
       "      <td>0.0</td>\n",
       "      <td>49.800000</td>\n",
       "      <td>5.866667</td>\n",
       "      <td>17.466667</td>\n",
       "      <td>17.066634</td>\n",
       "    </tr>\n",
       "    <tr>\n",
       "      <td>25187</td>\n",
       "      <td>2013-09-29 21:58:50</td>\n",
       "      <td>2</td>\n",
       "      <td>5199.999332</td>\n",
       "      <td>2669.332990</td>\n",
       "      <td>51.333333</td>\n",
       "      <td>8257536</td>\n",
       "      <td>1610610.400</td>\n",
       "      <td>0.0</td>\n",
       "      <td>20.000000</td>\n",
       "      <td>5.800000</td>\n",
       "      <td>17.400000</td>\n",
       "      <td>19.504734</td>\n",
       "    </tr>\n",
       "  </tbody>\n",
       "</table>\n",
       "<p>25188 rows × 12 columns</p>\n",
       "</div>"
      ],
      "text/plain": [
       "                     Time  CPU cores  CPU capacity provisioned [MHZ]  \\\n",
       "0     2013-07-31 22:02:56          2                     5199.999272   \n",
       "1     2013-07-31 22:07:56          2                     5199.999272   \n",
       "2     2013-07-31 22:12:56          2                     5199.999272   \n",
       "3     2013-07-31 22:17:56          2                     5199.999272   \n",
       "4     2013-07-31 22:22:56          2                     5199.999272   \n",
       "...                   ...        ...                             ...   \n",
       "25183 2013-09-29 21:38:50          2                     5199.999332   \n",
       "25184 2013-09-29 21:43:50          2                     5199.999332   \n",
       "25185 2013-09-29 21:48:50          2                     5199.999332   \n",
       "25186 2013-09-29 21:53:50          2                     5199.999332   \n",
       "25187 2013-09-29 21:58:50          2                     5199.999332   \n",
       "\n",
       "       CPU usage [MHZ]  CPU usage [%]  Memory capacity provisioned [KB]  \\\n",
       "0          2655.466295      51.066667                           8257536   \n",
       "1          2627.732965      50.533333                           8257536   \n",
       "2          2631.199632      50.600000                           8257536   \n",
       "3          2629.466299      50.566667                           8257536   \n",
       "4          2625.999632      50.500000                           8257536   \n",
       "...                ...            ...                               ...   \n",
       "25183      2643.332994      50.833333                           8257536   \n",
       "25184      2657.199659      51.100000                           8257536   \n",
       "25185      2686.666322      51.666667                           8257536   \n",
       "25186      2679.732989      51.533333                           8257536   \n",
       "25187      2669.332990      51.333333                           8257536   \n",
       "\n",
       "       Memory usage [KB]  Disk read throughput [KB/s]  \\\n",
       "0            1325398.400                          0.0   \n",
       "1            1515538.933                          0.0   \n",
       "2            1577056.800                          0.0   \n",
       "3            1207957.600                          0.0   \n",
       "4            1358952.800                          0.0   \n",
       "...                  ...                          ...   \n",
       "25183        1353359.733                          0.0   \n",
       "25184        1554686.933                          0.0   \n",
       "25185        1459615.467                          0.0   \n",
       "25186        1409283.467                          0.0   \n",
       "25187        1610610.400                          0.0   \n",
       "\n",
       "       Disk write throughput [KB/s]  Network received throughput [KB/s]  \\\n",
       "0                         40.533333                            5.866667   \n",
       "1                         20.600000                            5.866667   \n",
       "2                         24.333333                            5.866667   \n",
       "3                         20.133333                            5.666667   \n",
       "4                         27.600000                            6.600000   \n",
       "...                             ...                                 ...   \n",
       "25183                     20.000000                            5.933333   \n",
       "25184                     27.000000                            6.800000   \n",
       "25185                     19.933333                            5.800000   \n",
       "25186                     49.800000                            5.866667   \n",
       "25187                     20.000000                            5.800000   \n",
       "\n",
       "       Network transmitted throughput [KB/s]  Memory Percentage [%]  \n",
       "0                                  17.533333              16.050773  \n",
       "1                                  17.400000              18.353404  \n",
       "2                                  17.333333              19.098394  \n",
       "3                                  17.466667              14.628548  \n",
       "4                                  20.000000              16.457122  \n",
       "...                                      ...                    ...  \n",
       "25183                              17.600000              16.389389  \n",
       "25184                              19.866667              18.827492  \n",
       "25185                              17.533333              17.676162  \n",
       "25186                              17.466667              17.066634  \n",
       "25187                              17.400000              19.504734  \n",
       "\n",
       "[25188 rows x 12 columns]"
      ]
     },
     "execution_count": 14,
     "metadata": {},
     "output_type": "execute_result"
    }
   ],
   "source": [
    "data"
   ]
  },
  {
   "cell_type": "code",
   "execution_count": 15,
   "metadata": {},
   "outputs": [],
   "source": [
    "data=data.set_index(\"Time\")"
   ]
  },
  {
   "cell_type": "code",
   "execution_count": 16,
   "metadata": {},
   "outputs": [
    {
     "data": {
      "text/html": [
       "<div>\n",
       "<style scoped>\n",
       "    .dataframe tbody tr th:only-of-type {\n",
       "        vertical-align: middle;\n",
       "    }\n",
       "\n",
       "    .dataframe tbody tr th {\n",
       "        vertical-align: top;\n",
       "    }\n",
       "\n",
       "    .dataframe thead th {\n",
       "        text-align: right;\n",
       "    }\n",
       "</style>\n",
       "<table border=\"1\" class=\"dataframe\">\n",
       "  <thead>\n",
       "    <tr style=\"text-align: right;\">\n",
       "      <th></th>\n",
       "      <th>CPU cores</th>\n",
       "      <th>CPU capacity provisioned [MHZ]</th>\n",
       "      <th>CPU usage [MHZ]</th>\n",
       "      <th>CPU usage [%]</th>\n",
       "      <th>Memory capacity provisioned [KB]</th>\n",
       "      <th>Memory usage [KB]</th>\n",
       "      <th>Disk read throughput [KB/s]</th>\n",
       "      <th>Disk write throughput [KB/s]</th>\n",
       "      <th>Network received throughput [KB/s]</th>\n",
       "      <th>Network transmitted throughput [KB/s]</th>\n",
       "      <th>Memory Percentage [%]</th>\n",
       "    </tr>\n",
       "    <tr>\n",
       "      <th>Time</th>\n",
       "      <th></th>\n",
       "      <th></th>\n",
       "      <th></th>\n",
       "      <th></th>\n",
       "      <th></th>\n",
       "      <th></th>\n",
       "      <th></th>\n",
       "      <th></th>\n",
       "      <th></th>\n",
       "      <th></th>\n",
       "      <th></th>\n",
       "    </tr>\n",
       "  </thead>\n",
       "  <tbody>\n",
       "    <tr>\n",
       "      <td>2013-07-31 22:02:56</td>\n",
       "      <td>2</td>\n",
       "      <td>5199.999272</td>\n",
       "      <td>2655.466295</td>\n",
       "      <td>51.066667</td>\n",
       "      <td>8257536</td>\n",
       "      <td>1325398.400</td>\n",
       "      <td>0.0</td>\n",
       "      <td>40.533333</td>\n",
       "      <td>5.866667</td>\n",
       "      <td>17.533333</td>\n",
       "      <td>16.050773</td>\n",
       "    </tr>\n",
       "    <tr>\n",
       "      <td>2013-07-31 22:07:56</td>\n",
       "      <td>2</td>\n",
       "      <td>5199.999272</td>\n",
       "      <td>2627.732965</td>\n",
       "      <td>50.533333</td>\n",
       "      <td>8257536</td>\n",
       "      <td>1515538.933</td>\n",
       "      <td>0.0</td>\n",
       "      <td>20.600000</td>\n",
       "      <td>5.866667</td>\n",
       "      <td>17.400000</td>\n",
       "      <td>18.353404</td>\n",
       "    </tr>\n",
       "    <tr>\n",
       "      <td>2013-07-31 22:12:56</td>\n",
       "      <td>2</td>\n",
       "      <td>5199.999272</td>\n",
       "      <td>2631.199632</td>\n",
       "      <td>50.600000</td>\n",
       "      <td>8257536</td>\n",
       "      <td>1577056.800</td>\n",
       "      <td>0.0</td>\n",
       "      <td>24.333333</td>\n",
       "      <td>5.866667</td>\n",
       "      <td>17.333333</td>\n",
       "      <td>19.098394</td>\n",
       "    </tr>\n",
       "    <tr>\n",
       "      <td>2013-07-31 22:17:56</td>\n",
       "      <td>2</td>\n",
       "      <td>5199.999272</td>\n",
       "      <td>2629.466299</td>\n",
       "      <td>50.566667</td>\n",
       "      <td>8257536</td>\n",
       "      <td>1207957.600</td>\n",
       "      <td>0.0</td>\n",
       "      <td>20.133333</td>\n",
       "      <td>5.666667</td>\n",
       "      <td>17.466667</td>\n",
       "      <td>14.628548</td>\n",
       "    </tr>\n",
       "    <tr>\n",
       "      <td>2013-07-31 22:22:56</td>\n",
       "      <td>2</td>\n",
       "      <td>5199.999272</td>\n",
       "      <td>2625.999632</td>\n",
       "      <td>50.500000</td>\n",
       "      <td>8257536</td>\n",
       "      <td>1358952.800</td>\n",
       "      <td>0.0</td>\n",
       "      <td>27.600000</td>\n",
       "      <td>6.600000</td>\n",
       "      <td>20.000000</td>\n",
       "      <td>16.457122</td>\n",
       "    </tr>\n",
       "    <tr>\n",
       "      <td>...</td>\n",
       "      <td>...</td>\n",
       "      <td>...</td>\n",
       "      <td>...</td>\n",
       "      <td>...</td>\n",
       "      <td>...</td>\n",
       "      <td>...</td>\n",
       "      <td>...</td>\n",
       "      <td>...</td>\n",
       "      <td>...</td>\n",
       "      <td>...</td>\n",
       "      <td>...</td>\n",
       "    </tr>\n",
       "    <tr>\n",
       "      <td>2013-09-29 21:38:50</td>\n",
       "      <td>2</td>\n",
       "      <td>5199.999332</td>\n",
       "      <td>2643.332994</td>\n",
       "      <td>50.833333</td>\n",
       "      <td>8257536</td>\n",
       "      <td>1353359.733</td>\n",
       "      <td>0.0</td>\n",
       "      <td>20.000000</td>\n",
       "      <td>5.933333</td>\n",
       "      <td>17.600000</td>\n",
       "      <td>16.389389</td>\n",
       "    </tr>\n",
       "    <tr>\n",
       "      <td>2013-09-29 21:43:50</td>\n",
       "      <td>2</td>\n",
       "      <td>5199.999332</td>\n",
       "      <td>2657.199659</td>\n",
       "      <td>51.100000</td>\n",
       "      <td>8257536</td>\n",
       "      <td>1554686.933</td>\n",
       "      <td>0.0</td>\n",
       "      <td>27.000000</td>\n",
       "      <td>6.800000</td>\n",
       "      <td>19.866667</td>\n",
       "      <td>18.827492</td>\n",
       "    </tr>\n",
       "    <tr>\n",
       "      <td>2013-09-29 21:48:50</td>\n",
       "      <td>2</td>\n",
       "      <td>5199.999332</td>\n",
       "      <td>2686.666322</td>\n",
       "      <td>51.666667</td>\n",
       "      <td>8257536</td>\n",
       "      <td>1459615.467</td>\n",
       "      <td>0.0</td>\n",
       "      <td>19.933333</td>\n",
       "      <td>5.800000</td>\n",
       "      <td>17.533333</td>\n",
       "      <td>17.676162</td>\n",
       "    </tr>\n",
       "    <tr>\n",
       "      <td>2013-09-29 21:53:50</td>\n",
       "      <td>2</td>\n",
       "      <td>5199.999332</td>\n",
       "      <td>2679.732989</td>\n",
       "      <td>51.533333</td>\n",
       "      <td>8257536</td>\n",
       "      <td>1409283.467</td>\n",
       "      <td>0.0</td>\n",
       "      <td>49.800000</td>\n",
       "      <td>5.866667</td>\n",
       "      <td>17.466667</td>\n",
       "      <td>17.066634</td>\n",
       "    </tr>\n",
       "    <tr>\n",
       "      <td>2013-09-29 21:58:50</td>\n",
       "      <td>2</td>\n",
       "      <td>5199.999332</td>\n",
       "      <td>2669.332990</td>\n",
       "      <td>51.333333</td>\n",
       "      <td>8257536</td>\n",
       "      <td>1610610.400</td>\n",
       "      <td>0.0</td>\n",
       "      <td>20.000000</td>\n",
       "      <td>5.800000</td>\n",
       "      <td>17.400000</td>\n",
       "      <td>19.504734</td>\n",
       "    </tr>\n",
       "  </tbody>\n",
       "</table>\n",
       "<p>25188 rows × 11 columns</p>\n",
       "</div>"
      ],
      "text/plain": [
       "                     CPU cores  CPU capacity provisioned [MHZ]  \\\n",
       "Time                                                             \n",
       "2013-07-31 22:02:56          2                     5199.999272   \n",
       "2013-07-31 22:07:56          2                     5199.999272   \n",
       "2013-07-31 22:12:56          2                     5199.999272   \n",
       "2013-07-31 22:17:56          2                     5199.999272   \n",
       "2013-07-31 22:22:56          2                     5199.999272   \n",
       "...                        ...                             ...   \n",
       "2013-09-29 21:38:50          2                     5199.999332   \n",
       "2013-09-29 21:43:50          2                     5199.999332   \n",
       "2013-09-29 21:48:50          2                     5199.999332   \n",
       "2013-09-29 21:53:50          2                     5199.999332   \n",
       "2013-09-29 21:58:50          2                     5199.999332   \n",
       "\n",
       "                     CPU usage [MHZ]  CPU usage [%]  \\\n",
       "Time                                                  \n",
       "2013-07-31 22:02:56      2655.466295      51.066667   \n",
       "2013-07-31 22:07:56      2627.732965      50.533333   \n",
       "2013-07-31 22:12:56      2631.199632      50.600000   \n",
       "2013-07-31 22:17:56      2629.466299      50.566667   \n",
       "2013-07-31 22:22:56      2625.999632      50.500000   \n",
       "...                              ...            ...   \n",
       "2013-09-29 21:38:50      2643.332994      50.833333   \n",
       "2013-09-29 21:43:50      2657.199659      51.100000   \n",
       "2013-09-29 21:48:50      2686.666322      51.666667   \n",
       "2013-09-29 21:53:50      2679.732989      51.533333   \n",
       "2013-09-29 21:58:50      2669.332990      51.333333   \n",
       "\n",
       "                     Memory capacity provisioned [KB]  Memory usage [KB]  \\\n",
       "Time                                                                       \n",
       "2013-07-31 22:02:56                           8257536        1325398.400   \n",
       "2013-07-31 22:07:56                           8257536        1515538.933   \n",
       "2013-07-31 22:12:56                           8257536        1577056.800   \n",
       "2013-07-31 22:17:56                           8257536        1207957.600   \n",
       "2013-07-31 22:22:56                           8257536        1358952.800   \n",
       "...                                               ...                ...   \n",
       "2013-09-29 21:38:50                           8257536        1353359.733   \n",
       "2013-09-29 21:43:50                           8257536        1554686.933   \n",
       "2013-09-29 21:48:50                           8257536        1459615.467   \n",
       "2013-09-29 21:53:50                           8257536        1409283.467   \n",
       "2013-09-29 21:58:50                           8257536        1610610.400   \n",
       "\n",
       "                     Disk read throughput [KB/s]  \\\n",
       "Time                                               \n",
       "2013-07-31 22:02:56                          0.0   \n",
       "2013-07-31 22:07:56                          0.0   \n",
       "2013-07-31 22:12:56                          0.0   \n",
       "2013-07-31 22:17:56                          0.0   \n",
       "2013-07-31 22:22:56                          0.0   \n",
       "...                                          ...   \n",
       "2013-09-29 21:38:50                          0.0   \n",
       "2013-09-29 21:43:50                          0.0   \n",
       "2013-09-29 21:48:50                          0.0   \n",
       "2013-09-29 21:53:50                          0.0   \n",
       "2013-09-29 21:58:50                          0.0   \n",
       "\n",
       "                     Disk write throughput [KB/s]  \\\n",
       "Time                                                \n",
       "2013-07-31 22:02:56                     40.533333   \n",
       "2013-07-31 22:07:56                     20.600000   \n",
       "2013-07-31 22:12:56                     24.333333   \n",
       "2013-07-31 22:17:56                     20.133333   \n",
       "2013-07-31 22:22:56                     27.600000   \n",
       "...                                           ...   \n",
       "2013-09-29 21:38:50                     20.000000   \n",
       "2013-09-29 21:43:50                     27.000000   \n",
       "2013-09-29 21:48:50                     19.933333   \n",
       "2013-09-29 21:53:50                     49.800000   \n",
       "2013-09-29 21:58:50                     20.000000   \n",
       "\n",
       "                     Network received throughput [KB/s]  \\\n",
       "Time                                                      \n",
       "2013-07-31 22:02:56                            5.866667   \n",
       "2013-07-31 22:07:56                            5.866667   \n",
       "2013-07-31 22:12:56                            5.866667   \n",
       "2013-07-31 22:17:56                            5.666667   \n",
       "2013-07-31 22:22:56                            6.600000   \n",
       "...                                                 ...   \n",
       "2013-09-29 21:38:50                            5.933333   \n",
       "2013-09-29 21:43:50                            6.800000   \n",
       "2013-09-29 21:48:50                            5.800000   \n",
       "2013-09-29 21:53:50                            5.866667   \n",
       "2013-09-29 21:58:50                            5.800000   \n",
       "\n",
       "                     Network transmitted throughput [KB/s]  \\\n",
       "Time                                                         \n",
       "2013-07-31 22:02:56                              17.533333   \n",
       "2013-07-31 22:07:56                              17.400000   \n",
       "2013-07-31 22:12:56                              17.333333   \n",
       "2013-07-31 22:17:56                              17.466667   \n",
       "2013-07-31 22:22:56                              20.000000   \n",
       "...                                                    ...   \n",
       "2013-09-29 21:38:50                              17.600000   \n",
       "2013-09-29 21:43:50                              19.866667   \n",
       "2013-09-29 21:48:50                              17.533333   \n",
       "2013-09-29 21:53:50                              17.466667   \n",
       "2013-09-29 21:58:50                              17.400000   \n",
       "\n",
       "                     Memory Percentage [%]  \n",
       "Time                                        \n",
       "2013-07-31 22:02:56              16.050773  \n",
       "2013-07-31 22:07:56              18.353404  \n",
       "2013-07-31 22:12:56              19.098394  \n",
       "2013-07-31 22:17:56              14.628548  \n",
       "2013-07-31 22:22:56              16.457122  \n",
       "...                                    ...  \n",
       "2013-09-29 21:38:50              16.389389  \n",
       "2013-09-29 21:43:50              18.827492  \n",
       "2013-09-29 21:48:50              17.676162  \n",
       "2013-09-29 21:53:50              17.066634  \n",
       "2013-09-29 21:58:50              19.504734  \n",
       "\n",
       "[25188 rows x 11 columns]"
      ]
     },
     "execution_count": 16,
     "metadata": {},
     "output_type": "execute_result"
    }
   ],
   "source": [
    "data"
   ]
  },
  {
   "cell_type": "code",
   "execution_count": 17,
   "metadata": {},
   "outputs": [],
   "source": [
    "#data viz\n",
    "ax= data['Memory Percentage [%]'].plot(figsize=(30,10), title=\"Percentage of Memory utilization\")\n",
    "ax.set(xlabel='Dates', ylabel='Memory Percentage');"
   ]
  },
  {
   "cell_type": "code",
   "execution_count": 18,
   "metadata": {},
   "outputs": [
    {
     "data": {
      "text/html": [
       "<div>\n",
       "<style scoped>\n",
       "    .dataframe tbody tr th:only-of-type {\n",
       "        vertical-align: middle;\n",
       "    }\n",
       "\n",
       "    .dataframe tbody tr th {\n",
       "        vertical-align: top;\n",
       "    }\n",
       "\n",
       "    .dataframe thead th {\n",
       "        text-align: right;\n",
       "    }\n",
       "</style>\n",
       "<table border=\"1\" class=\"dataframe\">\n",
       "  <thead>\n",
       "    <tr style=\"text-align: right;\">\n",
       "      <th></th>\n",
       "      <th>CPU cores</th>\n",
       "      <th>CPU capacity provisioned [MHZ]</th>\n",
       "      <th>CPU usage [MHZ]</th>\n",
       "      <th>CPU usage [%]</th>\n",
       "      <th>Memory capacity provisioned [KB]</th>\n",
       "      <th>Memory usage [KB]</th>\n",
       "      <th>Disk read throughput [KB/s]</th>\n",
       "      <th>Disk write throughput [KB/s]</th>\n",
       "      <th>Network received throughput [KB/s]</th>\n",
       "      <th>Network transmitted throughput [KB/s]</th>\n",
       "      <th>Memory Percentage [%]</th>\n",
       "    </tr>\n",
       "  </thead>\n",
       "  <tbody>\n",
       "    <tr>\n",
       "      <td>count</td>\n",
       "      <td>25188.0</td>\n",
       "      <td>25188.000000</td>\n",
       "      <td>25188.000000</td>\n",
       "      <td>25188.000000</td>\n",
       "      <td>25188.0</td>\n",
       "      <td>2.518800e+04</td>\n",
       "      <td>25188.000000</td>\n",
       "      <td>25188.000000</td>\n",
       "      <td>25188.000000</td>\n",
       "      <td>25188.000000</td>\n",
       "      <td>25188.000000</td>\n",
       "    </tr>\n",
       "    <tr>\n",
       "      <td>mean</td>\n",
       "      <td>2.0</td>\n",
       "      <td>5199.999073</td>\n",
       "      <td>2628.881275</td>\n",
       "      <td>50.555418</td>\n",
       "      <td>8257536.0</td>\n",
       "      <td>1.436464e+06</td>\n",
       "      <td>0.032828</td>\n",
       "      <td>23.515794</td>\n",
       "      <td>5.903551</td>\n",
       "      <td>17.640777</td>\n",
       "      <td>17.395789</td>\n",
       "    </tr>\n",
       "    <tr>\n",
       "      <td>std</td>\n",
       "      <td>0.0</td>\n",
       "      <td>0.000299</td>\n",
       "      <td>30.651632</td>\n",
       "      <td>0.589453</td>\n",
       "      <td>0.0</td>\n",
       "      <td>1.276249e+05</td>\n",
       "      <td>4.077254</td>\n",
       "      <td>8.620370</td>\n",
       "      <td>1.529446</td>\n",
       "      <td>0.753205</td>\n",
       "      <td>1.545557</td>\n",
       "    </tr>\n",
       "    <tr>\n",
       "      <td>min</td>\n",
       "      <td>2.0</td>\n",
       "      <td>5199.998616</td>\n",
       "      <td>2055.733264</td>\n",
       "      <td>39.533333</td>\n",
       "      <td>8257536.0</td>\n",
       "      <td>1.006630e+06</td>\n",
       "      <td>0.000000</td>\n",
       "      <td>12.000000</td>\n",
       "      <td>5.000000</td>\n",
       "      <td>14.000000</td>\n",
       "      <td>12.190445</td>\n",
       "    </tr>\n",
       "    <tr>\n",
       "      <td>25%</td>\n",
       "      <td>2.0</td>\n",
       "      <td>5199.998638</td>\n",
       "      <td>2613.865982</td>\n",
       "      <td>50.266667</td>\n",
       "      <td>8257536.0</td>\n",
       "      <td>1.347767e+06</td>\n",
       "      <td>0.000000</td>\n",
       "      <td>20.133333</td>\n",
       "      <td>5.733333</td>\n",
       "      <td>17.400000</td>\n",
       "      <td>16.321666</td>\n",
       "    </tr>\n",
       "    <tr>\n",
       "      <td>50%</td>\n",
       "      <td>2.0</td>\n",
       "      <td>5199.999272</td>\n",
       "      <td>2631.199632</td>\n",
       "      <td>50.600000</td>\n",
       "      <td>8257536.0</td>\n",
       "      <td>1.431653e+06</td>\n",
       "      <td>0.000000</td>\n",
       "      <td>23.133333</td>\n",
       "      <td>5.800000</td>\n",
       "      <td>17.466667</td>\n",
       "      <td>17.337530</td>\n",
       "    </tr>\n",
       "    <tr>\n",
       "      <td>75%</td>\n",
       "      <td>2.0</td>\n",
       "      <td>5199.999272</td>\n",
       "      <td>2648.532963</td>\n",
       "      <td>50.933333</td>\n",
       "      <td>8257536.0</td>\n",
       "      <td>1.521131e+06</td>\n",
       "      <td>0.000000</td>\n",
       "      <td>23.866667</td>\n",
       "      <td>5.866667</td>\n",
       "      <td>17.533333</td>\n",
       "      <td>18.421127</td>\n",
       "    </tr>\n",
       "    <tr>\n",
       "      <td>max</td>\n",
       "      <td>2.0</td>\n",
       "      <td>5199.999824</td>\n",
       "      <td>2766.399275</td>\n",
       "      <td>53.200000</td>\n",
       "      <td>8257536.0</td>\n",
       "      <td>2.309661e+06</td>\n",
       "      <td>637.666667</td>\n",
       "      <td>617.133333</td>\n",
       "      <td>139.800000</td>\n",
       "      <td>22.000000</td>\n",
       "      <td>27.970339</td>\n",
       "    </tr>\n",
       "  </tbody>\n",
       "</table>\n",
       "</div>"
      ],
      "text/plain": [
       "       CPU cores  CPU capacity provisioned [MHZ]  CPU usage [MHZ]  \\\n",
       "count    25188.0                    25188.000000     25188.000000   \n",
       "mean         2.0                     5199.999073      2628.881275   \n",
       "std          0.0                        0.000299        30.651632   \n",
       "min          2.0                     5199.998616      2055.733264   \n",
       "25%          2.0                     5199.998638      2613.865982   \n",
       "50%          2.0                     5199.999272      2631.199632   \n",
       "75%          2.0                     5199.999272      2648.532963   \n",
       "max          2.0                     5199.999824      2766.399275   \n",
       "\n",
       "       CPU usage [%]  Memory capacity provisioned [KB]  Memory usage [KB]  \\\n",
       "count   25188.000000                           25188.0       2.518800e+04   \n",
       "mean       50.555418                         8257536.0       1.436464e+06   \n",
       "std         0.589453                               0.0       1.276249e+05   \n",
       "min        39.533333                         8257536.0       1.006630e+06   \n",
       "25%        50.266667                         8257536.0       1.347767e+06   \n",
       "50%        50.600000                         8257536.0       1.431653e+06   \n",
       "75%        50.933333                         8257536.0       1.521131e+06   \n",
       "max        53.200000                         8257536.0       2.309661e+06   \n",
       "\n",
       "       Disk read throughput [KB/s]  Disk write throughput [KB/s]  \\\n",
       "count                 25188.000000                  25188.000000   \n",
       "mean                      0.032828                     23.515794   \n",
       "std                       4.077254                      8.620370   \n",
       "min                       0.000000                     12.000000   \n",
       "25%                       0.000000                     20.133333   \n",
       "50%                       0.000000                     23.133333   \n",
       "75%                       0.000000                     23.866667   \n",
       "max                     637.666667                    617.133333   \n",
       "\n",
       "       Network received throughput [KB/s]  \\\n",
       "count                        25188.000000   \n",
       "mean                             5.903551   \n",
       "std                              1.529446   \n",
       "min                              5.000000   \n",
       "25%                              5.733333   \n",
       "50%                              5.800000   \n",
       "75%                              5.866667   \n",
       "max                            139.800000   \n",
       "\n",
       "       Network transmitted throughput [KB/s]  Memory Percentage [%]  \n",
       "count                           25188.000000           25188.000000  \n",
       "mean                               17.640777              17.395789  \n",
       "std                                 0.753205               1.545557  \n",
       "min                                14.000000              12.190445  \n",
       "25%                                17.400000              16.321666  \n",
       "50%                                17.466667              17.337530  \n",
       "75%                                17.533333              18.421127  \n",
       "max                                22.000000              27.970339  "
      ]
     },
     "execution_count": 18,
     "metadata": {},
     "output_type": "execute_result"
    }
   ],
   "source": [
    "data.describe()"
   ]
  },
  {
   "cell_type": "code",
   "execution_count": 19,
   "metadata": {},
   "outputs": [],
   "source": [
    "#Analysis on the data "
   ]
  },
  {
   "cell_type": "code",
   "execution_count": 20,
   "metadata": {},
   "outputs": [],
   "source": [
    "start='2013-07-15'"
   ]
  },
  {
   "cell_type": "code",
   "execution_count": 21,
   "metadata": {},
   "outputs": [],
   "source": [
    "end='2013-07-19'"
   ]
  },
  {
   "cell_type": "code",
   "execution_count": 22,
   "metadata": {},
   "outputs": [],
   "source": [
    "data=data.reset_index(\"Time\")"
   ]
  },
  {
   "cell_type": "code",
   "execution_count": 23,
   "metadata": {},
   "outputs": [],
   "source": [
    "fix=(data['Time']>start)&(data['Time']<=end)"
   ]
  },
  {
   "cell_type": "code",
   "execution_count": 24,
   "metadata": {},
   "outputs": [
    {
     "data": {
      "text/html": [
       "<div>\n",
       "<style scoped>\n",
       "    .dataframe tbody tr th:only-of-type {\n",
       "        vertical-align: middle;\n",
       "    }\n",
       "\n",
       "    .dataframe tbody tr th {\n",
       "        vertical-align: top;\n",
       "    }\n",
       "\n",
       "    .dataframe thead th {\n",
       "        text-align: right;\n",
       "    }\n",
       "</style>\n",
       "<table border=\"1\" class=\"dataframe\">\n",
       "  <thead>\n",
       "    <tr style=\"text-align: right;\">\n",
       "      <th></th>\n",
       "      <th>Time</th>\n",
       "      <th>CPU cores</th>\n",
       "      <th>CPU capacity provisioned [MHZ]</th>\n",
       "      <th>CPU usage [MHZ]</th>\n",
       "      <th>CPU usage [%]</th>\n",
       "      <th>Memory capacity provisioned [KB]</th>\n",
       "      <th>Memory usage [KB]</th>\n",
       "      <th>Disk read throughput [KB/s]</th>\n",
       "      <th>Disk write throughput [KB/s]</th>\n",
       "      <th>Network received throughput [KB/s]</th>\n",
       "      <th>Network transmitted throughput [KB/s]</th>\n",
       "      <th>Memory Percentage [%]</th>\n",
       "    </tr>\n",
       "  </thead>\n",
       "  <tbody>\n",
       "    <tr>\n",
       "      <td>12677</td>\n",
       "      <td>2013-07-15 00:00:23</td>\n",
       "      <td>2</td>\n",
       "      <td>5199.998638</td>\n",
       "      <td>2577.465992</td>\n",
       "      <td>49.566667</td>\n",
       "      <td>8257536</td>\n",
       "      <td>1398099.200</td>\n",
       "      <td>0.0</td>\n",
       "      <td>23.133333</td>\n",
       "      <td>5.800000</td>\n",
       "      <td>17.333333</td>\n",
       "      <td>16.931191</td>\n",
       "    </tr>\n",
       "    <tr>\n",
       "      <td>12678</td>\n",
       "      <td>2013-07-15 00:05:23</td>\n",
       "      <td>2</td>\n",
       "      <td>5199.998638</td>\n",
       "      <td>2515.066008</td>\n",
       "      <td>48.366667</td>\n",
       "      <td>8257536</td>\n",
       "      <td>1297435.200</td>\n",
       "      <td>0.0</td>\n",
       "      <td>36.333333</td>\n",
       "      <td>5.800000</td>\n",
       "      <td>17.466667</td>\n",
       "      <td>15.712135</td>\n",
       "    </tr>\n",
       "    <tr>\n",
       "      <td>12679</td>\n",
       "      <td>2013-07-15 00:10:23</td>\n",
       "      <td>2</td>\n",
       "      <td>5199.998638</td>\n",
       "      <td>2553.199331</td>\n",
       "      <td>49.100000</td>\n",
       "      <td>8257536</td>\n",
       "      <td>1196772.800</td>\n",
       "      <td>0.0</td>\n",
       "      <td>19.466667</td>\n",
       "      <td>5.800000</td>\n",
       "      <td>17.333333</td>\n",
       "      <td>14.493098</td>\n",
       "    </tr>\n",
       "    <tr>\n",
       "      <td>12680</td>\n",
       "      <td>2013-07-15 00:15:23</td>\n",
       "      <td>2</td>\n",
       "      <td>5199.998638</td>\n",
       "      <td>2577.465992</td>\n",
       "      <td>49.566667</td>\n",
       "      <td>8257536</td>\n",
       "      <td>1280658.133</td>\n",
       "      <td>0.0</td>\n",
       "      <td>26.866667</td>\n",
       "      <td>6.600000</td>\n",
       "      <td>19.866667</td>\n",
       "      <td>15.508962</td>\n",
       "    </tr>\n",
       "    <tr>\n",
       "      <td>12681</td>\n",
       "      <td>2013-07-15 00:20:23</td>\n",
       "      <td>2</td>\n",
       "      <td>5199.998638</td>\n",
       "      <td>2553.199331</td>\n",
       "      <td>49.100000</td>\n",
       "      <td>8257536</td>\n",
       "      <td>1347767.467</td>\n",
       "      <td>0.0</td>\n",
       "      <td>19.600000</td>\n",
       "      <td>5.666667</td>\n",
       "      <td>17.333333</td>\n",
       "      <td>16.321666</td>\n",
       "    </tr>\n",
       "  </tbody>\n",
       "</table>\n",
       "</div>"
      ],
      "text/plain": [
       "                     Time  CPU cores  CPU capacity provisioned [MHZ]  \\\n",
       "12677 2013-07-15 00:00:23          2                     5199.998638   \n",
       "12678 2013-07-15 00:05:23          2                     5199.998638   \n",
       "12679 2013-07-15 00:10:23          2                     5199.998638   \n",
       "12680 2013-07-15 00:15:23          2                     5199.998638   \n",
       "12681 2013-07-15 00:20:23          2                     5199.998638   \n",
       "\n",
       "       CPU usage [MHZ]  CPU usage [%]  Memory capacity provisioned [KB]  \\\n",
       "12677      2577.465992      49.566667                           8257536   \n",
       "12678      2515.066008      48.366667                           8257536   \n",
       "12679      2553.199331      49.100000                           8257536   \n",
       "12680      2577.465992      49.566667                           8257536   \n",
       "12681      2553.199331      49.100000                           8257536   \n",
       "\n",
       "       Memory usage [KB]  Disk read throughput [KB/s]  \\\n",
       "12677        1398099.200                          0.0   \n",
       "12678        1297435.200                          0.0   \n",
       "12679        1196772.800                          0.0   \n",
       "12680        1280658.133                          0.0   \n",
       "12681        1347767.467                          0.0   \n",
       "\n",
       "       Disk write throughput [KB/s]  Network received throughput [KB/s]  \\\n",
       "12677                     23.133333                            5.800000   \n",
       "12678                     36.333333                            5.800000   \n",
       "12679                     19.466667                            5.800000   \n",
       "12680                     26.866667                            6.600000   \n",
       "12681                     19.600000                            5.666667   \n",
       "\n",
       "       Network transmitted throughput [KB/s]  Memory Percentage [%]  \n",
       "12677                              17.333333              16.931191  \n",
       "12678                              17.466667              15.712135  \n",
       "12679                              17.333333              14.493098  \n",
       "12680                              19.866667              15.508962  \n",
       "12681                              17.333333              16.321666  "
      ]
     },
     "execution_count": 24,
     "metadata": {},
     "output_type": "execute_result"
    }
   ],
   "source": [
    "data1= data.loc[fix]\n",
    "data1.head()"
   ]
  },
  {
   "cell_type": "code",
   "execution_count": 25,
   "metadata": {},
   "outputs": [],
   "source": [
    "data1=data1.set_index('Time')\n"
   ]
  },
  {
   "cell_type": "code",
   "execution_count": 26,
   "metadata": {},
   "outputs": [
    {
     "data": {
      "image/png": "[encoded data removed]",
      "text/plain": [
       "<Figure size 2160x720 with 1 Axes>"
      ]
     },
     "metadata": {
      "needs_background": "light"
     },
     "output_type": "display_data"
    }
   ],
   "source": [
    "#Analysis of the gap\n",
    "ax= data1['Memory Percentage [%]'].plot(figsize=(30,10), title=\"Percentage of Memory utilization\")\n",
    "ax.set(xlabel='Dates', ylabel='Memory Percentage');\n"
   ]
  },
  {
   "cell_type": "markdown",
   "metadata": {},
   "source": [
    "#### Possible reasons for this gap could be unused VMs, as no public holiday or weekends were observed \n"
   ]
  },
  {
   "cell_type": "code",
   "execution_count": null,
   "metadata": {},
   "outputs": [],
   "source": []
  },
  {
   "cell_type": "code",
   "execution_count": null,
   "metadata": {},
   "outputs": [],
   "source": []
  },
  {
   "cell_type": "code",
   "execution_count": null,
   "metadata": {},
   "outputs": [],
   "source": []
  },
  {
   "cell_type": "code",
   "execution_count": null,
   "metadata": {},
   "outputs": [],
   "source": []
  },
  {
   "cell_type": "code",
   "execution_count": null,
   "metadata": {},
   "outputs": [],
   "source": []
  },
  {
   "cell_type": "code",
   "execution_count": 27,
   "metadata": {},
   "outputs": [],
   "source": [
    "data=data.set_index(\"Time\")"
   ]
  },
  {
   "cell_type": "code",
   "execution_count": 28,
   "metadata": {},
   "outputs": [
    {
     "name": "stdout",
     "output_type": "stream",
     "text": [
      "CPU cores\n",
      "CPU capacity provisioned [MHZ]\n",
      "CPU usage [MHZ]\n",
      "CPU usage [%]\n",
      "Memory capacity provisioned [KB]\n",
      "Memory usage [KB]\n",
      "Disk read throughput [KB/s]\n",
      "Disk write throughput [KB/s]\n",
      "Network received throughput [KB/s]\n",
      "Network transmitted throughput [KB/s]\n",
      "Memory Percentage [%]\n"
     ]
    }
   ],
   "source": [
    "for col in data.columns: \n",
    "    print(col) "
   ]
  },
  {
   "cell_type": "code",
   "execution_count": 29,
   "metadata": {},
   "outputs": [
    {
     "data": {
      "image/png": "[encoded data removed]",
      "text/plain": [
       "<Figure size 1152x360 with 1 Axes>"
      ]
     },
     "metadata": {
      "needs_background": "light"
     },
     "output_type": "display_data"
    }
   ],
   "source": [
    "ax= data['CPU usage [%]'].plot(figsize=(16,5), title=\"Percentage of CPU utilization\")\n",
    "ax.set(xlabel='Dates', ylabel='CPU usage Percentage');"
   ]
  },
  {
   "cell_type": "code",
   "execution_count": 30,
   "metadata": {},
   "outputs": [
    {
     "name": "stderr",
     "output_type": "stream",
     "text": [
      "C:\\Users\\97150\\Anaconda3\\lib\\site-packages\\ipykernel_launcher.py:5: FutureWarning: the 'freq' keyword is deprecated, use 'period' instead\n",
      "  \"\"\"\n"
     ]
    },
    {
     "data": {
      "image/png": "[encoded data removed]",
      "text/plain": [
       "<Figure size 432x288 with 4 Axes>"
      ]
     },
     "metadata": {
      "needs_background": "light"
     },
     "output_type": "display_data"
    }
   ],
   "source": [
    "from matplotlib import pyplot\n",
    "from statsmodels.tsa.seasonal import seasonal_decompose\n",
    "from matplotlib.pyplot import figure\n",
    "\n",
    "result=seasonal_decompose(data['CPU usage [%]'], model='additive', freq=10)\n",
    "result.plot()\n",
    "pyplot.show()"
   ]
  },
  {
   "cell_type": "code",
   "execution_count": 31,
   "metadata": {},
   "outputs": [
    {
     "name": "stderr",
     "output_type": "stream",
     "text": [
      "C:\\Users\\97150\\Anaconda3\\lib\\site-packages\\pandas\\plotting\\_matplotlib\\tools.py:307: MatplotlibDeprecationWarning: \n",
      "The rowNum attribute was deprecated in Matplotlib 3.2 and will be removed two minor releases later. Use ax.get_subplotspec().rowspan.start instead.\n",
      "  layout[ax.rowNum, ax.colNum] = ax.get_visible()\n",
      "C:\\Users\\97150\\Anaconda3\\lib\\site-packages\\pandas\\plotting\\_matplotlib\\tools.py:307: MatplotlibDeprecationWarning: \n",
      "The colNum attribute was deprecated in Matplotlib 3.2 and will be removed two minor releases later. Use ax.get_subplotspec().colspan.start instead.\n",
      "  layout[ax.rowNum, ax.colNum] = ax.get_visible()\n",
      "C:\\Users\\97150\\Anaconda3\\lib\\site-packages\\pandas\\plotting\\_matplotlib\\tools.py:313: MatplotlibDeprecationWarning: \n",
      "The rowNum attribute was deprecated in Matplotlib 3.2 and will be removed two minor releases later. Use ax.get_subplotspec().rowspan.start instead.\n",
      "  if not layout[ax.rowNum + 1, ax.colNum]:\n",
      "C:\\Users\\97150\\Anaconda3\\lib\\site-packages\\pandas\\plotting\\_matplotlib\\tools.py:313: MatplotlibDeprecationWarning: \n",
      "The colNum attribute was deprecated in Matplotlib 3.2 and will be removed two minor releases later. Use ax.get_subplotspec().colspan.start instead.\n",
      "  if not layout[ax.rowNum + 1, ax.colNum]:\n",
      "C:\\Users\\97150\\Anaconda3\\lib\\site-packages\\pandas\\plotting\\_matplotlib\\tools.py:307: MatplotlibDeprecationWarning: \n",
      "The rowNum attribute was deprecated in Matplotlib 3.2 and will be removed two minor releases later. Use ax.get_subplotspec().rowspan.start instead.\n",
      "  layout[ax.rowNum, ax.colNum] = ax.get_visible()\n",
      "C:\\Users\\97150\\Anaconda3\\lib\\site-packages\\pandas\\plotting\\_matplotlib\\tools.py:307: MatplotlibDeprecationWarning: \n",
      "The colNum attribute was deprecated in Matplotlib 3.2 and will be removed two minor releases later. Use ax.get_subplotspec().colspan.start instead.\n",
      "  layout[ax.rowNum, ax.colNum] = ax.get_visible()\n",
      "C:\\Users\\97150\\Anaconda3\\lib\\site-packages\\pandas\\plotting\\_matplotlib\\tools.py:313: MatplotlibDeprecationWarning: \n",
      "The rowNum attribute was deprecated in Matplotlib 3.2 and will be removed two minor releases later. Use ax.get_subplotspec().rowspan.start instead.\n",
      "  if not layout[ax.rowNum + 1, ax.colNum]:\n",
      "C:\\Users\\97150\\Anaconda3\\lib\\site-packages\\pandas\\plotting\\_matplotlib\\tools.py:313: MatplotlibDeprecationWarning: \n",
      "The colNum attribute was deprecated in Matplotlib 3.2 and will be removed two minor releases later. Use ax.get_subplotspec().colspan.start instead.\n",
      "  if not layout[ax.rowNum + 1, ax.colNum]:\n",
      "C:\\Users\\97150\\Anaconda3\\lib\\site-packages\\pandas\\plotting\\_matplotlib\\tools.py:307: MatplotlibDeprecationWarning: \n",
      "The rowNum attribute was deprecated in Matplotlib 3.2 and will be removed two minor releases later. Use ax.get_subplotspec().rowspan.start instead.\n",
      "  layout[ax.rowNum, ax.colNum] = ax.get_visible()\n",
      "C:\\Users\\97150\\Anaconda3\\lib\\site-packages\\pandas\\plotting\\_matplotlib\\tools.py:307: MatplotlibDeprecationWarning: \n",
      "The colNum attribute was deprecated in Matplotlib 3.2 and will be removed two minor releases later. Use ax.get_subplotspec().colspan.start instead.\n",
      "  layout[ax.rowNum, ax.colNum] = ax.get_visible()\n",
      "C:\\Users\\97150\\Anaconda3\\lib\\site-packages\\pandas\\plotting\\_matplotlib\\tools.py:313: MatplotlibDeprecationWarning: \n",
      "The rowNum attribute was deprecated in Matplotlib 3.2 and will be removed two minor releases later. Use ax.get_subplotspec().rowspan.start instead.\n",
      "  if not layout[ax.rowNum + 1, ax.colNum]:\n",
      "C:\\Users\\97150\\Anaconda3\\lib\\site-packages\\pandas\\plotting\\_matplotlib\\tools.py:313: MatplotlibDeprecationWarning: \n",
      "The colNum attribute was deprecated in Matplotlib 3.2 and will be removed two minor releases later. Use ax.get_subplotspec().colspan.start instead.\n",
      "  if not layout[ax.rowNum + 1, ax.colNum]:\n"
     ]
    },
    {
     "data": {
      "text/plain": [
       "<matplotlib.axes._subplots.AxesSubplot at 0x1fee236bac8>"
      ]
     },
     "execution_count": 31,
     "metadata": {},
     "output_type": "execute_result"
    },
    {
     "data": {
      "image/png": "[encoded data removed]",
      "text/plain": [
       "<Figure size 1440x2160 with 3 Axes>"
      ]
     },
     "metadata": {
      "needs_background": "light"
     },
     "output_type": "display_data"
    }
   ],
   "source": [
    "import matplotlib.pyplot as plt\n",
    "fig, (ax1,ax2,ax3) = plt.subplots(3,1, figsize=(20,30))\n",
    "result.trend.plot(ax=ax1, title='Trend')\n",
    "result.resid.plot(ax=ax2, title='Residual')\n",
    "result.seasonal.plot(ax=ax3, title='Seasonal')"
   ]
  },
  {
   "cell_type": "code",
   "execution_count": 32,
   "metadata": {},
   "outputs": [],
   "source": [
    "#To CHECK IF THE DATA IS STATIONARY \n"
   ]
  },
  {
   "cell_type": "code",
   "execution_count": 33,
   "metadata": {},
   "outputs": [
    {
     "data": {
      "text/plain": [
       "<matplotlib.axes._subplots.AxesSubplot at 0x1fee6b9b5c8>"
      ]
     },
     "execution_count": 33,
     "metadata": {},
     "output_type": "execute_result"
    },
    {
     "data": {
      "image/png": "[encoded data removed]",
      "text/plain": [
       "<Figure size 432x288 with 1 Axes>"
      ]
     },
     "metadata": {
      "needs_background": "light"
     },
     "output_type": "display_data"
    }
   ],
   "source": [
    "data['CPU usage [%]'].hist()"
   ]
  },
  {
   "cell_type": "code",
   "execution_count": 34,
   "metadata": {},
   "outputs": [],
   "source": [
    "one, two, three = np.split(\n",
    "        data['CPU usage [%]'].sample(\n",
    "        frac=1), [int(.25*len(data['CPU usage [%]'])),\n",
    "        int(.75*len(data['CPU usage [%]']))])"
   ]
  },
  {
   "cell_type": "code",
   "execution_count": 35,
   "metadata": {},
   "outputs": [
    {
     "name": "stdout",
     "output_type": "stream",
     "text": [
      "50.55972327528193 50.55704108898214 50.5478670870923\n",
      "0.3334749763508539 0.3566944671015594 0.3429852788626508\n"
     ]
    }
   ],
   "source": [
    "mean1, mean2, mean3 = one.mean(), two.mean(), three.mean()\n",
    "var1, var2, var3 = one.var(), two.var(), three.var()\n",
    "\n",
    "print (mean1, mean2, mean3)\n",
    "print (var1, var2, var3)"
   ]
  },
  {
   "cell_type": "code",
   "execution_count": null,
   "metadata": {},
   "outputs": [],
   "source": []
  },
  {
   "cell_type": "code",
   "execution_count": 36,
   "metadata": {},
   "outputs": [],
   "source": [
    "#DICKY FULLER\n",
    "from statsmodels.tsa.stattools import adfuller"
   ]
  },
  {
   "cell_type": "code",
   "execution_count": 37,
   "metadata": {},
   "outputs": [
    {
     "name": "stdout",
     "output_type": "stream",
     "text": [
      "ADF = -5.573701508211468\n",
      "p-value = 1.4480925475467673e-06\n"
     ]
    }
   ],
   "source": [
    "adf_test = adfuller(data['CPU usage [%]'])\n",
    "\n",
    "print (\"ADF = \" + str(adf_test[0]))\n",
    "print (\"p-value = \" +str(adf_test[1]))"
   ]
  },
  {
   "cell_type": "markdown",
   "metadata": {},
   "source": [
    "##### from the observed ADF and P-value, we can say the data is stationary \n"
   ]
  },
  {
   "cell_type": "code",
   "execution_count": 38,
   "metadata": {},
   "outputs": [
    {
     "data": {
      "image/png": "[encoded data removed]",
      "text/plain": [
       "<Figure size 432x288 with 1 Axes>"
      ]
     },
     "metadata": {
      "needs_background": "light"
     },
     "output_type": "display_data"
    }
   ],
   "source": [
    "#Lag Plot\n",
    "from pandas.plotting import lag_plot\n",
    "lag_plot(data['CPU usage [%]'])\n",
    "plt.show()"
   ]
  },
  {
   "cell_type": "code",
   "execution_count": 39,
   "metadata": {},
   "outputs": [
    {
     "data": {
      "image/png": "[encoded data removed]",
      "text/plain": [
       "<Figure size 432x288 with 1 Axes>"
      ]
     },
     "metadata": {
      "needs_background": "light"
     },
     "output_type": "display_data"
    }
   ],
   "source": [
    "#Plotting Auto-Correlation\n",
    "from statsmodels.graphics.tsaplots import plot_acf\n",
    "plot_acf(data['CPU usage [%]'], lags=50)\n",
    "plt.show()"
   ]
  },
  {
   "cell_type": "code",
   "execution_count": 40,
   "metadata": {},
   "outputs": [
    {
     "data": {
      "image/png": "[encoded data removed]",
      "text/plain": [
       "<Figure size 432x288 with 1 Axes>"
      ]
     },
     "metadata": {
      "needs_background": "light"
     },
     "output_type": "display_data"
    }
   ],
   "source": [
    "#Partial Autocorrelation plot \n",
    "from pandas import read_csv\n",
    "from matplotlib import pyplot\n",
    "from statsmodels.graphics.tsaplots import plot_pacf\n",
    "plot_pacf(data['CPU usage [%]'], lags=50)\n",
    "pyplot.show()"
   ]
  },
  {
   "cell_type": "code",
   "execution_count": null,
   "metadata": {},
   "outputs": [],
   "source": []
  },
  {
   "cell_type": "code",
   "execution_count": 41,
   "metadata": {},
   "outputs": [
    {
     "data": {
      "text/html": [
       "<div>\n",
       "<style scoped>\n",
       "    .dataframe tbody tr th:only-of-type {\n",
       "        vertical-align: middle;\n",
       "    }\n",
       "\n",
       "    .dataframe tbody tr th {\n",
       "        vertical-align: top;\n",
       "    }\n",
       "\n",
       "    .dataframe thead th {\n",
       "        text-align: right;\n",
       "    }\n",
       "</style>\n",
       "<table border=\"1\" class=\"dataframe\">\n",
       "  <thead>\n",
       "    <tr style=\"text-align: right;\">\n",
       "      <th></th>\n",
       "      <th>CPU cores</th>\n",
       "      <th>CPU capacity provisioned [MHZ]</th>\n",
       "      <th>CPU usage [MHZ]</th>\n",
       "      <th>CPU usage [%]</th>\n",
       "      <th>Memory capacity provisioned [KB]</th>\n",
       "      <th>Memory usage [KB]</th>\n",
       "      <th>Disk read throughput [KB/s]</th>\n",
       "      <th>Disk write throughput [KB/s]</th>\n",
       "      <th>Network received throughput [KB/s]</th>\n",
       "      <th>Network transmitted throughput [KB/s]</th>\n",
       "      <th>Memory Percentage [%]</th>\n",
       "    </tr>\n",
       "    <tr>\n",
       "      <th>Time</th>\n",
       "      <th></th>\n",
       "      <th></th>\n",
       "      <th></th>\n",
       "      <th></th>\n",
       "      <th></th>\n",
       "      <th></th>\n",
       "      <th></th>\n",
       "      <th></th>\n",
       "      <th></th>\n",
       "      <th></th>\n",
       "      <th></th>\n",
       "    </tr>\n",
       "  </thead>\n",
       "  <tbody>\n",
       "    <tr>\n",
       "      <td>2013-07-31 22:02:56</td>\n",
       "      <td>2</td>\n",
       "      <td>5199.999272</td>\n",
       "      <td>2655.466295</td>\n",
       "      <td>51.066667</td>\n",
       "      <td>8257536</td>\n",
       "      <td>1325398.400</td>\n",
       "      <td>0.0</td>\n",
       "      <td>40.533333</td>\n",
       "      <td>5.866667</td>\n",
       "      <td>17.533333</td>\n",
       "      <td>16.050773</td>\n",
       "    </tr>\n",
       "    <tr>\n",
       "      <td>2013-07-31 22:07:56</td>\n",
       "      <td>2</td>\n",
       "      <td>5199.999272</td>\n",
       "      <td>2627.732965</td>\n",
       "      <td>50.533333</td>\n",
       "      <td>8257536</td>\n",
       "      <td>1515538.933</td>\n",
       "      <td>0.0</td>\n",
       "      <td>20.600000</td>\n",
       "      <td>5.866667</td>\n",
       "      <td>17.400000</td>\n",
       "      <td>18.353404</td>\n",
       "    </tr>\n",
       "    <tr>\n",
       "      <td>2013-07-31 22:12:56</td>\n",
       "      <td>2</td>\n",
       "      <td>5199.999272</td>\n",
       "      <td>2631.199632</td>\n",
       "      <td>50.600000</td>\n",
       "      <td>8257536</td>\n",
       "      <td>1577056.800</td>\n",
       "      <td>0.0</td>\n",
       "      <td>24.333333</td>\n",
       "      <td>5.866667</td>\n",
       "      <td>17.333333</td>\n",
       "      <td>19.098394</td>\n",
       "    </tr>\n",
       "    <tr>\n",
       "      <td>2013-07-31 22:17:56</td>\n",
       "      <td>2</td>\n",
       "      <td>5199.999272</td>\n",
       "      <td>2629.466299</td>\n",
       "      <td>50.566667</td>\n",
       "      <td>8257536</td>\n",
       "      <td>1207957.600</td>\n",
       "      <td>0.0</td>\n",
       "      <td>20.133333</td>\n",
       "      <td>5.666667</td>\n",
       "      <td>17.466667</td>\n",
       "      <td>14.628548</td>\n",
       "    </tr>\n",
       "    <tr>\n",
       "      <td>2013-07-31 22:22:56</td>\n",
       "      <td>2</td>\n",
       "      <td>5199.999272</td>\n",
       "      <td>2625.999632</td>\n",
       "      <td>50.500000</td>\n",
       "      <td>8257536</td>\n",
       "      <td>1358952.800</td>\n",
       "      <td>0.0</td>\n",
       "      <td>27.600000</td>\n",
       "      <td>6.600000</td>\n",
       "      <td>20.000000</td>\n",
       "      <td>16.457122</td>\n",
       "    </tr>\n",
       "    <tr>\n",
       "      <td>...</td>\n",
       "      <td>...</td>\n",
       "      <td>...</td>\n",
       "      <td>...</td>\n",
       "      <td>...</td>\n",
       "      <td>...</td>\n",
       "      <td>...</td>\n",
       "      <td>...</td>\n",
       "      <td>...</td>\n",
       "      <td>...</td>\n",
       "      <td>...</td>\n",
       "      <td>...</td>\n",
       "    </tr>\n",
       "    <tr>\n",
       "      <td>2013-09-29 21:38:50</td>\n",
       "      <td>2</td>\n",
       "      <td>5199.999332</td>\n",
       "      <td>2643.332994</td>\n",
       "      <td>50.833333</td>\n",
       "      <td>8257536</td>\n",
       "      <td>1353359.733</td>\n",
       "      <td>0.0</td>\n",
       "      <td>20.000000</td>\n",
       "      <td>5.933333</td>\n",
       "      <td>17.600000</td>\n",
       "      <td>16.389389</td>\n",
       "    </tr>\n",
       "    <tr>\n",
       "      <td>2013-09-29 21:43:50</td>\n",
       "      <td>2</td>\n",
       "      <td>5199.999332</td>\n",
       "      <td>2657.199659</td>\n",
       "      <td>51.100000</td>\n",
       "      <td>8257536</td>\n",
       "      <td>1554686.933</td>\n",
       "      <td>0.0</td>\n",
       "      <td>27.000000</td>\n",
       "      <td>6.800000</td>\n",
       "      <td>19.866667</td>\n",
       "      <td>18.827492</td>\n",
       "    </tr>\n",
       "    <tr>\n",
       "      <td>2013-09-29 21:48:50</td>\n",
       "      <td>2</td>\n",
       "      <td>5199.999332</td>\n",
       "      <td>2686.666322</td>\n",
       "      <td>51.666667</td>\n",
       "      <td>8257536</td>\n",
       "      <td>1459615.467</td>\n",
       "      <td>0.0</td>\n",
       "      <td>19.933333</td>\n",
       "      <td>5.800000</td>\n",
       "      <td>17.533333</td>\n",
       "      <td>17.676162</td>\n",
       "    </tr>\n",
       "    <tr>\n",
       "      <td>2013-09-29 21:53:50</td>\n",
       "      <td>2</td>\n",
       "      <td>5199.999332</td>\n",
       "      <td>2679.732989</td>\n",
       "      <td>51.533333</td>\n",
       "      <td>8257536</td>\n",
       "      <td>1409283.467</td>\n",
       "      <td>0.0</td>\n",
       "      <td>49.800000</td>\n",
       "      <td>5.866667</td>\n",
       "      <td>17.466667</td>\n",
       "      <td>17.066634</td>\n",
       "    </tr>\n",
       "    <tr>\n",
       "      <td>2013-09-29 21:58:50</td>\n",
       "      <td>2</td>\n",
       "      <td>5199.999332</td>\n",
       "      <td>2669.332990</td>\n",
       "      <td>51.333333</td>\n",
       "      <td>8257536</td>\n",
       "      <td>1610610.400</td>\n",
       "      <td>0.0</td>\n",
       "      <td>20.000000</td>\n",
       "      <td>5.800000</td>\n",
       "      <td>17.400000</td>\n",
       "      <td>19.504734</td>\n",
       "    </tr>\n",
       "  </tbody>\n",
       "</table>\n",
       "<p>25188 rows × 11 columns</p>\n",
       "</div>"
      ],
      "text/plain": [
       "                     CPU cores  CPU capacity provisioned [MHZ]  \\\n",
       "Time                                                             \n",
       "2013-07-31 22:02:56          2                     5199.999272   \n",
       "2013-07-31 22:07:56          2                     5199.999272   \n",
       "2013-07-31 22:12:56          2                     5199.999272   \n",
       "2013-07-31 22:17:56          2                     5199.999272   \n",
       "2013-07-31 22:22:56          2                     5199.999272   \n",
       "...                        ...                             ...   \n",
       "2013-09-29 21:38:50          2                     5199.999332   \n",
       "2013-09-29 21:43:50          2                     5199.999332   \n",
       "2013-09-29 21:48:50          2                     5199.999332   \n",
       "2013-09-29 21:53:50          2                     5199.999332   \n",
       "2013-09-29 21:58:50          2                     5199.999332   \n",
       "\n",
       "                     CPU usage [MHZ]  CPU usage [%]  \\\n",
       "Time                                                  \n",
       "2013-07-31 22:02:56      2655.466295      51.066667   \n",
       "2013-07-31 22:07:56      2627.732965      50.533333   \n",
       "2013-07-31 22:12:56      2631.199632      50.600000   \n",
       "2013-07-31 22:17:56      2629.466299      50.566667   \n",
       "2013-07-31 22:22:56      2625.999632      50.500000   \n",
       "...                              ...            ...   \n",
       "2013-09-29 21:38:50      2643.332994      50.833333   \n",
       "2013-09-29 21:43:50      2657.199659      51.100000   \n",
       "2013-09-29 21:48:50      2686.666322      51.666667   \n",
       "2013-09-29 21:53:50      2679.732989      51.533333   \n",
       "2013-09-29 21:58:50      2669.332990      51.333333   \n",
       "\n",
       "                     Memory capacity provisioned [KB]  Memory usage [KB]  \\\n",
       "Time                                                                       \n",
       "2013-07-31 22:02:56                           8257536        1325398.400   \n",
       "2013-07-31 22:07:56                           8257536        1515538.933   \n",
       "2013-07-31 22:12:56                           8257536        1577056.800   \n",
       "2013-07-31 22:17:56                           8257536        1207957.600   \n",
       "2013-07-31 22:22:56                           8257536        1358952.800   \n",
       "...                                               ...                ...   \n",
       "2013-09-29 21:38:50                           8257536        1353359.733   \n",
       "2013-09-29 21:43:50                           8257536        1554686.933   \n",
       "2013-09-29 21:48:50                           8257536        1459615.467   \n",
       "2013-09-29 21:53:50                           8257536        1409283.467   \n",
       "2013-09-29 21:58:50                           8257536        1610610.400   \n",
       "\n",
       "                     Disk read throughput [KB/s]  \\\n",
       "Time                                               \n",
       "2013-07-31 22:02:56                          0.0   \n",
       "2013-07-31 22:07:56                          0.0   \n",
       "2013-07-31 22:12:56                          0.0   \n",
       "2013-07-31 22:17:56                          0.0   \n",
       "2013-07-31 22:22:56                          0.0   \n",
       "...                                          ...   \n",
       "2013-09-29 21:38:50                          0.0   \n",
       "2013-09-29 21:43:50                          0.0   \n",
       "2013-09-29 21:48:50                          0.0   \n",
       "2013-09-29 21:53:50                          0.0   \n",
       "2013-09-29 21:58:50                          0.0   \n",
       "\n",
       "                     Disk write throughput [KB/s]  \\\n",
       "Time                                                \n",
       "2013-07-31 22:02:56                     40.533333   \n",
       "2013-07-31 22:07:56                     20.600000   \n",
       "2013-07-31 22:12:56                     24.333333   \n",
       "2013-07-31 22:17:56                     20.133333   \n",
       "2013-07-31 22:22:56                     27.600000   \n",
       "...                                           ...   \n",
       "2013-09-29 21:38:50                     20.000000   \n",
       "2013-09-29 21:43:50                     27.000000   \n",
       "2013-09-29 21:48:50                     19.933333   \n",
       "2013-09-29 21:53:50                     49.800000   \n",
       "2013-09-29 21:58:50                     20.000000   \n",
       "\n",
       "                     Network received throughput [KB/s]  \\\n",
       "Time                                                      \n",
       "2013-07-31 22:02:56                            5.866667   \n",
       "2013-07-31 22:07:56                            5.866667   \n",
       "2013-07-31 22:12:56                            5.866667   \n",
       "2013-07-31 22:17:56                            5.666667   \n",
       "2013-07-31 22:22:56                            6.600000   \n",
       "...                                                 ...   \n",
       "2013-09-29 21:38:50                            5.933333   \n",
       "2013-09-29 21:43:50                            6.800000   \n",
       "2013-09-29 21:48:50                            5.800000   \n",
       "2013-09-29 21:53:50                            5.866667   \n",
       "2013-09-29 21:58:50                            5.800000   \n",
       "\n",
       "                     Network transmitted throughput [KB/s]  \\\n",
       "Time                                                         \n",
       "2013-07-31 22:02:56                              17.533333   \n",
       "2013-07-31 22:07:56                              17.400000   \n",
       "2013-07-31 22:12:56                              17.333333   \n",
       "2013-07-31 22:17:56                              17.466667   \n",
       "2013-07-31 22:22:56                              20.000000   \n",
       "...                                                    ...   \n",
       "2013-09-29 21:38:50                              17.600000   \n",
       "2013-09-29 21:43:50                              19.866667   \n",
       "2013-09-29 21:48:50                              17.533333   \n",
       "2013-09-29 21:53:50                              17.466667   \n",
       "2013-09-29 21:58:50                              17.400000   \n",
       "\n",
       "                     Memory Percentage [%]  \n",
       "Time                                        \n",
       "2013-07-31 22:02:56              16.050773  \n",
       "2013-07-31 22:07:56              18.353404  \n",
       "2013-07-31 22:12:56              19.098394  \n",
       "2013-07-31 22:17:56              14.628548  \n",
       "2013-07-31 22:22:56              16.457122  \n",
       "...                                    ...  \n",
       "2013-09-29 21:38:50              16.389389  \n",
       "2013-09-29 21:43:50              18.827492  \n",
       "2013-09-29 21:48:50              17.676162  \n",
       "2013-09-29 21:53:50              17.066634  \n",
       "2013-09-29 21:58:50              19.504734  \n",
       "\n",
       "[25188 rows x 11 columns]"
      ]
     },
     "execution_count": 41,
     "metadata": {},
     "output_type": "execute_result"
    }
   ],
   "source": [
    "data"
   ]
  },
  {
   "cell_type": "code",
   "execution_count": 42,
   "metadata": {},
   "outputs": [
    {
     "data": {
      "text/plain": [
       "(25188, 11)"
      ]
     },
     "execution_count": 42,
     "metadata": {},
     "output_type": "execute_result"
    }
   ],
   "source": [
    "data.shape"
   ]
  },
  {
   "cell_type": "code",
   "execution_count": 43,
   "metadata": {},
   "outputs": [],
   "source": [
    "data=data.reset_index(\"Time\")\n",
    "#data=data.set_index(\"Time\")"
   ]
  },
  {
   "cell_type": "markdown",
   "metadata": {},
   "source": [
    "## Auto Regressive Model - CPU and Memory Usage Percentage"
   ]
  },
  {
   "cell_type": "code",
   "execution_count": 44,
   "metadata": {},
   "outputs": [],
   "source": [
    "from statsmodels.tsa.ar_model import AR\n",
    "from sklearn.metrics import r2_score, median_absolute_error, mean_absolute_error\n",
    "from sklearn.metrics import median_absolute_error, mean_squared_error, mean_squared_log_error"
   ]
  },
  {
   "cell_type": "code",
   "execution_count": 45,
   "metadata": {},
   "outputs": [],
   "source": [
    "#create train/test datasets - 80, 20 split\n",
    "X = data['CPU usage [%]'].dropna()\n",
    "\n",
    "train_data = X[1:len(X)-5000]\n",
    "test_data = X[len(X)-5000:]"
   ]
  },
  {
   "cell_type": "code",
   "execution_count": 46,
   "metadata": {},
   "outputs": [
    {
     "data": {
      "text/plain": [
       "25188"
      ]
     },
     "execution_count": 46,
     "metadata": {},
     "output_type": "execute_result"
    }
   ],
   "source": [
    "len(X)"
   ]
  },
  {
   "cell_type": "code",
   "execution_count": 47,
   "metadata": {},
   "outputs": [
    {
     "data": {
      "text/plain": [
       "0        51.066667\n",
       "1        50.533333\n",
       "2        50.600000\n",
       "3        50.566667\n",
       "4        50.500000\n",
       "           ...    \n",
       "25183    50.833333\n",
       "25184    51.100000\n",
       "25185    51.666667\n",
       "25186    51.533333\n",
       "25187    51.333333\n",
       "Name: CPU usage [%], Length: 25188, dtype: float64"
      ]
     },
     "execution_count": 47,
     "metadata": {},
     "output_type": "execute_result"
    }
   ],
   "source": [
    "X"
   ]
  },
  {
   "cell_type": "code",
   "execution_count": 48,
   "metadata": {},
   "outputs": [
    {
     "name": "stdout",
     "output_type": "stream",
     "text": [
      "(20187,)\n",
      "(5000,)\n"
     ]
    }
   ],
   "source": [
    "print(train_data.shape)\n",
    "print(test_data.shape)"
   ]
  },
  {
   "cell_type": "code",
   "execution_count": 49,
   "metadata": {},
   "outputs": [
    {
     "name": "stderr",
     "output_type": "stream",
     "text": [
      "C:\\Users\\97150\\Anaconda3\\lib\\site-packages\\statsmodels\\tsa\\ar_model.py:791: FutureWarning: \n",
      "statsmodels.tsa.AR has been deprecated in favor of statsmodels.tsa.AutoReg and\n",
      "statsmodels.tsa.SARIMAX.\n",
      "\n",
      "AutoReg adds the ability to specify exogenous variables, include time trends,\n",
      "and add seasonal dummies. The AutoReg API differs from AR since the model is\n",
      "treated as immutable, and so the entire specification including the lag\n",
      "length must be specified when creating the model. This change is too\n",
      "substantial to incorporate into the existing AR api. The function\n",
      "ar_select_order performs lag length selection for AutoReg models.\n",
      "\n",
      "AutoReg only estimates parameters using conditional MLE (OLS). Use SARIMAX to\n",
      "estimate ARX and related models using full MLE via the Kalman Filter.\n",
      "\n",
      "To silence this warning and continue using AR until it is removed, use:\n",
      "\n",
      "import warnings\n",
      "warnings.filterwarnings('ignore', 'statsmodels.tsa.ar_model.AR', FutureWarning)\n",
      "\n",
      "  warnings.warn(AR_DEPRECATION_WARN, FutureWarning)\n",
      "C:\\Users\\97150\\Anaconda3\\lib\\site-packages\\statsmodels\\tsa\\base\\tsa_model.py:579: ValueWarning: An unsupported index was provided and will be ignored when e.g. forecasting.\n",
      "  ' ignored when e.g. forecasting.', ValueWarning)\n"
     ]
    }
   ],
   "source": [
    "model = AR(train_data)\n",
    "model_fit= model.fit()"
   ]
  },
  {
   "cell_type": "code",
   "execution_count": 50,
   "metadata": {},
   "outputs": [
    {
     "name": "stdout",
     "output_type": "stream",
     "text": [
      "The lag value chose is: 45\n"
     ]
    }
   ],
   "source": [
    "print('The lag value chose is: %s' % model_fit.k_ar)"
   ]
  },
  {
   "cell_type": "code",
   "execution_count": 51,
   "metadata": {},
   "outputs": [
    {
     "name": "stdout",
     "output_type": "stream",
     "text": [
      "The coefficients of the model are:\n",
      " const                1.823919\n",
      "L1.CPU usage [%]     0.089194\n",
      "L2.CPU usage [%]     0.085273\n",
      "L3.CPU usage [%]     0.063015\n",
      "L4.CPU usage [%]     0.064927\n",
      "L5.CPU usage [%]     0.044472\n",
      "L6.CPU usage [%]     0.052095\n",
      "L7.CPU usage [%]     0.054790\n",
      "L8.CPU usage [%]     0.041631\n",
      "L9.CPU usage [%]     0.037806\n",
      "L10.CPU usage [%]    0.017892\n",
      "L11.CPU usage [%]    0.036530\n",
      "L12.CPU usage [%]    0.053625\n",
      "L13.CPU usage [%]    0.016418\n",
      "L14.CPU usage [%]    0.013184\n",
      "L15.CPU usage [%]    0.004325\n",
      "L16.CPU usage [%]    0.015696\n",
      "L17.CPU usage [%]    0.006397\n",
      "L18.CPU usage [%]    0.013770\n",
      "L19.CPU usage [%]    0.012611\n",
      "L20.CPU usage [%]    0.016543\n",
      "L21.CPU usage [%]    0.018031\n",
      "L22.CPU usage [%]    0.009962\n",
      "L23.CPU usage [%]    0.022653\n",
      "L24.CPU usage [%]    0.019941\n",
      "L25.CPU usage [%]    0.002415\n",
      "L26.CPU usage [%]    0.011212\n",
      "L27.CPU usage [%]    0.011826\n",
      "L28.CPU usage [%]    0.009140\n",
      "L29.CPU usage [%]    0.008089\n",
      "L30.CPU usage [%]   -0.001505\n",
      "L31.CPU usage [%]    0.008534\n",
      "L32.CPU usage [%]    0.018781\n",
      "L33.CPU usage [%]   -0.003143\n",
      "L34.CPU usage [%]    0.014961\n",
      "L35.CPU usage [%]    0.004466\n",
      "L36.CPU usage [%]    0.015802\n",
      "L37.CPU usage [%]    0.010266\n",
      "L38.CPU usage [%]    0.014262\n",
      "L39.CPU usage [%]    0.006294\n",
      "L40.CPU usage [%]   -0.012408\n",
      "L41.CPU usage [%]   -0.001245\n",
      "L42.CPU usage [%]    0.007975\n",
      "L43.CPU usage [%]    0.009605\n",
      "L44.CPU usage [%]    0.000613\n",
      "L45.CPU usage [%]    0.017159\n",
      "dtype: float64\n"
     ]
    }
   ],
   "source": [
    "print('The coefficients of the model are:\\n %s' % model_fit.params)\n"
   ]
  },
  {
   "cell_type": "code",
   "execution_count": 52,
   "metadata": {},
   "outputs": [
    {
     "data": {
      "text/plain": [
       "4999"
      ]
     },
     "execution_count": 52,
     "metadata": {},
     "output_type": "execute_result"
    }
   ],
   "source": [
    "len(test_data)-1"
   ]
  },
  {
   "cell_type": "code",
   "execution_count": 53,
   "metadata": {},
   "outputs": [
    {
     "data": {
      "text/plain": [
       "20187"
      ]
     },
     "execution_count": 53,
     "metadata": {},
     "output_type": "execute_result"
    }
   ],
   "source": [
    "len(train_data)"
   ]
  },
  {
   "cell_type": "code",
   "execution_count": 54,
   "metadata": {},
   "outputs": [
    {
     "data": {
      "text/plain": [
       "25186"
      ]
     },
     "execution_count": 54,
     "metadata": {},
     "output_type": "execute_result"
    }
   ],
   "source": [
    "end=len(train_data) + len(test_data)-1\n",
    "end"
   ]
  },
  {
   "cell_type": "code",
   "execution_count": 55,
   "metadata": {},
   "outputs": [
    {
     "name": "stderr",
     "output_type": "stream",
     "text": [
      "C:\\Users\\97150\\Anaconda3\\lib\\site-packages\\statsmodels\\tsa\\base\\tsa_model.py:379: ValueWarning: No supported index is available. Prediction results will be given with an integer index beginning at `start`.\n",
      "  ValueWarning)\n"
     ]
    }
   ],
   "source": [
    "# make predictions \n",
    "predictions = model_fit.predict(start=len(train_data), end=len(train_data) + len(test_data)-1, dynamic=False)\n",
    "\n",
    "\n",
    "# create a comparison dataframe\n",
    "compare_df = pd.concat(\n",
    "    [data['CPU usage [%]'].reset_index(), #.tail(12),\n",
    "    predictions], axis=1).rename(\n",
    "    columns={'CPU usage [%]': 'actual', 0:'predicted'})\n",
    "compare_df=compare_df[['actual', 'predicted']].dropna()"
   ]
  },
  {
   "cell_type": "code",
   "execution_count": 56,
   "metadata": {},
   "outputs": [
    {
     "data": {
      "text/plain": [
       "5000"
      ]
     },
     "execution_count": 56,
     "metadata": {},
     "output_type": "execute_result"
    }
   ],
   "source": [
    "len(predictions)"
   ]
  },
  {
   "cell_type": "code",
   "execution_count": 57,
   "metadata": {},
   "outputs": [
    {
     "data": {
      "text/plain": [
       "20187    50.814336\n",
       "20188    50.812024\n",
       "20189    50.768862\n",
       "20190    50.760388\n",
       "20191    50.774676\n",
       "           ...    \n",
       "25182    50.495910\n",
       "25183    50.495910\n",
       "25184    50.495910\n",
       "25185    50.495910\n",
       "25186    50.495910\n",
       "Length: 5000, dtype: float64"
      ]
     },
     "execution_count": 57,
     "metadata": {},
     "output_type": "execute_result"
    }
   ],
   "source": [
    "predictions"
   ]
  },
  {
   "cell_type": "code",
   "execution_count": 58,
   "metadata": {},
   "outputs": [
    {
     "data": {
      "text/plain": [
       "50.495917    1\n",
       "50.495928    1\n",
       "50.495913    1\n",
       "50.495963    1\n",
       "50.495931    1\n",
       "            ..\n",
       "50.495999    1\n",
       "50.563471    1\n",
       "50.619030    1\n",
       "50.495910    1\n",
       "50.505765    1\n",
       "Length: 5000, dtype: int64"
      ]
     },
     "execution_count": 58,
     "metadata": {},
     "output_type": "execute_result"
    }
   ],
   "source": [
    "predictions.value_counts()"
   ]
  },
  {
   "cell_type": "code",
   "execution_count": 59,
   "metadata": {},
   "outputs": [
    {
     "data": {
      "text/html": [
       "<div>\n",
       "<style scoped>\n",
       "    .dataframe tbody tr th:only-of-type {\n",
       "        vertical-align: middle;\n",
       "    }\n",
       "\n",
       "    .dataframe tbody tr th {\n",
       "        vertical-align: top;\n",
       "    }\n",
       "\n",
       "    .dataframe thead th {\n",
       "        text-align: right;\n",
       "    }\n",
       "</style>\n",
       "<table border=\"1\" class=\"dataframe\">\n",
       "  <thead>\n",
       "    <tr style=\"text-align: right;\">\n",
       "      <th></th>\n",
       "      <th>actual</th>\n",
       "      <th>predicted</th>\n",
       "    </tr>\n",
       "  </thead>\n",
       "  <tbody>\n",
       "    <tr>\n",
       "      <td>20187</td>\n",
       "      <td>50.500000</td>\n",
       "      <td>50.814336</td>\n",
       "    </tr>\n",
       "    <tr>\n",
       "      <td>20188</td>\n",
       "      <td>50.433333</td>\n",
       "      <td>50.812024</td>\n",
       "    </tr>\n",
       "    <tr>\n",
       "      <td>20189</td>\n",
       "      <td>50.866667</td>\n",
       "      <td>50.768862</td>\n",
       "    </tr>\n",
       "    <tr>\n",
       "      <td>20190</td>\n",
       "      <td>50.533333</td>\n",
       "      <td>50.760388</td>\n",
       "    </tr>\n",
       "    <tr>\n",
       "      <td>20191</td>\n",
       "      <td>50.900000</td>\n",
       "      <td>50.774676</td>\n",
       "    </tr>\n",
       "    <tr>\n",
       "      <td>...</td>\n",
       "      <td>...</td>\n",
       "      <td>...</td>\n",
       "    </tr>\n",
       "    <tr>\n",
       "      <td>25182</td>\n",
       "      <td>51.566667</td>\n",
       "      <td>50.495910</td>\n",
       "    </tr>\n",
       "    <tr>\n",
       "      <td>25183</td>\n",
       "      <td>50.833333</td>\n",
       "      <td>50.495910</td>\n",
       "    </tr>\n",
       "    <tr>\n",
       "      <td>25184</td>\n",
       "      <td>51.100000</td>\n",
       "      <td>50.495910</td>\n",
       "    </tr>\n",
       "    <tr>\n",
       "      <td>25185</td>\n",
       "      <td>51.666667</td>\n",
       "      <td>50.495910</td>\n",
       "    </tr>\n",
       "    <tr>\n",
       "      <td>25186</td>\n",
       "      <td>51.533333</td>\n",
       "      <td>50.495910</td>\n",
       "    </tr>\n",
       "  </tbody>\n",
       "</table>\n",
       "<p>5000 rows × 2 columns</p>\n",
       "</div>"
      ],
      "text/plain": [
       "          actual  predicted\n",
       "20187  50.500000  50.814336\n",
       "20188  50.433333  50.812024\n",
       "20189  50.866667  50.768862\n",
       "20190  50.533333  50.760388\n",
       "20191  50.900000  50.774676\n",
       "...          ...        ...\n",
       "25182  51.566667  50.495910\n",
       "25183  50.833333  50.495910\n",
       "25184  51.100000  50.495910\n",
       "25185  51.666667  50.495910\n",
       "25186  51.533333  50.495910\n",
       "\n",
       "[5000 rows x 2 columns]"
      ]
     },
     "execution_count": 59,
     "metadata": {},
     "output_type": "execute_result"
    }
   ],
   "source": [
    "compare_df"
   ]
  },
  {
   "cell_type": "code",
   "execution_count": 60,
   "metadata": {},
   "outputs": [],
   "source": [
    "r2 = r2_score(compare_df.actual, compare_df.predicted)"
   ]
  },
  {
   "cell_type": "code",
   "execution_count": 61,
   "metadata": {},
   "outputs": [
    {
     "data": {
      "text/plain": [
       "-0.35318393079888555"
      ]
     },
     "execution_count": 61,
     "metadata": {},
     "output_type": "execute_result"
    }
   ],
   "source": [
    "r2"
   ]
  },
  {
   "cell_type": "code",
   "execution_count": 62,
   "metadata": {},
   "outputs": [
    {
     "name": "stdout",
     "output_type": "stream",
     "text": [
      "RMSE: 0.5902\n",
      "Mean Absolute Error: 0.4340\n"
     ]
    }
   ],
   "source": [
    "#MODEL EVALUATION - CPU PERCENTAGE USAGE\n",
    "from math import sqrt\n",
    "rmse = sqrt(mean_squared_error(test_data, predictions))\n",
    "print('RMSE: %.4f' % rmse)\n",
    "\n",
    "\n",
    "from sklearn.metrics import mean_absolute_error\n",
    "mae_test =mean_absolute_error(test_data,predictions)\n",
    "print('Mean Absolute Error: %.4f' % mae_test)\n"
   ]
  },
  {
   "cell_type": "code",
   "execution_count": 63,
   "metadata": {},
   "outputs": [
    {
     "data": {
      "text/plain": [
       "<matplotlib.axes._subplots.AxesSubplot at 0x1fe8500ab48>"
      ]
     },
     "execution_count": 63,
     "metadata": {},
     "output_type": "execute_result"
    },
    {
     "data": {
      "image/png": "[encoded data removed]",
      "text/plain": [
       "<Figure size 432x288 with 1 Axes>"
      ]
     },
     "metadata": {
      "needs_background": "light"
     },
     "output_type": "display_data"
    }
   ],
   "source": [
    "compare_df.plot()"
   ]
  },
  {
   "cell_type": "code",
   "execution_count": 64,
   "metadata": {},
   "outputs": [],
   "source": []
  },
  {
   "cell_type": "code",
   "execution_count": 68,
   "metadata": {},
   "outputs": [
    {
     "data": {
      "text/plain": [
       "20187"
      ]
     },
     "execution_count": 68,
     "metadata": {},
     "output_type": "execute_result"
    }
   ],
   "source": [
    "len(train_data)"
   ]
  },
  {
   "cell_type": "code",
   "execution_count": 69,
   "metadata": {},
   "outputs": [
    {
     "data": {
      "text/plain": [
       "51108"
      ]
     },
     "execution_count": 69,
     "metadata": {},
     "output_type": "execute_result"
    }
   ],
   "source": [
    "end=len(train_data) + len(test_data)-1 + 25922\n",
    "end"
   ]
  },
  {
   "cell_type": "code",
   "execution_count": 70,
   "metadata": {},
   "outputs": [],
   "source": [
    "# Forecasting for CPU usage percentage "
   ]
  },
  {
   "cell_type": "code",
   "execution_count": 71,
   "metadata": {},
   "outputs": [
    {
     "data": {
      "text/plain": [
       "5000"
      ]
     },
     "execution_count": 71,
     "metadata": {},
     "output_type": "execute_result"
    }
   ],
   "source": [
    "len(test_data)"
   ]
  },
  {
   "cell_type": "code",
   "execution_count": 72,
   "metadata": {},
   "outputs": [
    {
     "data": {
      "text/plain": [
       "array([0., 0., 0.])"
      ]
     },
     "execution_count": 72,
     "metadata": {},
     "output_type": "execute_result"
    }
   ],
   "source": [
    "predictedvalues = np.zeros(25189 + 1 - 25187)\n",
    "predictedvalues"
   ]
  },
  {
   "cell_type": "code",
   "execution_count": 73,
   "metadata": {},
   "outputs": [
    {
     "name": "stderr",
     "output_type": "stream",
     "text": [
      "C:\\Users\\97150\\Anaconda3\\lib\\site-packages\\statsmodels\\tsa\\base\\tsa_model.py:379: ValueWarning: No supported index is available. Prediction results will be given with an integer index beginning at `start`.\n",
      "  ValueWarning)\n"
     ]
    }
   ],
   "source": [
    "forecast_cpu = model_fit.predict(start=20000, end=51108, dynamic=False)"
   ]
  },
  {
   "cell_type": "code",
   "execution_count": 74,
   "metadata": {},
   "outputs": [
    {
     "data": {
      "text/plain": [
       "50.495909    21290\n",
       "50.495909       26\n",
       "50.495909       25\n",
       "50.495909       23\n",
       "50.495909       22\n",
       "             ...  \n",
       "50.563471        1\n",
       "50.619030        1\n",
       "50.502991        1\n",
       "50.509041        1\n",
       "50.495909        1\n",
       "Length: 9226, dtype: int64"
      ]
     },
     "execution_count": 74,
     "metadata": {},
     "output_type": "execute_result"
    }
   ],
   "source": [
    "forecast_cpu.value_counts()"
   ]
  },
  {
   "cell_type": "code",
   "execution_count": 75,
   "metadata": {},
   "outputs": [
    {
     "data": {
      "text/plain": [
       "50.700000    178\n",
       "50.633333    154\n",
       "50.733333    151\n",
       "50.600000    151\n",
       "50.900000    149\n",
       "            ... \n",
       "39.533333      1\n",
       "52.533333      1\n",
       "49.566667      1\n",
       "51.750000      1\n",
       "51.250000      1\n",
       "Name: CPU usage [%], Length: 97, dtype: int64"
      ]
     },
     "execution_count": 75,
     "metadata": {},
     "output_type": "execute_result"
    }
   ],
   "source": [
    "test_data.value_counts()"
   ]
  },
  {
   "cell_type": "code",
   "execution_count": 76,
   "metadata": {},
   "outputs": [
    {
     "name": "stderr",
     "output_type": "stream",
     "text": [
      "C:\\Users\\97150\\Anaconda3\\lib\\site-packages\\statsmodels\\tsa\\base\\tsa_model.py:379: ValueWarning: No supported index is available. Prediction results will be given with an integer index beginning at `start`.\n",
      "  ValueWarning)\n"
     ]
    }
   ],
   "source": [
    "forecast_cpu = model_fit.predict(start=len(train_data), end=len(train_data) + len(test_data)-1 + 25922 , dynamic=False)"
   ]
  },
  {
   "cell_type": "code",
   "execution_count": 77,
   "metadata": {},
   "outputs": [
    {
     "data": {
      "text/plain": [
       "20187    50.814336\n",
       "20188    50.812024\n",
       "20189    50.768862\n",
       "20190    50.760388\n",
       "20191    50.774676\n",
       "           ...    \n",
       "51104    50.495909\n",
       "51105    50.495909\n",
       "51106    50.495909\n",
       "51107    50.495909\n",
       "51108    50.495909\n",
       "Length: 30922, dtype: float64"
      ]
     },
     "execution_count": 77,
     "metadata": {},
     "output_type": "execute_result"
    }
   ],
   "source": [
    "forecast_cpu"
   ]
  },
  {
   "cell_type": "code",
   "execution_count": 78,
   "metadata": {},
   "outputs": [
    {
     "data": {
      "text/plain": [
       "30922"
      ]
     },
     "execution_count": 78,
     "metadata": {},
     "output_type": "execute_result"
    }
   ],
   "source": [
    "len(forecast_cpu)"
   ]
  },
  {
   "cell_type": "code",
   "execution_count": 79,
   "metadata": {},
   "outputs": [
    {
     "data": {
      "text/plain": [
       "25188    50.495910\n",
       "25189    50.495910\n",
       "25190    50.495910\n",
       "25191    50.495910\n",
       "25192    50.495910\n",
       "           ...    \n",
       "51104    50.495909\n",
       "51105    50.495909\n",
       "51106    50.495909\n",
       "51107    50.495909\n",
       "51108    50.495909\n",
       "Length: 25921, dtype: float64"
      ]
     },
     "execution_count": 79,
     "metadata": {},
     "output_type": "execute_result"
    }
   ],
   "source": [
    "trial= forecast_cpu[5001:30922, ]\n",
    "trial"
   ]
  },
  {
   "cell_type": "code",
   "execution_count": 80,
   "metadata": {},
   "outputs": [
    {
     "data": {
      "text/plain": [
       "25921"
      ]
     },
     "execution_count": 80,
     "metadata": {},
     "output_type": "execute_result"
    }
   ],
   "source": [
    "len(trial)"
   ]
  },
  {
   "cell_type": "code",
   "execution_count": 81,
   "metadata": {},
   "outputs": [
    {
     "data": {
      "text/plain": [
       "25921"
      ]
     },
     "execution_count": 81,
     "metadata": {},
     "output_type": "execute_result"
    }
   ],
   "source": [
    "predicted_cpu = pd.DataFrame(trial, columns=['predicted_cpu_usage [%]'])\n",
    "len(predicted_cpu)"
   ]
  },
  {
   "cell_type": "code",
   "execution_count": 82,
   "metadata": {},
   "outputs": [
    {
     "data": {
      "text/plain": [
       "DatetimeIndex(['2013-09-29 22:03:50', '2013-09-29 22:08:50',\n",
       "               '2013-09-29 22:13:50', '2013-09-29 22:18:50',\n",
       "               '2013-09-29 22:23:50', '2013-09-29 22:28:50',\n",
       "               '2013-09-29 22:33:50', '2013-09-29 22:38:50',\n",
       "               '2013-09-29 22:43:50', '2013-09-29 22:48:50',\n",
       "               ...\n",
       "               '2013-12-28 21:18:50', '2013-12-28 21:23:50',\n",
       "               '2013-12-28 21:28:50', '2013-12-28 21:33:50',\n",
       "               '2013-12-28 21:38:50', '2013-12-28 21:43:50',\n",
       "               '2013-12-28 21:48:50', '2013-12-28 21:53:50',\n",
       "               '2013-12-28 21:58:50', '2013-12-28 22:03:50'],\n",
       "              dtype='datetime64[ns]', length=25921, freq='5T')"
      ]
     },
     "execution_count": 82,
     "metadata": {},
     "output_type": "execute_result"
    }
   ],
   "source": [
    "time = pd.date_range('2013-09-29 22:03:50', periods=25921, freq='5min')\n",
    "time"
   ]
  },
  {
   "cell_type": "code",
   "execution_count": 83,
   "metadata": {},
   "outputs": [],
   "source": [
    "predicted_cpu['Timestamp']=time"
   ]
  },
  {
   "cell_type": "code",
   "execution_count": 84,
   "metadata": {},
   "outputs": [
    {
     "data": {
      "text/html": [
       "<div>\n",
       "<style scoped>\n",
       "    .dataframe tbody tr th:only-of-type {\n",
       "        vertical-align: middle;\n",
       "    }\n",
       "\n",
       "    .dataframe tbody tr th {\n",
       "        vertical-align: top;\n",
       "    }\n",
       "\n",
       "    .dataframe thead th {\n",
       "        text-align: right;\n",
       "    }\n",
       "</style>\n",
       "<table border=\"1\" class=\"dataframe\">\n",
       "  <thead>\n",
       "    <tr style=\"text-align: right;\">\n",
       "      <th></th>\n",
       "      <th>predicted_cpu_usage [%]</th>\n",
       "      <th>Timestamp</th>\n",
       "    </tr>\n",
       "  </thead>\n",
       "  <tbody>\n",
       "    <tr>\n",
       "      <td>25188</td>\n",
       "      <td>50.495910</td>\n",
       "      <td>2013-09-29 22:03:50</td>\n",
       "    </tr>\n",
       "    <tr>\n",
       "      <td>25189</td>\n",
       "      <td>50.495910</td>\n",
       "      <td>2013-09-29 22:08:50</td>\n",
       "    </tr>\n",
       "    <tr>\n",
       "      <td>25190</td>\n",
       "      <td>50.495910</td>\n",
       "      <td>2013-09-29 22:13:50</td>\n",
       "    </tr>\n",
       "    <tr>\n",
       "      <td>25191</td>\n",
       "      <td>50.495910</td>\n",
       "      <td>2013-09-29 22:18:50</td>\n",
       "    </tr>\n",
       "    <tr>\n",
       "      <td>25192</td>\n",
       "      <td>50.495910</td>\n",
       "      <td>2013-09-29 22:23:50</td>\n",
       "    </tr>\n",
       "    <tr>\n",
       "      <td>...</td>\n",
       "      <td>...</td>\n",
       "      <td>...</td>\n",
       "    </tr>\n",
       "    <tr>\n",
       "      <td>51104</td>\n",
       "      <td>50.495909</td>\n",
       "      <td>2013-12-28 21:43:50</td>\n",
       "    </tr>\n",
       "    <tr>\n",
       "      <td>51105</td>\n",
       "      <td>50.495909</td>\n",
       "      <td>2013-12-28 21:48:50</td>\n",
       "    </tr>\n",
       "    <tr>\n",
       "      <td>51106</td>\n",
       "      <td>50.495909</td>\n",
       "      <td>2013-12-28 21:53:50</td>\n",
       "    </tr>\n",
       "    <tr>\n",
       "      <td>51107</td>\n",
       "      <td>50.495909</td>\n",
       "      <td>2013-12-28 21:58:50</td>\n",
       "    </tr>\n",
       "    <tr>\n",
       "      <td>51108</td>\n",
       "      <td>50.495909</td>\n",
       "      <td>2013-12-28 22:03:50</td>\n",
       "    </tr>\n",
       "  </tbody>\n",
       "</table>\n",
       "<p>25921 rows × 2 columns</p>\n",
       "</div>"
      ],
      "text/plain": [
       "       predicted_cpu_usage [%]           Timestamp\n",
       "25188                50.495910 2013-09-29 22:03:50\n",
       "25189                50.495910 2013-09-29 22:08:50\n",
       "25190                50.495910 2013-09-29 22:13:50\n",
       "25191                50.495910 2013-09-29 22:18:50\n",
       "25192                50.495910 2013-09-29 22:23:50\n",
       "...                        ...                 ...\n",
       "51104                50.495909 2013-12-28 21:43:50\n",
       "51105                50.495909 2013-12-28 21:48:50\n",
       "51106                50.495909 2013-12-28 21:53:50\n",
       "51107                50.495909 2013-12-28 21:58:50\n",
       "51108                50.495909 2013-12-28 22:03:50\n",
       "\n",
       "[25921 rows x 2 columns]"
      ]
     },
     "execution_count": 84,
     "metadata": {},
     "output_type": "execute_result"
    }
   ],
   "source": [
    "predicted_cpu"
   ]
  },
  {
   "cell_type": "code",
   "execution_count": null,
   "metadata": {},
   "outputs": [],
   "source": []
  },
  {
   "cell_type": "code",
   "execution_count": null,
   "metadata": {},
   "outputs": [],
   "source": []
  },
  {
   "cell_type": "code",
   "execution_count": 85,
   "metadata": {},
   "outputs": [],
   "source": [
    "#For Memory Percentage Usage "
   ]
  },
  {
   "cell_type": "code",
   "execution_count": 86,
   "metadata": {},
   "outputs": [],
   "source": [
    "memdata = data['Memory Percentage [%]'].dropna()\n",
    "\n",
    "mem_train = memdata[1:len(X)-5000]\n",
    "mem_test = memdata[len(X)-5000:]"
   ]
  },
  {
   "cell_type": "code",
   "execution_count": null,
   "metadata": {},
   "outputs": [],
   "source": []
  },
  {
   "cell_type": "code",
   "execution_count": 87,
   "metadata": {},
   "outputs": [
    {
     "name": "stdout",
     "output_type": "stream",
     "text": [
      "(20187,)\n",
      "(5000,)\n"
     ]
    }
   ],
   "source": [
    "print(mem_train.shape)\n",
    "print(mem_test.shape)"
   ]
  },
  {
   "cell_type": "code",
   "execution_count": 88,
   "metadata": {},
   "outputs": [
    {
     "data": {
      "text/plain": [
       "25188"
      ]
     },
     "execution_count": 88,
     "metadata": {},
     "output_type": "execute_result"
    }
   ],
   "source": [
    "len(memdata)"
   ]
  },
  {
   "cell_type": "code",
   "execution_count": 89,
   "metadata": {},
   "outputs": [
    {
     "name": "stderr",
     "output_type": "stream",
     "text": [
      "C:\\Users\\97150\\Anaconda3\\lib\\site-packages\\statsmodels\\tsa\\ar_model.py:791: FutureWarning: \n",
      "statsmodels.tsa.AR has been deprecated in favor of statsmodels.tsa.AutoReg and\n",
      "statsmodels.tsa.SARIMAX.\n",
      "\n",
      "AutoReg adds the ability to specify exogenous variables, include time trends,\n",
      "and add seasonal dummies. The AutoReg API differs from AR since the model is\n",
      "treated as immutable, and so the entire specification including the lag\n",
      "length must be specified when creating the model. This change is too\n",
      "substantial to incorporate into the existing AR api. The function\n",
      "ar_select_order performs lag length selection for AutoReg models.\n",
      "\n",
      "AutoReg only estimates parameters using conditional MLE (OLS). Use SARIMAX to\n",
      "estimate ARX and related models using full MLE via the Kalman Filter.\n",
      "\n",
      "To silence this warning and continue using AR until it is removed, use:\n",
      "\n",
      "import warnings\n",
      "warnings.filterwarnings('ignore', 'statsmodels.tsa.ar_model.AR', FutureWarning)\n",
      "\n",
      "  warnings.warn(AR_DEPRECATION_WARN, FutureWarning)\n",
      "C:\\Users\\97150\\Anaconda3\\lib\\site-packages\\statsmodels\\tsa\\base\\tsa_model.py:579: ValueWarning: An unsupported index was provided and will be ignored when e.g. forecasting.\n",
      "  ' ignored when e.g. forecasting.', ValueWarning)\n"
     ]
    }
   ],
   "source": [
    "model_memory = AR(mem_train).fit()\n"
   ]
  },
  {
   "cell_type": "code",
   "execution_count": 90,
   "metadata": {},
   "outputs": [
    {
     "name": "stdout",
     "output_type": "stream",
     "text": [
      "The lag value chose is: 45\n"
     ]
    }
   ],
   "source": [
    "print('The lag value chose is: %s' % model_memory.k_ar)"
   ]
  },
  {
   "cell_type": "code",
   "execution_count": 91,
   "metadata": {},
   "outputs": [
    {
     "name": "stderr",
     "output_type": "stream",
     "text": [
      "C:\\Users\\97150\\Anaconda3\\lib\\site-packages\\statsmodels\\tsa\\base\\tsa_model.py:379: ValueWarning: No supported index is available. Prediction results will be given with an integer index beginning at `start`.\n",
      "  ValueWarning)\n"
     ]
    }
   ],
   "source": [
    "# make predictions \n",
    "pred_mpu = model_memory.predict(start=len(mem_train), end=len(mem_train) + len(mem_test)-1, dynamic=False)\n",
    "\n",
    "\n",
    "# create a comparison dataframe\n",
    "new_df = pd.concat(\n",
    "    [data['Memory Percentage [%]'].reset_index(), #.tail(12),\n",
    "    pred_mpu], axis=1).rename(\n",
    "    columns={'Memory Percentage [%]': 'actual', 0:'predicted'})\n",
    "new_df=new_df[['actual', 'predicted']].dropna()"
   ]
  },
  {
   "cell_type": "code",
   "execution_count": 92,
   "metadata": {},
   "outputs": [
    {
     "data": {
      "text/html": [
       "<div>\n",
       "<style scoped>\n",
       "    .dataframe tbody tr th:only-of-type {\n",
       "        vertical-align: middle;\n",
       "    }\n",
       "\n",
       "    .dataframe tbody tr th {\n",
       "        vertical-align: top;\n",
       "    }\n",
       "\n",
       "    .dataframe thead th {\n",
       "        text-align: right;\n",
       "    }\n",
       "</style>\n",
       "<table border=\"1\" class=\"dataframe\">\n",
       "  <thead>\n",
       "    <tr style=\"text-align: right;\">\n",
       "      <th></th>\n",
       "      <th>actual</th>\n",
       "      <th>predicted</th>\n",
       "    </tr>\n",
       "  </thead>\n",
       "  <tbody>\n",
       "    <tr>\n",
       "      <td>20187</td>\n",
       "      <td>18.421137</td>\n",
       "      <td>17.460143</td>\n",
       "    </tr>\n",
       "    <tr>\n",
       "      <td>20188</td>\n",
       "      <td>16.592565</td>\n",
       "      <td>17.439836</td>\n",
       "    </tr>\n",
       "    <tr>\n",
       "      <td>20189</td>\n",
       "      <td>18.217961</td>\n",
       "      <td>17.767574</td>\n",
       "    </tr>\n",
       "    <tr>\n",
       "      <td>20190</td>\n",
       "      <td>14.763994</td>\n",
       "      <td>17.533737</td>\n",
       "    </tr>\n",
       "    <tr>\n",
       "      <td>20191</td>\n",
       "      <td>17.608433</td>\n",
       "      <td>17.316115</td>\n",
       "    </tr>\n",
       "    <tr>\n",
       "      <td>...</td>\n",
       "      <td>...</td>\n",
       "      <td>...</td>\n",
       "    </tr>\n",
       "    <tr>\n",
       "      <td>25182</td>\n",
       "      <td>18.421127</td>\n",
       "      <td>17.294269</td>\n",
       "    </tr>\n",
       "    <tr>\n",
       "      <td>25183</td>\n",
       "      <td>16.389389</td>\n",
       "      <td>17.294269</td>\n",
       "    </tr>\n",
       "    <tr>\n",
       "      <td>25184</td>\n",
       "      <td>18.827492</td>\n",
       "      <td>17.294269</td>\n",
       "    </tr>\n",
       "    <tr>\n",
       "      <td>25185</td>\n",
       "      <td>17.676162</td>\n",
       "      <td>17.294269</td>\n",
       "    </tr>\n",
       "    <tr>\n",
       "      <td>25186</td>\n",
       "      <td>17.066634</td>\n",
       "      <td>17.294269</td>\n",
       "    </tr>\n",
       "  </tbody>\n",
       "</table>\n",
       "<p>5000 rows × 2 columns</p>\n",
       "</div>"
      ],
      "text/plain": [
       "          actual  predicted\n",
       "20187  18.421137  17.460143\n",
       "20188  16.592565  17.439836\n",
       "20189  18.217961  17.767574\n",
       "20190  14.763994  17.533737\n",
       "20191  17.608433  17.316115\n",
       "...          ...        ...\n",
       "25182  18.421127  17.294269\n",
       "25183  16.389389  17.294269\n",
       "25184  18.827492  17.294269\n",
       "25185  17.676162  17.294269\n",
       "25186  17.066634  17.294269\n",
       "\n",
       "[5000 rows x 2 columns]"
      ]
     },
     "execution_count": 92,
     "metadata": {},
     "output_type": "execute_result"
    }
   ],
   "source": [
    "new_df"
   ]
  },
  {
   "cell_type": "code",
   "execution_count": 93,
   "metadata": {},
   "outputs": [
    {
     "name": "stdout",
     "output_type": "stream",
     "text": [
      "RMSE: 1.6415\n",
      "Mean Absolute Error: 1.2850\n"
     ]
    }
   ],
   "source": [
    "#MODEL EVALUATION - MEMORY PERCENTAGE USAGE\n",
    "from math import sqrt\n",
    "rmse_mpu = sqrt(mean_squared_error(mem_test, pred_mpu))\n",
    "print('RMSE: %.4f' % rmse_mpu)\n",
    "\n",
    "\n",
    "from sklearn.metrics import mean_absolute_error\n",
    "mae_mpu =mean_absolute_error(mem_test, pred_mpu)\n",
    "print('Mean Absolute Error: %.4f' % mae_mpu)"
   ]
  },
  {
   "cell_type": "code",
   "execution_count": 94,
   "metadata": {},
   "outputs": [
    {
     "data": {
      "text/plain": [
       "<matplotlib.axes._subplots.AxesSubplot at 0x1fe850b4388>"
      ]
     },
     "execution_count": 94,
     "metadata": {},
     "output_type": "execute_result"
    },
    {
     "data": {
      "image/png": "[encoded data removed]",
      "text/plain": [
       "<Figure size 432x288 with 1 Axes>"
      ]
     },
     "metadata": {
      "needs_background": "light"
     },
     "output_type": "display_data"
    }
   ],
   "source": [
    "new_df.plot()"
   ]
  },
  {
   "cell_type": "code",
   "execution_count": null,
   "metadata": {},
   "outputs": [],
   "source": []
  },
  {
   "cell_type": "code",
   "execution_count": 95,
   "metadata": {},
   "outputs": [
    {
     "name": "stderr",
     "output_type": "stream",
     "text": [
      "C:\\Users\\97150\\Anaconda3\\lib\\site-packages\\statsmodels\\tsa\\base\\tsa_model.py:379: ValueWarning: No supported index is available. Prediction results will be given with an integer index beginning at `start`.\n",
      "  ValueWarning)\n"
     ]
    }
   ],
   "source": [
    "forecast_mpu = model_memory.predict(start=len(mem_train), end=len(mem_train) + len(mem_test)-1 + 25922 , dynamic=False)"
   ]
  },
  {
   "cell_type": "code",
   "execution_count": 96,
   "metadata": {},
   "outputs": [
    {
     "data": {
      "text/plain": [
       "20187    17.460143\n",
       "20188    17.439836\n",
       "20189    17.767574\n",
       "20190    17.533737\n",
       "20191    17.316115\n",
       "           ...    \n",
       "51104    17.294269\n",
       "51105    17.294269\n",
       "51106    17.294269\n",
       "51107    17.294269\n",
       "51108    17.294269\n",
       "Length: 30922, dtype: float64"
      ]
     },
     "execution_count": 96,
     "metadata": {},
     "output_type": "execute_result"
    }
   ],
   "source": [
    "forecast_mpu"
   ]
  },
  {
   "cell_type": "code",
   "execution_count": 97,
   "metadata": {},
   "outputs": [
    {
     "data": {
      "text/plain": [
       "25188    17.294269\n",
       "25189    17.294269\n",
       "25190    17.294269\n",
       "25191    17.294269\n",
       "25192    17.294269\n",
       "           ...    \n",
       "51104    17.294269\n",
       "51105    17.294269\n",
       "51106    17.294269\n",
       "51107    17.294269\n",
       "51108    17.294269\n",
       "Length: 25921, dtype: float64"
      ]
     },
     "execution_count": 97,
     "metadata": {},
     "output_type": "execute_result"
    }
   ],
   "source": [
    "final_mpuForecast= forecast_mpu[5001:30922, ]\n",
    "final_mpuForecast"
   ]
  },
  {
   "cell_type": "code",
   "execution_count": 98,
   "metadata": {},
   "outputs": [
    {
     "data": {
      "text/plain": [
       "25921"
      ]
     },
     "execution_count": 98,
     "metadata": {},
     "output_type": "execute_result"
    }
   ],
   "source": [
    "predicted_mpu = pd.DataFrame(final_mpuForecast, columns=['predicted_memory_usage [%]'])\n",
    "len(predicted_mpu)"
   ]
  },
  {
   "cell_type": "code",
   "execution_count": 99,
   "metadata": {},
   "outputs": [
    {
     "data": {
      "text/plain": [
       "DatetimeIndex(['2013-09-29 22:03:50', '2013-09-29 22:08:50',\n",
       "               '2013-09-29 22:13:50', '2013-09-29 22:18:50',\n",
       "               '2013-09-29 22:23:50', '2013-09-29 22:28:50',\n",
       "               '2013-09-29 22:33:50', '2013-09-29 22:38:50',\n",
       "               '2013-09-29 22:43:50', '2013-09-29 22:48:50',\n",
       "               ...\n",
       "               '2013-12-28 21:18:50', '2013-12-28 21:23:50',\n",
       "               '2013-12-28 21:28:50', '2013-12-28 21:33:50',\n",
       "               '2013-12-28 21:38:50', '2013-12-28 21:43:50',\n",
       "               '2013-12-28 21:48:50', '2013-12-28 21:53:50',\n",
       "               '2013-12-28 21:58:50', '2013-12-28 22:03:50'],\n",
       "              dtype='datetime64[ns]', length=25921, freq='5T')"
      ]
     },
     "execution_count": 99,
     "metadata": {},
     "output_type": "execute_result"
    }
   ],
   "source": [
    "time = pd.date_range('2013-09-29 22:03:50', periods=25921, freq='5min')\n",
    "time"
   ]
  },
  {
   "cell_type": "code",
   "execution_count": 100,
   "metadata": {},
   "outputs": [],
   "source": [
    "predicted_mpu['Timestamp']=time"
   ]
  },
  {
   "cell_type": "code",
   "execution_count": 101,
   "metadata": {},
   "outputs": [
    {
     "data": {
      "text/html": [
       "<div>\n",
       "<style scoped>\n",
       "    .dataframe tbody tr th:only-of-type {\n",
       "        vertical-align: middle;\n",
       "    }\n",
       "\n",
       "    .dataframe tbody tr th {\n",
       "        vertical-align: top;\n",
       "    }\n",
       "\n",
       "    .dataframe thead th {\n",
       "        text-align: right;\n",
       "    }\n",
       "</style>\n",
       "<table border=\"1\" class=\"dataframe\">\n",
       "  <thead>\n",
       "    <tr style=\"text-align: right;\">\n",
       "      <th></th>\n",
       "      <th>predicted_memory_usage [%]</th>\n",
       "      <th>Timestamp</th>\n",
       "    </tr>\n",
       "  </thead>\n",
       "  <tbody>\n",
       "    <tr>\n",
       "      <td>25188</td>\n",
       "      <td>17.294269</td>\n",
       "      <td>2013-09-29 22:03:50</td>\n",
       "    </tr>\n",
       "    <tr>\n",
       "      <td>25189</td>\n",
       "      <td>17.294269</td>\n",
       "      <td>2013-09-29 22:08:50</td>\n",
       "    </tr>\n",
       "    <tr>\n",
       "      <td>25190</td>\n",
       "      <td>17.294269</td>\n",
       "      <td>2013-09-29 22:13:50</td>\n",
       "    </tr>\n",
       "    <tr>\n",
       "      <td>25191</td>\n",
       "      <td>17.294269</td>\n",
       "      <td>2013-09-29 22:18:50</td>\n",
       "    </tr>\n",
       "    <tr>\n",
       "      <td>25192</td>\n",
       "      <td>17.294269</td>\n",
       "      <td>2013-09-29 22:23:50</td>\n",
       "    </tr>\n",
       "    <tr>\n",
       "      <td>...</td>\n",
       "      <td>...</td>\n",
       "      <td>...</td>\n",
       "    </tr>\n",
       "    <tr>\n",
       "      <td>51104</td>\n",
       "      <td>17.294269</td>\n",
       "      <td>2013-12-28 21:43:50</td>\n",
       "    </tr>\n",
       "    <tr>\n",
       "      <td>51105</td>\n",
       "      <td>17.294269</td>\n",
       "      <td>2013-12-28 21:48:50</td>\n",
       "    </tr>\n",
       "    <tr>\n",
       "      <td>51106</td>\n",
       "      <td>17.294269</td>\n",
       "      <td>2013-12-28 21:53:50</td>\n",
       "    </tr>\n",
       "    <tr>\n",
       "      <td>51107</td>\n",
       "      <td>17.294269</td>\n",
       "      <td>2013-12-28 21:58:50</td>\n",
       "    </tr>\n",
       "    <tr>\n",
       "      <td>51108</td>\n",
       "      <td>17.294269</td>\n",
       "      <td>2013-12-28 22:03:50</td>\n",
       "    </tr>\n",
       "  </tbody>\n",
       "</table>\n",
       "<p>25921 rows × 2 columns</p>\n",
       "</div>"
      ],
      "text/plain": [
       "       predicted_memory_usage [%]           Timestamp\n",
       "25188                   17.294269 2013-09-29 22:03:50\n",
       "25189                   17.294269 2013-09-29 22:08:50\n",
       "25190                   17.294269 2013-09-29 22:13:50\n",
       "25191                   17.294269 2013-09-29 22:18:50\n",
       "25192                   17.294269 2013-09-29 22:23:50\n",
       "...                           ...                 ...\n",
       "51104                   17.294269 2013-12-28 21:43:50\n",
       "51105                   17.294269 2013-12-28 21:48:50\n",
       "51106                   17.294269 2013-12-28 21:53:50\n",
       "51107                   17.294269 2013-12-28 21:58:50\n",
       "51108                   17.294269 2013-12-28 22:03:50\n",
       "\n",
       "[25921 rows x 2 columns]"
      ]
     },
     "execution_count": 101,
     "metadata": {},
     "output_type": "execute_result"
    }
   ],
   "source": [
    "predicted_mpu"
   ]
  },
  {
   "cell_type": "code",
   "execution_count": 102,
   "metadata": {},
   "outputs": [],
   "source": [
    "import pandas as pd\n",
    "autoreg_2 = pd.merge(predicted_cpu, predicted_mpu, on='Timestamp', how='outer')"
   ]
  },
  {
   "cell_type": "code",
   "execution_count": 103,
   "metadata": {},
   "outputs": [
    {
     "data": {
      "text/html": [
       "<div>\n",
       "<style scoped>\n",
       "    .dataframe tbody tr th:only-of-type {\n",
       "        vertical-align: middle;\n",
       "    }\n",
       "\n",
       "    .dataframe tbody tr th {\n",
       "        vertical-align: top;\n",
       "    }\n",
       "\n",
       "    .dataframe thead th {\n",
       "        text-align: right;\n",
       "    }\n",
       "</style>\n",
       "<table border=\"1\" class=\"dataframe\">\n",
       "  <thead>\n",
       "    <tr style=\"text-align: right;\">\n",
       "      <th></th>\n",
       "      <th>predicted_cpu_usage [%]</th>\n",
       "      <th>Timestamp</th>\n",
       "      <th>predicted_memory_usage [%]</th>\n",
       "    </tr>\n",
       "  </thead>\n",
       "  <tbody>\n",
       "    <tr>\n",
       "      <td>0</td>\n",
       "      <td>50.495910</td>\n",
       "      <td>2013-09-29 22:03:50</td>\n",
       "      <td>17.294269</td>\n",
       "    </tr>\n",
       "    <tr>\n",
       "      <td>1</td>\n",
       "      <td>50.495910</td>\n",
       "      <td>2013-09-29 22:08:50</td>\n",
       "      <td>17.294269</td>\n",
       "    </tr>\n",
       "    <tr>\n",
       "      <td>2</td>\n",
       "      <td>50.495910</td>\n",
       "      <td>2013-09-29 22:13:50</td>\n",
       "      <td>17.294269</td>\n",
       "    </tr>\n",
       "    <tr>\n",
       "      <td>3</td>\n",
       "      <td>50.495910</td>\n",
       "      <td>2013-09-29 22:18:50</td>\n",
       "      <td>17.294269</td>\n",
       "    </tr>\n",
       "    <tr>\n",
       "      <td>4</td>\n",
       "      <td>50.495910</td>\n",
       "      <td>2013-09-29 22:23:50</td>\n",
       "      <td>17.294269</td>\n",
       "    </tr>\n",
       "    <tr>\n",
       "      <td>...</td>\n",
       "      <td>...</td>\n",
       "      <td>...</td>\n",
       "      <td>...</td>\n",
       "    </tr>\n",
       "    <tr>\n",
       "      <td>25916</td>\n",
       "      <td>50.495909</td>\n",
       "      <td>2013-12-28 21:43:50</td>\n",
       "      <td>17.294269</td>\n",
       "    </tr>\n",
       "    <tr>\n",
       "      <td>25917</td>\n",
       "      <td>50.495909</td>\n",
       "      <td>2013-12-28 21:48:50</td>\n",
       "      <td>17.294269</td>\n",
       "    </tr>\n",
       "    <tr>\n",
       "      <td>25918</td>\n",
       "      <td>50.495909</td>\n",
       "      <td>2013-12-28 21:53:50</td>\n",
       "      <td>17.294269</td>\n",
       "    </tr>\n",
       "    <tr>\n",
       "      <td>25919</td>\n",
       "      <td>50.495909</td>\n",
       "      <td>2013-12-28 21:58:50</td>\n",
       "      <td>17.294269</td>\n",
       "    </tr>\n",
       "    <tr>\n",
       "      <td>25920</td>\n",
       "      <td>50.495909</td>\n",
       "      <td>2013-12-28 22:03:50</td>\n",
       "      <td>17.294269</td>\n",
       "    </tr>\n",
       "  </tbody>\n",
       "</table>\n",
       "<p>25921 rows × 3 columns</p>\n",
       "</div>"
      ],
      "text/plain": [
       "       predicted_cpu_usage [%]           Timestamp  predicted_memory_usage [%]\n",
       "0                    50.495910 2013-09-29 22:03:50                   17.294269\n",
       "1                    50.495910 2013-09-29 22:08:50                   17.294269\n",
       "2                    50.495910 2013-09-29 22:13:50                   17.294269\n",
       "3                    50.495910 2013-09-29 22:18:50                   17.294269\n",
       "4                    50.495910 2013-09-29 22:23:50                   17.294269\n",
       "...                        ...                 ...                         ...\n",
       "25916                50.495909 2013-12-28 21:43:50                   17.294269\n",
       "25917                50.495909 2013-12-28 21:48:50                   17.294269\n",
       "25918                50.495909 2013-12-28 21:53:50                   17.294269\n",
       "25919                50.495909 2013-12-28 21:58:50                   17.294269\n",
       "25920                50.495909 2013-12-28 22:03:50                   17.294269\n",
       "\n",
       "[25921 rows x 3 columns]"
      ]
     },
     "execution_count": 103,
     "metadata": {},
     "output_type": "execute_result"
    }
   ],
   "source": [
    "autoreg_2"
   ]
  },
  {
   "cell_type": "code",
   "execution_count": 104,
   "metadata": {},
   "outputs": [],
   "source": [
    "autoreg_2['Model'] = 'AutoRegressive_2'\n",
    "autoreg_2['VM'] = 198\n"
   ]
  },
  {
   "cell_type": "code",
   "execution_count": 105,
   "metadata": {},
   "outputs": [],
   "source": [
    "autoreg_2['CPU_MAE'] = '0.4340'\n",
    "autoreg_2['CPU_RMSE'] = '0.5902'\n",
    "\n",
    "autoreg_2['MPU_MAE'] = '1.2850'\n",
    "autoreg_2['MPU_RMSE'] = '1.6415'\n",
    "\n",
    "\n",
    "\n"
   ]
  },
  {
   "cell_type": "code",
   "execution_count": 106,
   "metadata": {},
   "outputs": [],
   "source": [
    "autoreg_2['CPU Cores'] = 2\n",
    "autoreg_2['CPU capacity provisioned [MHZ]'] = 5199.999272\n",
    "autoreg_2['CPU usage [MHZ]']=(autoreg_2['predicted_cpu_usage [%]'].mul(autoreg_2['CPU capacity provisioned [MHZ]']/100))\n"
   ]
  },
  {
   "cell_type": "code",
   "execution_count": 107,
   "metadata": {},
   "outputs": [
    {
     "data": {
      "text/html": [
       "<div>\n",
       "<style scoped>\n",
       "    .dataframe tbody tr th:only-of-type {\n",
       "        vertical-align: middle;\n",
       "    }\n",
       "\n",
       "    .dataframe tbody tr th {\n",
       "        vertical-align: top;\n",
       "    }\n",
       "\n",
       "    .dataframe thead th {\n",
       "        text-align: right;\n",
       "    }\n",
       "</style>\n",
       "<table border=\"1\" class=\"dataframe\">\n",
       "  <thead>\n",
       "    <tr style=\"text-align: right;\">\n",
       "      <th></th>\n",
       "      <th>predicted_cpu_usage [%]</th>\n",
       "      <th>Timestamp</th>\n",
       "      <th>predicted_memory_usage [%]</th>\n",
       "      <th>Model</th>\n",
       "      <th>VM</th>\n",
       "      <th>CPU_MAE</th>\n",
       "      <th>CPU_RMSE</th>\n",
       "      <th>MPU_MAE</th>\n",
       "      <th>MPU_RMSE</th>\n",
       "      <th>CPU Cores</th>\n",
       "      <th>CPU capacity provisioned [MHZ]</th>\n",
       "      <th>CPU usage [MHZ]</th>\n",
       "    </tr>\n",
       "  </thead>\n",
       "  <tbody>\n",
       "    <tr>\n",
       "      <td>0</td>\n",
       "      <td>50.495910</td>\n",
       "      <td>2013-09-29 22:03:50</td>\n",
       "      <td>17.294269</td>\n",
       "      <td>AutoRegressive_2</td>\n",
       "      <td>198</td>\n",
       "      <td>0.4340</td>\n",
       "      <td>0.5902</td>\n",
       "      <td>1.2850</td>\n",
       "      <td>1.6415</td>\n",
       "      <td>2</td>\n",
       "      <td>5199.999272</td>\n",
       "      <td>2625.786931</td>\n",
       "    </tr>\n",
       "    <tr>\n",
       "      <td>1</td>\n",
       "      <td>50.495910</td>\n",
       "      <td>2013-09-29 22:08:50</td>\n",
       "      <td>17.294269</td>\n",
       "      <td>AutoRegressive_2</td>\n",
       "      <td>198</td>\n",
       "      <td>0.4340</td>\n",
       "      <td>0.5902</td>\n",
       "      <td>1.2850</td>\n",
       "      <td>1.6415</td>\n",
       "      <td>2</td>\n",
       "      <td>5199.999272</td>\n",
       "      <td>2625.786931</td>\n",
       "    </tr>\n",
       "    <tr>\n",
       "      <td>2</td>\n",
       "      <td>50.495910</td>\n",
       "      <td>2013-09-29 22:13:50</td>\n",
       "      <td>17.294269</td>\n",
       "      <td>AutoRegressive_2</td>\n",
       "      <td>198</td>\n",
       "      <td>0.4340</td>\n",
       "      <td>0.5902</td>\n",
       "      <td>1.2850</td>\n",
       "      <td>1.6415</td>\n",
       "      <td>2</td>\n",
       "      <td>5199.999272</td>\n",
       "      <td>2625.786931</td>\n",
       "    </tr>\n",
       "    <tr>\n",
       "      <td>3</td>\n",
       "      <td>50.495910</td>\n",
       "      <td>2013-09-29 22:18:50</td>\n",
       "      <td>17.294269</td>\n",
       "      <td>AutoRegressive_2</td>\n",
       "      <td>198</td>\n",
       "      <td>0.4340</td>\n",
       "      <td>0.5902</td>\n",
       "      <td>1.2850</td>\n",
       "      <td>1.6415</td>\n",
       "      <td>2</td>\n",
       "      <td>5199.999272</td>\n",
       "      <td>2625.786931</td>\n",
       "    </tr>\n",
       "    <tr>\n",
       "      <td>4</td>\n",
       "      <td>50.495910</td>\n",
       "      <td>2013-09-29 22:23:50</td>\n",
       "      <td>17.294269</td>\n",
       "      <td>AutoRegressive_2</td>\n",
       "      <td>198</td>\n",
       "      <td>0.4340</td>\n",
       "      <td>0.5902</td>\n",
       "      <td>1.2850</td>\n",
       "      <td>1.6415</td>\n",
       "      <td>2</td>\n",
       "      <td>5199.999272</td>\n",
       "      <td>2625.786931</td>\n",
       "    </tr>\n",
       "    <tr>\n",
       "      <td>...</td>\n",
       "      <td>...</td>\n",
       "      <td>...</td>\n",
       "      <td>...</td>\n",
       "      <td>...</td>\n",
       "      <td>...</td>\n",
       "      <td>...</td>\n",
       "      <td>...</td>\n",
       "      <td>...</td>\n",
       "      <td>...</td>\n",
       "      <td>...</td>\n",
       "      <td>...</td>\n",
       "      <td>...</td>\n",
       "    </tr>\n",
       "    <tr>\n",
       "      <td>25916</td>\n",
       "      <td>50.495909</td>\n",
       "      <td>2013-12-28 21:43:50</td>\n",
       "      <td>17.294269</td>\n",
       "      <td>AutoRegressive_2</td>\n",
       "      <td>198</td>\n",
       "      <td>0.4340</td>\n",
       "      <td>0.5902</td>\n",
       "      <td>1.2850</td>\n",
       "      <td>1.6415</td>\n",
       "      <td>2</td>\n",
       "      <td>5199.999272</td>\n",
       "      <td>2625.786923</td>\n",
       "    </tr>\n",
       "    <tr>\n",
       "      <td>25917</td>\n",
       "      <td>50.495909</td>\n",
       "      <td>2013-12-28 21:48:50</td>\n",
       "      <td>17.294269</td>\n",
       "      <td>AutoRegressive_2</td>\n",
       "      <td>198</td>\n",
       "      <td>0.4340</td>\n",
       "      <td>0.5902</td>\n",
       "      <td>1.2850</td>\n",
       "      <td>1.6415</td>\n",
       "      <td>2</td>\n",
       "      <td>5199.999272</td>\n",
       "      <td>2625.786923</td>\n",
       "    </tr>\n",
       "    <tr>\n",
       "      <td>25918</td>\n",
       "      <td>50.495909</td>\n",
       "      <td>2013-12-28 21:53:50</td>\n",
       "      <td>17.294269</td>\n",
       "      <td>AutoRegressive_2</td>\n",
       "      <td>198</td>\n",
       "      <td>0.4340</td>\n",
       "      <td>0.5902</td>\n",
       "      <td>1.2850</td>\n",
       "      <td>1.6415</td>\n",
       "      <td>2</td>\n",
       "      <td>5199.999272</td>\n",
       "      <td>2625.786923</td>\n",
       "    </tr>\n",
       "    <tr>\n",
       "      <td>25919</td>\n",
       "      <td>50.495909</td>\n",
       "      <td>2013-12-28 21:58:50</td>\n",
       "      <td>17.294269</td>\n",
       "      <td>AutoRegressive_2</td>\n",
       "      <td>198</td>\n",
       "      <td>0.4340</td>\n",
       "      <td>0.5902</td>\n",
       "      <td>1.2850</td>\n",
       "      <td>1.6415</td>\n",
       "      <td>2</td>\n",
       "      <td>5199.999272</td>\n",
       "      <td>2625.786923</td>\n",
       "    </tr>\n",
       "    <tr>\n",
       "      <td>25920</td>\n",
       "      <td>50.495909</td>\n",
       "      <td>2013-12-28 22:03:50</td>\n",
       "      <td>17.294269</td>\n",
       "      <td>AutoRegressive_2</td>\n",
       "      <td>198</td>\n",
       "      <td>0.4340</td>\n",
       "      <td>0.5902</td>\n",
       "      <td>1.2850</td>\n",
       "      <td>1.6415</td>\n",
       "      <td>2</td>\n",
       "      <td>5199.999272</td>\n",
       "      <td>2625.786923</td>\n",
       "    </tr>\n",
       "  </tbody>\n",
       "</table>\n",
       "<p>25921 rows × 12 columns</p>\n",
       "</div>"
      ],
      "text/plain": [
       "       predicted_cpu_usage [%]           Timestamp  \\\n",
       "0                    50.495910 2013-09-29 22:03:50   \n",
       "1                    50.495910 2013-09-29 22:08:50   \n",
       "2                    50.495910 2013-09-29 22:13:50   \n",
       "3                    50.495910 2013-09-29 22:18:50   \n",
       "4                    50.495910 2013-09-29 22:23:50   \n",
       "...                        ...                 ...   \n",
       "25916                50.495909 2013-12-28 21:43:50   \n",
       "25917                50.495909 2013-12-28 21:48:50   \n",
       "25918                50.495909 2013-12-28 21:53:50   \n",
       "25919                50.495909 2013-12-28 21:58:50   \n",
       "25920                50.495909 2013-12-28 22:03:50   \n",
       "\n",
       "       predicted_memory_usage [%]             Model   VM CPU_MAE CPU_RMSE  \\\n",
       "0                       17.294269  AutoRegressive_2  198  0.4340   0.5902   \n",
       "1                       17.294269  AutoRegressive_2  198  0.4340   0.5902   \n",
       "2                       17.294269  AutoRegressive_2  198  0.4340   0.5902   \n",
       "3                       17.294269  AutoRegressive_2  198  0.4340   0.5902   \n",
       "4                       17.294269  AutoRegressive_2  198  0.4340   0.5902   \n",
       "...                           ...               ...  ...     ...      ...   \n",
       "25916                   17.294269  AutoRegressive_2  198  0.4340   0.5902   \n",
       "25917                   17.294269  AutoRegressive_2  198  0.4340   0.5902   \n",
       "25918                   17.294269  AutoRegressive_2  198  0.4340   0.5902   \n",
       "25919                   17.294269  AutoRegressive_2  198  0.4340   0.5902   \n",
       "25920                   17.294269  AutoRegressive_2  198  0.4340   0.5902   \n",
       "\n",
       "      MPU_MAE MPU_RMSE  CPU Cores  CPU capacity provisioned [MHZ]  \\\n",
       "0      1.2850   1.6415          2                     5199.999272   \n",
       "1      1.2850   1.6415          2                     5199.999272   \n",
       "2      1.2850   1.6415          2                     5199.999272   \n",
       "3      1.2850   1.6415          2                     5199.999272   \n",
       "4      1.2850   1.6415          2                     5199.999272   \n",
       "...       ...      ...        ...                             ...   \n",
       "25916  1.2850   1.6415          2                     5199.999272   \n",
       "25917  1.2850   1.6415          2                     5199.999272   \n",
       "25918  1.2850   1.6415          2                     5199.999272   \n",
       "25919  1.2850   1.6415          2                     5199.999272   \n",
       "25920  1.2850   1.6415          2                     5199.999272   \n",
       "\n",
       "       CPU usage [MHZ]  \n",
       "0          2625.786931  \n",
       "1          2625.786931  \n",
       "2          2625.786931  \n",
       "3          2625.786931  \n",
       "4          2625.786931  \n",
       "...                ...  \n",
       "25916      2625.786923  \n",
       "25917      2625.786923  \n",
       "25918      2625.786923  \n",
       "25919      2625.786923  \n",
       "25920      2625.786923  \n",
       "\n",
       "[25921 rows x 12 columns]"
      ]
     },
     "execution_count": 107,
     "metadata": {},
     "output_type": "execute_result"
    }
   ],
   "source": [
    "autoreg_2"
   ]
  },
  {
   "cell_type": "code",
   "execution_count": 108,
   "metadata": {},
   "outputs": [],
   "source": [
    "autoreg_2['Memory capacity provisioned [KB]'] = 8257536\n",
    "autoreg_2['Memory usage [KB]']=(autoreg_2['predicted_memory_usage [%]'].mul(autoreg_2['Memory capacity provisioned [KB]']/100))"
   ]
  },
  {
   "cell_type": "code",
   "execution_count": 112,
   "metadata": {},
   "outputs": [
    {
     "data": {
      "text/html": [
       "<div>\n",
       "<style scoped>\n",
       "    .dataframe tbody tr th:only-of-type {\n",
       "        vertical-align: middle;\n",
       "    }\n",
       "\n",
       "    .dataframe tbody tr th {\n",
       "        vertical-align: top;\n",
       "    }\n",
       "\n",
       "    .dataframe thead th {\n",
       "        text-align: right;\n",
       "    }\n",
       "</style>\n",
       "<table border=\"1\" class=\"dataframe\">\n",
       "  <thead>\n",
       "    <tr style=\"text-align: right;\">\n",
       "      <th></th>\n",
       "      <th>predicted_cpu_usage [%]</th>\n",
       "      <th>Timestamp</th>\n",
       "      <th>predicted_memory_usage [%]</th>\n",
       "      <th>Model</th>\n",
       "      <th>VM</th>\n",
       "      <th>CPU_MAE</th>\n",
       "      <th>CPU_RMSE</th>\n",
       "      <th>MPU_MAE</th>\n",
       "      <th>MPU_RMSE</th>\n",
       "      <th>CPU Cores</th>\n",
       "      <th>CPU capacity provisioned [MHZ]</th>\n",
       "      <th>CPU usage [MHZ]</th>\n",
       "      <th>Memory capacity provisioned [KB]</th>\n",
       "      <th>Memory usage [KB]</th>\n",
       "    </tr>\n",
       "  </thead>\n",
       "  <tbody>\n",
       "    <tr>\n",
       "      <td>0</td>\n",
       "      <td>50.495910</td>\n",
       "      <td>2013-09-29 22:03:50</td>\n",
       "      <td>17.294269</td>\n",
       "      <td>AutoRegressive_2</td>\n",
       "      <td>198</td>\n",
       "      <td>0.4340</td>\n",
       "      <td>0.5902</td>\n",
       "      <td>1.2850</td>\n",
       "      <td>1.6415</td>\n",
       "      <td>2</td>\n",
       "      <td>5199.999272</td>\n",
       "      <td>2625.786931</td>\n",
       "      <td>8257536</td>\n",
       "      <td>1.428081e+06</td>\n",
       "    </tr>\n",
       "    <tr>\n",
       "      <td>1</td>\n",
       "      <td>50.495910</td>\n",
       "      <td>2013-09-29 22:08:50</td>\n",
       "      <td>17.294269</td>\n",
       "      <td>AutoRegressive_2</td>\n",
       "      <td>198</td>\n",
       "      <td>0.4340</td>\n",
       "      <td>0.5902</td>\n",
       "      <td>1.2850</td>\n",
       "      <td>1.6415</td>\n",
       "      <td>2</td>\n",
       "      <td>5199.999272</td>\n",
       "      <td>2625.786931</td>\n",
       "      <td>8257536</td>\n",
       "      <td>1.428081e+06</td>\n",
       "    </tr>\n",
       "    <tr>\n",
       "      <td>2</td>\n",
       "      <td>50.495910</td>\n",
       "      <td>2013-09-29 22:13:50</td>\n",
       "      <td>17.294269</td>\n",
       "      <td>AutoRegressive_2</td>\n",
       "      <td>198</td>\n",
       "      <td>0.4340</td>\n",
       "      <td>0.5902</td>\n",
       "      <td>1.2850</td>\n",
       "      <td>1.6415</td>\n",
       "      <td>2</td>\n",
       "      <td>5199.999272</td>\n",
       "      <td>2625.786931</td>\n",
       "      <td>8257536</td>\n",
       "      <td>1.428081e+06</td>\n",
       "    </tr>\n",
       "    <tr>\n",
       "      <td>3</td>\n",
       "      <td>50.495910</td>\n",
       "      <td>2013-09-29 22:18:50</td>\n",
       "      <td>17.294269</td>\n",
       "      <td>AutoRegressive_2</td>\n",
       "      <td>198</td>\n",
       "      <td>0.4340</td>\n",
       "      <td>0.5902</td>\n",
       "      <td>1.2850</td>\n",
       "      <td>1.6415</td>\n",
       "      <td>2</td>\n",
       "      <td>5199.999272</td>\n",
       "      <td>2625.786931</td>\n",
       "      <td>8257536</td>\n",
       "      <td>1.428081e+06</td>\n",
       "    </tr>\n",
       "    <tr>\n",
       "      <td>4</td>\n",
       "      <td>50.495910</td>\n",
       "      <td>2013-09-29 22:23:50</td>\n",
       "      <td>17.294269</td>\n",
       "      <td>AutoRegressive_2</td>\n",
       "      <td>198</td>\n",
       "      <td>0.4340</td>\n",
       "      <td>0.5902</td>\n",
       "      <td>1.2850</td>\n",
       "      <td>1.6415</td>\n",
       "      <td>2</td>\n",
       "      <td>5199.999272</td>\n",
       "      <td>2625.786931</td>\n",
       "      <td>8257536</td>\n",
       "      <td>1.428081e+06</td>\n",
       "    </tr>\n",
       "    <tr>\n",
       "      <td>...</td>\n",
       "      <td>...</td>\n",
       "      <td>...</td>\n",
       "      <td>...</td>\n",
       "      <td>...</td>\n",
       "      <td>...</td>\n",
       "      <td>...</td>\n",
       "      <td>...</td>\n",
       "      <td>...</td>\n",
       "      <td>...</td>\n",
       "      <td>...</td>\n",
       "      <td>...</td>\n",
       "      <td>...</td>\n",
       "      <td>...</td>\n",
       "      <td>...</td>\n",
       "    </tr>\n",
       "    <tr>\n",
       "      <td>25916</td>\n",
       "      <td>50.495909</td>\n",
       "      <td>2013-12-28 21:43:50</td>\n",
       "      <td>17.294269</td>\n",
       "      <td>AutoRegressive_2</td>\n",
       "      <td>198</td>\n",
       "      <td>0.4340</td>\n",
       "      <td>0.5902</td>\n",
       "      <td>1.2850</td>\n",
       "      <td>1.6415</td>\n",
       "      <td>2</td>\n",
       "      <td>5199.999272</td>\n",
       "      <td>2625.786923</td>\n",
       "      <td>8257536</td>\n",
       "      <td>1.428081e+06</td>\n",
       "    </tr>\n",
       "    <tr>\n",
       "      <td>25917</td>\n",
       "      <td>50.495909</td>\n",
       "      <td>2013-12-28 21:48:50</td>\n",
       "      <td>17.294269</td>\n",
       "      <td>AutoRegressive_2</td>\n",
       "      <td>198</td>\n",
       "      <td>0.4340</td>\n",
       "      <td>0.5902</td>\n",
       "      <td>1.2850</td>\n",
       "      <td>1.6415</td>\n",
       "      <td>2</td>\n",
       "      <td>5199.999272</td>\n",
       "      <td>2625.786923</td>\n",
       "      <td>8257536</td>\n",
       "      <td>1.428081e+06</td>\n",
       "    </tr>\n",
       "    <tr>\n",
       "      <td>25918</td>\n",
       "      <td>50.495909</td>\n",
       "      <td>2013-12-28 21:53:50</td>\n",
       "      <td>17.294269</td>\n",
       "      <td>AutoRegressive_2</td>\n",
       "      <td>198</td>\n",
       "      <td>0.4340</td>\n",
       "      <td>0.5902</td>\n",
       "      <td>1.2850</td>\n",
       "      <td>1.6415</td>\n",
       "      <td>2</td>\n",
       "      <td>5199.999272</td>\n",
       "      <td>2625.786923</td>\n",
       "      <td>8257536</td>\n",
       "      <td>1.428081e+06</td>\n",
       "    </tr>\n",
       "    <tr>\n",
       "      <td>25919</td>\n",
       "      <td>50.495909</td>\n",
       "      <td>2013-12-28 21:58:50</td>\n",
       "      <td>17.294269</td>\n",
       "      <td>AutoRegressive_2</td>\n",
       "      <td>198</td>\n",
       "      <td>0.4340</td>\n",
       "      <td>0.5902</td>\n",
       "      <td>1.2850</td>\n",
       "      <td>1.6415</td>\n",
       "      <td>2</td>\n",
       "      <td>5199.999272</td>\n",
       "      <td>2625.786923</td>\n",
       "      <td>8257536</td>\n",
       "      <td>1.428081e+06</td>\n",
       "    </tr>\n",
       "    <tr>\n",
       "      <td>25920</td>\n",
       "      <td>50.495909</td>\n",
       "      <td>2013-12-28 22:03:50</td>\n",
       "      <td>17.294269</td>\n",
       "      <td>AutoRegressive_2</td>\n",
       "      <td>198</td>\n",
       "      <td>0.4340</td>\n",
       "      <td>0.5902</td>\n",
       "      <td>1.2850</td>\n",
       "      <td>1.6415</td>\n",
       "      <td>2</td>\n",
       "      <td>5199.999272</td>\n",
       "      <td>2625.786923</td>\n",
       "      <td>8257536</td>\n",
       "      <td>1.428081e+06</td>\n",
       "    </tr>\n",
       "  </tbody>\n",
       "</table>\n",
       "<p>25921 rows × 14 columns</p>\n",
       "</div>"
      ],
      "text/plain": [
       "       predicted_cpu_usage [%]           Timestamp  \\\n",
       "0                    50.495910 2013-09-29 22:03:50   \n",
       "1                    50.495910 2013-09-29 22:08:50   \n",
       "2                    50.495910 2013-09-29 22:13:50   \n",
       "3                    50.495910 2013-09-29 22:18:50   \n",
       "4                    50.495910 2013-09-29 22:23:50   \n",
       "...                        ...                 ...   \n",
       "25916                50.495909 2013-12-28 21:43:50   \n",
       "25917                50.495909 2013-12-28 21:48:50   \n",
       "25918                50.495909 2013-12-28 21:53:50   \n",
       "25919                50.495909 2013-12-28 21:58:50   \n",
       "25920                50.495909 2013-12-28 22:03:50   \n",
       "\n",
       "       predicted_memory_usage [%]             Model   VM CPU_MAE CPU_RMSE  \\\n",
       "0                       17.294269  AutoRegressive_2  198  0.4340   0.5902   \n",
       "1                       17.294269  AutoRegressive_2  198  0.4340   0.5902   \n",
       "2                       17.294269  AutoRegressive_2  198  0.4340   0.5902   \n",
       "3                       17.294269  AutoRegressive_2  198  0.4340   0.5902   \n",
       "4                       17.294269  AutoRegressive_2  198  0.4340   0.5902   \n",
       "...                           ...               ...  ...     ...      ...   \n",
       "25916                   17.294269  AutoRegressive_2  198  0.4340   0.5902   \n",
       "25917                   17.294269  AutoRegressive_2  198  0.4340   0.5902   \n",
       "25918                   17.294269  AutoRegressive_2  198  0.4340   0.5902   \n",
       "25919                   17.294269  AutoRegressive_2  198  0.4340   0.5902   \n",
       "25920                   17.294269  AutoRegressive_2  198  0.4340   0.5902   \n",
       "\n",
       "      MPU_MAE MPU_RMSE  CPU Cores  CPU capacity provisioned [MHZ]  \\\n",
       "0      1.2850   1.6415          2                     5199.999272   \n",
       "1      1.2850   1.6415          2                     5199.999272   \n",
       "2      1.2850   1.6415          2                     5199.999272   \n",
       "3      1.2850   1.6415          2                     5199.999272   \n",
       "4      1.2850   1.6415          2                     5199.999272   \n",
       "...       ...      ...        ...                             ...   \n",
       "25916  1.2850   1.6415          2                     5199.999272   \n",
       "25917  1.2850   1.6415          2                     5199.999272   \n",
       "25918  1.2850   1.6415          2                     5199.999272   \n",
       "25919  1.2850   1.6415          2                     5199.999272   \n",
       "25920  1.2850   1.6415          2                     5199.999272   \n",
       "\n",
       "       CPU usage [MHZ]  Memory capacity provisioned [KB]  Memory usage [KB]  \n",
       "0          2625.786931                           8257536       1.428081e+06  \n",
       "1          2625.786931                           8257536       1.428081e+06  \n",
       "2          2625.786931                           8257536       1.428081e+06  \n",
       "3          2625.786931                           8257536       1.428081e+06  \n",
       "4          2625.786931                           8257536       1.428081e+06  \n",
       "...                ...                               ...                ...  \n",
       "25916      2625.786923                           8257536       1.428081e+06  \n",
       "25917      2625.786923                           8257536       1.428081e+06  \n",
       "25918      2625.786923                           8257536       1.428081e+06  \n",
       "25919      2625.786923                           8257536       1.428081e+06  \n",
       "25920      2625.786923                           8257536       1.428081e+06  \n",
       "\n",
       "[25921 rows x 14 columns]"
      ]
     },
     "execution_count": 112,
     "metadata": {},
     "output_type": "execute_result"
    }
   ],
   "source": [
    "autoreg_2"
   ]
  },
  {
   "cell_type": "code",
   "execution_count": 113,
   "metadata": {},
   "outputs": [],
   "source": [
    "autoreg_2.to_csv(r'D:/CAPSTONE - Nokia Bell Labs/Prediction File/AutoRegression_2PredictionFile.csv', index = False)"
   ]
  },
  {
   "cell_type": "code",
   "execution_count": null,
   "metadata": {},
   "outputs": [],
   "source": []
  },
  {
   "cell_type": "markdown",
   "metadata": {},
   "source": [
    "## MOVING AVERAGE"
   ]
  },
  {
   "cell_type": "code",
   "execution_count": 114,
   "metadata": {},
   "outputs": [],
   "source": [
    "data=data.set_index(\"Time\")"
   ]
  },
  {
   "cell_type": "code",
   "execution_count": 115,
   "metadata": {},
   "outputs": [],
   "source": [
    "series= data['CPU usage [%]'].dropna()"
   ]
  },
  {
   "cell_type": "code",
   "execution_count": 116,
   "metadata": {},
   "outputs": [
    {
     "data": {
      "text/plain": [
       "Time\n",
       "2013-07-31 22:02:56    51.066667\n",
       "2013-07-31 22:07:56    50.533333\n",
       "2013-07-31 22:12:56    50.600000\n",
       "2013-07-31 22:17:56    50.566667\n",
       "2013-07-31 22:22:56    50.500000\n",
       "                         ...    \n",
       "2013-09-29 21:38:50    50.833333\n",
       "2013-09-29 21:43:50    51.100000\n",
       "2013-09-29 21:48:50    51.666667\n",
       "2013-09-29 21:53:50    51.533333\n",
       "2013-09-29 21:58:50    51.333333\n",
       "Name: CPU usage [%], Length: 25188, dtype: float64"
      ]
     },
     "execution_count": 116,
     "metadata": {},
     "output_type": "execute_result"
    }
   ],
   "source": [
    "series"
   ]
  },
  {
   "cell_type": "code",
   "execution_count": 117,
   "metadata": {},
   "outputs": [
    {
     "name": "stdout",
     "output_type": "stream",
     "text": [
      "Time\n",
      "2013-07-31 22:02:56          NaN\n",
      "2013-07-31 22:07:56          NaN\n",
      "2013-07-31 22:12:56    50.733333\n",
      "2013-07-31 22:17:56    50.566667\n",
      "2013-07-31 22:22:56    50.555556\n",
      "2013-07-31 22:27:56    50.644444\n",
      "2013-07-31 22:32:56    50.688889\n",
      "2013-07-31 22:37:56    50.666667\n",
      "2013-07-31 22:42:56    50.722222\n",
      "2013-07-31 22:47:56    50.833333\n",
      "Name: CPU usage [%], dtype: float64\n"
     ]
    },
    {
     "data": {
      "image/png": "[encoded data removed]",
      "text/plain": [
       "<Figure size 720x720 with 1 Axes>"
      ]
     },
     "metadata": {
      "needs_background": "light"
     },
     "output_type": "display_data"
    }
   ],
   "source": [
    "# Tail-rolling average transform\n",
    "\n",
    "rolling = series.rolling(window=3)\n",
    "rolling_mean = rolling.mean()\n",
    "print(rolling_mean.head(10))\n",
    "# plot original and transformed dataset\n",
    "series.plot()\n",
    "rolling_mean.plot(color='red', figsize=(10,10))\n",
    "pyplot.show()"
   ]
  },
  {
   "cell_type": "code",
   "execution_count": 118,
   "metadata": {},
   "outputs": [],
   "source": [
    "from numpy import mean\n",
    "from sklearn.metrics import mean_squared_error\n",
    "from matplotlib import pyplot\n",
    "# prepare situation\n",
    "X = series.values\n",
    "window = 3\n",
    "history = [X[i] for i in range(window)]\n",
    "test = [X[i] for i in range(window, len(X))]\n",
    "predictions = list()\n"
   ]
  },
  {
   "cell_type": "code",
   "execution_count": null,
   "metadata": {},
   "outputs": [],
   "source": []
  },
  {
   "cell_type": "code",
   "execution_count": 119,
   "metadata": {},
   "outputs": [],
   "source": [
    "# walk forward over time steps in test\n",
    "for t in range(len(test)):\n",
    "    length = len(history)\n",
    "    yhat = mean([history[i] for i in range(length-window,length)])\n",
    "    obs = test[t]\n",
    "    predictions.append(yhat)   #CPU usage percentage predictions\n",
    "    history.append(obs)\n",
    "    #print('predicted=%f, expected=%f' % (yhat, obs))\n"
   ]
  },
  {
   "cell_type": "code",
   "execution_count": 120,
   "metadata": {},
   "outputs": [
    {
     "name": "stdout",
     "output_type": "stream",
     "text": [
      "predicted=51.433333, expected=51.333333\n",
      "predicted=51.433333, expected=51.333333\n",
      "predicted=51.433333, expected=51.333333\n",
      "predicted=51.433333, expected=51.333333\n",
      "predicted=51.433333, expected=51.333333\n",
      "predicted=51.433333, expected=51.333333\n",
      "predicted=51.433333, expected=51.333333\n",
      "predicted=51.433333, expected=51.333333\n",
      "predicted=51.433333, expected=51.333333\n",
      "predicted=51.433333, expected=51.333333\n",
      "predicted=51.433333, expected=51.333333\n",
      "predicted=51.433333, expected=51.333333\n",
      "predicted=51.433333, expected=51.333333\n",
      "predicted=51.433333, expected=51.333333\n",
      "predicted=51.433333, expected=51.333333\n",
      "predicted=51.433333, expected=51.333333\n",
      "predicted=51.433333, expected=51.333333\n",
      "predicted=51.433333, expected=51.333333\n",
      "predicted=51.433333, expected=51.333333\n",
      "predicted=51.433333, expected=51.333333\n",
      "predicted=51.433333, expected=51.333333\n",
      "predicted=51.433333, expected=51.333333\n",
      "predicted=51.433333, expected=51.333333\n",
      "predicted=51.433333, expected=51.333333\n",
      "predicted=51.433333, expected=51.333333\n",
      "predicted=51.433333, expected=51.333333\n",
      "predicted=51.433333, expected=51.333333\n",
      "predicted=51.433333, expected=51.333333\n",
      "predicted=51.433333, expected=51.333333\n",
      "predicted=51.433333, expected=51.333333\n"
     ]
    }
   ],
   "source": [
    "for i in range(30):\n",
    "    print('predicted=%f, expected=%f' % (yhat, obs))\n",
    "    "
   ]
  },
  {
   "cell_type": "code",
   "execution_count": 121,
   "metadata": {},
   "outputs": [
    {
     "name": "stdout",
     "output_type": "stream",
     "text": [
      "Mean Squared Error MSE : 0.22526069475743432\n",
      "Mean Absolute Error MAE:  0.3676640303981206\n",
      "Root Mean Squared Error:  0.47461636587609823\n"
     ]
    }
   ],
   "source": [
    "#MODEL EVALUATION\n",
    "\n",
    "error = mean_squared_error(test, predictions)\n",
    "print('Mean Squared Error MSE :', error)\n",
    "\n",
    "ma_mean_absolute_error= mean_absolute_error(test,predictions)\n",
    "print('Mean Absolute Error MAE: ', ma_mean_absolute_error)\n",
    "\n",
    "ma_rmse=sqrt(mean_squared_error(test,predictions))\n",
    "print('Root Mean Squared Error: ', ma_rmse)\n",
    "\n",
    "#ma_mape = np.mean(np.abs((test - predictions) / test)) * 100\n",
    "#ma_mape"
   ]
  },
  {
   "cell_type": "code",
   "execution_count": 122,
   "metadata": {},
   "outputs": [
    {
     "data": {
      "image/png": "[encoded data removed]",
      "text/plain": [
       "<Figure size 432x288 with 1 Axes>"
      ]
     },
     "metadata": {
      "needs_background": "light"
     },
     "output_type": "display_data"
    },
    {
     "data": {
      "image/png": "[encoded data removed]",
      "text/plain": [
       "<Figure size 432x288 with 1 Axes>"
      ]
     },
     "metadata": {
      "needs_background": "light"
     },
     "output_type": "display_data"
    }
   ],
   "source": [
    "# plot\n",
    "pyplot.plot(test)\n",
    "pyplot.plot(predictions, color='red')\n",
    "pyplot.show()\n",
    "# zoom plot\n",
    "pyplot.plot(test[0:100])\n",
    "pyplot.plot(predictions[0:100], color='red')\n",
    "pyplot.show()"
   ]
  },
  {
   "cell_type": "code",
   "execution_count": null,
   "metadata": {},
   "outputs": [],
   "source": []
  },
  {
   "cell_type": "markdown",
   "metadata": {},
   "source": [
    "## MOVING AVERAGE - FOR FORECASTING "
   ]
  },
  {
   "cell_type": "markdown",
   "metadata": {},
   "source": [
    "## CPU USAGE PERCENTAGE"
   ]
  },
  {
   "cell_type": "code",
   "execution_count": 163,
   "metadata": {},
   "outputs": [],
   "source": [
    "data=data.set_index(\"Time\")"
   ]
  },
  {
   "cell_type": "code",
   "execution_count": 164,
   "metadata": {},
   "outputs": [
    {
     "data": {
      "text/plain": [
       "Time\n",
       "2013-07-31 22:02:56    51.066667\n",
       "2013-07-31 22:07:56    50.533333\n",
       "2013-07-31 22:12:56    50.600000\n",
       "2013-07-31 22:17:56    50.566667\n",
       "2013-07-31 22:22:56    50.500000\n",
       "                         ...    \n",
       "2013-09-29 21:38:50    50.833333\n",
       "2013-09-29 21:43:50    51.100000\n",
       "2013-09-29 21:48:50    51.666667\n",
       "2013-09-29 21:53:50    51.533333\n",
       "2013-09-29 21:58:50    51.333333\n",
       "Name: CPU usage [%], Length: 25188, dtype: float64"
      ]
     },
     "execution_count": 164,
     "metadata": {},
     "output_type": "execute_result"
    }
   ],
   "source": [
    "X1 = data['CPU usage [%]']\n",
    "X1"
   ]
  },
  {
   "cell_type": "code",
   "execution_count": 165,
   "metadata": {},
   "outputs": [],
   "source": [
    "from statsmodels.tsa.arima_model import ARMA\n",
    "from random import random"
   ]
  },
  {
   "cell_type": "code",
   "execution_count": 166,
   "metadata": {},
   "outputs": [],
   "source": [
    "\n",
    "train_part = X1[1:len(X1)-5000]\n",
    "test_part = X1[len(X1)-5000:]"
   ]
  },
  {
   "cell_type": "code",
   "execution_count": null,
   "metadata": {},
   "outputs": [],
   "source": []
  },
  {
   "cell_type": "code",
   "execution_count": 167,
   "metadata": {},
   "outputs": [
    {
     "name": "stderr",
     "output_type": "stream",
     "text": [
      "C:\\Users\\97150\\Anaconda3\\lib\\site-packages\\statsmodels\\tsa\\arima_model.py:472: FutureWarning: \n",
      "statsmodels.tsa.arima_model.ARMA and statsmodels.tsa.arima_model.ARIMA have\n",
      "been deprecated in favor of statsmodels.tsa.arima.model.ARIMA (note the .\n",
      "between arima and model) and\n",
      "statsmodels.tsa.SARIMAX. These will be removed after the 0.12 release.\n",
      "\n",
      "statsmodels.tsa.arima.model.ARIMA makes use of the statespace framework and\n",
      "is both well tested and maintained.\n",
      "\n",
      "To silence this warning and continue using ARMA and ARIMA until they are\n",
      "removed, use:\n",
      "\n",
      "import warnings\n",
      "warnings.filterwarnings('ignore', 'statsmodels.tsa.arima_model.ARMA',\n",
      "                        FutureWarning)\n",
      "warnings.filterwarnings('ignore', 'statsmodels.tsa.arima_model.ARIMA',\n",
      "                        FutureWarning)\n",
      "\n",
      "  warnings.warn(ARIMA_DEPRECATION_WARN, FutureWarning)\n",
      "C:\\Users\\97150\\Anaconda3\\lib\\site-packages\\statsmodels\\tsa\\base\\tsa_model.py:583: ValueWarning: A date index has been provided, but it has no associated frequency information and so will be ignored when e.g. forecasting.\n",
      "  ' ignored when e.g. forecasting.', ValueWarning)\n",
      "C:\\Users\\97150\\Anaconda3\\lib\\site-packages\\statsmodels\\tsa\\base\\tsa_model.py:587: ValueWarning: A date index has been provided, but it is not monotonic and so will be ignored when e.g. forecasting.\n",
      "  ' forecasting.', ValueWarning)\n"
     ]
    }
   ],
   "source": [
    "\n",
    "model_ma = ARMA(train_part, order=(0, 1))\n",
    "model_fit_ma = model_ma.fit(disp=False)\n"
   ]
  },
  {
   "cell_type": "code",
   "execution_count": 170,
   "metadata": {},
   "outputs": [
    {
     "name": "stdout",
     "output_type": "stream",
     "text": [
      "20187    50.444837\n",
      "20188    50.492804\n",
      "20189    50.492804\n",
      "20190    50.492804\n",
      "20191    50.492804\n",
      "           ...    \n",
      "25182    50.492804\n",
      "25183    50.492804\n",
      "25184    50.492804\n",
      "25185    50.492804\n",
      "25186    50.492804\n",
      "Length: 5000, dtype: float64\n"
     ]
    },
    {
     "name": "stderr",
     "output_type": "stream",
     "text": [
      "C:\\Users\\97150\\Anaconda3\\lib\\site-packages\\statsmodels\\tsa\\base\\tsa_model.py:379: ValueWarning: No supported index is available. Prediction results will be given with an integer index beginning at `start`.\n",
      "  ValueWarning)\n"
     ]
    }
   ],
   "source": [
    "#PREDICTIONS\n",
    "pred_y = model_fit_ma.predict(start=len(train_part), end=len(train_part) + len(test_part)-1, dynamic=False)\n",
    "print(pred_y)"
   ]
  },
  {
   "cell_type": "code",
   "execution_count": 171,
   "metadata": {},
   "outputs": [
    {
     "name": "stdout",
     "output_type": "stream",
     "text": [
      "RMSE: 0.5973\n",
      "Mean Absolute Error: 0.4406\n"
     ]
    }
   ],
   "source": [
    "#MODEL EVALUATION\n",
    "from math import sqrt\n",
    "rmse_ma_cpu = sqrt(mean_squared_error(test_part, pred_y))\n",
    "print('RMSE: %.4f' % rmse_ma_cpu)\n",
    "\n",
    "\n",
    "from sklearn.metrics import mean_absolute_error\n",
    "mae_ma_cpu =mean_absolute_error(test_part, pred_y)\n",
    "print('Mean Absolute Error: %.4f' % mae_ma_cpu)\n"
   ]
  },
  {
   "cell_type": "code",
   "execution_count": 172,
   "metadata": {},
   "outputs": [
    {
     "name": "stderr",
     "output_type": "stream",
     "text": [
      "C:\\Users\\97150\\Anaconda3\\lib\\site-packages\\statsmodels\\tsa\\base\\tsa_model.py:379: ValueWarning: No supported index is available. Prediction results will be given with an integer index beginning at `start`.\n",
      "  ValueWarning)\n"
     ]
    },
    {
     "name": "stdout",
     "output_type": "stream",
     "text": [
      "20187    50.444837\n",
      "20188    50.492804\n",
      "20189    50.492804\n",
      "20190    50.492804\n",
      "20191    50.492804\n",
      "           ...    \n",
      "51104    50.492804\n",
      "51105    50.492804\n",
      "51106    50.492804\n",
      "51107    50.492804\n",
      "51108    50.492804\n",
      "Length: 30922, dtype: float64\n"
     ]
    }
   ],
   "source": [
    "#FORECASTING \n",
    "forecast_CPU_ma = model_fit_ma.predict(start=len(train_part), end=len(train_part) + len(test_part)-1 + 25922 , dynamic=False)\n",
    "print(forecast_CPU_ma)"
   ]
  },
  {
   "cell_type": "code",
   "execution_count": 173,
   "metadata": {},
   "outputs": [
    {
     "data": {
      "text/plain": [
       "25188    50.492804\n",
       "25189    50.492804\n",
       "25190    50.492804\n",
       "25191    50.492804\n",
       "25192    50.492804\n",
       "           ...    \n",
       "51104    50.492804\n",
       "51105    50.492804\n",
       "51106    50.492804\n",
       "51107    50.492804\n",
       "51108    50.492804\n",
       "Length: 25921, dtype: float64"
      ]
     },
     "execution_count": 173,
     "metadata": {},
     "output_type": "execute_result"
    }
   ],
   "source": [
    "future_Forecast= forecast_CPU_ma[5001:30922, ]\n",
    "future_Forecast"
   ]
  },
  {
   "cell_type": "code",
   "execution_count": 174,
   "metadata": {},
   "outputs": [
    {
     "data": {
      "text/plain": [
       "25921"
      ]
     },
     "execution_count": 174,
     "metadata": {},
     "output_type": "execute_result"
    }
   ],
   "source": [
    "pred_cpu = pd.DataFrame(future_Forecast, columns=['predicted_cpu_usage [%]'])\n",
    "len(pred_cpu)"
   ]
  },
  {
   "cell_type": "code",
   "execution_count": 175,
   "metadata": {},
   "outputs": [],
   "source": [
    "pred_cpu['Timestamp']=time"
   ]
  },
  {
   "cell_type": "code",
   "execution_count": 176,
   "metadata": {},
   "outputs": [
    {
     "data": {
      "text/html": [
       "<div>\n",
       "<style scoped>\n",
       "    .dataframe tbody tr th:only-of-type {\n",
       "        vertical-align: middle;\n",
       "    }\n",
       "\n",
       "    .dataframe tbody tr th {\n",
       "        vertical-align: top;\n",
       "    }\n",
       "\n",
       "    .dataframe thead th {\n",
       "        text-align: right;\n",
       "    }\n",
       "</style>\n",
       "<table border=\"1\" class=\"dataframe\">\n",
       "  <thead>\n",
       "    <tr style=\"text-align: right;\">\n",
       "      <th></th>\n",
       "      <th>predicted_cpu_usage [%]</th>\n",
       "      <th>Timestamp</th>\n",
       "    </tr>\n",
       "  </thead>\n",
       "  <tbody>\n",
       "    <tr>\n",
       "      <td>25188</td>\n",
       "      <td>50.492804</td>\n",
       "      <td>2013-09-29 22:03:50</td>\n",
       "    </tr>\n",
       "    <tr>\n",
       "      <td>25189</td>\n",
       "      <td>50.492804</td>\n",
       "      <td>2013-09-29 22:08:50</td>\n",
       "    </tr>\n",
       "    <tr>\n",
       "      <td>25190</td>\n",
       "      <td>50.492804</td>\n",
       "      <td>2013-09-29 22:13:50</td>\n",
       "    </tr>\n",
       "    <tr>\n",
       "      <td>25191</td>\n",
       "      <td>50.492804</td>\n",
       "      <td>2013-09-29 22:18:50</td>\n",
       "    </tr>\n",
       "    <tr>\n",
       "      <td>25192</td>\n",
       "      <td>50.492804</td>\n",
       "      <td>2013-09-29 22:23:50</td>\n",
       "    </tr>\n",
       "    <tr>\n",
       "      <td>...</td>\n",
       "      <td>...</td>\n",
       "      <td>...</td>\n",
       "    </tr>\n",
       "    <tr>\n",
       "      <td>51104</td>\n",
       "      <td>50.492804</td>\n",
       "      <td>2013-12-28 21:43:50</td>\n",
       "    </tr>\n",
       "    <tr>\n",
       "      <td>51105</td>\n",
       "      <td>50.492804</td>\n",
       "      <td>2013-12-28 21:48:50</td>\n",
       "    </tr>\n",
       "    <tr>\n",
       "      <td>51106</td>\n",
       "      <td>50.492804</td>\n",
       "      <td>2013-12-28 21:53:50</td>\n",
       "    </tr>\n",
       "    <tr>\n",
       "      <td>51107</td>\n",
       "      <td>50.492804</td>\n",
       "      <td>2013-12-28 21:58:50</td>\n",
       "    </tr>\n",
       "    <tr>\n",
       "      <td>51108</td>\n",
       "      <td>50.492804</td>\n",
       "      <td>2013-12-28 22:03:50</td>\n",
       "    </tr>\n",
       "  </tbody>\n",
       "</table>\n",
       "<p>25921 rows × 2 columns</p>\n",
       "</div>"
      ],
      "text/plain": [
       "       predicted_cpu_usage [%]           Timestamp\n",
       "25188                50.492804 2013-09-29 22:03:50\n",
       "25189                50.492804 2013-09-29 22:08:50\n",
       "25190                50.492804 2013-09-29 22:13:50\n",
       "25191                50.492804 2013-09-29 22:18:50\n",
       "25192                50.492804 2013-09-29 22:23:50\n",
       "...                        ...                 ...\n",
       "51104                50.492804 2013-12-28 21:43:50\n",
       "51105                50.492804 2013-12-28 21:48:50\n",
       "51106                50.492804 2013-12-28 21:53:50\n",
       "51107                50.492804 2013-12-28 21:58:50\n",
       "51108                50.492804 2013-12-28 22:03:50\n",
       "\n",
       "[25921 rows x 2 columns]"
      ]
     },
     "execution_count": 176,
     "metadata": {},
     "output_type": "execute_result"
    }
   ],
   "source": [
    "pred_cpu"
   ]
  },
  {
   "cell_type": "markdown",
   "metadata": {},
   "source": [
    "## For MEMORY USAGE PERCENTAGE"
   ]
  },
  {
   "cell_type": "code",
   "execution_count": 177,
   "metadata": {},
   "outputs": [],
   "source": [
    "data=data.reset_index(\"Time\")\n"
   ]
  },
  {
   "cell_type": "code",
   "execution_count": 178,
   "metadata": {},
   "outputs": [
    {
     "data": {
      "text/plain": [
       "0        16.050773\n",
       "1        18.353404\n",
       "2        19.098394\n",
       "3        14.628548\n",
       "4        16.457122\n",
       "           ...    \n",
       "25183    16.389389\n",
       "25184    18.827492\n",
       "25185    17.676162\n",
       "25186    17.066634\n",
       "25187    19.504734\n",
       "Name: Memory Percentage [%], Length: 25188, dtype: float64"
      ]
     },
     "execution_count": 178,
     "metadata": {},
     "output_type": "execute_result"
    }
   ],
   "source": [
    "X2 = data['Memory Percentage [%]']\n",
    "X2"
   ]
  },
  {
   "cell_type": "code",
   "execution_count": 179,
   "metadata": {},
   "outputs": [],
   "source": [
    "from statsmodels.tsa.arima_model import ARMA\n",
    "from random import random"
   ]
  },
  {
   "cell_type": "code",
   "execution_count": 180,
   "metadata": {},
   "outputs": [],
   "source": [
    "\n",
    "train_memory = X2[1:len(X2)-5000]\n",
    "test_memory = X2[len(X2)-5000:]"
   ]
  },
  {
   "cell_type": "code",
   "execution_count": 181,
   "metadata": {},
   "outputs": [
    {
     "name": "stderr",
     "output_type": "stream",
     "text": [
      "C:\\Users\\97150\\Anaconda3\\lib\\site-packages\\statsmodels\\tsa\\arima_model.py:472: FutureWarning: \n",
      "statsmodels.tsa.arima_model.ARMA and statsmodels.tsa.arima_model.ARIMA have\n",
      "been deprecated in favor of statsmodels.tsa.arima.model.ARIMA (note the .\n",
      "between arima and model) and\n",
      "statsmodels.tsa.SARIMAX. These will be removed after the 0.12 release.\n",
      "\n",
      "statsmodels.tsa.arima.model.ARIMA makes use of the statespace framework and\n",
      "is both well tested and maintained.\n",
      "\n",
      "To silence this warning and continue using ARMA and ARIMA until they are\n",
      "removed, use:\n",
      "\n",
      "import warnings\n",
      "warnings.filterwarnings('ignore', 'statsmodels.tsa.arima_model.ARMA',\n",
      "                        FutureWarning)\n",
      "warnings.filterwarnings('ignore', 'statsmodels.tsa.arima_model.ARIMA',\n",
      "                        FutureWarning)\n",
      "\n",
      "  warnings.warn(ARIMA_DEPRECATION_WARN, FutureWarning)\n"
     ]
    }
   ],
   "source": [
    "movingavg_model = ARMA(train_memory, order=(0, 1))\n",
    "memory_fit_model = movingavg_model.fit(disp=False)\n",
    "\n"
   ]
  },
  {
   "cell_type": "code",
   "execution_count": 182,
   "metadata": {},
   "outputs": [
    {
     "name": "stdout",
     "output_type": "stream",
     "text": [
      "20188    17.547986\n",
      "20189    17.295391\n",
      "20190    17.295391\n",
      "20191    17.295391\n",
      "20192    17.295391\n",
      "           ...    \n",
      "25183    17.295391\n",
      "25184    17.295391\n",
      "25185    17.295391\n",
      "25186    17.295391\n",
      "25187    17.295391\n",
      "Length: 5000, dtype: float64\n"
     ]
    }
   ],
   "source": [
    "#PREDICTIONS\n",
    "predictions_ma_y = memory_fit_model.predict(start=len(train_memory), end=len(train_memory) + len(test_memory)-1, dynamic=False)\n",
    "print(predictions_ma_y)"
   ]
  },
  {
   "cell_type": "code",
   "execution_count": 183,
   "metadata": {},
   "outputs": [
    {
     "name": "stdout",
     "output_type": "stream",
     "text": [
      "RMSE: 1.6415\n",
      "Mean Absolute Error: 1.2850\n"
     ]
    }
   ],
   "source": [
    "#MODEL EVALUATION\n",
    "from math import sqrt\n",
    "rmse_mova_mpu = sqrt(mean_squared_error(test_memory, predictions_ma_y))\n",
    "print('RMSE: %.4f' % rmse_mova_mpu)\n",
    "\n",
    "\n",
    "from sklearn.metrics import mean_absolute_error\n",
    "mae_mova_mpu =mean_absolute_error(test_memory, predictions_ma_y )\n",
    "print('Mean Absolute Error: %.4f' % mae_mova_mpu)\n"
   ]
  },
  {
   "cell_type": "code",
   "execution_count": 184,
   "metadata": {},
   "outputs": [
    {
     "name": "stdout",
     "output_type": "stream",
     "text": [
      "20188    17.547986\n",
      "20189    17.295391\n",
      "20190    17.295391\n",
      "20191    17.295391\n",
      "20192    17.295391\n",
      "           ...    \n",
      "51105    17.295391\n",
      "51106    17.295391\n",
      "51107    17.295391\n",
      "51108    17.295391\n",
      "51109    17.295391\n",
      "Length: 30922, dtype: float64\n"
     ]
    }
   ],
   "source": [
    "#FORECASTING \n",
    "forecast_Memory_ma = memory_fit_model.predict(start=len(train_memory), end=len(train_memory) + len(test_memory)-1 + 25922 , dynamic=False)\n",
    "print(forecast_Memory_ma)"
   ]
  },
  {
   "cell_type": "code",
   "execution_count": 185,
   "metadata": {},
   "outputs": [
    {
     "data": {
      "text/plain": [
       "25189    17.295391\n",
       "25190    17.295391\n",
       "25191    17.295391\n",
       "25192    17.295391\n",
       "25193    17.295391\n",
       "           ...    \n",
       "51105    17.295391\n",
       "51106    17.295391\n",
       "51107    17.295391\n",
       "51108    17.295391\n",
       "51109    17.295391\n",
       "Length: 25921, dtype: float64"
      ]
     },
     "execution_count": 185,
     "metadata": {},
     "output_type": "execute_result"
    }
   ],
   "source": [
    "future_Memory= forecast_Memory_ma[5001:30922, ]\n",
    "future_Memory"
   ]
  },
  {
   "cell_type": "code",
   "execution_count": 186,
   "metadata": {},
   "outputs": [
    {
     "data": {
      "text/plain": [
       "25921"
      ]
     },
     "execution_count": 186,
     "metadata": {},
     "output_type": "execute_result"
    }
   ],
   "source": [
    "pred_mpusage = pd.DataFrame(future_Memory, columns=['predicted_memory_usage [%]'])\n",
    "len(pred_mpusage)"
   ]
  },
  {
   "cell_type": "code",
   "execution_count": 187,
   "metadata": {},
   "outputs": [],
   "source": [
    "pred_mpusage['Timestamp']=time"
   ]
  },
  {
   "cell_type": "code",
   "execution_count": 188,
   "metadata": {},
   "outputs": [
    {
     "data": {
      "text/html": [
       "<div>\n",
       "<style scoped>\n",
       "    .dataframe tbody tr th:only-of-type {\n",
       "        vertical-align: middle;\n",
       "    }\n",
       "\n",
       "    .dataframe tbody tr th {\n",
       "        vertical-align: top;\n",
       "    }\n",
       "\n",
       "    .dataframe thead th {\n",
       "        text-align: right;\n",
       "    }\n",
       "</style>\n",
       "<table border=\"1\" class=\"dataframe\">\n",
       "  <thead>\n",
       "    <tr style=\"text-align: right;\">\n",
       "      <th></th>\n",
       "      <th>predicted_memory_usage [%]</th>\n",
       "      <th>Timestamp</th>\n",
       "    </tr>\n",
       "  </thead>\n",
       "  <tbody>\n",
       "    <tr>\n",
       "      <td>25189</td>\n",
       "      <td>17.295391</td>\n",
       "      <td>2013-09-29 22:03:50</td>\n",
       "    </tr>\n",
       "    <tr>\n",
       "      <td>25190</td>\n",
       "      <td>17.295391</td>\n",
       "      <td>2013-09-29 22:08:50</td>\n",
       "    </tr>\n",
       "    <tr>\n",
       "      <td>25191</td>\n",
       "      <td>17.295391</td>\n",
       "      <td>2013-09-29 22:13:50</td>\n",
       "    </tr>\n",
       "    <tr>\n",
       "      <td>25192</td>\n",
       "      <td>17.295391</td>\n",
       "      <td>2013-09-29 22:18:50</td>\n",
       "    </tr>\n",
       "    <tr>\n",
       "      <td>25193</td>\n",
       "      <td>17.295391</td>\n",
       "      <td>2013-09-29 22:23:50</td>\n",
       "    </tr>\n",
       "    <tr>\n",
       "      <td>...</td>\n",
       "      <td>...</td>\n",
       "      <td>...</td>\n",
       "    </tr>\n",
       "    <tr>\n",
       "      <td>51105</td>\n",
       "      <td>17.295391</td>\n",
       "      <td>2013-12-28 21:43:50</td>\n",
       "    </tr>\n",
       "    <tr>\n",
       "      <td>51106</td>\n",
       "      <td>17.295391</td>\n",
       "      <td>2013-12-28 21:48:50</td>\n",
       "    </tr>\n",
       "    <tr>\n",
       "      <td>51107</td>\n",
       "      <td>17.295391</td>\n",
       "      <td>2013-12-28 21:53:50</td>\n",
       "    </tr>\n",
       "    <tr>\n",
       "      <td>51108</td>\n",
       "      <td>17.295391</td>\n",
       "      <td>2013-12-28 21:58:50</td>\n",
       "    </tr>\n",
       "    <tr>\n",
       "      <td>51109</td>\n",
       "      <td>17.295391</td>\n",
       "      <td>2013-12-28 22:03:50</td>\n",
       "    </tr>\n",
       "  </tbody>\n",
       "</table>\n",
       "<p>25921 rows × 2 columns</p>\n",
       "</div>"
      ],
      "text/plain": [
       "       predicted_memory_usage [%]           Timestamp\n",
       "25189                   17.295391 2013-09-29 22:03:50\n",
       "25190                   17.295391 2013-09-29 22:08:50\n",
       "25191                   17.295391 2013-09-29 22:13:50\n",
       "25192                   17.295391 2013-09-29 22:18:50\n",
       "25193                   17.295391 2013-09-29 22:23:50\n",
       "...                           ...                 ...\n",
       "51105                   17.295391 2013-12-28 21:43:50\n",
       "51106                   17.295391 2013-12-28 21:48:50\n",
       "51107                   17.295391 2013-12-28 21:53:50\n",
       "51108                   17.295391 2013-12-28 21:58:50\n",
       "51109                   17.295391 2013-12-28 22:03:50\n",
       "\n",
       "[25921 rows x 2 columns]"
      ]
     },
     "execution_count": 188,
     "metadata": {},
     "output_type": "execute_result"
    }
   ],
   "source": [
    "pred_mpusage"
   ]
  },
  {
   "cell_type": "code",
   "execution_count": 189,
   "metadata": {},
   "outputs": [],
   "source": [
    "moving_avg= pd.merge(pred_cpu,pred_mpusage , on='Timestamp', how='outer')"
   ]
  },
  {
   "cell_type": "code",
   "execution_count": 190,
   "metadata": {},
   "outputs": [
    {
     "data": {
      "text/html": [
       "<div>\n",
       "<style scoped>\n",
       "    .dataframe tbody tr th:only-of-type {\n",
       "        vertical-align: middle;\n",
       "    }\n",
       "\n",
       "    .dataframe tbody tr th {\n",
       "        vertical-align: top;\n",
       "    }\n",
       "\n",
       "    .dataframe thead th {\n",
       "        text-align: right;\n",
       "    }\n",
       "</style>\n",
       "<table border=\"1\" class=\"dataframe\">\n",
       "  <thead>\n",
       "    <tr style=\"text-align: right;\">\n",
       "      <th></th>\n",
       "      <th>predicted_cpu_usage [%]</th>\n",
       "      <th>Timestamp</th>\n",
       "      <th>predicted_memory_usage [%]</th>\n",
       "    </tr>\n",
       "  </thead>\n",
       "  <tbody>\n",
       "    <tr>\n",
       "      <td>0</td>\n",
       "      <td>50.492804</td>\n",
       "      <td>2013-09-29 22:03:50</td>\n",
       "      <td>17.295391</td>\n",
       "    </tr>\n",
       "    <tr>\n",
       "      <td>1</td>\n",
       "      <td>50.492804</td>\n",
       "      <td>2013-09-29 22:08:50</td>\n",
       "      <td>17.295391</td>\n",
       "    </tr>\n",
       "    <tr>\n",
       "      <td>2</td>\n",
       "      <td>50.492804</td>\n",
       "      <td>2013-09-29 22:13:50</td>\n",
       "      <td>17.295391</td>\n",
       "    </tr>\n",
       "    <tr>\n",
       "      <td>3</td>\n",
       "      <td>50.492804</td>\n",
       "      <td>2013-09-29 22:18:50</td>\n",
       "      <td>17.295391</td>\n",
       "    </tr>\n",
       "    <tr>\n",
       "      <td>4</td>\n",
       "      <td>50.492804</td>\n",
       "      <td>2013-09-29 22:23:50</td>\n",
       "      <td>17.295391</td>\n",
       "    </tr>\n",
       "    <tr>\n",
       "      <td>...</td>\n",
       "      <td>...</td>\n",
       "      <td>...</td>\n",
       "      <td>...</td>\n",
       "    </tr>\n",
       "    <tr>\n",
       "      <td>25916</td>\n",
       "      <td>50.492804</td>\n",
       "      <td>2013-12-28 21:43:50</td>\n",
       "      <td>17.295391</td>\n",
       "    </tr>\n",
       "    <tr>\n",
       "      <td>25917</td>\n",
       "      <td>50.492804</td>\n",
       "      <td>2013-12-28 21:48:50</td>\n",
       "      <td>17.295391</td>\n",
       "    </tr>\n",
       "    <tr>\n",
       "      <td>25918</td>\n",
       "      <td>50.492804</td>\n",
       "      <td>2013-12-28 21:53:50</td>\n",
       "      <td>17.295391</td>\n",
       "    </tr>\n",
       "    <tr>\n",
       "      <td>25919</td>\n",
       "      <td>50.492804</td>\n",
       "      <td>2013-12-28 21:58:50</td>\n",
       "      <td>17.295391</td>\n",
       "    </tr>\n",
       "    <tr>\n",
       "      <td>25920</td>\n",
       "      <td>50.492804</td>\n",
       "      <td>2013-12-28 22:03:50</td>\n",
       "      <td>17.295391</td>\n",
       "    </tr>\n",
       "  </tbody>\n",
       "</table>\n",
       "<p>25921 rows × 3 columns</p>\n",
       "</div>"
      ],
      "text/plain": [
       "       predicted_cpu_usage [%]           Timestamp  predicted_memory_usage [%]\n",
       "0                    50.492804 2013-09-29 22:03:50                   17.295391\n",
       "1                    50.492804 2013-09-29 22:08:50                   17.295391\n",
       "2                    50.492804 2013-09-29 22:13:50                   17.295391\n",
       "3                    50.492804 2013-09-29 22:18:50                   17.295391\n",
       "4                    50.492804 2013-09-29 22:23:50                   17.295391\n",
       "...                        ...                 ...                         ...\n",
       "25916                50.492804 2013-12-28 21:43:50                   17.295391\n",
       "25917                50.492804 2013-12-28 21:48:50                   17.295391\n",
       "25918                50.492804 2013-12-28 21:53:50                   17.295391\n",
       "25919                50.492804 2013-12-28 21:58:50                   17.295391\n",
       "25920                50.492804 2013-12-28 22:03:50                   17.295391\n",
       "\n",
       "[25921 rows x 3 columns]"
      ]
     },
     "execution_count": 190,
     "metadata": {},
     "output_type": "execute_result"
    }
   ],
   "source": [
    "moving_avg"
   ]
  },
  {
   "cell_type": "code",
   "execution_count": 191,
   "metadata": {},
   "outputs": [],
   "source": [
    "moving_avg['Model'] = 'Moving Average'\n",
    "moving_avg['VM'] = 198\n"
   ]
  },
  {
   "cell_type": "code",
   "execution_count": 192,
   "metadata": {},
   "outputs": [],
   "source": [
    "moving_avg['CPU_MAE'] = 0.4406\n",
    "moving_avg['CPU_RMSE'] = 0.5973\n",
    "\n",
    "moving_avg['MPU_MAE'] = 1.2850\n",
    "moving_avg['MPU_RMSE'] = 1.6415"
   ]
  },
  {
   "cell_type": "code",
   "execution_count": 193,
   "metadata": {},
   "outputs": [],
   "source": [
    "moving_avg['CPU Cores'] = 2\n",
    "moving_avg['CPU capacity provisioned [MHZ]'] = 5199.999272\n",
    "moving_avg['CPU usage [MHZ]']=(moving_avg['predicted_cpu_usage [%]'].mul(moving_avg['CPU capacity provisioned [MHZ]']/100))\n"
   ]
  },
  {
   "cell_type": "code",
   "execution_count": 194,
   "metadata": {},
   "outputs": [],
   "source": [
    "moving_avg['Memory capacity provisioned [KB]'] = 8257536\n",
    "moving_avg['Memory usage [KB]']=(moving_avg['predicted_memory_usage [%]'].mul(moving_avg['Memory capacity provisioned [KB]']/100))"
   ]
  },
  {
   "cell_type": "code",
   "execution_count": 195,
   "metadata": {},
   "outputs": [
    {
     "data": {
      "text/html": [
       "<div>\n",
       "<style scoped>\n",
       "    .dataframe tbody tr th:only-of-type {\n",
       "        vertical-align: middle;\n",
       "    }\n",
       "\n",
       "    .dataframe tbody tr th {\n",
       "        vertical-align: top;\n",
       "    }\n",
       "\n",
       "    .dataframe thead th {\n",
       "        text-align: right;\n",
       "    }\n",
       "</style>\n",
       "<table border=\"1\" class=\"dataframe\">\n",
       "  <thead>\n",
       "    <tr style=\"text-align: right;\">\n",
       "      <th></th>\n",
       "      <th>predicted_cpu_usage [%]</th>\n",
       "      <th>Timestamp</th>\n",
       "      <th>predicted_memory_usage [%]</th>\n",
       "      <th>Model</th>\n",
       "      <th>VM</th>\n",
       "      <th>CPU_MAE</th>\n",
       "      <th>CPU_RMSE</th>\n",
       "      <th>MPU_MAE</th>\n",
       "      <th>MPU_RMSE</th>\n",
       "      <th>CPU Cores</th>\n",
       "      <th>CPU capacity provisioned [MHZ]</th>\n",
       "      <th>CPU usage [MHZ]</th>\n",
       "      <th>Memory capacity provisioned [KB]</th>\n",
       "      <th>Memory usage [KB]</th>\n",
       "    </tr>\n",
       "  </thead>\n",
       "  <tbody>\n",
       "    <tr>\n",
       "      <td>0</td>\n",
       "      <td>50.492804</td>\n",
       "      <td>2013-09-29 22:03:50</td>\n",
       "      <td>17.295391</td>\n",
       "      <td>Moving Average</td>\n",
       "      <td>198</td>\n",
       "      <td>0.4406</td>\n",
       "      <td>0.5973</td>\n",
       "      <td>1.285</td>\n",
       "      <td>1.6415</td>\n",
       "      <td>2</td>\n",
       "      <td>5199.999272</td>\n",
       "      <td>2625.625428</td>\n",
       "      <td>8257536</td>\n",
       "      <td>1.428173e+06</td>\n",
       "    </tr>\n",
       "    <tr>\n",
       "      <td>1</td>\n",
       "      <td>50.492804</td>\n",
       "      <td>2013-09-29 22:08:50</td>\n",
       "      <td>17.295391</td>\n",
       "      <td>Moving Average</td>\n",
       "      <td>198</td>\n",
       "      <td>0.4406</td>\n",
       "      <td>0.5973</td>\n",
       "      <td>1.285</td>\n",
       "      <td>1.6415</td>\n",
       "      <td>2</td>\n",
       "      <td>5199.999272</td>\n",
       "      <td>2625.625428</td>\n",
       "      <td>8257536</td>\n",
       "      <td>1.428173e+06</td>\n",
       "    </tr>\n",
       "    <tr>\n",
       "      <td>2</td>\n",
       "      <td>50.492804</td>\n",
       "      <td>2013-09-29 22:13:50</td>\n",
       "      <td>17.295391</td>\n",
       "      <td>Moving Average</td>\n",
       "      <td>198</td>\n",
       "      <td>0.4406</td>\n",
       "      <td>0.5973</td>\n",
       "      <td>1.285</td>\n",
       "      <td>1.6415</td>\n",
       "      <td>2</td>\n",
       "      <td>5199.999272</td>\n",
       "      <td>2625.625428</td>\n",
       "      <td>8257536</td>\n",
       "      <td>1.428173e+06</td>\n",
       "    </tr>\n",
       "    <tr>\n",
       "      <td>3</td>\n",
       "      <td>50.492804</td>\n",
       "      <td>2013-09-29 22:18:50</td>\n",
       "      <td>17.295391</td>\n",
       "      <td>Moving Average</td>\n",
       "      <td>198</td>\n",
       "      <td>0.4406</td>\n",
       "      <td>0.5973</td>\n",
       "      <td>1.285</td>\n",
       "      <td>1.6415</td>\n",
       "      <td>2</td>\n",
       "      <td>5199.999272</td>\n",
       "      <td>2625.625428</td>\n",
       "      <td>8257536</td>\n",
       "      <td>1.428173e+06</td>\n",
       "    </tr>\n",
       "    <tr>\n",
       "      <td>4</td>\n",
       "      <td>50.492804</td>\n",
       "      <td>2013-09-29 22:23:50</td>\n",
       "      <td>17.295391</td>\n",
       "      <td>Moving Average</td>\n",
       "      <td>198</td>\n",
       "      <td>0.4406</td>\n",
       "      <td>0.5973</td>\n",
       "      <td>1.285</td>\n",
       "      <td>1.6415</td>\n",
       "      <td>2</td>\n",
       "      <td>5199.999272</td>\n",
       "      <td>2625.625428</td>\n",
       "      <td>8257536</td>\n",
       "      <td>1.428173e+06</td>\n",
       "    </tr>\n",
       "    <tr>\n",
       "      <td>...</td>\n",
       "      <td>...</td>\n",
       "      <td>...</td>\n",
       "      <td>...</td>\n",
       "      <td>...</td>\n",
       "      <td>...</td>\n",
       "      <td>...</td>\n",
       "      <td>...</td>\n",
       "      <td>...</td>\n",
       "      <td>...</td>\n",
       "      <td>...</td>\n",
       "      <td>...</td>\n",
       "      <td>...</td>\n",
       "      <td>...</td>\n",
       "      <td>...</td>\n",
       "    </tr>\n",
       "    <tr>\n",
       "      <td>25916</td>\n",
       "      <td>50.492804</td>\n",
       "      <td>2013-12-28 21:43:50</td>\n",
       "      <td>17.295391</td>\n",
       "      <td>Moving Average</td>\n",
       "      <td>198</td>\n",
       "      <td>0.4406</td>\n",
       "      <td>0.5973</td>\n",
       "      <td>1.285</td>\n",
       "      <td>1.6415</td>\n",
       "      <td>2</td>\n",
       "      <td>5199.999272</td>\n",
       "      <td>2625.625428</td>\n",
       "      <td>8257536</td>\n",
       "      <td>1.428173e+06</td>\n",
       "    </tr>\n",
       "    <tr>\n",
       "      <td>25917</td>\n",
       "      <td>50.492804</td>\n",
       "      <td>2013-12-28 21:48:50</td>\n",
       "      <td>17.295391</td>\n",
       "      <td>Moving Average</td>\n",
       "      <td>198</td>\n",
       "      <td>0.4406</td>\n",
       "      <td>0.5973</td>\n",
       "      <td>1.285</td>\n",
       "      <td>1.6415</td>\n",
       "      <td>2</td>\n",
       "      <td>5199.999272</td>\n",
       "      <td>2625.625428</td>\n",
       "      <td>8257536</td>\n",
       "      <td>1.428173e+06</td>\n",
       "    </tr>\n",
       "    <tr>\n",
       "      <td>25918</td>\n",
       "      <td>50.492804</td>\n",
       "      <td>2013-12-28 21:53:50</td>\n",
       "      <td>17.295391</td>\n",
       "      <td>Moving Average</td>\n",
       "      <td>198</td>\n",
       "      <td>0.4406</td>\n",
       "      <td>0.5973</td>\n",
       "      <td>1.285</td>\n",
       "      <td>1.6415</td>\n",
       "      <td>2</td>\n",
       "      <td>5199.999272</td>\n",
       "      <td>2625.625428</td>\n",
       "      <td>8257536</td>\n",
       "      <td>1.428173e+06</td>\n",
       "    </tr>\n",
       "    <tr>\n",
       "      <td>25919</td>\n",
       "      <td>50.492804</td>\n",
       "      <td>2013-12-28 21:58:50</td>\n",
       "      <td>17.295391</td>\n",
       "      <td>Moving Average</td>\n",
       "      <td>198</td>\n",
       "      <td>0.4406</td>\n",
       "      <td>0.5973</td>\n",
       "      <td>1.285</td>\n",
       "      <td>1.6415</td>\n",
       "      <td>2</td>\n",
       "      <td>5199.999272</td>\n",
       "      <td>2625.625428</td>\n",
       "      <td>8257536</td>\n",
       "      <td>1.428173e+06</td>\n",
       "    </tr>\n",
       "    <tr>\n",
       "      <td>25920</td>\n",
       "      <td>50.492804</td>\n",
       "      <td>2013-12-28 22:03:50</td>\n",
       "      <td>17.295391</td>\n",
       "      <td>Moving Average</td>\n",
       "      <td>198</td>\n",
       "      <td>0.4406</td>\n",
       "      <td>0.5973</td>\n",
       "      <td>1.285</td>\n",
       "      <td>1.6415</td>\n",
       "      <td>2</td>\n",
       "      <td>5199.999272</td>\n",
       "      <td>2625.625428</td>\n",
       "      <td>8257536</td>\n",
       "      <td>1.428173e+06</td>\n",
       "    </tr>\n",
       "  </tbody>\n",
       "</table>\n",
       "<p>25921 rows × 14 columns</p>\n",
       "</div>"
      ],
      "text/plain": [
       "       predicted_cpu_usage [%]           Timestamp  \\\n",
       "0                    50.492804 2013-09-29 22:03:50   \n",
       "1                    50.492804 2013-09-29 22:08:50   \n",
       "2                    50.492804 2013-09-29 22:13:50   \n",
       "3                    50.492804 2013-09-29 22:18:50   \n",
       "4                    50.492804 2013-09-29 22:23:50   \n",
       "...                        ...                 ...   \n",
       "25916                50.492804 2013-12-28 21:43:50   \n",
       "25917                50.492804 2013-12-28 21:48:50   \n",
       "25918                50.492804 2013-12-28 21:53:50   \n",
       "25919                50.492804 2013-12-28 21:58:50   \n",
       "25920                50.492804 2013-12-28 22:03:50   \n",
       "\n",
       "       predicted_memory_usage [%]           Model   VM  CPU_MAE  CPU_RMSE  \\\n",
       "0                       17.295391  Moving Average  198   0.4406    0.5973   \n",
       "1                       17.295391  Moving Average  198   0.4406    0.5973   \n",
       "2                       17.295391  Moving Average  198   0.4406    0.5973   \n",
       "3                       17.295391  Moving Average  198   0.4406    0.5973   \n",
       "4                       17.295391  Moving Average  198   0.4406    0.5973   \n",
       "...                           ...             ...  ...      ...       ...   \n",
       "25916                   17.295391  Moving Average  198   0.4406    0.5973   \n",
       "25917                   17.295391  Moving Average  198   0.4406    0.5973   \n",
       "25918                   17.295391  Moving Average  198   0.4406    0.5973   \n",
       "25919                   17.295391  Moving Average  198   0.4406    0.5973   \n",
       "25920                   17.295391  Moving Average  198   0.4406    0.5973   \n",
       "\n",
       "       MPU_MAE  MPU_RMSE  CPU Cores  CPU capacity provisioned [MHZ]  \\\n",
       "0        1.285    1.6415          2                     5199.999272   \n",
       "1        1.285    1.6415          2                     5199.999272   \n",
       "2        1.285    1.6415          2                     5199.999272   \n",
       "3        1.285    1.6415          2                     5199.999272   \n",
       "4        1.285    1.6415          2                     5199.999272   \n",
       "...        ...       ...        ...                             ...   \n",
       "25916    1.285    1.6415          2                     5199.999272   \n",
       "25917    1.285    1.6415          2                     5199.999272   \n",
       "25918    1.285    1.6415          2                     5199.999272   \n",
       "25919    1.285    1.6415          2                     5199.999272   \n",
       "25920    1.285    1.6415          2                     5199.999272   \n",
       "\n",
       "       CPU usage [MHZ]  Memory capacity provisioned [KB]  Memory usage [KB]  \n",
       "0          2625.625428                           8257536       1.428173e+06  \n",
       "1          2625.625428                           8257536       1.428173e+06  \n",
       "2          2625.625428                           8257536       1.428173e+06  \n",
       "3          2625.625428                           8257536       1.428173e+06  \n",
       "4          2625.625428                           8257536       1.428173e+06  \n",
       "...                ...                               ...                ...  \n",
       "25916      2625.625428                           8257536       1.428173e+06  \n",
       "25917      2625.625428                           8257536       1.428173e+06  \n",
       "25918      2625.625428                           8257536       1.428173e+06  \n",
       "25919      2625.625428                           8257536       1.428173e+06  \n",
       "25920      2625.625428                           8257536       1.428173e+06  \n",
       "\n",
       "[25921 rows x 14 columns]"
      ]
     },
     "execution_count": 195,
     "metadata": {},
     "output_type": "execute_result"
    }
   ],
   "source": [
    "moving_avg"
   ]
  },
  {
   "cell_type": "code",
   "execution_count": 196,
   "metadata": {},
   "outputs": [],
   "source": [
    "moving_avg.to_csv(r'D:/CAPSTONE - Nokia Bell Labs/Prediction File/MovingAvg_Prediction_File.csv', index = False)"
   ]
  },
  {
   "cell_type": "code",
   "execution_count": null,
   "metadata": {},
   "outputs": [],
   "source": []
  },
  {
   "cell_type": "code",
   "execution_count": null,
   "metadata": {},
   "outputs": [],
   "source": []
  },
  {
   "cell_type": "code",
   "execution_count": null,
   "metadata": {},
   "outputs": [],
   "source": []
  },
  {
   "cell_type": "code",
   "execution_count": null,
   "metadata": {},
   "outputs": [],
   "source": []
  },
  {
   "cell_type": "code",
   "execution_count": 27,
   "metadata": {},
   "outputs": [],
   "source": []
  },
  {
   "cell_type": "code",
   "execution_count": null,
   "metadata": {},
   "outputs": [],
   "source": []
  },
  {
   "cell_type": "code",
   "execution_count": null,
   "metadata": {},
   "outputs": [],
   "source": []
  },
  {
   "cell_type": "code",
   "execution_count": null,
   "metadata": {},
   "outputs": [],
   "source": []
  }
 ],
 "metadata": {
  "kernelspec": {
   "display_name": "Python 3",
   "language": "python",
   "name": "python3"
  },
  "language_info": {
   "codemirror_mode": {
    "name": "ipython",
    "version": 3
   },
   "file_extension": ".py",
   "mimetype": "text/x-python",
   "name": "python",
   "nbconvert_exporter": "python",
   "pygments_lexer": "ipython3",
   "version": "3.7.4"
  }
 },
 "nbformat": 4,
 "nbformat_minor": 4
}
